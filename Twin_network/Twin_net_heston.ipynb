{
 "cells": [
  {
   "cell_type": "markdown",
   "metadata": {
    "id": "Qj5sIkNUsQWN"
   },
   "source": [
    "# Master Project"
   ]
  },
  {
   "cell_type": "markdown",
   "metadata": {
    "id": "C0AYwNI2tHaQ"
   },
   "source": [
    "### Set up"
   ]
  },
  {
   "cell_type": "code",
   "execution_count": 94,
   "metadata": {
    "colab": {
     "base_uri": "https://localhost:8080/"
    },
    "id": "1tpjH45FscRC",
    "outputId": "bfa80280-84ba-4a51-ff20-5d96cc75b003"
   },
   "outputs": [],
   "source": [
    "### Import libraries\n",
    "\n",
    "# The code is written in an old version of tensor flow\n",
    "import tensorflow.compat.v1 as tf \n",
    "tf.disable_v2_behavior()\n",
    "import numpy as np\n",
    "from scipy.stats import norm\n",
    "import matplotlib.pyplot as plt\n",
    "import time\n",
    "import math\n",
    "from tqdm import tqdm_notebook\n",
    "import pandas as pd\n",
    "\n",
    "# Representation of real numbers \n",
    "real_type = tf.float32"
   ]
  },
  {
   "cell_type": "markdown",
   "metadata": {},
   "source": [
    "### Data"
   ]
  },
  {
   "cell_type": "markdown",
   "metadata": {
    "id": "D-sv0ZcilNsL"
   },
   "source": [
    "**Heston Model MC samples for test set**"
   ]
  },
  {
   "cell_type": "code",
   "execution_count": 541,
   "metadata": {
    "id": "3W0Kw31UlMmD"
   },
   "outputs": [],
   "source": [
    "### Import Heston data\n",
    "assets = pd.read_csv('/Users/ninamcclure/Desktop/DSMMasterProject23/Data/malliavin/malliavin_asset_prices_1k.csv', header = None)\n",
    "prices = pd.read_csv('/Users/ninamcclure/Desktop/DSMMasterProject23/Data/malliavin/malliavin_option_prices_1k.csv', header = None)\n",
    "delta_test = pd.read_csv('/Users/ninamcclure/Desktop/DSMMasterProject23/Data/malliavin/malliavin_deltas_1k.csv', header = None)"
   ]
  },
  {
   "cell_type": "code",
   "execution_count": 542,
   "metadata": {},
   "outputs": [],
   "source": [
    "assets = np.array(assets)\n",
    "prices = np.array(prices)\n",
    "delta_test = np.array(delta_test)"
   ]
  },
  {
   "cell_type": "code",
   "execution_count": 543,
   "metadata": {},
   "outputs": [],
   "source": [
    "### Split training and test set\n",
    "from sklearn.model_selection import train_test_split\n",
    "\n",
    "X_train, X_test, y_train, y_test, dxdy_train, dxdy_test = train_test_split(assets, prices, delta_test, test_size=0.2, random_state=42)"
   ]
  },
  {
   "cell_type": "code",
   "execution_count": 544,
   "metadata": {},
   "outputs": [
    {
     "name": "stdout",
     "output_type": "stream",
     "text": [
      "(800, 1)\n",
      "(200, 1)\n",
      "(800, 1)\n",
      "(200, 1)\n",
      "(800, 1)\n",
      "(200, 1)\n"
     ]
    }
   ],
   "source": [
    "### Reshape data for neural network\n",
    "for var in [X_train, X_test, y_train, y_test, dxdy_train, dxdy_test]:\n",
    "    var = np.array(var)\n",
    "    print(var.shape)"
   ]
  },
  {
   "cell_type": "markdown",
   "metadata": {},
   "source": [
    "**Heston Model LSM samples**"
   ]
  },
  {
   "cell_type": "code",
   "execution_count": 129,
   "metadata": {},
   "outputs": [],
   "source": [
    "class Heston:\n",
    "    \n",
    "    def __init__(self,\n",
    "                 sigma = np.sqrt(0.05),\n",
    "                 theta = 0.05,\n",
    "                 kappa = 0.5,\n",
    "                 rho = -0.9,\n",
    "                 T1=1, \n",
    "                 T2=2, \n",
    "                 K=120):\n",
    "        \n",
    "        self.spot = 100\n",
    "        self.sigma = sigma\n",
    "        self.theta = theta\n",
    "        self.kappa = kappa\n",
    "        self.rho = rho\n",
    "        self.T1 = T1\n",
    "        self.T2 = T2\n",
    "        self.K = K\n",
    "                        \n",
    "    # training set: returns S1 (mx1), C2 (mx1) and dC2/dS1 (mx1)\n",
    "    def trainingSet(self, m, anti=True, seed=None):\n",
    "    \n",
    "        np.random.seed(seed)\n",
    "        \n",
    "        # 2 sets of normal returns\n",
    "        returns = np.random.normal(size=[m, 2]) # Draws from standard normal\n",
    "        #print(returns.shape)\n",
    "        # correlated vol\n",
    "        z1 = self.rho * returns[:,0] + np.sqrt(1 - self.rho ** 2) * returns[:,0]\n",
    "        #print(z1.shape)\n",
    "        z2 = self.rho * returns[:,1] + np.sqrt(1 - self.rho ** 2) * returns[:,1]\n",
    "        #print(z2.shape)\n",
    "\n",
    "        # SDE\n",
    "\n",
    "        vol0 = self.sigma*self.sigma\n",
    "        R1 = np.exp(-0.5*vol0*self.T1 + self.sigma*np.sqrt(self.T1)*returns[:,0]) # asset price return period 1\n",
    "        #print(R1.shape)\n",
    "        V1 = np.maximum(\n",
    "            0.0, vol0 + self.kappa * (self.theta - vol0) * (self.T1) + self.sigma * np.sqrt(vol0) * np.sqrt(self.T1) * z1\n",
    "        )\n",
    "        #print(V1.shape)\n",
    "        R2 = np.exp(-0.5*V1*(self.T2-self.T1) + np.sqrt(V1)*np.sqrt(self.T2-self.T1)*returns[:,1]) # asset price return period 2 with different volatility\n",
    "        #print(R2)\n",
    "        #print(R2.shape)\n",
    "        V2 = np.maximum(\n",
    "            0.0, V1 + self.kappa * (self.theta - V1) * (self.T2 - self.T1) + self.sigma * np.sqrt(V1) * np.sqrt(self.T2 - self.T1) * z2\n",
    "        )\n",
    "        S1 = self.spot * R1 # spot * return gives asset price in period 1\n",
    "        #print(S1)\n",
    "        #print(S1.shape)\n",
    "        S2 = S1 * R2 # gives asset price in period 2\n",
    "        #print(S2.shape)\n",
    "        # payoff\n",
    "        pay = np.maximum(0, S2 - self.K) # compute payoff \n",
    "        #print(pay.shape)\n",
    "        X = S1 # this is our input (asset price) note we're only looking at S1 not S2\n",
    "        Y = pay # this is our output (the payoff)\n",
    "        #print(Y.shape)\n",
    "\n",
    "        # two antithetic paths\n",
    "        if anti:\n",
    "            \n",
    "            R2a = np.exp(-0.5*V1*(self.T2-self.T1) - np.sqrt(V1)*np.sqrt(self.T2-self.T1)*returns[:,1])\n",
    "            S2a = S1 * R2a             \n",
    "            paya = np.maximum(0, S2a - self.K)\n",
    "            \n",
    "            X = S1\n",
    "            Y = 0.5 * (pay + paya)\n",
    "\n",
    "            # differentials\n",
    "            Z1 =  np.where(S2 > self.K, R2, 0.0).reshape((-1,1)) \n",
    "            Z2 =  np.where(S2a > self.K, R2a, 0.0).reshape((-1,1)) \n",
    "            Z = 0.5 * (Z1 + Z2)\n",
    "                    \n",
    "        # standard\n",
    "        else:\n",
    "        \n",
    "            X = S1\n",
    "            Y = pay\n",
    "\n",
    "        # differentials - note that we are just looking at one time period\n",
    "        # note that this is just the delta \n",
    "        Z =  np.where(S2 > self.K, R2, 0.0).reshape((-1,1)) # the differential is zero is price less than strike\n",
    "        \n",
    "        return X.reshape([-1,1]), Y.reshape([-1,1]), Z.reshape([-1,1])"
   ]
  },
  {
   "cell_type": "code",
   "execution_count": 130,
   "metadata": {},
   "outputs": [
    {
     "name": "stdout",
     "output_type": "stream",
     "text": [
      "(100000, 1) (100000, 1) (100000, 1)\n"
     ]
    }
   ],
   "source": [
    "c = Heston()\n",
    "asset_prices, payoffs, differentials = c.trainingSet(m = 100000)\n",
    "\n",
    "print(asset_prices.shape, payoffs.shape, differentials.shape)"
   ]
  },
  {
   "cell_type": "code",
   "execution_count": 43,
   "metadata": {},
   "outputs": [
    {
     "data": {
      "text/plain": [
       "Text(0.5, 1.0, 'Simulated data')"
      ]
     },
     "execution_count": 43,
     "metadata": {},
     "output_type": "execute_result"
    },
    {
     "data": {
      "image/png": "[encoded data removed]",
      "text/plain": [
       "<Figure size 432x288 with 1 Axes>"
      ]
     },
     "metadata": {
      "needs_background": "light"
     },
     "output_type": "display_data"
    }
   ],
   "source": [
    "plt.scatter(x = asset_prices, y = payoffs)\n",
    "plt.ylabel('target: option price (expected payoff)')\n",
    "plt.xlabel('input: asset price at time t')\n",
    "plt.title('Simulated data')"
   ]
  },
  {
   "cell_type": "markdown",
   "metadata": {
    "id": "pBSrELI9y5ft"
   },
   "source": [
    "**Black Scholes**"
   ]
  },
  {
   "cell_type": "markdown",
   "metadata": {
    "id": "zQZ1RiJZzCrM"
   },
   "source": [
    "In this implementation we assume the risk-free rate is zero for simplicity, which leads to simplified formulas under Black Scholes. \n",
    "\n",
    "Option value/price:\n",
    "$$ C_t = S_t*N(d_1) - K*N(d_2)$$,\n",
    "\n",
    "where $N()$ denotes the standard normal CDF and\n",
    "\n",
    "$$ d_1 = (log(\\frac{S_t}{K}) + 0.5*\\sigma^2 * T) /\\sqrt{T}$$,\n",
    "$$ d_2 = d_1 - \\sigma*\\sqrt{T} $$\n",
    "\n",
    "We assume the underlying assets follow a random walk, i.e., the underlying asset prices are log-normally distributed and follow a geometric Brownian motion:\n",
    "\n",
    "$$ S_t = S_{t-1}\\exp((- 0.5\\sigma^2)t + \\sigma\\sqrt{t}Z) $$,\n",
    "\n",
    "where $Z$ is a standard normal random variable."
   ]
  },
  {
   "cell_type": "markdown",
   "metadata": {
    "id": "AL0Zx0qxm-X6"
   },
   "source": [
    "**The Greeks:**\n",
    "\n",
    "$$\n",
    "Delta := \\frac{\\partial C}{\\partial S_t} = N(d_1)\n",
    "$$\n",
    "$$\n",
    "Vega := \\frac{\\partial C}{\\partial \\sigma} = \\frac{1}{\\sqrt{2\\pi}}e^{-0.5*d_1^2} S_t\\sqrt{T - t} \n",
    "$$\n",
    "$$\n",
    "Gamma := \\frac{\\partial^2 C}{\\partial S_t^2} = \\frac{1}{\\sqrt{2\\pi}}e^{-0.5*d_1^2}\\frac{1}{S_t \\sigma \\sqrt{T - t}}\n",
    "$$"
   ]
  },
  {
   "cell_type": "markdown",
   "metadata": {
    "id": "hFx88zP-8OIb"
   },
   "source": [
    "***Train and test data simulation***"
   ]
  },
  {
   "cell_type": "code",
   "execution_count": 40,
   "metadata": {
    "id": "R_8GZBgXy4Wn"
   },
   "outputs": [],
   "source": [
    "# define prices and greeks  \n",
    "def bsPrice(spot, strike, vol, T):\n",
    "    d1 = (np.log(spot/strike) + 0.5 * vol * vol * T) / vol / np.sqrt(T)\n",
    "    d2 = d1 - vol * np.sqrt(T)\n",
    "    return spot * norm.cdf(d1) - strike * norm.cdf(d2)\n",
    "\n",
    "def bsDelta(spot, strike, vol, T):\n",
    "    d1 = (np.log(spot/strike) + 0.5 * vol * vol * T) / vol / np.sqrt(T)\n",
    "    return norm.cdf(d1)\n",
    "\n",
    "def bsVega(spot, strike, vol, T):\n",
    "    d1 = (np.log(spot/strike) + 0.5 * vol * vol * T) / vol / np.sqrt(T)\n",
    "    return spot * np.sqrt(T) * norm.pdf(d1)\n",
    "\n",
    "def bsGamma(spot, strike, vol, T):\n",
    "    d1 = (np.log(spot/strike) + 0.5 * vol * vol * T) / vol / np.sqrt(T)\n",
    "    return norm.pdf(d1) * (1 / (spot * vol * np.sqrt(T)))\n",
    "\n",
    "# main class\n",
    "class BlackScholes:\n",
    "    \n",
    "    def __init__(self, \n",
    "                 vol=0.2,\n",
    "                 T1=1, \n",
    "                 T2=2, \n",
    "                 K=1.10,\n",
    "                 volMult=1.5):\n",
    "        \n",
    "        self.spot = 1\n",
    "        self.vol = vol\n",
    "        self.T1 = T1\n",
    "        self.T2 = T2\n",
    "        self.K = K\n",
    "        self.volMult = volMult\n",
    "                        \n",
    "    # training set: returns S1 (mx1), C2 (mx1) and dC2/dS1 (mx1)\n",
    "    def trainingSet(self, m, anti=True, seed=None):\n",
    "        '''\n",
    "          Input:\n",
    "              m - desired size of the training set [int]\n",
    "          Output:\n",
    "              X - asset price                      [(m, 1) array]\n",
    "              Y - payoff                           [(m, 1) array]\n",
    "              Z - differential                     [(m, 1) array] \n",
    "        '''     \n",
    "        np.random.seed(seed)\n",
    "        \n",
    "        # 2 sets of normal returns\n",
    "        returns = np.random.normal(size=[m, 2]) # Draws from standard normal\n",
    "\n",
    "        # SDE\n",
    "        vol0 = self.vol * self.volMult\n",
    "        R1 = np.exp(-0.5*vol0*vol0*self.T1 + vol0*np.sqrt(self.T1)*returns[:,0]) # asset price return period 1\n",
    "        R2 = np.exp(-0.5*self.vol*self.vol*(self.T2-self.T1) + self.vol*np.sqrt(self.T2-self.T1)*returns[:,1]) # asset price return period 2 with different volatility\n",
    "        S1 = self.spot * R1 # spot * return gives asset price in period 1\n",
    "        S2 = S1 * R2 # gives asset price in period 2\n",
    "\n",
    "        # payoff\n",
    "        pay = np.maximum(0, S2 - self.K) # compute payoff \n",
    "        \n",
    "        X = S1 # this is our input (asset price) note we're only looking at S1 not S2\n",
    "        Y = pay # this is our output (the payoff)\n",
    "            \n",
    "        # differentials - note that we are just looking at one time period\n",
    "        # note that this is just for delta \n",
    "        #Z =  np.where(S2 > self.K, R2, 0.0).reshape((-1,1)) # the differential is zero is price less than strike\n",
    "        \n",
    "        # train on deltas instead of pathwise differential for delta\n",
    "        d1 = (np.log(S1 / self.K) + 0.5 * self.vol * self.vol * self.T1) / self.vol / np.sqrt(self.T1)\n",
    "        Z = norm.cdf(d1)\n",
    "\n",
    "        return X.reshape([-1,1]), Y.reshape([-1,1]), Z.reshape([-1,1])\n",
    "    \n",
    "    # test set: returns a grid of uniform spots \n",
    "    # with corresponding ground true prices, deltas and vegas\n",
    "    def testSet(self, lower=0.35, upper=1.65, num=1000, seed=None):\n",
    "        '''\n",
    "          Input:\n",
    "              lower - lower bound for spot prices [float]\n",
    "              upper - upper bound for spot prices [float]\n",
    "              num   - number of intervals for spot prices [int]\n",
    "          Output:\n",
    "              spots  - asset prices              [(m, 1) array]\n",
    "              prices -  option prices            [(m, 1) array]\n",
    "              deltas - deltas                    [(m, 1) array] \n",
    "              vegas - vegas                      [(m, 1) array] \n",
    "              gammas - gammas                    [(m, 1) array] \n",
    "        '''            \n",
    "        spots = np.linspace(lower, upper, num).reshape((-1, 1))\n",
    "        # compute prices, deltas and vegas\n",
    "        prices = bsPrice(spots, self.K, self.vol, self.T2 - self.T1).reshape((-1, 1))\n",
    "        deltas = bsDelta(spots, self.K, self.vol, self.T2 - self.T1).reshape((-1, 1))\n",
    "        vegas = bsVega(spots, self.K, self.vol, self.T2 - self.T1).reshape((-1, 1))\n",
    "        gammas = bsGamma(spots, self.K, self.vol, self.T2 - self.T1).reshape((-1, 1))\n",
    "        return spots, spots, prices, deltas, vegas#, gammas \n",
    "   "
   ]
  },
  {
   "cell_type": "code",
   "execution_count": 41,
   "metadata": {
    "id": "4B7ean2L2HhW"
   },
   "outputs": [],
   "source": [
    "# # Let's simulate some data \n",
    "# c = BlackScholes()\n",
    "\n",
    "# asset_prices, payoffs, differentials = c.trainingSet(m = 1000)"
   ]
  },
  {
   "cell_type": "code",
   "execution_count": null,
   "metadata": {
    "colab": {
     "base_uri": "https://localhost:8080/",
     "height": 489
    },
    "id": "HlrPaLFG2tTV",
    "outputId": "3800c14d-823d-49d3-a54d-204aea5b5906"
   },
   "outputs": [
    {
     "data": {
      "text/plain": [
       "Text(0.5, 1.0, 'Simulated data')"
      ]
     },
     "execution_count": 5,
     "metadata": {},
     "output_type": "execute_result"
    },
    {
     "data": {
      "image/png": "[encoded data removed]",
      "text/plain": [
       "<Figure size 640x480 with 1 Axes>"
      ]
     },
     "metadata": {},
     "output_type": "display_data"
    }
   ],
   "source": [
    "plt.scatter(x = asset_prices, y = payoffs)\n",
    "plt.ylabel('target: option price (expected payoff)')\n",
    "plt.xlabel('input: asset price at time t')\n",
    "plt.title('Simulated data')"
   ]
  },
  {
   "cell_type": "markdown",
   "metadata": {
    "id": "aQ7nQtPttPfg"
   },
   "source": [
    "## **Feedforward network**"
   ]
  },
  {
   "cell_type": "markdown",
   "metadata": {
    "id": "YPk-zkc6XcSk"
   },
   "source": [
    "**Activation functions**"
   ]
  },
  {
   "cell_type": "markdown",
   "metadata": {
    "id": "0QE7gaRm9AYV"
   },
   "source": [
    "Activation functions are softplus.\n",
    "\n",
    "$$ softplus(x) = log( 1+ exp(x) ) $$ \n",
    "\n",
    "\n",
    "The derivative of the softplus is \n",
    "\n",
    "$$ f'(x)= exp(x) / ( 1+ exp⁡(x) ) = 1 / ( 1 + exp(−x)),$$\n",
    "\n",
    " which is also called the logistic function."
   ]
  },
  {
   "cell_type": "markdown",
   "metadata": {
    "id": "yJfUxkuuWgVm"
   },
   "source": [
    "Alternative activation function is the exponential linear unit (ELU). The ELU with $α > 0$ is\n",
    "\n",
    "$$\n",
    "f(x)=\\left\\{\\begin{array}{ll}\n",
    "x & \\text { if } x>0 \\\\\n",
    "\\alpha(\\exp (x)-1) & \\text { if } x \\leq 0\n",
    "\\end{array} \\quad, \\quad f^{\\prime}(x)= \\begin{cases}1 & \\text { if } x>0 \\\\\n",
    "f(x)+\\alpha & \\text { if } x \\leq 0\\end{cases}\\right.\n",
    "$$\n",
    "\n",
    "The hyperparameter $α$ controls the value to which an ELU saturates for negative net inputs. ELUs diminish the vanishing gradient effect as rectified linear units (ReLUs) and leaky ReLUs do.\n",
    "\n",
    "Reference: https://arxiv.org/pdf/1511.07289.pdf"
   ]
  },
  {
   "cell_type": "markdown",
   "metadata": {
    "id": "7ue6VWIagkgH"
   },
   "source": [
    "**TF functions**:\n",
    "\n",
    "**tf.compat.v1.get_variable()**: creates a new variable and adds it to the TensorFlow graph. It takes an initial value as input and returns a TensorFlow variable object that can be used in subsequent computations.\n",
    "\n",
    "**tf.placeholder()**: Inserts a placeholder for a tensor\n",
    "\n",
    "**tf.keras.initializers.variance_scaling()**: used to initialise weights\n",
    "\n",
    "**tf.zeros_initializer()**: initialises a tensor populated with zeros\n",
    "\n",
    "**@ operator**: performs matrix multiplication"
   ]
  },
  {
   "cell_type": "code",
   "execution_count": 756,
   "metadata": {
    "id": "5cT2SQlmsmFc"
   },
   "outputs": [],
   "source": [
    "def vanilla_net(input_dim, hidden_units, hidden_layers, seed):          \n",
    "    '''\n",
    "    Input:\n",
    "        input_dim       - dimension of inputs (1 in BS case) (data) [int]\n",
    "        hidden_units    - units in hidden layers, assumed constant [int]\n",
    "        hidden_layers   - number of hidden layers [int]\n",
    "    Output:\n",
    "        xs - inputs (asset prices)    [(n, input_dim) tf.Tensor] where n is # observations\n",
    "        ws - weights                  [list of tf.Variables of length = (hidden_layers + 1), 1st element (input_dim, hidden_units), last element (hidden_units, 1), others are (hidden_units, hidden_units)]\n",
    "        bs - biases                   [list of tf.Variables of length = (hidden_layers + 1), last element (1, ), others are (hidden_units, )] \n",
    "        zs - layer outputs            [list of tf.Tensors of length = (hidden_layers + 2), 1st element = xs, last element = ys, others are (n, hidden_units)\n",
    "        ys - prediction               [(n, 1) tf.Tensor] where n is # observations\n",
    "  '''            \n",
    "    # set seed\n",
    "    #tf.random.set_seed(seed)\n",
    "    \n",
    "    # input layer (this will be the prices)\n",
    "    #xs = tf.compat.v1.placeholder(shape=[None, input_dim], dtype=real_type) # for tf v1\n",
    "    xs = tf.placeholder(shape=[None, input_dim], dtype=real_type)\n",
    "       \n",
    "    # connection weights and biases of hidden layers\n",
    "    ws = [None]\n",
    "    bs = [None]\n",
    "    # layer 0 (input) has no parameters\n",
    "    \n",
    "    # layer 0 = input layer\n",
    "    zs = [xs] # see equation 3), l=0\n",
    "    \n",
    "    # first hidden layer (index 1)\n",
    "    # weight matrix\n",
    "    ws.append(tf.get_variable(\"w1\", [input_dim, hidden_units], \\\n",
    "        initializer = tf.variance_scaling_initializer(), dtype=real_type))\n",
    "    # bias vector\n",
    "    bs.append(tf.get_variable(\"b1\", [hidden_units], \\\n",
    "        initializer = tf.zeros_initializer(), dtype=real_type))\n",
    "    # graph\n",
    "    zs.append(zs[0] @ ws[1] + bs[1]) # see equation 3), l=1\n",
    "    \n",
    "    # second hidden layer (index 2) to last (index hidden_layers)\n",
    "    for l in range(1, hidden_layers): \n",
    "        ws.append(tf.get_variable(\"w%d\"%(l+1), [hidden_units, hidden_units], \\\n",
    "            initializer = tf.variance_scaling_initializer(), dtype=real_type))\n",
    "        bs.append(tf.get_variable(\"b%d\"%(l+1), [hidden_units], \\\n",
    "            initializer = tf.zeros_initializer(), dtype=real_type))\n",
    "        # Softplus activation\n",
    "        zs.append(tf.nn.softplus(zs[l]) @ ws[l+1] + bs[l+1]) # see equation 3), l=2..L-1\n",
    "\n",
    "    # output layer (index hidden_layers+1)\n",
    "    ws.append(tf.compat.v1.get_variable(\"w\"+str(hidden_layers+1), [hidden_units, 1], \\\n",
    "            initializer = tf.variance_scaling_initializer(), dtype=real_type))\n",
    "    bs.append(tf.get_variable(\"b\"+str(hidden_layers+1), [1], \\\n",
    "        initializer = tf.zeros_initializer(), dtype=real_type))\n",
    "    # see equation 3), l=L\n",
    "    # Softplus activation\n",
    "    zs.append(tf.nn.softplus(zs[hidden_layers]) @ ws[hidden_layers+1] + bs[hidden_layers+1]) \n",
    "\n",
    "    # result = output layer\n",
    "    ys = zs[hidden_layers+1]\n",
    "    \n",
    "    # return input layer, (parameters = weight matrices and bias vectors), \n",
    "    # [all layers] and output layer\n",
    "    return xs, (ws, bs), zs, ys"
   ]
  },
  {
   "cell_type": "code",
   "execution_count": 65,
   "metadata": {
    "id": "j1SHZ6YYhWno"
   },
   "outputs": [],
   "source": [
    "# Test vanilla_net function\n",
    "tf.reset_default_graph()\n",
    "Xs, (Ws, Bs), Zs, Ys = vanilla_net(input_dim = 1, hidden_units = 20, hidden_layers = 4, seed = None)"
   ]
  },
  {
   "cell_type": "code",
   "execution_count": 66,
   "metadata": {
    "colab": {
     "base_uri": "https://localhost:8080/"
    },
    "id": "lo9HT5wED5PM",
    "outputId": "b80d58e8-2eab-4f45-f57f-63e6326cecc2"
   },
   "outputs": [
    {
     "name": "stdout",
     "output_type": "stream",
     "text": [
      "(?, 1)\n"
     ]
    }
   ],
   "source": [
    "# Input shape\n",
    "print(Xs.shape)"
   ]
  },
  {
   "cell_type": "code",
   "execution_count": 67,
   "metadata": {
    "colab": {
     "base_uri": "https://localhost:8080/"
    },
    "id": "T1ieAaT9Jb15",
    "outputId": "796c85af-c682-42c2-fb49-251ef7547f0f"
   },
   "outputs": [
    {
     "data": {
      "text/plain": [
       "[None,\n",
       " <tf.Variable 'w1:0' shape=(1, 20) dtype=float32_ref>,\n",
       " <tf.Variable 'w2:0' shape=(20, 20) dtype=float32_ref>,\n",
       " <tf.Variable 'w3:0' shape=(20, 20) dtype=float32_ref>,\n",
       " <tf.Variable 'w4:0' shape=(20, 20) dtype=float32_ref>,\n",
       " <tf.Variable 'w5:0' shape=(20, 1) dtype=float32_ref>]"
      ]
     },
     "execution_count": 67,
     "metadata": {},
     "output_type": "execute_result"
    }
   ],
   "source": [
    "# Weights dimension\n",
    "Ws"
   ]
  },
  {
   "cell_type": "code",
   "execution_count": 68,
   "metadata": {
    "colab": {
     "base_uri": "https://localhost:8080/"
    },
    "id": "sKsHSRerK3pM",
    "outputId": "87f4236a-6e7d-4a8a-e38a-9ee034b8e34e"
   },
   "outputs": [
    {
     "data": {
      "text/plain": [
       "[None,\n",
       " <tf.Variable 'b1:0' shape=(20,) dtype=float32_ref>,\n",
       " <tf.Variable 'b2:0' shape=(20,) dtype=float32_ref>,\n",
       " <tf.Variable 'b3:0' shape=(20,) dtype=float32_ref>,\n",
       " <tf.Variable 'b4:0' shape=(20,) dtype=float32_ref>,\n",
       " <tf.Variable 'b5:0' shape=(1,) dtype=float32_ref>]"
      ]
     },
     "execution_count": 68,
     "metadata": {},
     "output_type": "execute_result"
    }
   ],
   "source": [
    "# Biases dimension\n",
    "Bs"
   ]
  },
  {
   "cell_type": "code",
   "execution_count": 69,
   "metadata": {
    "colab": {
     "base_uri": "https://localhost:8080/"
    },
    "id": "ZcBDkVCLHZht",
    "outputId": "a6a64cff-d835-4c54-d571-7c3e8be9d8c7"
   },
   "outputs": [
    {
     "data": {
      "text/plain": [
       "[<tf.Tensor 'Placeholder:0' shape=(?, 1) dtype=float32>,\n",
       " <tf.Tensor 'add:0' shape=(?, 20) dtype=float32>,\n",
       " <tf.Tensor 'add_1:0' shape=(?, 20) dtype=float32>,\n",
       " <tf.Tensor 'add_2:0' shape=(?, 20) dtype=float32>,\n",
       " <tf.Tensor 'add_3:0' shape=(?, 20) dtype=float32>,\n",
       " <tf.Tensor 'add_4:0' shape=(?, 1) dtype=float32>]"
      ]
     },
     "execution_count": 69,
     "metadata": {},
     "output_type": "execute_result"
    }
   ],
   "source": [
    "# Hidden layers shape\n",
    "Zs"
   ]
  },
  {
   "cell_type": "code",
   "execution_count": 70,
   "metadata": {
    "colab": {
     "base_uri": "https://localhost:8080/"
    },
    "id": "rxk40NyRIAZN",
    "outputId": "bbd16694-e81a-440e-b563-e9ce40d10f1d"
   },
   "outputs": [
    {
     "name": "stdout",
     "output_type": "stream",
     "text": [
      "(?, 1)\n"
     ]
    }
   ],
   "source": [
    "# Output shape\n",
    "print(Ys.shape)"
   ]
  },
  {
   "cell_type": "markdown",
   "metadata": {
    "id": "zr8ZgvqgtyNp"
   },
   "source": [
    "**Back-prop and twin net**"
   ]
  },
  {
   "cell_type": "code",
   "execution_count": 132,
   "metadata": {
    "id": "CWUo4p_OtsDa"
   },
   "outputs": [],
   "source": [
    "# compute d_output/d_inputs by (explicit) backprop in vanilla net\n",
    "def backprop(weights_and_biases, zs):                \n",
    "    '''\n",
    "      Input:\n",
    "          weights_and_biases - 2nd output of vanilla_net(), input together as list\n",
    "          zs                 - 3rd output of vanilla_net() \n",
    "      Output:\n",
    "          xbar - predicted differentials   [(n, 1)) tf.Tensor] where n is # observations\n",
    "    '''       \n",
    "    ws, bs = weights_and_biases\n",
    "    L = len(zs) - 1\n",
    "    \n",
    "    # backpropagation, see equation (4), l=L..1\n",
    "    zbar = tf.ones_like(zs[L]) # zbar_L = 1\n",
    "    for l in range(L-1, 0, -1):\n",
    "        # Softplus activation\n",
    "        zbar = (zbar @ tf.transpose(ws[l+1])) * tf.nn.sigmoid(zs[l]) # see equation (4)\n",
    "        #print(zbar)       \n",
    "    # for l=0\n",
    "    zbar = zbar @ tf.transpose(ws[1]) # see equation (4)\n",
    "    \n",
    "    xbar = zbar # xbar = zbar_0\n",
    "    \n",
    "    # dz[L] / dx\n",
    "    return xbar    "
   ]
  },
  {
   "cell_type": "code",
   "execution_count": 45,
   "metadata": {
    "colab": {
     "base_uri": "https://localhost:8080/"
    },
    "id": "U2ouchY5E2N5",
    "outputId": "21cb69e0-4320-45fd-92eb-366a761ccc1a"
   },
   "outputs": [
    {
     "name": "stdout",
     "output_type": "stream",
     "text": [
      "Tensor(\"add_3:0\", shape=(?, 20), dtype=float32)\n",
      "Tensor(\"ones_like_3:0\", shape=(?, 1), dtype=float32)\n",
      "Tensor(\"add_2:0\", shape=(?, 20), dtype=float32)\n",
      "Tensor(\"mul_12:0\", shape=(?, 20), dtype=float32)\n",
      "Tensor(\"add_1:0\", shape=(?, 20), dtype=float32)\n",
      "Tensor(\"mul_13:0\", shape=(?, 20), dtype=float32)\n",
      "Tensor(\"add:0\", shape=(?, 20), dtype=float32)\n",
      "Tensor(\"mul_14:0\", shape=(?, 20), dtype=float32)\n"
     ]
    }
   ],
   "source": [
    "# Test backprop function\n",
    "Xbar = backprop((Ws, Bs), Zs)"
   ]
  },
  {
   "cell_type": "code",
   "execution_count": 46,
   "metadata": {
    "colab": {
     "base_uri": "https://localhost:8080/"
    },
    "id": "qUbN7mq_aqR4",
    "outputId": "bb5f48c4-78fd-4aa2-bb8a-63842ed9b657"
   },
   "outputs": [
    {
     "data": {
      "text/plain": [
       "<tf.Tensor 'matmul_24:0' shape=(?, 1) dtype=float32>"
      ]
     },
     "execution_count": 46,
     "metadata": {},
     "output_type": "execute_result"
    }
   ],
   "source": [
    "# Shape of output\n",
    "Xbar"
   ]
  },
  {
   "cell_type": "code",
   "execution_count": 47,
   "metadata": {
    "id": "jlymFYKLaa3_"
   },
   "outputs": [],
   "source": [
    "# combined graph for valuation and differentiation\n",
    "def twin_net(input_dim, hidden_units, hidden_layers, seed):\n",
    "    '''\n",
    "    This function combines the vanilla_net() and backprop() functions to build the twin network.\n",
    "    \n",
    "    Input:\n",
    "        input_dim       - dimension of inputs (1 in BS case) (data) [int]\n",
    "        hidden_units    - units in hidden layers, assumed constant [int]\n",
    "        hidden_layers   - number of hidden layers [int]\n",
    "        seed            - seed for reproducibility [int or None]\n",
    "    Output:\n",
    "        xs - inputs  (asset prices)             [(n, input_dim) tf.Tensor] where n is # observations\n",
    "        ys - value prediction (option prices)   [(n, 1) tf.Tensor]\n",
    "        xbar - predicted differentials          [(n, 1)) tf.Tensor] \n",
    "\n",
    "  '''     \n",
    "    # first, build the feedforward net\n",
    "    xs, (ws, bs), zs, ys = vanilla_net(input_dim, hidden_units, hidden_layers, seed)\n",
    "    \n",
    "    # then, build its differentiation by backprop\n",
    "    xbar = backprop((ws, bs), zs)\n",
    "    \n",
    "    # return input x, output y and differentials d_y/d_z\n",
    "    return xs, ys, xbar"
   ]
  },
  {
   "cell_type": "code",
   "execution_count": 48,
   "metadata": {
    "colab": {
     "base_uri": "https://localhost:8080/"
    },
    "id": "KpuRWw_In6A9",
    "outputId": "e249decf-9191-41f2-a65b-5834e660f062"
   },
   "outputs": [
    {
     "name": "stdout",
     "output_type": "stream",
     "text": [
      "Tensor(\"add_3:0\", shape=(?, 20), dtype=float32)\n",
      "Tensor(\"ones_like:0\", shape=(?, 1), dtype=float32)\n",
      "Tensor(\"add_2:0\", shape=(?, 20), dtype=float32)\n",
      "Tensor(\"mul:0\", shape=(?, 20), dtype=float32)\n",
      "Tensor(\"add_1:0\", shape=(?, 20), dtype=float32)\n",
      "Tensor(\"mul_1:0\", shape=(?, 20), dtype=float32)\n",
      "Tensor(\"add:0\", shape=(?, 20), dtype=float32)\n",
      "Tensor(\"mul_2:0\", shape=(?, 20), dtype=float32)\n"
     ]
    }
   ],
   "source": [
    "# Test twin_net function\n",
    "tf.reset_default_graph()\n",
    "Xs, Ys, Xbar = twin_net(input_dim = 10, hidden_units = 20, hidden_layers = 4, seed = None)"
   ]
  },
  {
   "cell_type": "code",
   "execution_count": 49,
   "metadata": {
    "colab": {
     "base_uri": "https://localhost:8080/"
    },
    "id": "sKHEBoTodPAm",
    "outputId": "2c4facf2-e0bd-4d69-91ac-02d59b16422d"
   },
   "outputs": [
    {
     "name": "stdout",
     "output_type": "stream",
     "text": [
      "Tensor(\"Placeholder:0\", shape=(?, 10), dtype=float32) Tensor(\"add_4:0\", shape=(?, 1), dtype=float32) Tensor(\"matmul_9:0\", shape=(?, 10), dtype=float32)\n"
     ]
    }
   ],
   "source": [
    "# Inspect output\n",
    "print(Xs, Ys, Xbar)"
   ]
  },
  {
   "cell_type": "markdown",
   "metadata": {
    "id": "M9bWbSO4BNfI"
   },
   "source": [
    "***Training***"
   ]
  },
  {
   "cell_type": "code",
   "execution_count": 48,
   "metadata": {
    "id": "OwtF5evcExqV"
   },
   "outputs": [],
   "source": [
    "def vanilla_training_graph(input_dim, hidden_units, hidden_layers, seed):\n",
    "    '''\n",
    "    This function builds the 'vanilla' training graph, where differential labels are NOT included\n",
    "    It combines the vanilla_net() and backprop() functions to build the twin network, then defines the loss function, optimiser and learning rate.\n",
    "    Loss is MSE and Adam is used as the optimiser.\n",
    "   \n",
    "    Input:\n",
    "        input_dim       - dimension of inputs (1 in BS case) (data) [int]\n",
    "        hidden_units    - units in hidden layers, assumed constant [int]\n",
    "        hidden_layers   - number of hidden layers [int]\n",
    "        seed            - seed for reproducibility [int or None]\n",
    "    Output:\n",
    "        xs                       - inputs (asset prices)                [(n, input_dim) tf.Tensor] where n is # observations\n",
    "        labels                   - value targets (option prices)        [(n, 1) tf.Tensor]\n",
    "        predictions              - value predictions (option prices)    [(n, 1) tf.Tensor]\n",
    "        derivs_predictions       - differential predictions (deltas)    [(n, input_dim) tf.Tensor]\n",
    "        learning_rate            - desired learning rate                ???\n",
    "        loss                     - loss function\n",
    "        optimizer.minimize(loss) -                                      [tf.Operation]\n",
    "  '''     \n",
    "    # net\n",
    "    inputs, weights_and_biases, layers, predictions = \\\n",
    "        vanilla_net(input_dim, hidden_units, hidden_layers, seed)\n",
    "    \n",
    "    # backprop even though we are not USING differentials for training\n",
    "    # we still need them to predict derivatives dy_dx \n",
    "    derivs_predictions = backprop(weights_and_biases, layers)\n",
    "    \n",
    "    # placeholder for labels\n",
    "    labels = tf.compat.v1.placeholder(shape=[None, 1], dtype=real_type)\n",
    "    \n",
    "    # loss \n",
    "    loss = tf.losses.mean_squared_error(labels, predictions)\n",
    "    \n",
    "    # optimizer\n",
    "    learning_rate = tf.compat.v1.placeholder(real_type)\n",
    "    optimizer = tf.compat.v1.train.AdamOptimizer(learning_rate = learning_rate)\n",
    "    \n",
    "    # return all necessary \n",
    "    return inputs, labels, predictions, derivs_predictions, learning_rate, loss, optimizer.minimize(loss)"
   ]
  },
  {
   "cell_type": "code",
   "execution_count": 51,
   "metadata": {
    "colab": {
     "base_uri": "https://localhost:8080/"
    },
    "id": "mTp4nZMRFevN",
    "outputId": "b94dd973-c1ca-4216-de01-188ddf35f571"
   },
   "outputs": [
    {
     "name": "stdout",
     "output_type": "stream",
     "text": [
      "Tensor(\"add_3:0\", shape=(?, 20), dtype=float32)\n",
      "Tensor(\"ones_like:0\", shape=(?, 1), dtype=float32)\n",
      "Tensor(\"add_2:0\", shape=(?, 20), dtype=float32)\n",
      "Tensor(\"mul:0\", shape=(?, 20), dtype=float32)\n",
      "Tensor(\"add_1:0\", shape=(?, 20), dtype=float32)\n",
      "Tensor(\"mul_1:0\", shape=(?, 20), dtype=float32)\n",
      "Tensor(\"add:0\", shape=(?, 20), dtype=float32)\n",
      "Tensor(\"mul_2:0\", shape=(?, 20), dtype=float32)\n"
     ]
    }
   ],
   "source": [
    "# Test vanilla_training_graph\n",
    "tf.reset_default_graph()\n",
    "Inputs, Labels, Preds, Derivs_preds, L_rate, Loss, Optimizer = vanilla_training_graph(input_dim = 2, hidden_units = 20, hidden_layers = 4, seed = None)"
   ]
  },
  {
   "cell_type": "markdown",
   "metadata": {},
   "source": [
    "Dimensions help: https://psrivasin.medium.com/getting-matrix-dimensions-right-in-neural-networks-3186af38fe65"
   ]
  },
  {
   "cell_type": "code",
   "execution_count": 87,
   "metadata": {},
   "outputs": [
    {
     "name": "stdout",
     "output_type": "stream",
     "text": [
      "(3, 1) (1, 4) (4,)\n"
     ]
    }
   ],
   "source": [
    "### Making sense of network dimensions\n",
    "x = np.zeros((3,1))\n",
    "w = np.ones((1,4))\n",
    "\n",
    "b = np.array([1,2,3,4])\n",
    "\n",
    "print(x.shape, w.shape, b.shape)"
   ]
  },
  {
   "cell_type": "code",
   "execution_count": 93,
   "metadata": {},
   "outputs": [
    {
     "name": "stdout",
     "output_type": "stream",
     "text": [
      "(3, 4)\n"
     ]
    },
    {
     "data": {
      "text/plain": [
       "array([[1., 2., 3., 4.],\n",
       "       [1., 2., 3., 4.],\n",
       "       [1., 2., 3., 4.]])"
      ]
     },
     "execution_count": 93,
     "metadata": {},
     "output_type": "execute_result"
    }
   ],
   "source": [
    "xw = x.dot(w)\n",
    "print(xw.shape)\n",
    "xw + b"
   ]
  },
  {
   "cell_type": "code",
   "execution_count": 52,
   "metadata": {
    "colab": {
     "base_uri": "https://localhost:8080/"
    },
    "id": "HVFDzc09Wzzz",
    "outputId": "d35e6c65-ba6f-48c7-bf7e-a1ec5b786357"
   },
   "outputs": [
    {
     "name": "stdout",
     "output_type": "stream",
     "text": [
      "Tensor(\"Placeholder:0\", shape=(?, 2), dtype=float32) Tensor(\"Placeholder_1:0\", shape=(?, 1), dtype=float32) Tensor(\"add_4:0\", shape=(?, 1), dtype=float32) Tensor(\"matmul_9:0\", shape=(?, 2), dtype=float32)\n"
     ]
    }
   ],
   "source": [
    "# Inspect output\n",
    "print(Inputs, Labels, Preds, Derivs_preds)"
   ]
  },
  {
   "cell_type": "code",
   "execution_count": 53,
   "metadata": {
    "colab": {
     "base_uri": "https://localhost:8080/"
    },
    "id": "prVMwNQbgb8y",
    "outputId": "2eb5d695-a099-4ee0-cafe-9d88afc44617"
   },
   "outputs": [
    {
     "data": {
      "text/plain": [
       "(<tf.Tensor 'Placeholder_2:0' shape=<unknown> dtype=float32>,\n",
       " <tf.Tensor 'mean_squared_error/value:0' shape=() dtype=float32>,\n",
       " <tf.Operation 'Adam' type=NoOp>)"
      ]
     },
     "execution_count": 53,
     "metadata": {},
     "output_type": "execute_result"
    }
   ],
   "source": [
    "# Inspect output\n",
    "L_rate, Loss, Optimizer"
   ]
  },
  {
   "cell_type": "markdown",
   "metadata": {
    "id": "-f9g1WU8mkvh"
   },
   "source": [
    "**session**:  In TensorFlow, a session is an environment for running computational graphs. It encapsulates the state of the TensorFlow runtime and allows you to execute operations and evaluate tensors. When you create and define a computational graph in TensorFlow, it represents the mathematical operations and relationships between tensors. However, just defining the graph does not execute any computations. To perform computations and evaluate tensors within the graph, you need to create a session."
   ]
  },
  {
   "cell_type": "code",
   "execution_count": 593,
   "metadata": {
    "id": "yC7Y8lVz20gA"
   },
   "outputs": [],
   "source": [
    "# training loop for one epoch\n",
    "def vanilla_train_one_epoch(# training graph from vanilla_training_graph()\n",
    "                            inputs, labels, lr_placeholder, minimizer,   \n",
    "                            # training set \n",
    "                            x_train, y_train,                           \n",
    "                            # params, left to client code\n",
    "                            learning_rate, batch_size, session, loss):        \n",
    "    '''\n",
    "    This function performs the training loop for one epoch by iterating over mini-batches of the training set\n",
    "    For each mini-batch, it runs the optimizer to minimize the loss function using the current mini-batch. \n",
    "    The loop continues until all mini-batches have been processed for the given epoch.\n",
    "\n",
    "    Input:\n",
    "        inputs          - placeholder for input data \n",
    "        labels          - placeholder for labels/targets \n",
    "        lr_placeholder  - placeholder for learning rate\n",
    "        minimizer       - optimizer used for minimizing the loss\n",
    "        x_train         - training input data (asset prices)\n",
    "        y_train         - training labels/targets (option prices)\n",
    "        learning_rate   - Learning rate for optimization\n",
    "        batch_size      - Size of mini-batches                           [int]\n",
    "        session         - TensorFlow session for running computations\n",
    "    Output:\n",
    "        None\n",
    "  ''' \n",
    "\n",
    "    # Define dimensions of the training set according to data inputs\n",
    "    m, n = x_train.shape\n",
    "    \n",
    "    #### Minimization loop over mini-batches\n",
    "    first = 0\n",
    "    # For a given batch size and # of observations determine how many loops to run\n",
    "    last = min(batch_size, m)\n",
    "    while first < m:\n",
    "        # session.run() call executes the minimizer operation with the given mini-batch of input data, labels, and learning rate.\n",
    "        session.run(minimizer, feed_dict = {\n",
    "            inputs: x_train[first:last], \n",
    "            labels: y_train[first:last],\n",
    "            lr_placeholder: learning_rate\n",
    "        })\n",
    "        # Update the indicies for the next mini batch\n",
    "        first = last\n",
    "        last = min(first + batch_size, m)\n",
    "        \n",
    "    # Compute training loss\n",
    "    train_loss = session.run(loss, feed_dict={\n",
    "        inputs: x_train,\n",
    "        labels: y_train\n",
    "    })\n",
    "    #print(train_loss)    \n",
    "    return train_loss\n",
    "    \n",
    " "
   ]
  },
  {
   "cell_type": "code",
   "execution_count": 50,
   "metadata": {
    "id": "_NmkE6yqBM51"
   },
   "outputs": [],
   "source": [
    "# Define differential training graph (almost same as vanilla training graph)\n",
    "def diff_training_graph(input_dim, hidden_units, hidden_layers, seed, alpha, beta, lambda_j):\n",
    "    '''\n",
    "    This function builds the differential training graph, where differential labels ARE included.\n",
    "    It combines the twin_net() and backprop() functions to build the twin network, then defines the loss function, optimiser and learning rate.  \n",
    "    loss = alpha * MSE(values) + beta * MSE(greeks, lambda_j), to balance relative weight of values and differentials (see appendix of paper).\n",
    "    Adam is used as the optimiser.\n",
    "    \n",
    "    Input:\n",
    "        input_dim       - dimension of inputs (1 in BS case) (data) [int]\n",
    "        hidden_units    - units in hidden layers, assumed constant [int]\n",
    "        hidden_layers   - number of hidden layers [int]\n",
    "        seed            - seed for reproducibility [int or None]\n",
    "        alpha           - weight on MSE for prediction values in loss function\n",
    "        beta            - weight on MSE for prediction differentials in loss function (beta = 1 - alpha)\n",
    "        lambda_j        -  (see normalize_data() function)\n",
    "    Output:\n",
    "        xs                       - inputs (asset prices)                [(n, input_dim) tf.Tensor] where n is # observations\n",
    "        labels                   - value targets (option prices)        [(n, 1) tf.Tensor]\n",
    "        predictions              - value predictions (option prices)    [(n, 1) tf.Tensor]\n",
    "        derivs_predictions       - differential predictions (deltas)    [(n, input_dim) tf.Tensor]\n",
    "        learning_rate            - desired learning rate                \n",
    "        loss                     - Loss function\n",
    "        optimizer.minimize(loss) -                                      [tf.Operation]\n",
    "    '''     \n",
    "    \n",
    "    # net, now a twin \n",
    "    inputs, predictions, derivs_predictions = twin_net(input_dim, hidden_units, hidden_layers, seed)\n",
    "    \n",
    "    # placeholder for labels, now also derivs labels\n",
    "    labels = tf.compat.v1.placeholder(shape=[None, 1], dtype=real_type)\n",
    "    derivs_labels = tf.compat.v1.placeholder(shape=[None, derivs_predictions.shape[1]], dtype=real_type)\n",
    "    \n",
    "    # loss, now combined values + derivatives\n",
    "    loss = alpha * tf.losses.mean_squared_error(labels, predictions) \\\n",
    "    + beta * tf. losses.mean_squared_error(derivs_labels * lambda_j, derivs_predictions * lambda_j)\n",
    "    \n",
    "    # optimizer, as vanilla\n",
    "    learning_rate = tf.compat.v1.placeholder(real_type)\n",
    "    optimizer = tf.compat.v1.train.AdamOptimizer(learning_rate = learning_rate)\n",
    "    \n",
    "    # return all necessary tensors, including derivatives\n",
    "    # predictions and labels\n",
    "    return inputs, labels, derivs_labels, predictions, derivs_predictions, \\\n",
    "            learning_rate, loss, optimizer.minimize(loss)\n",
    "\n"
   ]
  },
  {
   "cell_type": "code",
   "execution_count": 250,
   "metadata": {
    "id": "ZgfO1ERMuaRV"
   },
   "outputs": [],
   "source": [
    "# Define training loop for one epoch (same as vanilla_train_one_epoch() but with differential labels included)\n",
    "def diff_train_one_epoch(inputs, labels, derivs_labels, lr_placeholder, minimizer, x_train, y_train, \n",
    "                         dydx_train, learning_rate, batch_size, session, loss):    \n",
    "    '''\n",
    "    This function performs the training loop for one epoch by iterating over mini-batches of the training set\n",
    "    For each mini-batch, it runs the optimizer to minimize the loss function using the current mini-batch. \n",
    "    The loop continues until all mini-batches have been processed for the given epoch.\n",
    "\n",
    "    Input:\n",
    "        inputs          - placeholder for input data \n",
    "        labels          - placeholder for labels/targets \n",
    "        derivs_labels   - placeholder for differential labels\n",
    "        lr_placeholder  - placeholder for learning rate\n",
    "        minimizer       - optimizer used for minimizing the loss\n",
    "        x_train         - training input data (asset prices)\n",
    "        y_train         - training labels/targets (option prices)\n",
    "        learning_rate   - Learning rate for optimization\n",
    "        batch_size      - Size of mini-batches                           [int]\n",
    "        session         - TensorFlow session for running computations\n",
    "    Output:\n",
    "        None\n",
    "  ''' \n",
    "    # Define dimensions of the training set according to data inputs\n",
    "    m, n = x_train.shape\n",
    "    \n",
    "    \n",
    "    #### Minimization loop over mini-batches, now with Greeks\n",
    "    first = 0\n",
    "    # For a given batch size and # of observations determine how many loops to run\n",
    "    last = min(batch_size, m)\n",
    "    while first < m:\n",
    "        # session.run() call executes the minimizer operation with the given mini-batch of input data, labels, and learning rate.\n",
    "        session.run(minimizer, feed_dict = {\n",
    "            inputs: x_train[first:last], \n",
    "            labels: y_train[first:last],\n",
    "            derivs_labels: dydx_train[first:last],\n",
    "            lr_placeholder: learning_rate\n",
    "        })\n",
    "        # Update the indicies for the next mini batch\n",
    "        first = last\n",
    "        last = min(first + batch_size, m)\n",
    "    \n",
    "    # Compute training loss\n",
    "    train_loss = session.run(loss, feed_dict={\n",
    "        inputs: x_train,\n",
    "        labels: y_train,\n",
    "        derivs_labels: dydx_train\n",
    "    })\n",
    "        \n",
    "    return train_loss\n",
    " \n",
    "           \n",
    "        "
   ]
  },
  {
   "cell_type": "markdown",
   "metadata": {
    "id": "AAdHAWL86MSY"
   },
   "source": [
    "**Callbacks:**\n",
    "A callback is a function that is called repeatedly during a process (for example the training of a neural network) and which generally serves to validate or correct certain behaviors. In machine learning, we can use callbacks to define what happens before, during, or at the end of a training epoch.\n",
    "See: https://towardsdatascience.com/callbacks-in-neural-networks-b0b006df7626"
   ]
  },
  {
   "cell_type": "code",
   "execution_count": 584,
   "metadata": {
    "id": "xu60P9HdEC4-"
   },
   "outputs": [],
   "source": [
    "def train(description,\n",
    "          # neural approximator\n",
    "          approximator,              \n",
    "          # training params\n",
    "          reinit=True, \n",
    "          epochs=100, \n",
    "          # one-cycle learning rate schedule\n",
    "          learning_rate_schedule= [    (0.0, 1.0e-8), \\\n",
    "                                      (0.2, 0.1),    \\\n",
    "                                      (0.6, 0.01),   \\\n",
    "                                      (0.9, 1.0e-6), \\\n",
    "                                      (1.0, 1.0e-8)  ], \n",
    "          batches_per_epoch=16,\n",
    "          min_batch_size=256,\n",
    "          # callback function and when to call it\n",
    "          callback=None,           # arbitrary callable\n",
    "          callback_epochs=[]):     # call after what epochs, e.g. [5, 20]\n",
    "    '''\n",
    "    This function performs\n",
    "\n",
    "    Input:\n",
    "        description            - \n",
    "        approximator           - \n",
    "        reinit                 -\n",
    "        epochs                 - number of epochs desired  [int]\n",
    "        learning_rate_schedule - learning rate schedule    [list of 2 element tuples] \n",
    "                                                            - first element is epoch number on 0-1 scale\n",
    "                                                            - second element is desired learning rate at that epoch\n",
    "                                                            - intermediate values are linearly interpolated\n",
    "                                                            - see following code cell for visualisation of default learning schedule\n",
    "        batches_per_epoch      - number of mini batches per epoch [int]\n",
    "        callback               - callback function to deploy (default = None) - can ignore\n",
    "        callback_epochs=[]     - after which epochs should the callback function be called\n",
    "    Output:\n",
    "        None\n",
    "  ''' \n",
    "          \n",
    "    # batching - m is the number of observations\n",
    "    batch_size = max(min_batch_size, approximator.m // batches_per_epoch)\n",
    "    \n",
    "    # one-cycle learning rate sechedule\n",
    "    lr_schedule_epochs, lr_schedule_rates = zip(*learning_rate_schedule)\n",
    "    \n",
    "    # Create the learning rate schedule (exponential decay)\n",
    "    learning_rate_schedule = tf.keras.optimizers.schedules.ExponentialDecay(\n",
    "            initial_learning_rate = 0.1, decay_steps = -100, decay_rate = 100)\n",
    "\n",
    "    # Generate a tensor of 100 learning rates using TensorFlow operations\n",
    "    learning_rates = learning_rate_schedule(tf.range(epochs, dtype=tf.float32))\n",
    "\n",
    "    # Run a TensorFlow session to evaluate the learning rates\n",
    "    with tf.Session() as sess:\n",
    "        learning_rates_array = sess.run(learning_rates)\n",
    "    \n",
    "    # reset\n",
    "    if reinit:\n",
    "        approximator.session.run(approximator.initializer)\n",
    "    \n",
    "    # callback on epoch 0, if requested\n",
    "    if callback and 0 in callback_epochs:\n",
    "        callback(approximator, 0)\n",
    "    \n",
    "    diff_train_loss = []\n",
    "    std_train_loss = []\n",
    "    \n",
    "    # loop on epochs, with progress bar (tqdm)\n",
    "    for epoch in tqdm_notebook(range(epochs), desc=description):\n",
    "        \n",
    "        # interpolate learning rate in cycle\n",
    "        #learning_rate = np.interp(epoch / epochs, lr_schedule_epochs, lr_schedule_rates)\n",
    "        \n",
    "        # Get the current learning rate from the schedule\n",
    "        learning_rate = learning_rates_array[epoch]\n",
    "        \n",
    "        \n",
    "        # train one epoch\n",
    "        \n",
    "        if not approximator.differential:\n",
    "        \n",
    "            ls = vanilla_train_one_epoch(\n",
    "                approximator.inputs, \n",
    "                approximator.labels, \n",
    "                approximator.learning_rate, \n",
    "                approximator.minimizer, \n",
    "                approximator.x, \n",
    "                approximator.y, \n",
    "                learning_rate, \n",
    "                batch_size, \n",
    "                approximator.session,\n",
    "                approximator.loss)\n",
    "            \n",
    "            std_train_loss = std_train_loss + [ls]\n",
    "        \n",
    "        else:\n",
    "        \n",
    "            l = diff_train_one_epoch(\n",
    "                approximator.inputs, \n",
    "                approximator.labels, \n",
    "                approximator.derivs_labels,\n",
    "                approximator.learning_rate, \n",
    "                approximator.minimizer, \n",
    "                approximator.x, \n",
    "                approximator.y, \n",
    "                approximator.dy_dx,\n",
    "                learning_rate, \n",
    "                batch_size, \n",
    "                approximator.session,\n",
    "                approximator.loss)\n",
    "        \n",
    "            diff_train_loss = diff_train_loss + [l]\n",
    "        \n",
    "        # callback, if requested\n",
    "        if callback and epoch in callback_epochs:\n",
    "            callback(approximator, epoch)\n",
    "\n",
    "    # final callback, if requested\n",
    "    if callback and epochs in callback_epochs:\n",
    "        callback(approximator, epochs)     \n",
    "        \n",
    "    if approximator.differential:\n",
    "        return(diff_train_loss)\n",
    "    else: \n",
    "        return(std_train_loss)\n",
    "    \n",
    "    \n",
    "    "
   ]
  },
  {
   "cell_type": "code",
   "execution_count": 227,
   "metadata": {
    "colab": {
     "base_uri": "https://localhost:8080/",
     "height": 489
    },
    "id": "3DdfDFra7SR3",
    "outputId": "b980265e-8471-414d-fa2a-9eafdb9ce959"
   },
   "outputs": [
    {
     "name": "stdout",
     "output_type": "stream",
     "text": [
      "<class 'numpy.float32'>\n"
     ]
    },
    {
     "data": {
      "text/plain": [
       "Text(0.5, 1.0, 'Learning Rate Schedule')"
      ]
     },
     "execution_count": 227,
     "metadata": {},
     "output_type": "execute_result"
    },
    {
     "data": {
      "image/png": "[encoded data removed]",
      "text/plain": [
       "<Figure size 432x288 with 1 Axes>"
      ]
     },
     "metadata": {
      "needs_background": "light"
     },
     "output_type": "display_data"
    }
   ],
   "source": [
    "# Inspect learning rate schedule\n",
    "learning_rate_schedule = [ (0.0, 1.0e-8), (0.2, 0.1), (0.6, 0.01), (0.9, 1.0e-6), (1.0, 1.0e-8)]\n",
    "\n",
    "lr_schedule_epochs, lr_schedule_rates = zip(*learning_rate_schedule)\n",
    "\n",
    "epochs = 100\n",
    "\n",
    "learning_rates = np.zeros(epochs)\n",
    "\n",
    "for epoch in range(0, epochs):\n",
    "  learning_rates[epoch] = np.interp(epoch / epochs, lr_schedule_epochs, lr_schedule_rates)\n",
    "\n",
    "learning_rate_schedule = tf.keras.optimizers.schedules.ExponentialDecay(\n",
    "        initial_learning_rate = 0.1, decay_steps = -100, decay_rate = 100)\n",
    "\n",
    "# Generate a tensor of 100 learning rates using TensorFlow operations\n",
    "num_learning_rates = 100\n",
    "learning_rate_range = tf.range(num_learning_rates, dtype=tf.float32)\n",
    "learning_rates = learning_rate_schedule(learning_rate_range)\n",
    "\n",
    "# Run a TensorFlow session to evaluate the learning rates\n",
    "with tf.Session() as sess:\n",
    "    learning_rates_array = sess.run(learning_rates)\n",
    "\n",
    "print(type(learning_rates_array[0]))\n",
    "    \n",
    "learning_rates_array\n",
    "plt.plot(range(0,100), learning_rates_array) \n",
    "plt.xlabel('Epoch')\n",
    "plt.ylabel('Learning rate')\n",
    "plt.title('Learning Rate Schedule')"
   ]
  },
  {
   "cell_type": "markdown",
   "metadata": {
    "id": "YDMZ2nOUSNEU"
   },
   "source": [
    "***Normalise data***"
   ]
  },
  {
   "cell_type": "code",
   "execution_count": 302,
   "metadata": {
    "id": "2AK3Y8ZIEnRM"
   },
   "outputs": [],
   "source": [
    "# basic data preparation\n",
    "epsilon = 1.0e-08\n",
    "def normalize_data(x_raw, y_raw, dydx_raw=None, crop=None):\n",
    "    '''\n",
    "    Input:\n",
    "        x_raw      - raw inputs (asset prices)\n",
    "        y_raw      - raw labels (option prices)\n",
    "        dydx_raw   - raw differential labels (deltas)\n",
    "        crop       - for cropping the data set (not important, ignore this)\n",
    "    Output:\n",
    "        x_mean     - mean of x_raw (asset prices)\n",
    "        x_std      - standard deviation of x_raw (asset prices)\n",
    "        x          - normalised asset prices (mean = 0, std = 1)\n",
    "        y_mean     - mean of y_raw (option prices)\n",
    "        y_std      - standard deviation of y_raw (option prices)\n",
    "        y          - normalised option prices (mean = 0, std = 1)\n",
    "        dy_dx      - 'normalised' differentials (deltas) (dy_dx = dydx_raw / y_std * x_std)\n",
    "        lambda_j   - weight for Greek j in cost function (to keep magnitude of all the components of the cost function similar) irrelevant if we only have deltas, i.e., j = 1\n",
    "        \n",
    "  ''' \n",
    "    print(x_raw.shape, y_raw.shape)\n",
    "    # crop dataset, otherwise leave as is if crop = None\n",
    "    m = crop if crop is not None else x_raw.shape[0]\n",
    "    x_cropped = x_raw[:m]\n",
    "    y_cropped = y_raw[:m]\n",
    "    dycropped_dxcropped = dydx_raw[:m] if dydx_raw is not None else None\n",
    "    \n",
    "    # normalize dataset\n",
    "    x_mean = x_cropped.mean(axis=0)\n",
    "    x_std = x_cropped.std(axis=0) + epsilon\n",
    "    x = (x_cropped- x_mean) / x_std\n",
    "    y_mean = y_cropped.mean(axis=0)\n",
    "    y_std = y_cropped.std(axis=0) + epsilon\n",
    "    y = (y_cropped-y_mean) / y_std\n",
    "    \n",
    "    # normalize derivatives too\n",
    "    if dycropped_dxcropped is not None:\n",
    "        dy_dx = dycropped_dxcropped / y_std * x_std \n",
    "        # weights of derivatives in cost function = (quad) mean size\n",
    "        lambda_j = 1.0 / np.sqrt((dy_dx ** 2).mean(axis=0))#.reshape(1, -1)\n",
    "    else:\n",
    "        dy_dx = None\n",
    "        lambda_j = None\n",
    "    \n",
    "    # We return the means and standard deviations so data can be 'unnormalised' when producing predictions\n",
    "    return x_mean, x_std, x, y_mean, y_std, y, dy_dx, lambda_j"
   ]
  },
  {
   "cell_type": "markdown",
   "metadata": {
    "id": "7fGqZEdwosJC"
   },
   "source": [
    "**Putting everything together**"
   ]
  },
  {
   "cell_type": "code",
   "execution_count": 669,
   "metadata": {
    "id": "-i0FcLJfEpVR"
   },
   "outputs": [],
   "source": [
    "class Neural_Approximator():\n",
    "    \n",
    "    def __init__(self, x_raw, y_raw, \n",
    "                 dydx_raw=None):      # derivatives labels, \n",
    "       \n",
    "        self.x_raw = x_raw\n",
    "        self.y_raw = y_raw\n",
    "        self.dydx_raw = dydx_raw\n",
    "        \n",
    "        # tensorflow logic\n",
    "        self.graph = None\n",
    "        \n",
    "    def build_graph(self,\n",
    "                differential,       # differential or not           \n",
    "                lam,                # balance cost between values and derivs  \n",
    "                hidden_units, \n",
    "                hidden_layers, \n",
    "                weight_seed):\n",
    "\n",
    "\n",
    "        self.graph = tf.Graph()\n",
    "        \n",
    "        with self.graph.as_default():\n",
    "        \n",
    "            # build the graph, either vanilla or differential\n",
    "            self.differential = differential\n",
    "            \n",
    "            if not differential:\n",
    "            # vanilla \n",
    "                \n",
    "                self.inputs, \\\n",
    "                self.labels, \\\n",
    "                self.predictions, \\\n",
    "                self.derivs_predictions, \\\n",
    "                self.learning_rate, \\\n",
    "                self.loss, \\\n",
    "                self.minimizer \\\n",
    "                = vanilla_training_graph(self.n, hidden_units, hidden_layers, weight_seed)\n",
    "                    \n",
    "            else:\n",
    "            # differential\n",
    "            \n",
    "                if self.dy_dx is None:\n",
    "                    raise Exception(\"No differential labels for differential training graph\")\n",
    "            \n",
    "                self.alpha = 1.0/(1.0 + lam * self.n) # default is set them to 0.5 because self.n = 1\n",
    "                self.beta = 1.0 - self.alpha\n",
    "                \n",
    "                self.inputs, \\\n",
    "                self.labels, \\\n",
    "                self.derivs_labels, \\\n",
    "                self.predictions, \\\n",
    "                self.derivs_predictions, \\\n",
    "                self.learning_rate, \\\n",
    "                self.loss, \\\n",
    "                self.minimizer = diff_training_graph(self.n, hidden_units, \\\n",
    "                                                     hidden_layers, weight_seed, \\\n",
    "                                                     self.alpha, self.beta, self.lambda_j)\n",
    "        \n",
    "            # global initializer\n",
    "            self.initializer = tf.compat.v1.global_variables_initializer()\n",
    "            \n",
    "        # done\n",
    "        self.graph.finalize()\n",
    "        self.session = tf.compat.v1.Session(graph=self.graph)\n",
    "                        \n",
    "    # prepare for training with m examples, standard or differential\n",
    "    def prepare(self, \n",
    "                m, \n",
    "                differential,\n",
    "                #hidden_units = 20,\n",
    "                lam=1,              # balance cost between values and derivs  \n",
    "                # standard architecture\n",
    "                hidden_units=20, \n",
    "                hidden_layers=4, \n",
    "                weight_seed=None):\n",
    "\n",
    "        # prepare dataset\n",
    "        self.x_mean, self.x_std, self.x, self.y_mean, self.y_std, self.y, self.dy_dx, self.lambda_j = \\\n",
    "            normalize_data(self.x_raw, self.y_raw, self.dydx_raw, m)\n",
    "        \n",
    "        # build graph        \n",
    "        self.m, self.n = self.x.shape        \n",
    "        self.build_graph(differential, lam, hidden_units, hidden_layers, weight_seed)\n",
    "        \n",
    "    def train(self,            \n",
    "              description=\"training\",\n",
    "              # training params\n",
    "              reinit=True, \n",
    "              epochs=150, \n",
    "              # one-cycle learning rate schedule\n",
    "              learning_rate_schedule=[\n",
    "                  (0.0, 1.0e-8), \n",
    "                  (0.2, 0.1), \n",
    "                  (0.6, 0.01), \n",
    "                  (0.9, 1.0e-6), \n",
    "                  (1.0, 1.0e-8)], \n",
    "              batches_per_epoch=16,\n",
    "              min_batch_size=256,\n",
    "              # callback and when to call it\n",
    "              # we don't use callbacks, but this is very useful, e.g. for debugging\n",
    "              callback=None,           # arbitrary callable\n",
    "              callback_epochs=[]):     # call after what epochs, e.g. [5, 20]\n",
    "              \n",
    "        t_loss = train(description, \n",
    "              self, \n",
    "              reinit, \n",
    "              epochs, \n",
    "              learning_rate_schedule, \n",
    "              batches_per_epoch, \n",
    "              min_batch_size,\n",
    "              callback, \n",
    "              callback_epochs)\n",
    "        return(t_loss)\n",
    "     \n",
    "    def predict_values(self, x):\n",
    "        # scale\n",
    "        x_scaled = (x-self.x_mean) / self.x_std \n",
    "        # predict scaled\n",
    "        y_scaled = self.session.run(self.predictions, feed_dict = {self.inputs: x_scaled})\n",
    "        # unscale\n",
    "        y = self.y_mean + self.y_std * y_scaled\n",
    "        return y\n",
    "\n",
    "    def predict_values_and_derivs(self, x):\n",
    "        #print(x.shape)\n",
    "        # scale\n",
    "        x_scaled = (x-self.x_mean) / self.x_std\n",
    "        # predict scaled\n",
    "        y_scaled, dyscaled_dxscaled = self.session.run(\n",
    "            [self.predictions, self.derivs_predictions], \n",
    "            feed_dict = {self.inputs: x_scaled})\n",
    "        #print(y_scaled.shape, dyscaled_dxscaled.shape)\n",
    "        #print(self.y_mean[0], self.y_std[0])\n",
    "        # unscale\n",
    "        y = self.y_mean[0] + self.y_std[0] * y_scaled\n",
    "        #print(y)\n",
    "        dydx = self.y_std[0] / self.x_std[0] * dyscaled_dxscaled\n",
    "        return y, dydx"
   ]
  },
  {
   "cell_type": "code",
   "execution_count": 731,
   "metadata": {},
   "outputs": [],
   "source": [
    "#### Evaluation metrics\n",
    "\n",
    "## Function to compute RMSE\n",
    "def computeRmse(pred, true):\n",
    "  errors = (pred - true)\n",
    "  rmse = np.sqrt((errors ** 2).mean())\n",
    "  return(rmse)\n",
    "\n",
    "## Function to compute MAE\n",
    "#def computeMAE(pred, true):\n",
    "#  errors = abs(pred - true)\n",
    "#  mae = errors.mean()\n",
    "#  return(mae)"
   ]
  },
  {
   "cell_type": "markdown",
   "metadata": {
    "id": "hKGm6k3MFK1W"
   },
   "source": [
    "***Implementation***"
   ]
  },
  {
   "cell_type": "code",
   "execution_count": 562,
   "metadata": {
    "id": "Ocr8tAUjI1Nw"
   },
   "outputs": [],
   "source": [
    "def test(generator,\n",
    "         sizes, \n",
    "         nTest, \n",
    "         simulSeed=None, \n",
    "         testSeed=None, \n",
    "         weightSeed=None, \n",
    "         deltidx=0):\n",
    "\n",
    "    # simulation\n",
    "    #print(\"simulating training, valid and test sets\")\n",
    "    #xTrain, yTrain, dydxTrain = generator.trainingSet(max(sizes), seed=simulSeed)\n",
    "    #xTest, xAxis, yTest, dydxTest, vegas = generator.testSet(num=nTest, seed=testSeed)\n",
    "    #print(\"done\")\n",
    "    \n",
    "    # Add Heston test and train sets\n",
    "    xTrain = X_train\n",
    "    yTrain = y_train\n",
    "    dydxTrain = dxdy_train\n",
    "    xTest = X_test\n",
    "    yTest = y_test\n",
    "    dydxTest = dxdy_test\n",
    "    xAxis = X_test\n",
    "   \n",
    "    # neural approximator\n",
    "    print(\"initializing neural appropximator\")\n",
    "    regressor = Neural_Approximator(xTrain, yTrain, dydxTrain)\n",
    "    print(\"done\")\n",
    "    \n",
    "    predvalues = {}    \n",
    "    preddeltas = {}\n",
    "    for size in sizes:        \n",
    "            \n",
    "        print(\"\\nsize %d\" % size)\n",
    "        regressor.prepare(size, False, weight_seed=weightSeed)\n",
    "\n",
    "        t0 = time.time()\n",
    "        std_train_loss = regressor.train(\"standard training\")\n",
    "        predictions, deltas = regressor.predict_values_and_derivs(xTest)\n",
    "        predvalues[(\"standard\", size)] = predictions.reshape((-1,1))\n",
    "        preddeltas[(\"standard\", size)] = deltas[:, deltidx].reshape((-1,1))\n",
    "        t1 = time.time()\n",
    "        \n",
    "        regressor.prepare(size, True, weight_seed=weightSeed)\n",
    "            \n",
    "        t0 = time.time()\n",
    "        diff_train_loss = regressor.train(\"differential training\")\n",
    "        predictions, deltas = regressor.predict_values_and_derivs(xTest)\n",
    "        predvalues[(\"differential\", size)] = predictions.reshape((-1,1))\n",
    "        preddeltas[(\"differential\", size)] = deltas[:, deltidx].reshape((-1,1))\n",
    "        t1 = time.time()\n",
    "        \n",
    "    #return xAxis, yTest, dydxTest[:, deltidx], vegas, predvalues, preddeltas\n",
    "    return xAxis, yTest, dydxTest, predvalues, preddeltas, std_train_loss, diff_train_loss"
   ]
  },
  {
   "cell_type": "code",
   "execution_count": 651,
   "metadata": {},
   "outputs": [],
   "source": [
    "def graph(title, \n",
    "          predictions, \n",
    "          xAxis, \n",
    "          xAxisName, \n",
    "          yAxisName, \n",
    "          targets, \n",
    "          size):\n",
    "    \n",
    "    numRows = 1  \n",
    "    numCols = 2\n",
    "\n",
    "    fig, ax = plt.subplots(numRows, numCols, squeeze=False)\n",
    "    fig.set_size_inches(4 * numCols + 1.5, 4 * numRows)\n",
    "\n",
    "    ax[0, 0].set_title(\"Standard training\")\n",
    "    ax[0, 1].set_title(\"Differential training\")\n",
    "\n",
    "    for j, regType in enumerate([\"standard\", \"differential\"]):\n",
    "\n",
    "        errors = (predictions[(regType, size)] - targets)\n",
    "        rmse = np.sqrt((errors ** 2).mean())\n",
    "        #t = \"rmse %.3f\" % rmse\n",
    "        \n",
    "        t = xAxisName\n",
    "\n",
    "        ax[0, j].set_xlabel(t)\n",
    "        ax[0, j].set_ylabel(yAxisName)\n",
    "\n",
    "        ax[0, j].plot(xAxis, predictions[(regType, size)], 'co', \\\n",
    "                      markersize=2, markerfacecolor='white', label=\"Predicted values\")\n",
    "        ax[0, j].plot(xAxis, targets, 'r.', markersize=1, label='Target values')\n",
    "\n",
    "        ax[0, j].legend(prop={'size': 8}, loc='upper left')\n",
    "\n",
    "    plt.tight_layout()\n",
    "    plt.subplots_adjust(top=0.8)\n",
    "    plt.suptitle(\"%s - %s\" % (title, yAxisName), fontsize=16)\n",
    "    subtitle = \"This is a subtitle\"  # Customize the subtitle text\n",
    "    fig.text(0.5, 0.88, \"Training set size: \" + str(size), ha='center', fontsize=12)  # Adjust the position and fontsize as needed\n",
    "    plt.show()\n"
   ]
  },
  {
   "cell_type": "code",
   "execution_count": 757,
   "metadata": {
    "colab": {
     "base_uri": "https://localhost:8080/",
     "height": 1000,
     "referenced_widgets": [
      "9752b6948efd43b5a6c9bcf543256b13",
      "00209c69dd9d4e15b9206c741344eb4b",
      "6be68bf6f0354a7c9a378d22a467e57b",
      "045a547e699a49d996a3533bd6611a1a",
      "d9e08e7290ac46a0b74cb273f083c2c7",
      "d8a510b6c7474dcb8a436474a66c982a",
      "ce1ad7483cb244b9b499ca32d7210778",
      "84a80c486ab44a5e84868831e1e6ff46",
      "2a321ca32a994271b30417e0faea26d6",
      "cc80a6f68eb4422bba42d44d207454fb",
      "07196f2d96984242b2c2fb16e6c80d48"
     ]
    },
    "id": "kdCJRWXBGvnv",
    "outputId": "b585d436-5eb9-44f5-d23c-3be0fdeae9aa",
    "scrolled": false
   },
   "outputs": [
    {
     "name": "stdout",
     "output_type": "stream",
     "text": [
      "initializing neural appropximator\n",
      "done\n",
      "\n",
      "size 800\n",
      "(800, 1) (800, 1)\n"
     ]
    },
    {
     "name": "stderr",
     "output_type": "stream",
     "text": [
      "<ipython-input-584-d0dc77e0e26f>:67: TqdmDeprecationWarning: This function will be removed in tqdm==5.0.0\n",
      "Please use `tqdm.notebook.tqdm` instead of `tqdm.tqdm_notebook`\n",
      "  for epoch in tqdm_notebook(range(epochs), desc=description):\n"
     ]
    },
    {
     "data": {
      "application/vnd.jupyter.widget-view+json": {
       "model_id": "951f915dd3464c189f89a579ec9ddc82",
       "version_major": 2,
       "version_minor": 0
      },
      "text/plain": [
       "standard training:   0%|          | 0/150 [00:00<?, ?it/s]"
      ]
     },
     "metadata": {},
     "output_type": "display_data"
    },
    {
     "name": "stdout",
     "output_type": "stream",
     "text": [
      "(800, 1) (800, 1)\n"
     ]
    },
    {
     "data": {
      "application/vnd.jupyter.widget-view+json": {
       "model_id": "311e903f2275419386f65d33abd25c95",
       "version_major": 2,
       "version_minor": 0
      },
      "text/plain": [
       "differential training:   0%|          | 0/150 [00:00<?, ?it/s]"
      ]
     },
     "metadata": {},
     "output_type": "display_data"
    }
   ],
   "source": [
    "# simulation set sizes to perform\n",
    "sizes = [800]\n",
    "\n",
    "# show delta?\n",
    "showDeltas = True\n",
    "\n",
    "# number of test scenarios\n",
    "nTest = 1   \n",
    "\n",
    "# seed 42 \n",
    "\n",
    "# go\n",
    "generator = 'NA'\n",
    "#xAxis, yTest, dydxTest, vegas, values, deltas = \\\n",
    "xAxis, yTest, dydxTest, values, deltas, std_train_loss, diff_train_loss = \\\n",
    "    test(generator = generator, sizes = sizes, \n",
    "         nTest = nTest, simulSeed = 42, testSeed = 42, weightSeed = 42, deltidx=0)"
   ]
  },
  {
   "cell_type": "code",
   "execution_count": 758,
   "metadata": {},
   "outputs": [
    {
     "data": {
      "text/plain": [
       "Text(0, 0.5, 'Loss')"
      ]
     },
     "execution_count": 758,
     "metadata": {},
     "output_type": "execute_result"
    },
    {
     "data": {
      "image/png": "[encoded data removed]",
      "text/plain": [
       "<Figure size 432x288 with 1 Axes>"
      ]
     },
     "metadata": {
      "needs_background": "light"
     },
     "output_type": "display_data"
    }
   ],
   "source": [
    "plt.plot(range(0,150), std_train_loss, label = 'Standard training')\n",
    "plt.plot(range(0,150), diff_train_loss, label = 'Differential training')\n",
    "plt.legend()\n",
    "plt.title(\"Training loss\")\n",
    "plt.xlabel(\"Epoch\")\n",
    "plt.ylabel(\"Loss\")"
   ]
  },
  {
   "cell_type": "code",
   "execution_count": 759,
   "metadata": {
    "colab": {
     "base_uri": "https://localhost:8080/",
     "height": 1000
    },
    "id": "4frfxa83OFMX",
    "outputId": "6f3751c3-8145-4bd0-b4e0-8debcdc93bff"
   },
   "outputs": [
    {
     "data": {
      "image/png": "[encoded data removed]",
      "text/plain": [
       "<Figure size 684x288 with 2 Axes>"
      ]
     },
     "metadata": {
      "needs_background": "light"
     },
     "output_type": "display_data"
    },
    {
     "data": {
      "image/png": "[encoded data removed]",
      "text/plain": [
       "<Figure size 684x288 with 2 Axes>"
      ]
     },
     "metadata": {
      "needs_background": "light"
     },
     "output_type": "display_data"
    }
   ],
   "source": [
    "# show predicitions\n",
    "graph(\"Heston Model\", values, xAxis, \"Asset Price\", \"Option Price\", y_test, size = 800)\n",
    "\n",
    "# show deltas\n",
    "graph(\"Heston Model\", deltas, xAxis, \"Asset Price\", \"Delta\", dxdy_test, size = 800)"
   ]
  },
  {
   "cell_type": "code",
   "execution_count": 742,
   "metadata": {},
   "outputs": [
    {
     "name": "stdout",
     "output_type": "stream",
     "text": [
      "\\begin{tabular}{lrrrrrr}\n",
      "\\hline\n",
      "               &       &   Target Variable &   Standard &   Differential &   Standard &   Differential \\\\\n",
      "\\hline\n",
      " Option Prices & 0.059 &             0.124 &      0.044 &          0.07  &      0.353 &          1.046 \\\\\n",
      " Deltas        & 0.09  &             0.02  &      0.041 &          0.015 &      7.794 &          0.29  \\\\\n",
      "\\hline\n",
      "\\end{tabular}\n"
     ]
    }
   ],
   "source": [
    "#!pip install tabulate\n",
    "from tabulate import tabulate\n",
    "from sklearn.metrics import mean_squared_error, mean_absolute_error, mean_absolute_percentage_error\n",
    "\n",
    "# Define the table data\n",
    "results_table = [\n",
    "    [\"Option Prices\", round(computeRmse(values['standard', 800], y_test),3), round(computeRmse(values['differential', 800], y_test),3),\n",
    "     round(mean_absolute_error(values['standard', 800], y_test),3), round(mean_absolute_error(values['differential', 800], y_test),3),\n",
    "     round(mean_absolute_percentage_error(values['standard', 800], y_test),3), round(mean_absolute_percentage_error(values['differential', 800], y_test),3)],\n",
    "    [\"Deltas\", round(computeRmse(deltas['standard', 800], dxdy_test),3), round(computeRmse(deltas['differential', 800], dxdy_test), 3),\n",
    "     round(mean_absolute_error(deltas['standard', 800], dxdy_test),3), round(mean_absolute_error(deltas['differential', 800], dxdy_test), 3),\n",
    "    round(mean_absolute_percentage_error(deltas['standard', 800], dxdy_test),3), round(mean_absolute_percentage_error(deltas['differential', 800], dxdy_test),3)]\n",
    "]\n",
    "\n",
    "# Define the column names\n",
    "column_names = [\"Target Variable\", \"Standard\", \"Differential\", \"Standard\", \"Differential\"]\n",
    "\n",
    "# Convert the table to LaTeX format\n",
    "latex_table = tabulate(results_table, headers=column_names, tablefmt=\"latex\")\n",
    "\n",
    "# Print the LaTeX table\n",
    "print(latex_table)\n"
   ]
  },
  {
   "cell_type": "code",
   "execution_count": 770,
   "metadata": {},
   "outputs": [
    {
     "name": "stdout",
     "output_type": "stream",
     "text": [
      "3\n",
      "10\n"
     ]
    },
    {
     "ename": "IndexError",
     "evalue": "index 600 is out of bounds for axis 0 with size 600",
     "output_type": "error",
     "traceback": [
      "\u001b[0;31m---------------------------------------------------------------------------\u001b[0m",
      "\u001b[0;31mIndexError\u001b[0m                                Traceback (most recent call last)",
      "\u001b[0;32m<ipython-input-770-a4099e07eb3b>\u001b[0m in \u001b[0;36m<module>\u001b[0;34m\u001b[0m\n\u001b[1;32m     29\u001b[0m             \u001b[0;31m# Split data into train and validation sets\u001b[0m\u001b[0;34m\u001b[0m\u001b[0;34m\u001b[0m\u001b[0;34m\u001b[0m\u001b[0m\n\u001b[1;32m     30\u001b[0m             \u001b[0mx_train\u001b[0m\u001b[0;34m,\u001b[0m \u001b[0mx_val\u001b[0m \u001b[0;34m=\u001b[0m \u001b[0masset_prices\u001b[0m\u001b[0;34m[\u001b[0m\u001b[0mtrain_indices\u001b[0m\u001b[0;34m]\u001b[0m\u001b[0;34m,\u001b[0m \u001b[0masset_prices\u001b[0m\u001b[0;34m[\u001b[0m\u001b[0mval_indices\u001b[0m\u001b[0;34m]\u001b[0m\u001b[0;34m\u001b[0m\u001b[0;34m\u001b[0m\u001b[0m\n\u001b[0;32m---> 31\u001b[0;31m             \u001b[0my_train\u001b[0m\u001b[0;34m,\u001b[0m \u001b[0my_val\u001b[0m \u001b[0;34m=\u001b[0m \u001b[0mpayoffs\u001b[0m\u001b[0;34m[\u001b[0m\u001b[0mtrain_indices\u001b[0m\u001b[0;34m]\u001b[0m\u001b[0;34m,\u001b[0m \u001b[0mpayoffs\u001b[0m\u001b[0;34m[\u001b[0m\u001b[0mval_indices\u001b[0m\u001b[0;34m]\u001b[0m\u001b[0;34m\u001b[0m\u001b[0;34m\u001b[0m\u001b[0m\n\u001b[0m\u001b[1;32m     32\u001b[0m             \u001b[0mdydx_train\u001b[0m\u001b[0;34m,\u001b[0m \u001b[0mdydx_val\u001b[0m \u001b[0;34m=\u001b[0m \u001b[0mdifferentials\u001b[0m\u001b[0;34m[\u001b[0m\u001b[0mtrain_indices\u001b[0m\u001b[0;34m]\u001b[0m\u001b[0;34m,\u001b[0m \u001b[0mdifferentials\u001b[0m\u001b[0;34m[\u001b[0m\u001b[0mval_indices\u001b[0m\u001b[0;34m]\u001b[0m\u001b[0;34m\u001b[0m\u001b[0;34m\u001b[0m\u001b[0m\n\u001b[1;32m     33\u001b[0m \u001b[0;34m\u001b[0m\u001b[0m\n",
      "\u001b[0;31mIndexError\u001b[0m: index 600 is out of bounds for axis 0 with size 600"
     ]
    }
   ],
   "source": [
    "#### Perform grid search using cross validation\n",
    "\n",
    "from sklearn.model_selection import KFold\n",
    "\n",
    "#hidden_units_grid = [5, 25, 50, 75, 100]\n",
    "#hidden_layers_grid = [1, 5, 10, 15, 20]\n",
    "hidden_units_grid = [10, 20]\n",
    "hidden_layers_grid = [3]\n",
    "\n",
    "# do cross validation\n",
    "\n",
    "k_folds = 4\n",
    "\n",
    "grid_search_results = pd.DataFrame(columns=[\"hidden_layers\", \"hidden_units\", \"rmse_prices\", \"rmse_deltas\"])\n",
    "\n",
    "for hidden_layers in hidden_layers_grid:\n",
    "    print(hidden_layers)\n",
    "    for hidden_units in hidden_units_grid:\n",
    "        print(hidden_units)\n",
    "        \n",
    "        # Perform k-fold cross-validation\n",
    "        kf = KFold(n_splits=k_folds)\n",
    "        rmse_prices_list = []\n",
    "        rmse_deltas_list = []\n",
    "        \n",
    "        for train_indices, val_indices in kf.split(asset_prices):\n",
    "            # Split data into train and validation sets\n",
    "            x_train, x_val = asset_prices[train_indices], asset_prices[val_indices]\n",
    "            y_train, y_val = payoffs[train_indices], payoffs[val_indices]\n",
    "            dydx_train, dydx_val = differentials[train_indices], differentials[val_indices]\n",
    "            \n",
    "            # Prepare model\n",
    "            regressor = Neural_Approximator(x_train, y_train, dydx_train)\n",
    "            regressor.prepare(hidden_units=hidden_units, m= len(y_train), differential=True, weight_seed=weightSeed)\n",
    "        \n",
    "            \n",
    "            # Train model\n",
    "            regressor.train(\"differential training\")\n",
    "            \n",
    "            # Get predictions on validation set\n",
    "            predictions, deltas = regressor.predict_values_and_derivs(x_val)\n",
    "            \n",
    "            # Compute RMSE on validation set\n",
    "            rmse_prices = computeRmse(predictions, y_val)\n",
    "            rmse_deltas = computeRmse(deltas, dydx_val)\n",
    "            \n",
    "            # Append RMSE values to the lists\n",
    "            rmse_prices_list.append(rmse_prices)\n",
    "            rmse_deltas_list.append(rmse_deltas)\n",
    "        \n",
    "        # Compute average RMSE across folds\n",
    "        avg_rmse_prices = np.mean(rmse_prices_list)\n",
    "        avg_rmse_deltas = np.mean(rmse_deltas_list)\n",
    "        \n",
    "        # Add results to table\n",
    "        list_row = [hidden_layers, hidden_units, avg_rmse_prices, avg_rmse_deltas]\n",
    "        grid_search_results.loc[len(grid_search_results)] = list_row\n"
   ]
  },
  {
   "cell_type": "code",
   "execution_count": 286,
   "metadata": {},
   "outputs": [
    {
     "data": {
      "image/png": "[encoded data removed]",
      "text/plain": [
       "<Figure size 720x432 with 1 Axes>"
      ]
     },
     "metadata": {
      "needs_background": "light"
     },
     "output_type": "display_data"
    }
   ],
   "source": [
    "### Plot grid search results\n",
    "metric = \"rmse_prices\"\n",
    "filtered_results = grid_search_results[[\"hidden_layers\", \"hidden_units\", metric]]\n",
    "\n",
    "# Group the results by hidden_layers\n",
    "grouped_results = filtered_results.groupby(\"hidden_layers\")\n",
    "\n",
    "plt.figure(figsize=(10, 6))\n",
    "for hidden_layers, group in grouped_results:\n",
    "    plt.plot(group[\"hidden_units\"], group[metric], marker=\"o\", label=f\"Hidden Layers: {hidden_layers}\")\n",
    "\n",
    "plt.title(metric.capitalize())\n",
    "plt.xlabel(\"Hidden Units\")\n",
    "plt.ylabel(metric.capitalize())\n",
    "plt.legend()\n",
    "plt.grid(True)\n",
    "plt.show()\n"
   ]
  },
  {
   "cell_type": "code",
   "execution_count": 166,
   "metadata": {},
   "outputs": [
    {
     "data": {
      "image/png": "[encoded data removed]",
      "text/plain": [
       "<Figure size 720x432 with 1 Axes>"
      ]
     },
     "metadata": {
      "needs_background": "light"
     },
     "output_type": "display_data"
    }
   ],
   "source": [
    "### Plot grid search results\n",
    "metric = \"rmse_deltas\"\n",
    "filtered_results = grid_search_results[[\"hidden_layers\", \"hidden_units\", metric]]\n",
    "\n",
    "# Group the results by hidden_layers\n",
    "grouped_results = filtered_results.groupby(\"hidden_layers\")\n",
    "\n",
    "plt.figure(figsize=(10, 6))\n",
    "for hidden_layers, group in grouped_results:\n",
    "    plt.plot(group[\"hidden_units\"], group[metric], marker=\"o\", label=f\"Hidden Layers: {hidden_layers}\")\n",
    "\n",
    "plt.title(metric.capitalize())\n",
    "plt.xlabel(\"Hidden Units\")\n",
    "plt.ylabel(metric.capitalize())\n",
    "plt.legend()\n",
    "plt.grid(True)\n",
    "plt.show()"
   ]
  }
 ],
 "metadata": {
  "colab": {
   "provenance": []
  },
  "gpuClass": "standard",
  "kernelspec": {
   "display_name": "Python 3",
   "language": "python",
   "name": "python3"
  },
  "language_info": {
   "codemirror_mode": {
    "name": "ipython",
    "version": 3
   },
   "file_extension": ".py",
   "mimetype": "text/x-python",
   "name": "python",
   "nbconvert_exporter": "python",
   "pygments_lexer": "ipython3",
   "version": "3.8.8"
  },
  "widgets": {
   "application/vnd.jupyter.widget-state+json": {
    "00209c69dd9d4e15b9206c741344eb4b": {
     "model_module": "@jupyter-widgets/controls",
     "model_module_version": "1.5.0",
     "model_name": "HTMLModel",
     "state": {
      "_dom_classes": [],
      "_model_module": "@jupyter-widgets/controls",
      "_model_module_version": "1.5.0",
      "_model_name": "HTMLModel",
      "_view_count": null,
      "_view_module": "@jupyter-widgets/controls",
      "_view_module_version": "1.5.0",
      "_view_name": "HTMLView",
      "description": "",
      "description_tooltip": null,
      "layout": "IPY_MODEL_d8a510b6c7474dcb8a436474a66c982a",
      "placeholder": "​",
      "style": "IPY_MODEL_ce1ad7483cb244b9b499ca32d7210778",
      "value": "standard training: 100%"
     }
    },
    "045a547e699a49d996a3533bd6611a1a": {
     "model_module": "@jupyter-widgets/controls",
     "model_module_version": "1.5.0",
     "model_name": "HTMLModel",
     "state": {
      "_dom_classes": [],
      "_model_module": "@jupyter-widgets/controls",
      "_model_module_version": "1.5.0",
      "_model_name": "HTMLModel",
      "_view_count": null,
      "_view_module": "@jupyter-widgets/controls",
      "_view_module_version": "1.5.0",
      "_view_name": "HTMLView",
      "description": "",
      "description_tooltip": null,
      "layout": "IPY_MODEL_cc80a6f68eb4422bba42d44d207454fb",
      "placeholder": "​",
      "style": "IPY_MODEL_07196f2d96984242b2c2fb16e6c80d48",
      "value": " 100/100 [00:00&lt;00:00,  3.43it/s]"
     }
    },
    "07196f2d96984242b2c2fb16e6c80d48": {
     "model_module": "@jupyter-widgets/controls",
     "model_module_version": "1.5.0",
     "model_name": "DescriptionStyleModel",
     "state": {
      "_model_module": "@jupyter-widgets/controls",
      "_model_module_version": "1.5.0",
      "_model_name": "DescriptionStyleModel",
      "_view_count": null,
      "_view_module": "@jupyter-widgets/base",
      "_view_module_version": "1.2.0",
      "_view_name": "StyleView",
      "description_width": ""
     }
    },
    "2a321ca32a994271b30417e0faea26d6": {
     "model_module": "@jupyter-widgets/controls",
     "model_module_version": "1.5.0",
     "model_name": "ProgressStyleModel",
     "state": {
      "_model_module": "@jupyter-widgets/controls",
      "_model_module_version": "1.5.0",
      "_model_name": "ProgressStyleModel",
      "_view_count": null,
      "_view_module": "@jupyter-widgets/base",
      "_view_module_version": "1.2.0",
      "_view_name": "StyleView",
      "bar_color": null,
      "description_width": ""
     }
    },
    "6be68bf6f0354a7c9a378d22a467e57b": {
     "model_module": "@jupyter-widgets/controls",
     "model_module_version": "1.5.0",
     "model_name": "FloatProgressModel",
     "state": {
      "_dom_classes": [],
      "_model_module": "@jupyter-widgets/controls",
      "_model_module_version": "1.5.0",
      "_model_name": "FloatProgressModel",
      "_view_count": null,
      "_view_module": "@jupyter-widgets/controls",
      "_view_module_version": "1.5.0",
      "_view_name": "ProgressView",
      "bar_style": "success",
      "description": "",
      "description_tooltip": null,
      "layout": "IPY_MODEL_84a80c486ab44a5e84868831e1e6ff46",
      "max": 100,
      "min": 0,
      "orientation": "horizontal",
      "style": "IPY_MODEL_2a321ca32a994271b30417e0faea26d6",
      "value": 100
     }
    },
    "84a80c486ab44a5e84868831e1e6ff46": {
     "model_module": "@jupyter-widgets/base",
     "model_module_version": "1.2.0",
     "model_name": "LayoutModel",
     "state": {
      "_model_module": "@jupyter-widgets/base",
      "_model_module_version": "1.2.0",
      "_model_name": "LayoutModel",
      "_view_count": null,
      "_view_module": "@jupyter-widgets/base",
      "_view_module_version": "1.2.0",
      "_view_name": "LayoutView",
      "align_content": null,
      "align_items": null,
      "align_self": null,
      "border": null,
      "bottom": null,
      "display": null,
      "flex": null,
      "flex_flow": null,
      "grid_area": null,
      "grid_auto_columns": null,
      "grid_auto_flow": null,
      "grid_auto_rows": null,
      "grid_column": null,
      "grid_gap": null,
      "grid_row": null,
      "grid_template_areas": null,
      "grid_template_columns": null,
      "grid_template_rows": null,
      "height": null,
      "justify_content": null,
      "justify_items": null,
      "left": null,
      "margin": null,
      "max_height": null,
      "max_width": null,
      "min_height": null,
      "min_width": null,
      "object_fit": null,
      "object_position": null,
      "order": null,
      "overflow": null,
      "overflow_x": null,
      "overflow_y": null,
      "padding": null,
      "right": null,
      "top": null,
      "visibility": null,
      "width": null
     }
    },
    "9752b6948efd43b5a6c9bcf543256b13": {
     "model_module": "@jupyter-widgets/controls",
     "model_module_version": "1.5.0",
     "model_name": "HBoxModel",
     "state": {
      "_dom_classes": [],
      "_model_module": "@jupyter-widgets/controls",
      "_model_module_version": "1.5.0",
      "_model_name": "HBoxModel",
      "_view_count": null,
      "_view_module": "@jupyter-widgets/controls",
      "_view_module_version": "1.5.0",
      "_view_name": "HBoxView",
      "box_style": "",
      "children": [
       "IPY_MODEL_00209c69dd9d4e15b9206c741344eb4b",
       "IPY_MODEL_6be68bf6f0354a7c9a378d22a467e57b",
       "IPY_MODEL_045a547e699a49d996a3533bd6611a1a"
      ],
      "layout": "IPY_MODEL_d9e08e7290ac46a0b74cb273f083c2c7"
     }
    },
    "cc80a6f68eb4422bba42d44d207454fb": {
     "model_module": "@jupyter-widgets/base",
     "model_module_version": "1.2.0",
     "model_name": "LayoutModel",
     "state": {
      "_model_module": "@jupyter-widgets/base",
      "_model_module_version": "1.2.0",
      "_model_name": "LayoutModel",
      "_view_count": null,
      "_view_module": "@jupyter-widgets/base",
      "_view_module_version": "1.2.0",
      "_view_name": "LayoutView",
      "align_content": null,
      "align_items": null,
      "align_self": null,
      "border": null,
      "bottom": null,
      "display": null,
      "flex": null,
      "flex_flow": null,
      "grid_area": null,
      "grid_auto_columns": null,
      "grid_auto_flow": null,
      "grid_auto_rows": null,
      "grid_column": null,
      "grid_gap": null,
      "grid_row": null,
      "grid_template_areas": null,
      "grid_template_columns": null,
      "grid_template_rows": null,
      "height": null,
      "justify_content": null,
      "justify_items": null,
      "left": null,
      "margin": null,
      "max_height": null,
      "max_width": null,
      "min_height": null,
      "min_width": null,
      "object_fit": null,
      "object_position": null,
      "order": null,
      "overflow": null,
      "overflow_x": null,
      "overflow_y": null,
      "padding": null,
      "right": null,
      "top": null,
      "visibility": null,
      "width": null
     }
    },
    "ce1ad7483cb244b9b499ca32d7210778": {
     "model_module": "@jupyter-widgets/controls",
     "model_module_version": "1.5.0",
     "model_name": "DescriptionStyleModel",
     "state": {
      "_model_module": "@jupyter-widgets/controls",
      "_model_module_version": "1.5.0",
      "_model_name": "DescriptionStyleModel",
      "_view_count": null,
      "_view_module": "@jupyter-widgets/base",
      "_view_module_version": "1.2.0",
      "_view_name": "StyleView",
      "description_width": ""
     }
    },
    "d8a510b6c7474dcb8a436474a66c982a": {
     "model_module": "@jupyter-widgets/base",
     "model_module_version": "1.2.0",
     "model_name": "LayoutModel",
     "state": {
      "_model_module": "@jupyter-widgets/base",
      "_model_module_version": "1.2.0",
      "_model_name": "LayoutModel",
      "_view_count": null,
      "_view_module": "@jupyter-widgets/base",
      "_view_module_version": "1.2.0",
      "_view_name": "LayoutView",
      "align_content": null,
      "align_items": null,
      "align_self": null,
      "border": null,
      "bottom": null,
      "display": null,
      "flex": null,
      "flex_flow": null,
      "grid_area": null,
      "grid_auto_columns": null,
      "grid_auto_flow": null,
      "grid_auto_rows": null,
      "grid_column": null,
      "grid_gap": null,
      "grid_row": null,
      "grid_template_areas": null,
      "grid_template_columns": null,
      "grid_template_rows": null,
      "height": null,
      "justify_content": null,
      "justify_items": null,
      "left": null,
      "margin": null,
      "max_height": null,
      "max_width": null,
      "min_height": null,
      "min_width": null,
      "object_fit": null,
      "object_position": null,
      "order": null,
      "overflow": null,
      "overflow_x": null,
      "overflow_y": null,
      "padding": null,
      "right": null,
      "top": null,
      "visibility": null,
      "width": null
     }
    },
    "d9e08e7290ac46a0b74cb273f083c2c7": {
     "model_module": "@jupyter-widgets/base",
     "model_module_version": "1.2.0",
     "model_name": "LayoutModel",
     "state": {
      "_model_module": "@jupyter-widgets/base",
      "_model_module_version": "1.2.0",
      "_model_name": "LayoutModel",
      "_view_count": null,
      "_view_module": "@jupyter-widgets/base",
      "_view_module_version": "1.2.0",
      "_view_name": "LayoutView",
      "align_content": null,
      "align_items": null,
      "align_self": null,
      "border": null,
      "bottom": null,
      "display": null,
      "flex": null,
      "flex_flow": null,
      "grid_area": null,
      "grid_auto_columns": null,
      "grid_auto_flow": null,
      "grid_auto_rows": null,
      "grid_column": null,
      "grid_gap": null,
      "grid_row": null,
      "grid_template_areas": null,
      "grid_template_columns": null,
      "grid_template_rows": null,
      "height": null,
      "justify_content": null,
      "justify_items": null,
      "left": null,
      "margin": null,
      "max_height": null,
      "max_width": null,
      "min_height": null,
      "min_width": null,
      "object_fit": null,
      "object_position": null,
      "order": null,
      "overflow": null,
      "overflow_x": null,
      "overflow_y": null,
      "padding": null,
      "right": null,
      "top": null,
      "visibility": null,
      "width": null
     }
    }
   }
  }
 },
 "nbformat": 4,
 "nbformat_minor": 1
}
