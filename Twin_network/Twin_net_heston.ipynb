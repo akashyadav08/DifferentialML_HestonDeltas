{
 "cells": [
  {
   "cell_type": "markdown",
   "metadata": {
    "id": "Qj5sIkNUsQWN"
   },
   "source": [
    "# Master Project"
   ]
  },
  {
   "cell_type": "markdown",
   "metadata": {
    "id": "C0AYwNI2tHaQ"
   },
   "source": [
    "### Set up"
   ]
  },
  {
   "cell_type": "code",
   "execution_count": 916,
   "metadata": {
    "colab": {
     "base_uri": "https://localhost:8080/"
    },
    "id": "1tpjH45FscRC",
    "outputId": "bfa80280-84ba-4a51-ff20-5d96cc75b003"
   },
   "outputs": [],
   "source": [
    "### Import libraries\n",
    "\n",
    "# The code is written in an old version of tensor flow\n",
    "import tensorflow.compat.v1 as tf \n",
    "tf.disable_v2_behavior()\n",
    "import numpy as np\n",
    "from scipy.stats import norm\n",
    "import matplotlib.pyplot as plt\n",
    "import time\n",
    "import math\n",
    "from tqdm import tqdm_notebook\n",
    "import pandas as pd\n",
    "\n",
    "# Representation of real numbers \n",
    "real_type = tf.float32"
   ]
  },
  {
   "cell_type": "markdown",
   "metadata": {},
   "source": [
    "### Data"
   ]
  },
  {
   "cell_type": "markdown",
   "metadata": {
    "id": "D-sv0ZcilNsL"
   },
   "source": [
    "**Heston Model MC samples**"
   ]
  },
  {
   "cell_type": "code",
   "execution_count": 1089,
   "metadata": {
    "id": "3W0Kw31UlMmD"
   },
   "outputs": [],
   "source": [
    "### Import Heston data\n",
    "assets = pd.read_csv('/Users/ninamcclure/Desktop/DSMMasterProject23/Data/data_020623/malliavin_asset_prices_11.csv', header = None)\n",
    "prices = pd.read_csv('/Users/ninamcclure/Desktop/DSMMasterProject23/Data/data_020623/malliavin_option_prices_11.csv', header = None)\n",
    "delta_test = pd.read_csv('/Users/ninamcclure/Desktop/DSMMasterProject23/Data/data_020623/malliavin_deltas_11.csv', header = None)\n",
    "\n",
    "assets = np.array(assets)\n",
    "prices = np.array(prices)\n",
    "delta_test = np.array(delta_test)"
   ]
  },
  {
   "cell_type": "code",
   "execution_count": 1091,
   "metadata": {},
   "outputs": [],
   "source": [
    "### Split training and test set\n",
    "from sklearn.model_selection import train_test_split\n",
    "\n",
    "X_train, X_test, y_train, y_test, dxdy_train, dxdy_test = train_test_split(assets, prices, delta_test, test_size=0.20, random_state=42)"
   ]
  },
  {
   "cell_type": "code",
   "execution_count": 1092,
   "metadata": {},
   "outputs": [
    {
     "name": "stdout",
     "output_type": "stream",
     "text": [
      "(800, 1)\n",
      "(200, 1)\n",
      "(800, 1)\n",
      "(200, 1)\n",
      "(800, 1)\n",
      "(200, 1)\n"
     ]
    }
   ],
   "source": [
    "### Check shape\n",
    "for var in [X_train, X_test, y_train, y_test, dxdy_train, dxdy_test]:\n",
    "    print(var.shape)"
   ]
  },
  {
   "cell_type": "code",
   "execution_count": 941,
   "metadata": {},
   "outputs": [
    {
     "data": {
      "text/plain": [
       "Text(0.5, 1.0, 'Heston Option Prices: Test Set')"
      ]
     },
     "execution_count": 941,
     "metadata": {},
     "output_type": "execute_result"
    },
    {
     "data": {
      "image/png": "[encoded data removed]",
      "text/plain": [
       "<Figure size 432x288 with 1 Axes>"
      ]
     },
     "metadata": {
      "needs_background": "light"
     },
     "output_type": "display_data"
    }
   ],
   "source": [
    "plt.scatter(X_test, y_test)\n",
    "plt.xlabel(\"Asset price\")\n",
    "plt.ylabel(\"Option price\")\n",
    "plt.title(\"Heston Option Prices: Test Set\")"
   ]
  },
  {
   "cell_type": "markdown",
   "metadata": {
    "id": "7ue6VWIagkgH"
   },
   "source": [
    "**TF functions**:\n",
    "\n",
    "**tf.compat.v1.get_variable()**: creates a new variable and adds it to the TensorFlow graph. It takes an initial value as input and returns a TensorFlow variable object that can be used in subsequent computations.\n",
    "\n",
    "**tf.placeholder()**: Inserts a placeholder for a tensor\n",
    "\n",
    "**tf.keras.initializers.variance_scaling()**: used to initialise weights\n",
    "\n",
    "**tf.zeros_initializer()**: initialises a tensor populated with zeros\n",
    "\n",
    "**@ operator**: performs matrix multiplication"
   ]
  },
  {
   "cell_type": "code",
   "execution_count": 756,
   "metadata": {
    "id": "5cT2SQlmsmFc"
   },
   "outputs": [],
   "source": [
    "def vanilla_net(input_dim, hidden_units, hidden_layers, seed):          \n",
    "    '''\n",
    "    Input:\n",
    "        input_dim       - dimension of inputs (1 in BS case) (data) [int]\n",
    "        hidden_units    - units in hidden layers, assumed constant [int]\n",
    "        hidden_layers   - number of hidden layers [int]\n",
    "    Output:\n",
    "        xs - inputs (asset prices)    [(n, input_dim) tf.Tensor] where n is # observations\n",
    "        ws - weights                  [list of tf.Variables of length = (hidden_layers + 1), 1st element (input_dim, hidden_units), last element (hidden_units, 1), others are (hidden_units, hidden_units)]\n",
    "        bs - biases                   [list of tf.Variables of length = (hidden_layers + 1), last element (1, ), others are (hidden_units, )] \n",
    "        zs - layer outputs            [list of tf.Tensors of length = (hidden_layers + 2), 1st element = xs, last element = ys, others are (n, hidden_units)\n",
    "        ys - prediction               [(n, 1) tf.Tensor] where n is # observations\n",
    "  '''            \n",
    "    \n",
    "    # input layer (this will be the prices)  \n",
    "    xs = tf.placeholder(shape=[None, input_dim], dtype=real_type)\n",
    "       \n",
    "    # connection weights and biases of hidden layers\n",
    "    ws = [None]\n",
    "    bs = [None]\n",
    "    # layer 0 (input) has no parameters\n",
    "    \n",
    "    # layer 0 = input layer\n",
    "    zs = [xs] # see equation 3), l=0\n",
    "    \n",
    "    # first hidden layer (index 1)\n",
    "    # weight matrix\n",
    "    ws.append(tf.get_variable(\"w1\", [input_dim, hidden_units], \\\n",
    "        initializer = tf.variance_scaling_initializer(), dtype=real_type))\n",
    "    # bias vector\n",
    "    bs.append(tf.get_variable(\"b1\", [hidden_units], \\\n",
    "        initializer = tf.zeros_initializer(), dtype=real_type))\n",
    "    # graph\n",
    "    zs.append(zs[0] @ ws[1] + bs[1]) # see equation 3), l=1\n",
    "    \n",
    "    # second hidden layer (index 2) to last (index hidden_layers)\n",
    "    for l in range(1, hidden_layers): \n",
    "        ws.append(tf.get_variable(\"w%d\"%(l+1), [hidden_units, hidden_units], \\\n",
    "            initializer = tf.variance_scaling_initializer(), dtype=real_type))\n",
    "        bs.append(tf.get_variable(\"b%d\"%(l+1), [hidden_units], \\\n",
    "            initializer = tf.zeros_initializer(), dtype=real_type))\n",
    "        # Softplus activation\n",
    "        zs.append(tf.nn.softplus(zs[l]) @ ws[l+1] + bs[l+1]) # see equation 3), l=2..L-1\n",
    "\n",
    "    # output layer (index hidden_layers+1)\n",
    "    ws.append(tf.compat.v1.get_variable(\"w\"+str(hidden_layers+1), [hidden_units, 1], \\\n",
    "            initializer = tf.variance_scaling_initializer(), dtype=real_type))\n",
    "    bs.append(tf.get_variable(\"b\"+str(hidden_layers+1), [1], \\\n",
    "        initializer = tf.zeros_initializer(), dtype=real_type))\n",
    "    # see equation 3), l=L\n",
    "    # Softplus activation\n",
    "    zs.append(tf.nn.softplus(zs[hidden_layers]) @ ws[hidden_layers+1] + bs[hidden_layers+1]) \n",
    "\n",
    "    # result = output layer\n",
    "    ys = zs[hidden_layers+1]\n",
    "    \n",
    "    # return input layer, (parameters = weight matrices and bias vectors), \n",
    "    # [all layers] and output layer\n",
    "    return xs, (ws, bs), zs, ys"
   ]
  },
  {
   "cell_type": "code",
   "execution_count": 65,
   "metadata": {
    "id": "j1SHZ6YYhWno"
   },
   "outputs": [],
   "source": [
    "# Test vanilla_net function\n",
    "tf.reset_default_graph()\n",
    "Xs, (Ws, Bs), Zs, Ys = vanilla_net(input_dim = 1, hidden_units = 20, hidden_layers = 4, seed = None)"
   ]
  },
  {
   "cell_type": "code",
   "execution_count": 66,
   "metadata": {
    "colab": {
     "base_uri": "https://localhost:8080/"
    },
    "id": "lo9HT5wED5PM",
    "outputId": "b80d58e8-2eab-4f45-f57f-63e6326cecc2"
   },
   "outputs": [
    {
     "name": "stdout",
     "output_type": "stream",
     "text": [
      "(?, 1)\n"
     ]
    }
   ],
   "source": [
    "# Input shape\n",
    "print(Xs.shape)"
   ]
  },
  {
   "cell_type": "code",
   "execution_count": 67,
   "metadata": {
    "colab": {
     "base_uri": "https://localhost:8080/"
    },
    "id": "T1ieAaT9Jb15",
    "outputId": "796c85af-c682-42c2-fb49-251ef7547f0f"
   },
   "outputs": [
    {
     "data": {
      "text/plain": [
       "[None,\n",
       " <tf.Variable 'w1:0' shape=(1, 20) dtype=float32_ref>,\n",
       " <tf.Variable 'w2:0' shape=(20, 20) dtype=float32_ref>,\n",
       " <tf.Variable 'w3:0' shape=(20, 20) dtype=float32_ref>,\n",
       " <tf.Variable 'w4:0' shape=(20, 20) dtype=float32_ref>,\n",
       " <tf.Variable 'w5:0' shape=(20, 1) dtype=float32_ref>]"
      ]
     },
     "execution_count": 67,
     "metadata": {},
     "output_type": "execute_result"
    }
   ],
   "source": [
    "# Weights dimension\n",
    "Ws"
   ]
  },
  {
   "cell_type": "code",
   "execution_count": 68,
   "metadata": {
    "colab": {
     "base_uri": "https://localhost:8080/"
    },
    "id": "sKsHSRerK3pM",
    "outputId": "87f4236a-6e7d-4a8a-e38a-9ee034b8e34e"
   },
   "outputs": [
    {
     "data": {
      "text/plain": [
       "[None,\n",
       " <tf.Variable 'b1:0' shape=(20,) dtype=float32_ref>,\n",
       " <tf.Variable 'b2:0' shape=(20,) dtype=float32_ref>,\n",
       " <tf.Variable 'b3:0' shape=(20,) dtype=float32_ref>,\n",
       " <tf.Variable 'b4:0' shape=(20,) dtype=float32_ref>,\n",
       " <tf.Variable 'b5:0' shape=(1,) dtype=float32_ref>]"
      ]
     },
     "execution_count": 68,
     "metadata": {},
     "output_type": "execute_result"
    }
   ],
   "source": [
    "# Biases dimension\n",
    "Bs"
   ]
  },
  {
   "cell_type": "code",
   "execution_count": 69,
   "metadata": {
    "colab": {
     "base_uri": "https://localhost:8080/"
    },
    "id": "ZcBDkVCLHZht",
    "outputId": "a6a64cff-d835-4c54-d571-7c3e8be9d8c7"
   },
   "outputs": [
    {
     "data": {
      "text/plain": [
       "[<tf.Tensor 'Placeholder:0' shape=(?, 1) dtype=float32>,\n",
       " <tf.Tensor 'add:0' shape=(?, 20) dtype=float32>,\n",
       " <tf.Tensor 'add_1:0' shape=(?, 20) dtype=float32>,\n",
       " <tf.Tensor 'add_2:0' shape=(?, 20) dtype=float32>,\n",
       " <tf.Tensor 'add_3:0' shape=(?, 20) dtype=float32>,\n",
       " <tf.Tensor 'add_4:0' shape=(?, 1) dtype=float32>]"
      ]
     },
     "execution_count": 69,
     "metadata": {},
     "output_type": "execute_result"
    }
   ],
   "source": [
    "# Hidden layers shape\n",
    "Zs"
   ]
  },
  {
   "cell_type": "code",
   "execution_count": 70,
   "metadata": {
    "colab": {
     "base_uri": "https://localhost:8080/"
    },
    "id": "rxk40NyRIAZN",
    "outputId": "bbd16694-e81a-440e-b563-e9ce40d10f1d"
   },
   "outputs": [
    {
     "name": "stdout",
     "output_type": "stream",
     "text": [
      "(?, 1)\n"
     ]
    }
   ],
   "source": [
    "# Output shape\n",
    "print(Ys.shape)"
   ]
  },
  {
   "cell_type": "markdown",
   "metadata": {
    "id": "zr8ZgvqgtyNp"
   },
   "source": [
    "**Back-prop and twin net**"
   ]
  },
  {
   "cell_type": "code",
   "execution_count": 132,
   "metadata": {
    "id": "CWUo4p_OtsDa"
   },
   "outputs": [],
   "source": [
    "# compute d_output/d_inputs by (explicit) backprop in vanilla net\n",
    "def backprop(weights_and_biases, zs):                \n",
    "    '''\n",
    "      Input:\n",
    "          weights_and_biases - 2nd output of vanilla_net(), input together as list\n",
    "          zs                 - 3rd output of vanilla_net() \n",
    "      Output:\n",
    "          xbar - predicted differentials   [(n, 1)) tf.Tensor] where n is # observations\n",
    "    '''       \n",
    "    ws, bs = weights_and_biases\n",
    "    L = len(zs) - 1\n",
    "    \n",
    "    # backpropagation, see equation (4), l=L..1\n",
    "    zbar = tf.ones_like(zs[L]) # zbar_L = 1\n",
    "    for l in range(L-1, 0, -1):\n",
    "        # Softplus activation\n",
    "        zbar = (zbar @ tf.transpose(ws[l+1])) * tf.nn.sigmoid(zs[l]) # see equation (4)       \n",
    "    # for l=0\n",
    "    zbar = zbar @ tf.transpose(ws[1]) # see equation (4)\n",
    "    \n",
    "    xbar = zbar # xbar = zbar_0\n",
    "    \n",
    "    # dz[L] / dx\n",
    "    return xbar    "
   ]
  },
  {
   "cell_type": "code",
   "execution_count": 45,
   "metadata": {
    "colab": {
     "base_uri": "https://localhost:8080/"
    },
    "id": "U2ouchY5E2N5",
    "outputId": "21cb69e0-4320-45fd-92eb-366a761ccc1a"
   },
   "outputs": [
    {
     "name": "stdout",
     "output_type": "stream",
     "text": [
      "Tensor(\"add_3:0\", shape=(?, 20), dtype=float32)\n",
      "Tensor(\"ones_like_3:0\", shape=(?, 1), dtype=float32)\n",
      "Tensor(\"add_2:0\", shape=(?, 20), dtype=float32)\n",
      "Tensor(\"mul_12:0\", shape=(?, 20), dtype=float32)\n",
      "Tensor(\"add_1:0\", shape=(?, 20), dtype=float32)\n",
      "Tensor(\"mul_13:0\", shape=(?, 20), dtype=float32)\n",
      "Tensor(\"add:0\", shape=(?, 20), dtype=float32)\n",
      "Tensor(\"mul_14:0\", shape=(?, 20), dtype=float32)\n"
     ]
    }
   ],
   "source": [
    "# Test backprop function\n",
    "Xbar = backprop((Ws, Bs), Zs)"
   ]
  },
  {
   "cell_type": "code",
   "execution_count": 46,
   "metadata": {
    "colab": {
     "base_uri": "https://localhost:8080/"
    },
    "id": "qUbN7mq_aqR4",
    "outputId": "bb5f48c4-78fd-4aa2-bb8a-63842ed9b657"
   },
   "outputs": [
    {
     "data": {
      "text/plain": [
       "<tf.Tensor 'matmul_24:0' shape=(?, 1) dtype=float32>"
      ]
     },
     "execution_count": 46,
     "metadata": {},
     "output_type": "execute_result"
    }
   ],
   "source": [
    "# Shape of output\n",
    "Xbar"
   ]
  },
  {
   "cell_type": "code",
   "execution_count": 47,
   "metadata": {
    "id": "jlymFYKLaa3_"
   },
   "outputs": [],
   "source": [
    "# combined graph for valuation and differentiation\n",
    "def twin_net(input_dim, hidden_units, hidden_layers, seed):\n",
    "    '''\n",
    "    This function combines the vanilla_net() and backprop() functions to build the twin network.\n",
    "    \n",
    "    Input:\n",
    "        input_dim       - dimension of inputs (1 in BS case) (data) [int]\n",
    "        hidden_units    - units in hidden layers, assumed constant [int]\n",
    "        hidden_layers   - number of hidden layers [int]\n",
    "        seed            - seed for reproducibility [int or None]\n",
    "    Output:\n",
    "        xs - inputs  (asset prices)             [(n, input_dim) tf.Tensor] where n is # observations\n",
    "        ys - value prediction (option prices)   [(n, 1) tf.Tensor]\n",
    "        xbar - predicted differentials          [(n, 1)) tf.Tensor] \n",
    "\n",
    "  '''     \n",
    "    # first, build the feedforward net\n",
    "    xs, (ws, bs), zs, ys = vanilla_net(input_dim, hidden_units, hidden_layers, seed)\n",
    "    \n",
    "    # then, build its differentiation by backprop\n",
    "    xbar = backprop((ws, bs), zs)\n",
    "    \n",
    "    # return input x, output y and differentials d_y/d_z\n",
    "    return xs, ys, xbar"
   ]
  },
  {
   "cell_type": "code",
   "execution_count": 48,
   "metadata": {
    "colab": {
     "base_uri": "https://localhost:8080/"
    },
    "id": "KpuRWw_In6A9",
    "outputId": "e249decf-9191-41f2-a65b-5834e660f062"
   },
   "outputs": [
    {
     "name": "stdout",
     "output_type": "stream",
     "text": [
      "Tensor(\"add_3:0\", shape=(?, 20), dtype=float32)\n",
      "Tensor(\"ones_like:0\", shape=(?, 1), dtype=float32)\n",
      "Tensor(\"add_2:0\", shape=(?, 20), dtype=float32)\n",
      "Tensor(\"mul:0\", shape=(?, 20), dtype=float32)\n",
      "Tensor(\"add_1:0\", shape=(?, 20), dtype=float32)\n",
      "Tensor(\"mul_1:0\", shape=(?, 20), dtype=float32)\n",
      "Tensor(\"add:0\", shape=(?, 20), dtype=float32)\n",
      "Tensor(\"mul_2:0\", shape=(?, 20), dtype=float32)\n"
     ]
    }
   ],
   "source": [
    "# Test twin_net function\n",
    "tf.reset_default_graph()\n",
    "Xs, Ys, Xbar = twin_net(input_dim = 10, hidden_units = 20, hidden_layers = 4, seed = None)"
   ]
  },
  {
   "cell_type": "code",
   "execution_count": 49,
   "metadata": {
    "colab": {
     "base_uri": "https://localhost:8080/"
    },
    "id": "sKHEBoTodPAm",
    "outputId": "2c4facf2-e0bd-4d69-91ac-02d59b16422d"
   },
   "outputs": [
    {
     "name": "stdout",
     "output_type": "stream",
     "text": [
      "Tensor(\"Placeholder:0\", shape=(?, 10), dtype=float32) Tensor(\"add_4:0\", shape=(?, 1), dtype=float32) Tensor(\"matmul_9:0\", shape=(?, 10), dtype=float32)\n"
     ]
    }
   ],
   "source": [
    "# Inspect output\n",
    "print(Xs, Ys, Xbar)"
   ]
  },
  {
   "cell_type": "markdown",
   "metadata": {
    "id": "M9bWbSO4BNfI"
   },
   "source": [
    "***Training***"
   ]
  },
  {
   "cell_type": "code",
   "execution_count": 48,
   "metadata": {
    "id": "OwtF5evcExqV"
   },
   "outputs": [],
   "source": [
    "def vanilla_training_graph(input_dim, hidden_units, hidden_layers, seed):\n",
    "    '''\n",
    "    This function builds the 'vanilla' training graph, where differential labels are NOT included\n",
    "    It combines the vanilla_net() and backprop() functions to build the twin network, then defines the loss function, optimiser and learning rate.\n",
    "    Loss is MSE and Adam is used as the optimiser.\n",
    "   \n",
    "    Input:\n",
    "        input_dim       - dimension of inputs (1 in BS case) (data) [int]\n",
    "        hidden_units    - units in hidden layers, assumed constant [int]\n",
    "        hidden_layers   - number of hidden layers [int]\n",
    "        seed            - seed for reproducibility [int or None]\n",
    "    Output:\n",
    "        xs                       - inputs (asset prices)                [(n, input_dim) tf.Tensor] where n is # observations\n",
    "        labels                   - value targets (option prices)        [(n, 1) tf.Tensor]\n",
    "        predictions              - value predictions (option prices)    [(n, 1) tf.Tensor]\n",
    "        derivs_predictions       - differential predictions (deltas)    [(n, input_dim) tf.Tensor]\n",
    "        learning_rate            - desired learning rate                ???\n",
    "        loss                     - loss function\n",
    "        optimizer.minimize(loss) -                                      [tf.Operation]\n",
    "  '''     \n",
    "    # net\n",
    "    inputs, weights_and_biases, layers, predictions = \\\n",
    "        vanilla_net(input_dim, hidden_units, hidden_layers, seed)\n",
    "    \n",
    "    # backprop even though we are not USING differentials for training\n",
    "    # we still need them to predict derivatives dy_dx \n",
    "    derivs_predictions = backprop(weights_and_biases, layers)\n",
    "    \n",
    "    # placeholder for labels\n",
    "    labels = tf.compat.v1.placeholder(shape=[None, 1], dtype=real_type)\n",
    "    \n",
    "    # loss \n",
    "    loss = tf.losses.mean_squared_error(labels, predictions)\n",
    "    \n",
    "    # optimizer\n",
    "    learning_rate = tf.compat.v1.placeholder(real_type)\n",
    "    optimizer = tf.compat.v1.train.AdamOptimizer(learning_rate = learning_rate)\n",
    "    \n",
    "    # return all necessary \n",
    "    return inputs, labels, predictions, derivs_predictions, learning_rate, loss, optimizer.minimize(loss)"
   ]
  },
  {
   "cell_type": "code",
   "execution_count": 51,
   "metadata": {
    "colab": {
     "base_uri": "https://localhost:8080/"
    },
    "id": "mTp4nZMRFevN",
    "outputId": "b94dd973-c1ca-4216-de01-188ddf35f571"
   },
   "outputs": [
    {
     "name": "stdout",
     "output_type": "stream",
     "text": [
      "Tensor(\"add_3:0\", shape=(?, 20), dtype=float32)\n",
      "Tensor(\"ones_like:0\", shape=(?, 1), dtype=float32)\n",
      "Tensor(\"add_2:0\", shape=(?, 20), dtype=float32)\n",
      "Tensor(\"mul:0\", shape=(?, 20), dtype=float32)\n",
      "Tensor(\"add_1:0\", shape=(?, 20), dtype=float32)\n",
      "Tensor(\"mul_1:0\", shape=(?, 20), dtype=float32)\n",
      "Tensor(\"add:0\", shape=(?, 20), dtype=float32)\n",
      "Tensor(\"mul_2:0\", shape=(?, 20), dtype=float32)\n"
     ]
    }
   ],
   "source": [
    "# Test vanilla_training_graph\n",
    "tf.reset_default_graph()\n",
    "Inputs, Labels, Preds, Derivs_preds, L_rate, Loss, Optimizer = vanilla_training_graph(input_dim = 2, hidden_units = 20, hidden_layers = 4, seed = None)"
   ]
  },
  {
   "cell_type": "markdown",
   "metadata": {},
   "source": [
    "Dimensions help: https://psrivasin.medium.com/getting-matrix-dimensions-right-in-neural-networks-3186af38fe65"
   ]
  },
  {
   "cell_type": "code",
   "execution_count": 87,
   "metadata": {},
   "outputs": [
    {
     "name": "stdout",
     "output_type": "stream",
     "text": [
      "(3, 1) (1, 4) (4,)\n"
     ]
    }
   ],
   "source": [
    "### Making sense of network dimensions\n",
    "x = np.zeros((3,1))\n",
    "w = np.ones((1,4))\n",
    "\n",
    "b = np.array([1,2,3,4])\n",
    "\n",
    "print(x.shape, w.shape, b.shape)"
   ]
  },
  {
   "cell_type": "code",
   "execution_count": 93,
   "metadata": {},
   "outputs": [
    {
     "name": "stdout",
     "output_type": "stream",
     "text": [
      "(3, 4)\n"
     ]
    },
    {
     "data": {
      "text/plain": [
       "array([[1., 2., 3., 4.],\n",
       "       [1., 2., 3., 4.],\n",
       "       [1., 2., 3., 4.]])"
      ]
     },
     "execution_count": 93,
     "metadata": {},
     "output_type": "execute_result"
    }
   ],
   "source": [
    "xw = x.dot(w)\n",
    "print(xw.shape)\n",
    "xw + b"
   ]
  },
  {
   "cell_type": "code",
   "execution_count": 52,
   "metadata": {
    "colab": {
     "base_uri": "https://localhost:8080/"
    },
    "id": "HVFDzc09Wzzz",
    "outputId": "d35e6c65-ba6f-48c7-bf7e-a1ec5b786357"
   },
   "outputs": [
    {
     "name": "stdout",
     "output_type": "stream",
     "text": [
      "Tensor(\"Placeholder:0\", shape=(?, 2), dtype=float32) Tensor(\"Placeholder_1:0\", shape=(?, 1), dtype=float32) Tensor(\"add_4:0\", shape=(?, 1), dtype=float32) Tensor(\"matmul_9:0\", shape=(?, 2), dtype=float32)\n"
     ]
    }
   ],
   "source": [
    "# Inspect output\n",
    "print(Inputs, Labels, Preds, Derivs_preds)"
   ]
  },
  {
   "cell_type": "code",
   "execution_count": 53,
   "metadata": {
    "colab": {
     "base_uri": "https://localhost:8080/"
    },
    "id": "prVMwNQbgb8y",
    "outputId": "2eb5d695-a099-4ee0-cafe-9d88afc44617"
   },
   "outputs": [
    {
     "data": {
      "text/plain": [
       "(<tf.Tensor 'Placeholder_2:0' shape=<unknown> dtype=float32>,\n",
       " <tf.Tensor 'mean_squared_error/value:0' shape=() dtype=float32>,\n",
       " <tf.Operation 'Adam' type=NoOp>)"
      ]
     },
     "execution_count": 53,
     "metadata": {},
     "output_type": "execute_result"
    }
   ],
   "source": [
    "# Inspect output\n",
    "L_rate, Loss, Optimizer"
   ]
  },
  {
   "cell_type": "markdown",
   "metadata": {
    "id": "-f9g1WU8mkvh"
   },
   "source": [
    "**session**:  In TensorFlow, a session is an environment for running computational graphs. It encapsulates the state of the TensorFlow runtime and allows you to execute operations and evaluate tensors. When you create and define a computational graph in TensorFlow, it represents the mathematical operations and relationships between tensors. However, just defining the graph does not execute any computations. To perform computations and evaluate tensors within the graph, you need to create a session."
   ]
  },
  {
   "cell_type": "code",
   "execution_count": 593,
   "metadata": {
    "id": "yC7Y8lVz20gA"
   },
   "outputs": [],
   "source": [
    "# training loop for one epoch\n",
    "def vanilla_train_one_epoch(# training graph from vanilla_training_graph()\n",
    "                            inputs, labels, lr_placeholder, minimizer,   \n",
    "                            # training set \n",
    "                            x_train, y_train,                           \n",
    "                            # params, left to client code\n",
    "                            learning_rate, batch_size, session, loss):        \n",
    "    '''\n",
    "    This function performs the training loop for one epoch by iterating over mini-batches of the training set\n",
    "    For each mini-batch, it runs the optimizer to minimize the loss function using the current mini-batch. \n",
    "    The loop continues until all mini-batches have been processed for the given epoch.\n",
    "\n",
    "    Input:\n",
    "        inputs          - placeholder for input data \n",
    "        labels          - placeholder for labels/targets \n",
    "        lr_placeholder  - placeholder for learning rate\n",
    "        minimizer       - optimizer used for minimizing the loss\n",
    "        x_train         - training input data (asset prices)\n",
    "        y_train         - training labels/targets (option prices)\n",
    "        learning_rate   - Learning rate for optimization\n",
    "        batch_size      - Size of mini-batches                           [int]\n",
    "        session         - TensorFlow session for running computations\n",
    "    Output:\n",
    "        None\n",
    "  ''' \n",
    "\n",
    "    # Define dimensions of the training set according to data inputs\n",
    "    m, n = x_train.shape\n",
    "    \n",
    "    #### Minimization loop over mini-batches\n",
    "    first = 0\n",
    "    # For a given batch size and # of observations determine how many loops to run\n",
    "    last = min(batch_size, m)\n",
    "    while first < m:\n",
    "        # session.run() call executes the minimizer operation with the given mini-batch of input data, labels, and learning rate.\n",
    "        session.run(minimizer, feed_dict = {\n",
    "            inputs: x_train[first:last], \n",
    "            labels: y_train[first:last],\n",
    "            lr_placeholder: learning_rate\n",
    "        })\n",
    "        # Update the indicies for the next mini batch\n",
    "        first = last\n",
    "        last = min(first + batch_size, m)\n",
    "        \n",
    "    # Compute training loss\n",
    "    train_loss = session.run(loss, feed_dict={\n",
    "        inputs: x_train,\n",
    "        labels: y_train\n",
    "    })\n",
    "   \n",
    "    return train_loss\n",
    "    "
   ]
  },
  {
   "cell_type": "code",
   "execution_count": 50,
   "metadata": {
    "id": "_NmkE6yqBM51"
   },
   "outputs": [],
   "source": [
    "# Define differential training graph (almost same as vanilla training graph)\n",
    "def diff_training_graph(input_dim, hidden_units, hidden_layers, seed, alpha, beta, lambda_j):\n",
    "    '''\n",
    "    This function builds the differential training graph, where differential labels ARE included.\n",
    "    It combines the twin_net() and backprop() functions to build the twin network, then defines the loss function, optimiser and learning rate.  \n",
    "    loss = alpha * MSE(values) + beta * MSE(greeks, lambda_j), to balance relative weight of values and differentials (see appendix of paper).\n",
    "    Adam is used as the optimiser.\n",
    "    \n",
    "    Input:\n",
    "        input_dim       - dimension of inputs (1 in BS case) (data) [int]\n",
    "        hidden_units    - units in hidden layers, assumed constant [int]\n",
    "        hidden_layers   - number of hidden layers [int]\n",
    "        seed            - seed for reproducibility [int or None]\n",
    "        alpha           - weight on MSE for prediction values in loss function\n",
    "        beta            - weight on MSE for prediction differentials in loss function (beta = 1 - alpha)\n",
    "        lambda_j        -  (see normalize_data() function)\n",
    "    Output:\n",
    "        xs                       - inputs (asset prices)                [(n, input_dim) tf.Tensor] where n is # observations\n",
    "        labels                   - value targets (option prices)        [(n, 1) tf.Tensor]\n",
    "        predictions              - value predictions (option prices)    [(n, 1) tf.Tensor]\n",
    "        derivs_predictions       - differential predictions (deltas)    [(n, input_dim) tf.Tensor]\n",
    "        learning_rate            - desired learning rate                \n",
    "        loss                     - Loss function\n",
    "        optimizer.minimize(loss) -                                      [tf.Operation]\n",
    "    '''     \n",
    "    \n",
    "    # net, now a twin \n",
    "    inputs, predictions, derivs_predictions = twin_net(input_dim, hidden_units, hidden_layers, seed)\n",
    "    \n",
    "    # placeholder for labels, now also derivs labels\n",
    "    labels = tf.compat.v1.placeholder(shape=[None, 1], dtype=real_type)\n",
    "    derivs_labels = tf.compat.v1.placeholder(shape=[None, derivs_predictions.shape[1]], dtype=real_type)\n",
    "    \n",
    "    # loss, now combined values + derivatives\n",
    "    loss = alpha * tf.losses.mean_squared_error(labels, predictions) \\\n",
    "    + beta * tf. losses.mean_squared_error(derivs_labels * lambda_j, derivs_predictions * lambda_j)\n",
    "    \n",
    "    # optimizer, as vanilla\n",
    "    learning_rate = tf.compat.v1.placeholder(real_type)\n",
    "    optimizer = tf.compat.v1.train.AdamOptimizer(learning_rate = learning_rate)\n",
    "    \n",
    "    # return all necessary tensors, including derivatives\n",
    "    # predictions and labels\n",
    "    return inputs, labels, derivs_labels, predictions, derivs_predictions, \\\n",
    "            learning_rate, loss, optimizer.minimize(loss)\n",
    "\n"
   ]
  },
  {
   "cell_type": "code",
   "execution_count": 250,
   "metadata": {
    "id": "ZgfO1ERMuaRV"
   },
   "outputs": [],
   "source": [
    "# Define training loop for one epoch (same as vanilla_train_one_epoch() but with differential labels included)\n",
    "def diff_train_one_epoch(inputs, labels, derivs_labels, lr_placeholder, minimizer, x_train, y_train, \n",
    "                         dydx_train, learning_rate, batch_size, session, loss):    \n",
    "    '''\n",
    "    This function performs the training loop for one epoch by iterating over mini-batches of the training set\n",
    "    For each mini-batch, it runs the optimizer to minimize the loss function using the current mini-batch. \n",
    "    The loop continues until all mini-batches have been processed for the given epoch.\n",
    "\n",
    "    Input:\n",
    "        inputs          - placeholder for input data \n",
    "        labels          - placeholder for labels/targets \n",
    "        derivs_labels   - placeholder for differential labels\n",
    "        lr_placeholder  - placeholder for learning rate\n",
    "        minimizer       - optimizer used for minimizing the loss\n",
    "        x_train         - training input data (asset prices)\n",
    "        y_train         - training labels/targets (option prices)\n",
    "        learning_rate   - Learning rate for optimization\n",
    "        batch_size      - Size of mini-batches                           [int]\n",
    "        session         - TensorFlow session for running computations\n",
    "    Output:\n",
    "        None\n",
    "  ''' \n",
    "    # Define dimensions of the training set according to data inputs\n",
    "    m, n = x_train.shape\n",
    "    \n",
    "    \n",
    "    #### Minimization loop over mini-batches, now with Greeks\n",
    "    first = 0\n",
    "    # For a given batch size and # of observations determine how many loops to run\n",
    "    last = min(batch_size, m)\n",
    "    while first < m:\n",
    "        # session.run() call executes the minimizer operation with the given mini-batch of input data, labels, and learning rate.\n",
    "        session.run(minimizer, feed_dict = {\n",
    "            inputs: x_train[first:last], \n",
    "            labels: y_train[first:last],\n",
    "            derivs_labels: dydx_train[first:last],\n",
    "            lr_placeholder: learning_rate\n",
    "        })\n",
    "        # Update the indicies for the next mini batch\n",
    "        first = last\n",
    "        last = min(first + batch_size, m)\n",
    "    \n",
    "    # Compute training loss\n",
    "    train_loss = session.run(loss, feed_dict={\n",
    "        inputs: x_train,\n",
    "        labels: y_train,\n",
    "        derivs_labels: dydx_train\n",
    "    })\n",
    "        \n",
    "    return train_loss\n",
    " \n",
    "           \n",
    "        "
   ]
  },
  {
   "cell_type": "markdown",
   "metadata": {
    "id": "AAdHAWL86MSY"
   },
   "source": [
    "**Callbacks:**\n",
    "A callback is a function that is called repeatedly during a process (for example the training of a neural network) and which generally serves to validate or correct certain behaviors. In machine learning, we can use callbacks to define what happens before, during, or at the end of a training epoch.\n",
    "See: https://towardsdatascience.com/callbacks-in-neural-networks-b0b006df7626"
   ]
  },
  {
   "cell_type": "code",
   "execution_count": 584,
   "metadata": {
    "id": "xu60P9HdEC4-"
   },
   "outputs": [],
   "source": [
    "def train(description,\n",
    "          # neural approximator\n",
    "          approximator,              \n",
    "          # training params\n",
    "          reinit=True, \n",
    "          epochs=100, \n",
    "          # one-cycle learning rate schedule\n",
    "          learning_rate_schedule= [    (0.0, 1.0e-8), \\\n",
    "                                      (0.2, 0.1),    \\\n",
    "                                      (0.6, 0.01),   \\\n",
    "                                      (0.9, 1.0e-6), \\\n",
    "                                      (1.0, 1.0e-8)  ], \n",
    "          batches_per_epoch=16,\n",
    "          min_batch_size=256,\n",
    "          # callback function and when to call it\n",
    "          callback=None,           # arbitrary callable\n",
    "          callback_epochs=[]):     # call after what epochs, e.g. [5, 20]\n",
    "    '''\n",
    "    This function performs\n",
    "\n",
    "    Input:\n",
    "        description            - \n",
    "        approximator           - \n",
    "        reinit                 -\n",
    "        epochs                 - number of epochs desired  [int]\n",
    "        learning_rate_schedule - learning rate schedule    [list of 2 element tuples] \n",
    "                                                            - first element is epoch number on 0-1 scale\n",
    "                                                            - second element is desired learning rate at that epoch\n",
    "                                                            - intermediate values are linearly interpolated\n",
    "                                                            - see following code cell for visualisation of default learning schedule\n",
    "        batches_per_epoch      - number of mini batches per epoch [int]\n",
    "        callback               - callback function to deploy (default = None) - can ignore\n",
    "        callback_epochs=[]     - after which epochs should the callback function be called\n",
    "    Output:\n",
    "        None\n",
    "  ''' \n",
    "          \n",
    "    # batching - m is the number of observations\n",
    "    batch_size = max(min_batch_size, approximator.m // batches_per_epoch)\n",
    "    \n",
    "    # one-cycle learning rate sechedule\n",
    "    lr_schedule_epochs, lr_schedule_rates = zip(*learning_rate_schedule)\n",
    "    \n",
    "    # Create the learning rate schedule (exponential decay)\n",
    "    learning_rate_schedule = tf.keras.optimizers.schedules.ExponentialDecay(\n",
    "            initial_learning_rate = 0.1, decay_steps = -100, decay_rate = 100)\n",
    "\n",
    "    # Generate a tensor of 100 learning rates using TensorFlow operations\n",
    "    learning_rates = learning_rate_schedule(tf.range(epochs, dtype=tf.float32))\n",
    "\n",
    "    # Run a TensorFlow session to evaluate the learning rates\n",
    "    with tf.Session() as sess:\n",
    "        learning_rates_array = sess.run(learning_rates)\n",
    "    \n",
    "    # reset\n",
    "    if reinit:\n",
    "        approximator.session.run(approximator.initializer)\n",
    "    \n",
    "    # callback on epoch 0, if requested\n",
    "    if callback and 0 in callback_epochs:\n",
    "        callback(approximator, 0)\n",
    "    \n",
    "    diff_train_loss = []\n",
    "    std_train_loss = []\n",
    "    \n",
    "    # loop on epochs, with progress bar (tqdm)\n",
    "    for epoch in tqdm_notebook(range(epochs), desc=description):\n",
    "        \n",
    "        # interpolate learning rate in cycle\n",
    "        #learning_rate = np.interp(epoch / epochs, lr_schedule_epochs, lr_schedule_rates)\n",
    "        \n",
    "        # Get the current learning rate from the schedule\n",
    "        learning_rate = learning_rates_array[epoch]\n",
    "               \n",
    "        # train one epoch\n",
    "        \n",
    "        if not approximator.differential:\n",
    "        \n",
    "            ls = vanilla_train_one_epoch(\n",
    "                approximator.inputs, \n",
    "                approximator.labels, \n",
    "                approximator.learning_rate, \n",
    "                approximator.minimizer, \n",
    "                approximator.x, \n",
    "                approximator.y, \n",
    "                learning_rate, \n",
    "                batch_size, \n",
    "                approximator.session,\n",
    "                approximator.loss)\n",
    "            \n",
    "            std_train_loss = std_train_loss + [ls]\n",
    "        \n",
    "        else:\n",
    "        \n",
    "            l = diff_train_one_epoch(\n",
    "                approximator.inputs, \n",
    "                approximator.labels, \n",
    "                approximator.derivs_labels,\n",
    "                approximator.learning_rate, \n",
    "                approximator.minimizer, \n",
    "                approximator.x, \n",
    "                approximator.y, \n",
    "                approximator.dy_dx,\n",
    "                learning_rate, \n",
    "                batch_size, \n",
    "                approximator.session,\n",
    "                approximator.loss)\n",
    "        \n",
    "            diff_train_loss = diff_train_loss + [l]\n",
    "        \n",
    "        # callback, if requested\n",
    "        if callback and epoch in callback_epochs:\n",
    "            callback(approximator, epoch)\n",
    "\n",
    "    # final callback, if requested\n",
    "    if callback and epochs in callback_epochs:\n",
    "        callback(approximator, epochs)     \n",
    "        \n",
    "    if approximator.differential:\n",
    "        return(diff_train_loss)\n",
    "    else: \n",
    "        return(std_train_loss)\n",
    "    \n",
    "    \n",
    "    "
   ]
  },
  {
   "cell_type": "code",
   "execution_count": 1107,
   "metadata": {
    "colab": {
     "base_uri": "https://localhost:8080/",
     "height": 489
    },
    "id": "3DdfDFra7SR3",
    "outputId": "b980265e-8471-414d-fa2a-9eafdb9ce959"
   },
   "outputs": [
    {
     "name": "stdout",
     "output_type": "stream",
     "text": [
      "<class 'numpy.float32'>\n"
     ]
    },
    {
     "data": {
      "text/plain": [
       "Text(0.5, 1.0, 'Learning Rate Schedule')"
      ]
     },
     "execution_count": 1107,
     "metadata": {},
     "output_type": "execute_result"
    },
    {
     "data": {
      "image/png": "[encoded data removed]",
      "text/plain": [
       "<Figure size 432x288 with 1 Axes>"
      ]
     },
     "metadata": {
      "needs_background": "light"
     },
     "output_type": "display_data"
    }
   ],
   "source": [
    "# Set learning rate schedule\n",
    "#learning_rate_schedule = [ (0.0, 1.0e-8), (0.2, 0.1), (0.6, 0.01), (0.9, 1.0e-6), (1.0, 1.0e-8)]\n",
    "\n",
    "#lr_schedule_epochs, lr_schedule_rates = zip(*learning_rate_schedule)\n",
    "\n",
    "epochs = 150\n",
    "\n",
    "learning_rates = np.zeros(epochs)\n",
    "\n",
    "for epoch in range(0, epochs):\n",
    "  learning_rates[epoch] = np.interp(epoch / epochs, lr_schedule_epochs, lr_schedule_rates)\n",
    "\n",
    "learning_rate_schedule = tf.keras.optimizers.schedules.ExponentialDecay(\n",
    "        initial_learning_rate = 0.1, decay_steps = -100, decay_rate = 100)\n",
    "\n",
    "# Generate a tensor of 150 learning rates using TensorFlow operations\n",
    "num_learning_rates = 150\n",
    "learning_rate_range = tf.range(num_learning_rates, dtype=tf.float32)\n",
    "learning_rates = learning_rate_schedule(learning_rate_range)\n",
    "\n",
    "# Run a TensorFlow session to evaluate the learning rates\n",
    "with tf.Session() as sess:\n",
    "    learning_rates_array = sess.run(learning_rates)\n",
    "\n",
    "print(type(learning_rates_array[0]))\n",
    "    \n",
    "learning_rates_array\n",
    "plt.plot(range(0,150), learning_rates_array) \n",
    "plt.xlabel('Epoch')\n",
    "plt.ylabel('Learning rate')\n",
    "plt.title('Learning Rate Schedule')"
   ]
  },
  {
   "cell_type": "markdown",
   "metadata": {
    "id": "YDMZ2nOUSNEU"
   },
   "source": [
    "***Normalise data***"
   ]
  },
  {
   "cell_type": "code",
   "execution_count": 302,
   "metadata": {
    "id": "2AK3Y8ZIEnRM"
   },
   "outputs": [],
   "source": [
    "# basic data preparation\n",
    "epsilon = 1.0e-08\n",
    "def normalize_data(x_raw, y_raw, dydx_raw=None, crop=None):\n",
    "    '''\n",
    "    Input:\n",
    "        x_raw      - raw inputs (asset prices)\n",
    "        y_raw      - raw labels (option prices)\n",
    "        dydx_raw   - raw differential labels (deltas)\n",
    "        crop       - for cropping the data set (not important, ignore this)\n",
    "    Output:\n",
    "        x_mean     - mean of x_raw (asset prices)\n",
    "        x_std      - standard deviation of x_raw (asset prices)\n",
    "        x          - normalised asset prices (mean = 0, std = 1)\n",
    "        y_mean     - mean of y_raw (option prices)\n",
    "        y_std      - standard deviation of y_raw (option prices)\n",
    "        y          - normalised option prices (mean = 0, std = 1)\n",
    "        dy_dx      - 'normalised' differentials (deltas) (dy_dx = dydx_raw / y_std * x_std)\n",
    "        lambda_j   - weight for Greek j in cost function (to keep magnitude of all the components of the cost function similar) irrelevant if we only have deltas, i.e., j = 1\n",
    "        \n",
    "  ''' \n",
    "    print(x_raw.shape, y_raw.shape)\n",
    "    # crop dataset, otherwise leave as is if crop = None\n",
    "    m = crop if crop is not None else x_raw.shape[0]\n",
    "    x_cropped = x_raw[:m]\n",
    "    y_cropped = y_raw[:m]\n",
    "    dycropped_dxcropped = dydx_raw[:m] if dydx_raw is not None else None\n",
    "    \n",
    "    # normalize dataset\n",
    "    x_mean = x_cropped.mean(axis=0)\n",
    "    x_std = x_cropped.std(axis=0) + epsilon\n",
    "    x = (x_cropped- x_mean) / x_std\n",
    "    y_mean = y_cropped.mean(axis=0)\n",
    "    y_std = y_cropped.std(axis=0) + epsilon\n",
    "    y = (y_cropped-y_mean) / y_std\n",
    "    \n",
    "    # normalize derivatives too\n",
    "    if dycropped_dxcropped is not None:\n",
    "        dy_dx = dycropped_dxcropped / y_std * x_std \n",
    "        # weights of derivatives in cost function = (quad) mean size\n",
    "        lambda_j = 1.0 / np.sqrt((dy_dx ** 2).mean(axis=0))#.reshape(1, -1)\n",
    "    else:\n",
    "        dy_dx = None\n",
    "        lambda_j = None\n",
    "    \n",
    "    # We return the means and standard deviations so data can be 'unnormalised' when producing predictions\n",
    "    return x_mean, x_std, x, y_mean, y_std, y, dy_dx, lambda_j"
   ]
  },
  {
   "cell_type": "markdown",
   "metadata": {
    "id": "7fGqZEdwosJC"
   },
   "source": [
    "**Putting everything together**"
   ]
  },
  {
   "cell_type": "code",
   "execution_count": 1088,
   "metadata": {
    "id": "-i0FcLJfEpVR"
   },
   "outputs": [],
   "source": [
    "class Neural_Approximator():\n",
    "    \n",
    "    def __init__(self, x_raw, y_raw, \n",
    "                 dydx_raw=None):      # derivatives labels, \n",
    "       \n",
    "        self.x_raw = x_raw\n",
    "        self.y_raw = y_raw\n",
    "        self.dydx_raw = dydx_raw\n",
    "        \n",
    "        # tensorflow logic\n",
    "        self.graph = None\n",
    "        \n",
    "    def build_graph(self,\n",
    "                differential,       # differential or not           \n",
    "                lam,                # balance cost between values and derivs  \n",
    "                hidden_units, \n",
    "                hidden_layers, \n",
    "                weight_seed):\n",
    "\n",
    "\n",
    "        self.graph = tf.Graph()\n",
    "        \n",
    "        with self.graph.as_default():\n",
    "        \n",
    "            # build the graph, either vanilla or differential\n",
    "            self.differential = differential\n",
    "            \n",
    "            if not differential:\n",
    "            # vanilla \n",
    "                \n",
    "                self.inputs, \\\n",
    "                self.labels, \\\n",
    "                self.predictions, \\\n",
    "                self.derivs_predictions, \\\n",
    "                self.learning_rate, \\\n",
    "                self.loss, \\\n",
    "                self.minimizer \\\n",
    "                = vanilla_training_graph(self.n, hidden_units, hidden_layers, weight_seed)\n",
    "                    \n",
    "            else:\n",
    "            # differential\n",
    "            \n",
    "                if self.dy_dx is None:\n",
    "                    raise Exception(\"No differential labels for differential training graph\")\n",
    "            \n",
    "                self.alpha = 1.0/(1.0 + lam * self.n) # default is set them to 0.5 because self.n = 1\n",
    "                self.beta = 1.0 - self.alpha\n",
    "                \n",
    "                self.inputs, \\\n",
    "                self.labels, \\\n",
    "                self.derivs_labels, \\\n",
    "                self.predictions, \\\n",
    "                self.derivs_predictions, \\\n",
    "                self.learning_rate, \\\n",
    "                self.loss, \\\n",
    "                self.minimizer = diff_training_graph(self.n, hidden_units, \\\n",
    "                                                     hidden_layers, weight_seed, \\\n",
    "                                                     self.alpha, self.beta, self.lambda_j)\n",
    "        \n",
    "            # global initializer\n",
    "            self.initializer = tf.compat.v1.global_variables_initializer()\n",
    "            \n",
    "        # done\n",
    "        self.graph.finalize()\n",
    "        self.session = tf.compat.v1.Session(graph=self.graph)\n",
    "                        \n",
    "    # prepare for training with m examples, standard or differential\n",
    "    def prepare(self, \n",
    "                m, \n",
    "                differential,\n",
    "                #hidden_units = 20,\n",
    "                lam=1,              # balance cost between values and derivs  \n",
    "                # standard architecture\n",
    "                hidden_units=20, \n",
    "                hidden_layers=4, \n",
    "                weight_seed=None):\n",
    "\n",
    "        # prepare dataset\n",
    "        self.x_mean, self.x_std, self.x, self.y_mean, self.y_std, self.y, self.dy_dx, self.lambda_j = \\\n",
    "            normalize_data(self.x_raw, self.y_raw, self.dydx_raw, m)\n",
    "        \n",
    "        # build graph        \n",
    "        self.m, self.n = self.x.shape        \n",
    "        self.build_graph(differential, lam, hidden_units, hidden_layers, weight_seed)\n",
    "        \n",
    "    def train(self,            \n",
    "              description=\"training\",\n",
    "              # training params\n",
    "              reinit=True, \n",
    "              epochs=150, \n",
    "              # one-cycle learning rate schedule\n",
    "              learning_rate_schedule=[\n",
    "                  (0.0, 1.0e-8), \n",
    "                  (0.2, 0.1), \n",
    "                  (0.6, 0.01), \n",
    "                  (0.9, 1.0e-6), \n",
    "                  (1.0, 1.0e-8)], \n",
    "              batches_per_epoch=16,\n",
    "              min_batch_size=256,\n",
    "              # callback and when to call it\n",
    "              # we don't use callbacks, but this is very useful, e.g. for debugging\n",
    "              callback=None,           # arbitrary callable\n",
    "              callback_epochs=[]):     # call after what epochs, e.g. [5, 20]\n",
    "              \n",
    "        t_loss = train(description, \n",
    "              self, \n",
    "              reinit, \n",
    "              epochs, \n",
    "              learning_rate_schedule, \n",
    "              batches_per_epoch, \n",
    "              min_batch_size,\n",
    "              callback, \n",
    "              callback_epochs)\n",
    "        return(t_loss)\n",
    "     \n",
    "    def predict_values(self, x):\n",
    "        # scale\n",
    "        x_scaled = (x-self.x_mean) / self.x_std \n",
    "        # predict scaled\n",
    "        y_scaled = self.session.run(self.predictions, feed_dict = {self.inputs: x_scaled})\n",
    "        # unscale\n",
    "        y = self.y_mean + self.y_std * y_scaled\n",
    "        return y\n",
    "\n",
    "    def predict_values_and_derivs(self, x):\n",
    "        # scale\n",
    "        x_scaled = (x-self.x_mean) / self.x_std\n",
    "        # predict scaled\n",
    "        y_scaled, dyscaled_dxscaled = self.session.run(\n",
    "            [self.predictions, self.derivs_predictions], \n",
    "            feed_dict = {self.inputs: x_scaled})\n",
    "        # unscale\n",
    "        y = self.y_mean[0] + self.y_std[0] * y_scaled\n",
    "        #print(y)\n",
    "        dydx = self.y_std[0] / self.x_std[0] * dyscaled_dxscaled\n",
    "        return y, dydx\n",
    "    \n",
    "    def predict_unscaled(self, x):\n",
    "        # scale\n",
    "        x_scaled = (x-self.x_mean) / self.x_std\n",
    "        # predict scaled\n",
    "        y_scaled, dyscaled_dxscaled = self.session.run(\n",
    "            [self.predictions, self.derivs_predictions], \n",
    "            feed_dict = {self.inputs: x_scaled})\n",
    "        return y_scaled, dyscaled_dxscaled"
   ]
  },
  {
   "cell_type": "code",
   "execution_count": 1104,
   "metadata": {},
   "outputs": [],
   "source": [
    "#### Evaluation metrics\n",
    "\n",
    "## Function to compute RMSE\n",
    "def computeRmse(pred, true):\n",
    "  errors = (pred - true)\n",
    "  rmse = np.sqrt((errors ** 2).mean())\n",
    "  return(rmse)"
   ]
  },
  {
   "cell_type": "markdown",
   "metadata": {
    "id": "hKGm6k3MFK1W"
   },
   "source": [
    "***Implementation***"
   ]
  },
  {
   "cell_type": "code",
   "execution_count": 1094,
   "metadata": {
    "id": "Ocr8tAUjI1Nw"
   },
   "outputs": [],
   "source": [
    "def test(generator,\n",
    "         sizes, \n",
    "         nTest, \n",
    "         simulSeed=None, \n",
    "         testSeed=None, \n",
    "         weightSeed=None, \n",
    "         deltidx=0):\n",
    "    \n",
    "    # Add Heston test and train sets\n",
    "    xTrain = X_train \n",
    "    yTrain = y_train \n",
    "    dydxTrain = dxdy_train \n",
    "    xTest = X_test \n",
    "    yTest = y_test\n",
    "    dydxTest = dxdy_test\n",
    "    xAxis = X_test\n",
    "   \n",
    "    # neural approximator\n",
    "    print(\"initializing neural appropximator\")\n",
    "    regressor = Neural_Approximator(xTrain, yTrain, dydxTrain)\n",
    "    print(\"done\")\n",
    "    \n",
    "    predvalues = {}    \n",
    "    preddeltas = {}\n",
    "    for size in sizes:        \n",
    "            \n",
    "        print(\"\\nsize %d\" % size)\n",
    "        regressor.prepare(size, False, weight_seed=weightSeed)\n",
    "\n",
    "        t0 = time.time()\n",
    "        std_train_loss = regressor.train(\"standard training\")\n",
    "        predictions, deltas = regressor.predict_values_and_derivs(xTest)\n",
    "        predvalues[(\"standard\", size)] = predictions.reshape((-1,1))\n",
    "        preddeltas[(\"standard\", size)] = deltas[:, deltidx].reshape((-1,1))\n",
    "        t1 = time.time()\n",
    "        \n",
    "        regressor.prepare(size, True, weight_seed=weightSeed)\n",
    "            \n",
    "        t0 = time.time()\n",
    "        diff_train_loss = regressor.train(\"differential training\")\n",
    "        predictions, deltas = regressor.predict_values_and_derivs(xTest)\n",
    "        predvalues[(\"differential\", size)] = predictions.reshape((-1,1))\n",
    "        preddeltas[(\"differential\", size)] = deltas[:, deltidx].reshape((-1,1))\n",
    "        t1 = time.time()\n",
    "        \n",
    "    #return xAxis, yTest, dydxTest[:, deltidx], vegas, predvalues, preddeltas\n",
    "    return xAxis, yTest, dydxTest, predvalues, preddeltas, std_train_loss, diff_train_loss"
   ]
  },
  {
   "cell_type": "code",
   "execution_count": 960,
   "metadata": {},
   "outputs": [],
   "source": [
    "def graph(title, \n",
    "          predictions, \n",
    "          xAxis, \n",
    "          xAxisName, \n",
    "          yAxisName, \n",
    "          targets, \n",
    "          size):\n",
    "    \n",
    "    numRows = 1  \n",
    "    numCols = 2\n",
    "\n",
    "    fig, ax = plt.subplots(numRows, numCols, squeeze=False)\n",
    "    fig.set_size_inches(4 * numCols + 1.5, 4 * numRows)\n",
    "\n",
    "    ax[0, 0].set_title(\"Standard training\")\n",
    "    ax[0, 1].set_title(\"Differential training\")\n",
    "\n",
    "    for j, regType in enumerate([\"standard\", \"differential\"]):\n",
    "\n",
    "        t = xAxisName\n",
    "\n",
    "        ax[0, j].set_xlabel(t)\n",
    "        ax[0, j].set_ylabel(yAxisName)\n",
    "\n",
    "        ax[0, j].plot(xAxis, predictions[(regType, size)], 'co', \\\n",
    "                      markersize=2, markerfacecolor='white', label=\"Predicted values\")\n",
    "        ax[0, j].plot(xAxis, targets, 'r.', markersize=1, label='Target values')\n",
    "\n",
    "        ax[0, j].legend(prop={'size': 8}, loc='upper left')\n",
    "\n",
    "    plt.tight_layout()\n",
    "    plt.subplots_adjust(top=0.8)\n",
    "    plt.suptitle(\"%s - %s\" % (title, yAxisName), fontsize=16)\n",
    "    subtitle = \"This is a subtitle\"  # Customize the subtitle text\n",
    "    fig.text(0.5, 0.88, \"Training set size: \" + str(size), ha='center', fontsize=12)  # Adjust the position and fontsize as needed\n",
    "    plt.show()\n"
   ]
  },
  {
   "cell_type": "code",
   "execution_count": 1100,
   "metadata": {
    "colab": {
     "base_uri": "https://localhost:8080/",
     "height": 1000,
     "referenced_widgets": [
      "9752b6948efd43b5a6c9bcf543256b13",
      "00209c69dd9d4e15b9206c741344eb4b",
      "6be68bf6f0354a7c9a378d22a467e57b",
      "045a547e699a49d996a3533bd6611a1a",
      "d9e08e7290ac46a0b74cb273f083c2c7",
      "d8a510b6c7474dcb8a436474a66c982a",
      "ce1ad7483cb244b9b499ca32d7210778",
      "84a80c486ab44a5e84868831e1e6ff46",
      "2a321ca32a994271b30417e0faea26d6",
      "cc80a6f68eb4422bba42d44d207454fb",
      "07196f2d96984242b2c2fb16e6c80d48"
     ]
    },
    "id": "kdCJRWXBGvnv",
    "outputId": "b585d436-5eb9-44f5-d23c-3be0fdeae9aa",
    "scrolled": false
   },
   "outputs": [
    {
     "name": "stdout",
     "output_type": "stream",
     "text": [
      "initializing neural appropximator\n",
      "done\n",
      "\n",
      "size 800\n",
      "(800, 1) (800, 1)\n"
     ]
    },
    {
     "name": "stderr",
     "output_type": "stream",
     "text": [
      "<ipython-input-584-d0dc77e0e26f>:67: TqdmDeprecationWarning: This function will be removed in tqdm==5.0.0\n",
      "Please use `tqdm.notebook.tqdm` instead of `tqdm.tqdm_notebook`\n",
      "  for epoch in tqdm_notebook(range(epochs), desc=description):\n"
     ]
    },
    {
     "data": {
      "application/vnd.jupyter.widget-view+json": {
       "model_id": "731216d1111f4921938f1a8d76590fc0",
       "version_major": 2,
       "version_minor": 0
      },
      "text/plain": [
       "standard training:   0%|          | 0/150 [00:00<?, ?it/s]"
      ]
     },
     "metadata": {},
     "output_type": "display_data"
    },
    {
     "name": "stdout",
     "output_type": "stream",
     "text": [
      "(800, 1) (800, 1)\n"
     ]
    },
    {
     "data": {
      "application/vnd.jupyter.widget-view+json": {
       "model_id": "3c86c1f5a04a43d880a1eeafd44323f2",
       "version_major": 2,
       "version_minor": 0
      },
      "text/plain": [
       "differential training:   0%|          | 0/150 [00:00<?, ?it/s]"
      ]
     },
     "metadata": {},
     "output_type": "display_data"
    }
   ],
   "source": [
    "### Train and test the network\n",
    "\n",
    "# simulation set sizes to perform\n",
    "sizes = [800]\n",
    "\n",
    "# show delta?\n",
    "showDeltas = True\n",
    "\n",
    "# number of test scenarios\n",
    "nTest = 1   \n",
    "\n",
    "# seed 42 \n",
    "\n",
    "xAxis, yTest, dydxTest, values, deltas, std_train_loss, diff_train_loss = \\\n",
    "    test(generator = 'NA', sizes = sizes, \n",
    "         nTest = nTest, simulSeed = 42 , testSeed = 42, weightSeed = 42, deltidx=0)"
   ]
  },
  {
   "cell_type": "code",
   "execution_count": 1101,
   "metadata": {},
   "outputs": [
    {
     "data": {
      "text/plain": [
       "Text(0, 0.5, 'Loss')"
      ]
     },
     "execution_count": 1101,
     "metadata": {},
     "output_type": "execute_result"
    },
    {
     "data": {
      "image/png": "[encoded data removed]",
      "text/plain": [
       "<Figure size 432x288 with 1 Axes>"
      ]
     },
     "metadata": {
      "needs_background": "light"
     },
     "output_type": "display_data"
    }
   ],
   "source": [
    "### Plot training loss functions to check convergence\n",
    "plt.plot(range(0,150), std_train_loss, label = 'Standard training')\n",
    "plt.plot(range(0,150), diff_train_loss, label = 'Differential training')\n",
    "plt.legend()\n",
    "plt.title(\"Training loss\")\n",
    "plt.xlabel(\"Epoch\")\n",
    "plt.ylabel(\"Loss\")"
   ]
  },
  {
   "cell_type": "code",
   "execution_count": 1102,
   "metadata": {
    "colab": {
     "base_uri": "https://localhost:8080/",
     "height": 1000
    },
    "id": "4frfxa83OFMX",
    "outputId": "6f3751c3-8145-4bd0-b4e0-8debcdc93bff"
   },
   "outputs": [
    {
     "data": {
      "image/png": "[encoded data removed]",
      "text/plain": [
       "<Figure size 684x288 with 2 Axes>"
      ]
     },
     "metadata": {
      "needs_background": "light"
     },
     "output_type": "display_data"
    },
    {
     "data": {
      "image/png": "[encoded data removed]",
      "text/plain": [
       "<Figure size 684x288 with 2 Axes>"
      ]
     },
     "metadata": {
      "needs_background": "light"
     },
     "output_type": "display_data"
    }
   ],
   "source": [
    "### Plot predictions\n",
    "\n",
    "# Prices\n",
    "graph(\"Heston Model\", values, xAxis, \"Asset Price\", \"Option Price\", y_test, size = 800)\n",
    "\n",
    "# Deltas\n",
    "graph(\"Heston Model\", deltas, xAxis, \"Asset Price\", \"Delta\", dxdy_test, size = 800)"
   ]
  },
  {
   "cell_type": "code",
   "execution_count": 1105,
   "metadata": {},
   "outputs": [
    {
     "name": "stdout",
     "output_type": "stream",
     "text": [
      "\\begin{tabular}{lrrrr}\n",
      "\\hline\n",
      "               &       &   Target Variable &   Standard &   Differential \\\\\n",
      "\\hline\n",
      " Option Prices & 1.319 &             0.375 &      1.148 &          0.309 \\\\\n",
      " Deltas        & 0.154 &             0.043 &      0.136 &          0.035 \\\\\n",
      "\\hline\n",
      "\\end{tabular}\n"
     ]
    }
   ],
   "source": [
    "### Make a results table\n",
    "\n",
    "from tabulate import tabulate\n",
    "from sklearn.metrics import mean_squared_error, mean_absolute_error, mean_absolute_percentage_error\n",
    "\n",
    "sizes = 800\n",
    "\n",
    "# Define the table data\n",
    "results_table = [\n",
    "    [\"Option Prices\", round(computeRmse(values['standard', sizes], y_test),3), round(computeRmse(values['differential', sizes], y_test),3),\n",
    "     round(mean_absolute_error(values['standard', sizes], y_test),3), round(mean_absolute_error(values['differential', sizes], y_test),3)],\n",
    "     #round(mean_absolute_percentage_error(values['standard', sizes], y_test),3), round(mean_absolute_percentage_error(values['differential', sizes], y_test),3)],\n",
    "    [\"Deltas\", round(computeRmse(deltas['standard', sizes], dxdy_test),3), round(computeRmse(deltas['differential', sizes], dxdy_test), 3),\n",
    "     round(mean_absolute_error(deltas['standard', sizes], dxdy_test),3), round(mean_absolute_error(deltas['differential', sizes], dxdy_test), 3)],\n",
    "    #round(mean_absolute_percentage_error(deltas['standard', sizes], dxdy_test),3), round(mean_absolute_percentage_error(deltas['differential', sizes], dxdy_test),3)]\n",
    "]\n",
    "\n",
    "# Define the column names\n",
    "column_names = [\"Target Variable\", \"Standard\", \"Differential\"] #\"Standard\", \"Differential\"]\n",
    "\n",
    "# Convert the table to LaTeX format\n",
    "latex_table = tabulate(results_table, headers=column_names, tablefmt=\"latex\")\n",
    "\n",
    "# Print the LaTeX table\n",
    "print(latex_table)\n"
   ]
  },
  {
   "cell_type": "markdown",
   "metadata": {},
   "source": [
    "**Extras**"
   ]
  },
  {
   "cell_type": "code",
   "execution_count": 921,
   "metadata": {},
   "outputs": [
    {
     "name": "stdout",
     "output_type": "stream",
     "text": [
      "1\n",
      "5\n",
      "(75000, 1) (75000, 1)\n"
     ]
    },
    {
     "name": "stderr",
     "output_type": "stream",
     "text": [
      "<ipython-input-584-d0dc77e0e26f>:67: TqdmDeprecationWarning: This function will be removed in tqdm==5.0.0\n",
      "Please use `tqdm.notebook.tqdm` instead of `tqdm.tqdm_notebook`\n",
      "  for epoch in tqdm_notebook(range(epochs), desc=description):\n"
     ]
    },
    {
     "data": {
      "application/vnd.jupyter.widget-view+json": {
       "model_id": "5ebec9e9a0764788b16d840908246ed3",
       "version_major": 2,
       "version_minor": 0
      },
      "text/plain": [
       "differential training:   0%|          | 0/150 [00:00<?, ?it/s]"
      ]
     },
     "metadata": {},
     "output_type": "display_data"
    },
    {
     "name": "stdout",
     "output_type": "stream",
     "text": [
      "0.6969903596430184\n",
      "(75000, 1) (75000, 1)\n"
     ]
    },
    {
     "name": "stderr",
     "output_type": "stream",
     "text": [
      "<ipython-input-584-d0dc77e0e26f>:67: TqdmDeprecationWarning: This function will be removed in tqdm==5.0.0\n",
      "Please use `tqdm.notebook.tqdm` instead of `tqdm.tqdm_notebook`\n",
      "  for epoch in tqdm_notebook(range(epochs), desc=description):\n"
     ]
    },
    {
     "data": {
      "application/vnd.jupyter.widget-view+json": {
       "model_id": "e026f1e2f90348ef924158b384d23efc",
       "version_major": 2,
       "version_minor": 0
      },
      "text/plain": [
       "differential training:   0%|          | 0/150 [00:00<?, ?it/s]"
      ]
     },
     "metadata": {},
     "output_type": "display_data"
    },
    {
     "name": "stdout",
     "output_type": "stream",
     "text": [
      "0.6843138872813408\n",
      "(75000, 1) (75000, 1)\n"
     ]
    },
    {
     "name": "stderr",
     "output_type": "stream",
     "text": [
      "<ipython-input-584-d0dc77e0e26f>:67: TqdmDeprecationWarning: This function will be removed in tqdm==5.0.0\n",
      "Please use `tqdm.notebook.tqdm` instead of `tqdm.tqdm_notebook`\n",
      "  for epoch in tqdm_notebook(range(epochs), desc=description):\n"
     ]
    },
    {
     "data": {
      "application/vnd.jupyter.widget-view+json": {
       "model_id": "8442b1352afd4f0c82630d96d960b9ca",
       "version_major": 2,
       "version_minor": 0
      },
      "text/plain": [
       "differential training:   0%|          | 0/150 [00:00<?, ?it/s]"
      ]
     },
     "metadata": {},
     "output_type": "display_data"
    },
    {
     "name": "stdout",
     "output_type": "stream",
     "text": [
      "0.6904484353347435\n",
      "(75000, 1) (75000, 1)\n"
     ]
    },
    {
     "name": "stderr",
     "output_type": "stream",
     "text": [
      "<ipython-input-584-d0dc77e0e26f>:67: TqdmDeprecationWarning: This function will be removed in tqdm==5.0.0\n",
      "Please use `tqdm.notebook.tqdm` instead of `tqdm.tqdm_notebook`\n",
      "  for epoch in tqdm_notebook(range(epochs), desc=description):\n"
     ]
    },
    {
     "data": {
      "application/vnd.jupyter.widget-view+json": {
       "model_id": "dc8104194e774170ae255e127261cfbd",
       "version_major": 2,
       "version_minor": 0
      },
      "text/plain": [
       "differential training:   0%|          | 0/150 [00:00<?, ?it/s]"
      ]
     },
     "metadata": {},
     "output_type": "display_data"
    },
    {
     "name": "stdout",
     "output_type": "stream",
     "text": [
      "0.678577106772168\n",
      "25\n",
      "(75000, 1) (75000, 1)\n"
     ]
    },
    {
     "name": "stderr",
     "output_type": "stream",
     "text": [
      "<ipython-input-584-d0dc77e0e26f>:67: TqdmDeprecationWarning: This function will be removed in tqdm==5.0.0\n",
      "Please use `tqdm.notebook.tqdm` instead of `tqdm.tqdm_notebook`\n",
      "  for epoch in tqdm_notebook(range(epochs), desc=description):\n"
     ]
    },
    {
     "data": {
      "application/vnd.jupyter.widget-view+json": {
       "model_id": "c262d2fb48b94bd08e8fbe5d3cf886fa",
       "version_major": 2,
       "version_minor": 0
      },
      "text/plain": [
       "differential training:   0%|          | 0/150 [00:00<?, ?it/s]"
      ]
     },
     "metadata": {},
     "output_type": "display_data"
    },
    {
     "name": "stdout",
     "output_type": "stream",
     "text": [
      "0.6971734753460317\n",
      "(75000, 1) (75000, 1)\n"
     ]
    },
    {
     "name": "stderr",
     "output_type": "stream",
     "text": [
      "<ipython-input-584-d0dc77e0e26f>:67: TqdmDeprecationWarning: This function will be removed in tqdm==5.0.0\n",
      "Please use `tqdm.notebook.tqdm` instead of `tqdm.tqdm_notebook`\n",
      "  for epoch in tqdm_notebook(range(epochs), desc=description):\n"
     ]
    },
    {
     "data": {
      "application/vnd.jupyter.widget-view+json": {
       "model_id": "c52e343a827045b5bafcb189e61c778a",
       "version_major": 2,
       "version_minor": 0
      },
      "text/plain": [
       "differential training:   0%|          | 0/150 [00:00<?, ?it/s]"
      ]
     },
     "metadata": {},
     "output_type": "display_data"
    },
    {
     "name": "stdout",
     "output_type": "stream",
     "text": [
      "1.4645534908413738\n",
      "(75000, 1) (75000, 1)\n"
     ]
    },
    {
     "name": "stderr",
     "output_type": "stream",
     "text": [
      "<ipython-input-584-d0dc77e0e26f>:67: TqdmDeprecationWarning: This function will be removed in tqdm==5.0.0\n",
      "Please use `tqdm.notebook.tqdm` instead of `tqdm.tqdm_notebook`\n",
      "  for epoch in tqdm_notebook(range(epochs), desc=description):\n"
     ]
    },
    {
     "data": {
      "application/vnd.jupyter.widget-view+json": {
       "model_id": "998b5e11b91941d898193998c16d574b",
       "version_major": 2,
       "version_minor": 0
      },
      "text/plain": [
       "differential training:   0%|          | 0/150 [00:00<?, ?it/s]"
      ]
     },
     "metadata": {},
     "output_type": "display_data"
    },
    {
     "name": "stdout",
     "output_type": "stream",
     "text": [
      "0.6908549734893382\n",
      "(75000, 1) (75000, 1)\n"
     ]
    },
    {
     "name": "stderr",
     "output_type": "stream",
     "text": [
      "<ipython-input-584-d0dc77e0e26f>:67: TqdmDeprecationWarning: This function will be removed in tqdm==5.0.0\n",
      "Please use `tqdm.notebook.tqdm` instead of `tqdm.tqdm_notebook`\n",
      "  for epoch in tqdm_notebook(range(epochs), desc=description):\n"
     ]
    },
    {
     "data": {
      "application/vnd.jupyter.widget-view+json": {
       "model_id": "7aaf12e2368f4594a34029f49e449473",
       "version_major": 2,
       "version_minor": 0
      },
      "text/plain": [
       "differential training:   0%|          | 0/150 [00:00<?, ?it/s]"
      ]
     },
     "metadata": {},
     "output_type": "display_data"
    },
    {
     "name": "stdout",
     "output_type": "stream",
     "text": [
      "1.4674546648225653\n",
      "50\n",
      "(75000, 1) (75000, 1)\n"
     ]
    },
    {
     "name": "stderr",
     "output_type": "stream",
     "text": [
      "<ipython-input-584-d0dc77e0e26f>:67: TqdmDeprecationWarning: This function will be removed in tqdm==5.0.0\n",
      "Please use `tqdm.notebook.tqdm` instead of `tqdm.tqdm_notebook`\n",
      "  for epoch in tqdm_notebook(range(epochs), desc=description):\n"
     ]
    },
    {
     "data": {
      "application/vnd.jupyter.widget-view+json": {
       "model_id": "ccf645f90c8e4d23b82ae358ecfe1bf4",
       "version_major": 2,
       "version_minor": 0
      },
      "text/plain": [
       "differential training:   0%|          | 0/150 [00:00<?, ?it/s]"
      ]
     },
     "metadata": {},
     "output_type": "display_data"
    },
    {
     "name": "stdout",
     "output_type": "stream",
     "text": [
      "0.6976157474016422\n",
      "(75000, 1) (75000, 1)\n"
     ]
    },
    {
     "name": "stderr",
     "output_type": "stream",
     "text": [
      "<ipython-input-584-d0dc77e0e26f>:67: TqdmDeprecationWarning: This function will be removed in tqdm==5.0.0\n",
      "Please use `tqdm.notebook.tqdm` instead of `tqdm.tqdm_notebook`\n",
      "  for epoch in tqdm_notebook(range(epochs), desc=description):\n"
     ]
    },
    {
     "data": {
      "application/vnd.jupyter.widget-view+json": {
       "model_id": "3f31bb611c2b4d14b0f8373656d62e68",
       "version_major": 2,
       "version_minor": 0
      },
      "text/plain": [
       "differential training:   0%|          | 0/150 [00:00<?, ?it/s]"
      ]
     },
     "metadata": {},
     "output_type": "display_data"
    },
    {
     "name": "stdout",
     "output_type": "stream",
     "text": [
      "1.4645378974988175\n",
      "(75000, 1) (75000, 1)\n"
     ]
    },
    {
     "name": "stderr",
     "output_type": "stream",
     "text": [
      "<ipython-input-584-d0dc77e0e26f>:67: TqdmDeprecationWarning: This function will be removed in tqdm==5.0.0\n",
      "Please use `tqdm.notebook.tqdm` instead of `tqdm.tqdm_notebook`\n",
      "  for epoch in tqdm_notebook(range(epochs), desc=description):\n"
     ]
    },
    {
     "data": {
      "application/vnd.jupyter.widget-view+json": {
       "model_id": "0123747398c34055b43b7ede74f8ea9b",
       "version_major": 2,
       "version_minor": 0
      },
      "text/plain": [
       "differential training:   0%|          | 0/150 [00:00<?, ?it/s]"
      ]
     },
     "metadata": {},
     "output_type": "display_data"
    },
    {
     "name": "stdout",
     "output_type": "stream",
     "text": [
      "1.46768613356659\n",
      "(75000, 1) (75000, 1)\n"
     ]
    },
    {
     "name": "stderr",
     "output_type": "stream",
     "text": [
      "<ipython-input-584-d0dc77e0e26f>:67: TqdmDeprecationWarning: This function will be removed in tqdm==5.0.0\n",
      "Please use `tqdm.notebook.tqdm` instead of `tqdm.tqdm_notebook`\n",
      "  for epoch in tqdm_notebook(range(epochs), desc=description):\n"
     ]
    },
    {
     "data": {
      "application/vnd.jupyter.widget-view+json": {
       "model_id": "bb91d5273bcb40118e37dff321ce13aa",
       "version_major": 2,
       "version_minor": 0
      },
      "text/plain": [
       "differential training:   0%|          | 0/150 [00:00<?, ?it/s]"
      ]
     },
     "metadata": {},
     "output_type": "display_data"
    },
    {
     "name": "stdout",
     "output_type": "stream",
     "text": [
      "0.6787280918359837\n",
      "75\n",
      "(75000, 1) (75000, 1)\n"
     ]
    },
    {
     "name": "stderr",
     "output_type": "stream",
     "text": [
      "<ipython-input-584-d0dc77e0e26f>:67: TqdmDeprecationWarning: This function will be removed in tqdm==5.0.0\n",
      "Please use `tqdm.notebook.tqdm` instead of `tqdm.tqdm_notebook`\n",
      "  for epoch in tqdm_notebook(range(epochs), desc=description):\n"
     ]
    },
    {
     "data": {
      "application/vnd.jupyter.widget-view+json": {
       "model_id": "f8479c4ea07441f093bf1e6f875a125c",
       "version_major": 2,
       "version_minor": 0
      },
      "text/plain": [
       "differential training:   0%|          | 0/150 [00:00<?, ?it/s]"
      ]
     },
     "metadata": {},
     "output_type": "display_data"
    },
    {
     "name": "stdout",
     "output_type": "stream",
     "text": [
      "0.6971281445339372\n",
      "(75000, 1) (75000, 1)\n"
     ]
    },
    {
     "name": "stderr",
     "output_type": "stream",
     "text": [
      "<ipython-input-584-d0dc77e0e26f>:67: TqdmDeprecationWarning: This function will be removed in tqdm==5.0.0\n",
      "Please use `tqdm.notebook.tqdm` instead of `tqdm.tqdm_notebook`\n",
      "  for epoch in tqdm_notebook(range(epochs), desc=description):\n"
     ]
    },
    {
     "data": {
      "application/vnd.jupyter.widget-view+json": {
       "model_id": "be1ee1853dd64fdf92f344d908111db0",
       "version_major": 2,
       "version_minor": 0
      },
      "text/plain": [
       "differential training:   0%|          | 0/150 [00:00<?, ?it/s]"
      ]
     },
     "metadata": {},
     "output_type": "display_data"
    },
    {
     "name": "stdout",
     "output_type": "stream",
     "text": [
      "1.4649775465417663\n",
      "(75000, 1) (75000, 1)\n"
     ]
    },
    {
     "name": "stderr",
     "output_type": "stream",
     "text": [
      "<ipython-input-584-d0dc77e0e26f>:67: TqdmDeprecationWarning: This function will be removed in tqdm==5.0.0\n",
      "Please use `tqdm.notebook.tqdm` instead of `tqdm.tqdm_notebook`\n",
      "  for epoch in tqdm_notebook(range(epochs), desc=description):\n"
     ]
    },
    {
     "data": {
      "application/vnd.jupyter.widget-view+json": {
       "model_id": "8fced882b9b948b394014eefc2f124ab",
       "version_major": 2,
       "version_minor": 0
      },
      "text/plain": [
       "differential training:   0%|          | 0/150 [00:00<?, ?it/s]"
      ]
     },
     "metadata": {},
     "output_type": "display_data"
    },
    {
     "name": "stdout",
     "output_type": "stream",
     "text": [
      "1.0718767226452588\n",
      "(75000, 1) (75000, 1)\n"
     ]
    },
    {
     "name": "stderr",
     "output_type": "stream",
     "text": [
      "<ipython-input-584-d0dc77e0e26f>:67: TqdmDeprecationWarning: This function will be removed in tqdm==5.0.0\n",
      "Please use `tqdm.notebook.tqdm` instead of `tqdm.tqdm_notebook`\n",
      "  for epoch in tqdm_notebook(range(epochs), desc=description):\n"
     ]
    },
    {
     "data": {
      "application/vnd.jupyter.widget-view+json": {
       "model_id": "95c7753e775541fbaadb72afd5d2fa70",
       "version_major": 2,
       "version_minor": 0
      },
      "text/plain": [
       "differential training:   0%|          | 0/150 [00:00<?, ?it/s]"
      ]
     },
     "metadata": {},
     "output_type": "display_data"
    },
    {
     "name": "stdout",
     "output_type": "stream",
     "text": [
      "1.4729755632417667\n",
      "100\n",
      "(75000, 1) (75000, 1)\n"
     ]
    },
    {
     "name": "stderr",
     "output_type": "stream",
     "text": [
      "<ipython-input-584-d0dc77e0e26f>:67: TqdmDeprecationWarning: This function will be removed in tqdm==5.0.0\n",
      "Please use `tqdm.notebook.tqdm` instead of `tqdm.tqdm_notebook`\n",
      "  for epoch in tqdm_notebook(range(epochs), desc=description):\n"
     ]
    },
    {
     "data": {
      "application/vnd.jupyter.widget-view+json": {
       "model_id": "ae5ec7e174654f149a4e88c6b42c2133",
       "version_major": 2,
       "version_minor": 0
      },
      "text/plain": [
       "differential training:   0%|          | 0/150 [00:00<?, ?it/s]"
      ]
     },
     "metadata": {},
     "output_type": "display_data"
    },
    {
     "name": "stdout",
     "output_type": "stream",
     "text": [
      "1.5175282263324967\n",
      "(75000, 1) (75000, 1)\n"
     ]
    },
    {
     "name": "stderr",
     "output_type": "stream",
     "text": [
      "<ipython-input-584-d0dc77e0e26f>:67: TqdmDeprecationWarning: This function will be removed in tqdm==5.0.0\n",
      "Please use `tqdm.notebook.tqdm` instead of `tqdm.tqdm_notebook`\n",
      "  for epoch in tqdm_notebook(range(epochs), desc=description):\n"
     ]
    },
    {
     "data": {
      "application/vnd.jupyter.widget-view+json": {
       "model_id": "c774d6fe563e4c7dbf16f76beb394e58",
       "version_major": 2,
       "version_minor": 0
      },
      "text/plain": [
       "differential training:   0%|          | 0/150 [00:00<?, ?it/s]"
      ]
     },
     "metadata": {},
     "output_type": "display_data"
    },
    {
     "name": "stdout",
     "output_type": "stream",
     "text": [
      "1.4985380022316082\n",
      "(75000, 1) (75000, 1)\n"
     ]
    },
    {
     "name": "stderr",
     "output_type": "stream",
     "text": [
      "<ipython-input-584-d0dc77e0e26f>:67: TqdmDeprecationWarning: This function will be removed in tqdm==5.0.0\n",
      "Please use `tqdm.notebook.tqdm` instead of `tqdm.tqdm_notebook`\n",
      "  for epoch in tqdm_notebook(range(epochs), desc=description):\n"
     ]
    },
    {
     "data": {
      "application/vnd.jupyter.widget-view+json": {
       "model_id": "db1cfe63ccd3445d9ecd6f73917012ec",
       "version_major": 2,
       "version_minor": 0
      },
      "text/plain": [
       "differential training:   0%|          | 0/150 [00:00<?, ?it/s]"
      ]
     },
     "metadata": {},
     "output_type": "display_data"
    },
    {
     "name": "stdout",
     "output_type": "stream",
     "text": [
      "1.507466891955402\n",
      "(75000, 1) (75000, 1)\n"
     ]
    },
    {
     "name": "stderr",
     "output_type": "stream",
     "text": [
      "<ipython-input-584-d0dc77e0e26f>:67: TqdmDeprecationWarning: This function will be removed in tqdm==5.0.0\n",
      "Please use `tqdm.notebook.tqdm` instead of `tqdm.tqdm_notebook`\n",
      "  for epoch in tqdm_notebook(range(epochs), desc=description):\n"
     ]
    },
    {
     "data": {
      "application/vnd.jupyter.widget-view+json": {
       "model_id": "9413a9e7226f4ba2af8afc907a946795",
       "version_major": 2,
       "version_minor": 0
      },
      "text/plain": [
       "differential training:   0%|          | 0/150 [00:00<?, ?it/s]"
      ]
     },
     "metadata": {},
     "output_type": "display_data"
    },
    {
     "name": "stdout",
     "output_type": "stream",
     "text": [
      "1.4707742879722998\n",
      "5\n",
      "5\n",
      "(75000, 1) (75000, 1)\n"
     ]
    },
    {
     "name": "stderr",
     "output_type": "stream",
     "text": [
      "<ipython-input-584-d0dc77e0e26f>:67: TqdmDeprecationWarning: This function will be removed in tqdm==5.0.0\n",
      "Please use `tqdm.notebook.tqdm` instead of `tqdm.tqdm_notebook`\n",
      "  for epoch in tqdm_notebook(range(epochs), desc=description):\n"
     ]
    },
    {
     "data": {
      "application/vnd.jupyter.widget-view+json": {
       "model_id": "22dfd58bb66e460eb275c0c6328c2ac7",
       "version_major": 2,
       "version_minor": 0
      },
      "text/plain": [
       "differential training:   0%|          | 0/150 [00:00<?, ?it/s]"
      ]
     },
     "metadata": {},
     "output_type": "display_data"
    },
    {
     "name": "stdout",
     "output_type": "stream",
     "text": [
      "0.6976958178381664\n",
      "(75000, 1) (75000, 1)\n"
     ]
    },
    {
     "name": "stderr",
     "output_type": "stream",
     "text": [
      "<ipython-input-584-d0dc77e0e26f>:67: TqdmDeprecationWarning: This function will be removed in tqdm==5.0.0\n",
      "Please use `tqdm.notebook.tqdm` instead of `tqdm.tqdm_notebook`\n",
      "  for epoch in tqdm_notebook(range(epochs), desc=description):\n"
     ]
    },
    {
     "data": {
      "application/vnd.jupyter.widget-view+json": {
       "model_id": "470d609bc7474782aa79fcf7356a367e",
       "version_major": 2,
       "version_minor": 0
      },
      "text/plain": [
       "differential training:   0%|          | 0/150 [00:00<?, ?it/s]"
      ]
     },
     "metadata": {},
     "output_type": "display_data"
    },
    {
     "name": "stdout",
     "output_type": "stream",
     "text": [
      "0.6842358779475297\n",
      "(75000, 1) (75000, 1)\n"
     ]
    },
    {
     "name": "stderr",
     "output_type": "stream",
     "text": [
      "<ipython-input-584-d0dc77e0e26f>:67: TqdmDeprecationWarning: This function will be removed in tqdm==5.0.0\n",
      "Please use `tqdm.notebook.tqdm` instead of `tqdm.tqdm_notebook`\n",
      "  for epoch in tqdm_notebook(range(epochs), desc=description):\n"
     ]
    },
    {
     "data": {
      "application/vnd.jupyter.widget-view+json": {
       "model_id": "c26c5433784a445f9c851b1faeebc0d2",
       "version_major": 2,
       "version_minor": 0
      },
      "text/plain": [
       "differential training:   0%|          | 0/150 [00:00<?, ?it/s]"
      ]
     },
     "metadata": {},
     "output_type": "display_data"
    },
    {
     "name": "stdout",
     "output_type": "stream",
     "text": [
      "0.690734856353805\n",
      "(75000, 1) (75000, 1)\n"
     ]
    },
    {
     "name": "stderr",
     "output_type": "stream",
     "text": [
      "<ipython-input-584-d0dc77e0e26f>:67: TqdmDeprecationWarning: This function will be removed in tqdm==5.0.0\n",
      "Please use `tqdm.notebook.tqdm` instead of `tqdm.tqdm_notebook`\n",
      "  for epoch in tqdm_notebook(range(epochs), desc=description):\n"
     ]
    },
    {
     "data": {
      "application/vnd.jupyter.widget-view+json": {
       "model_id": "6b9ff6065d474f39a2f1ca28b5601927",
       "version_major": 2,
       "version_minor": 0
      },
      "text/plain": [
       "differential training:   0%|          | 0/150 [00:00<?, ?it/s]"
      ]
     },
     "metadata": {},
     "output_type": "display_data"
    },
    {
     "name": "stdout",
     "output_type": "stream",
     "text": [
      "0.6800380654300234\n",
      "25\n",
      "(75000, 1) (75000, 1)\n"
     ]
    },
    {
     "name": "stderr",
     "output_type": "stream",
     "text": [
      "<ipython-input-584-d0dc77e0e26f>:67: TqdmDeprecationWarning: This function will be removed in tqdm==5.0.0\n",
      "Please use `tqdm.notebook.tqdm` instead of `tqdm.tqdm_notebook`\n",
      "  for epoch in tqdm_notebook(range(epochs), desc=description):\n"
     ]
    },
    {
     "data": {
      "application/vnd.jupyter.widget-view+json": {
       "model_id": "a2d80e8601bc4f12967b29ea14173768",
       "version_major": 2,
       "version_minor": 0
      },
      "text/plain": [
       "differential training:   0%|          | 0/150 [00:00<?, ?it/s]"
      ]
     },
     "metadata": {},
     "output_type": "display_data"
    },
    {
     "name": "stdout",
     "output_type": "stream",
     "text": [
      "1.4757825797214137\n",
      "(75000, 1) (75000, 1)\n"
     ]
    },
    {
     "name": "stderr",
     "output_type": "stream",
     "text": [
      "<ipython-input-584-d0dc77e0e26f>:67: TqdmDeprecationWarning: This function will be removed in tqdm==5.0.0\n",
      "Please use `tqdm.notebook.tqdm` instead of `tqdm.tqdm_notebook`\n",
      "  for epoch in tqdm_notebook(range(epochs), desc=description):\n"
     ]
    },
    {
     "data": {
      "application/vnd.jupyter.widget-view+json": {
       "model_id": "5ef5419d175b43c793a1aecc1b74f104",
       "version_major": 2,
       "version_minor": 0
      },
      "text/plain": [
       "differential training:   0%|          | 0/150 [00:00<?, ?it/s]"
      ]
     },
     "metadata": {},
     "output_type": "display_data"
    },
    {
     "name": "stdout",
     "output_type": "stream",
     "text": [
      "0.6833102414570046\n",
      "(75000, 1) (75000, 1)\n"
     ]
    },
    {
     "name": "stderr",
     "output_type": "stream",
     "text": [
      "<ipython-input-584-d0dc77e0e26f>:67: TqdmDeprecationWarning: This function will be removed in tqdm==5.0.0\n",
      "Please use `tqdm.notebook.tqdm` instead of `tqdm.tqdm_notebook`\n",
      "  for epoch in tqdm_notebook(range(epochs), desc=description):\n"
     ]
    },
    {
     "data": {
      "application/vnd.jupyter.widget-view+json": {
       "model_id": "67dae3a2d16d46818e4e195a1baa795e",
       "version_major": 2,
       "version_minor": 0
      },
      "text/plain": [
       "differential training:   0%|          | 0/150 [00:00<?, ?it/s]"
      ]
     },
     "metadata": {},
     "output_type": "display_data"
    },
    {
     "name": "stdout",
     "output_type": "stream",
     "text": [
      "0.6909186796898792\n",
      "(75000, 1) (75000, 1)\n"
     ]
    },
    {
     "name": "stderr",
     "output_type": "stream",
     "text": [
      "<ipython-input-584-d0dc77e0e26f>:67: TqdmDeprecationWarning: This function will be removed in tqdm==5.0.0\n",
      "Please use `tqdm.notebook.tqdm` instead of `tqdm.tqdm_notebook`\n",
      "  for epoch in tqdm_notebook(range(epochs), desc=description):\n"
     ]
    },
    {
     "data": {
      "application/vnd.jupyter.widget-view+json": {
       "model_id": "10786c8e4363422dbba3a224d68cd554",
       "version_major": 2,
       "version_minor": 0
      },
      "text/plain": [
       "differential training:   0%|          | 0/150 [00:00<?, ?it/s]"
      ]
     },
     "metadata": {},
     "output_type": "display_data"
    },
    {
     "name": "stdout",
     "output_type": "stream",
     "text": [
      "0.6779481314430151\n",
      "50\n",
      "(75000, 1) (75000, 1)\n"
     ]
    },
    {
     "name": "stderr",
     "output_type": "stream",
     "text": [
      "<ipython-input-584-d0dc77e0e26f>:67: TqdmDeprecationWarning: This function will be removed in tqdm==5.0.0\n",
      "Please use `tqdm.notebook.tqdm` instead of `tqdm.tqdm_notebook`\n",
      "  for epoch in tqdm_notebook(range(epochs), desc=description):\n"
     ]
    },
    {
     "data": {
      "application/vnd.jupyter.widget-view+json": {
       "model_id": "b689f8e638524166867757748b4d8653",
       "version_major": 2,
       "version_minor": 0
      },
      "text/plain": [
       "differential training:   0%|          | 0/150 [00:00<?, ?it/s]"
      ]
     },
     "metadata": {},
     "output_type": "display_data"
    },
    {
     "name": "stdout",
     "output_type": "stream",
     "text": [
      "0.8961972490477866\n",
      "(75000, 1) (75000, 1)\n"
     ]
    },
    {
     "name": "stderr",
     "output_type": "stream",
     "text": [
      "<ipython-input-584-d0dc77e0e26f>:67: TqdmDeprecationWarning: This function will be removed in tqdm==5.0.0\n",
      "Please use `tqdm.notebook.tqdm` instead of `tqdm.tqdm_notebook`\n",
      "  for epoch in tqdm_notebook(range(epochs), desc=description):\n"
     ]
    },
    {
     "data": {
      "application/vnd.jupyter.widget-view+json": {
       "model_id": "f066eaa042ca489985410e9b47db368d",
       "version_major": 2,
       "version_minor": 0
      },
      "text/plain": [
       "differential training:   0%|          | 0/150 [00:00<?, ?it/s]"
      ]
     },
     "metadata": {},
     "output_type": "display_data"
    },
    {
     "name": "stdout",
     "output_type": "stream",
     "text": [
      "0.68494770179238\n",
      "(75000, 1) (75000, 1)\n"
     ]
    },
    {
     "name": "stderr",
     "output_type": "stream",
     "text": [
      "<ipython-input-584-d0dc77e0e26f>:67: TqdmDeprecationWarning: This function will be removed in tqdm==5.0.0\n",
      "Please use `tqdm.notebook.tqdm` instead of `tqdm.tqdm_notebook`\n",
      "  for epoch in tqdm_notebook(range(epochs), desc=description):\n"
     ]
    },
    {
     "data": {
      "application/vnd.jupyter.widget-view+json": {
       "model_id": "3b972fd1e7924f55a951b9a2dbe4533b",
       "version_major": 2,
       "version_minor": 0
      },
      "text/plain": [
       "differential training:   0%|          | 0/150 [00:00<?, ?it/s]"
      ]
     },
     "metadata": {},
     "output_type": "display_data"
    },
    {
     "name": "stdout",
     "output_type": "stream",
     "text": [
      "0.6913403565137316\n",
      "(75000, 1) (75000, 1)\n"
     ]
    },
    {
     "name": "stderr",
     "output_type": "stream",
     "text": [
      "<ipython-input-584-d0dc77e0e26f>:67: TqdmDeprecationWarning: This function will be removed in tqdm==5.0.0\n",
      "Please use `tqdm.notebook.tqdm` instead of `tqdm.tqdm_notebook`\n",
      "  for epoch in tqdm_notebook(range(epochs), desc=description):\n"
     ]
    },
    {
     "data": {
      "application/vnd.jupyter.widget-view+json": {
       "model_id": "57101651749841cfb79efec2e54a21b5",
       "version_major": 2,
       "version_minor": 0
      },
      "text/plain": [
       "differential training:   0%|          | 0/150 [00:00<?, ?it/s]"
      ]
     },
     "metadata": {},
     "output_type": "display_data"
    },
    {
     "name": "stdout",
     "output_type": "stream",
     "text": [
      "1.467472038092232\n",
      "75\n",
      "(75000, 1) (75000, 1)\n"
     ]
    },
    {
     "name": "stderr",
     "output_type": "stream",
     "text": [
      "<ipython-input-584-d0dc77e0e26f>:67: TqdmDeprecationWarning: This function will be removed in tqdm==5.0.0\n",
      "Please use `tqdm.notebook.tqdm` instead of `tqdm.tqdm_notebook`\n",
      "  for epoch in tqdm_notebook(range(epochs), desc=description):\n"
     ]
    },
    {
     "data": {
      "application/vnd.jupyter.widget-view+json": {
       "model_id": "68d0e697eb6d4e7eace7ebb5e57d72c7",
       "version_major": 2,
       "version_minor": 0
      },
      "text/plain": [
       "differential training:   0%|          | 0/150 [00:00<?, ?it/s]"
      ]
     },
     "metadata": {},
     "output_type": "display_data"
    },
    {
     "name": "stdout",
     "output_type": "stream",
     "text": [
      "1.4708925024331947\n",
      "(75000, 1) (75000, 1)\n"
     ]
    },
    {
     "name": "stderr",
     "output_type": "stream",
     "text": [
      "<ipython-input-584-d0dc77e0e26f>:67: TqdmDeprecationWarning: This function will be removed in tqdm==5.0.0\n",
      "Please use `tqdm.notebook.tqdm` instead of `tqdm.tqdm_notebook`\n",
      "  for epoch in tqdm_notebook(range(epochs), desc=description):\n"
     ]
    },
    {
     "data": {
      "application/vnd.jupyter.widget-view+json": {
       "model_id": "7f1f0c9f877c4b44a31aa7dd317d175b",
       "version_major": 2,
       "version_minor": 0
      },
      "text/plain": [
       "differential training:   0%|          | 0/150 [00:00<?, ?it/s]"
      ]
     },
     "metadata": {},
     "output_type": "display_data"
    },
    {
     "name": "stdout",
     "output_type": "stream",
     "text": [
      "1.0617185740446273\n",
      "(75000, 1) (75000, 1)\n"
     ]
    },
    {
     "name": "stderr",
     "output_type": "stream",
     "text": [
      "<ipython-input-584-d0dc77e0e26f>:67: TqdmDeprecationWarning: This function will be removed in tqdm==5.0.0\n",
      "Please use `tqdm.notebook.tqdm` instead of `tqdm.tqdm_notebook`\n",
      "  for epoch in tqdm_notebook(range(epochs), desc=description):\n"
     ]
    },
    {
     "data": {
      "application/vnd.jupyter.widget-view+json": {
       "model_id": "94f81308c0aa4049906d6f634601ee86",
       "version_major": 2,
       "version_minor": 0
      },
      "text/plain": [
       "differential training:   0%|          | 0/150 [00:00<?, ?it/s]"
      ]
     },
     "metadata": {},
     "output_type": "display_data"
    },
    {
     "name": "stdout",
     "output_type": "stream",
     "text": [
      "0.6914885297138965\n",
      "(75000, 1) (75000, 1)\n"
     ]
    },
    {
     "name": "stderr",
     "output_type": "stream",
     "text": [
      "<ipython-input-584-d0dc77e0e26f>:67: TqdmDeprecationWarning: This function will be removed in tqdm==5.0.0\n",
      "Please use `tqdm.notebook.tqdm` instead of `tqdm.tqdm_notebook`\n",
      "  for epoch in tqdm_notebook(range(epochs), desc=description):\n"
     ]
    },
    {
     "data": {
      "application/vnd.jupyter.widget-view+json": {
       "model_id": "684ba2bebcf54c90b9a3998d8dc9286f",
       "version_major": 2,
       "version_minor": 0
      },
      "text/plain": [
       "differential training:   0%|          | 0/150 [00:00<?, ?it/s]"
      ]
     },
     "metadata": {},
     "output_type": "display_data"
    },
    {
     "name": "stdout",
     "output_type": "stream",
     "text": [
      "1.4739253333837459\n",
      "100\n",
      "(75000, 1) (75000, 1)\n"
     ]
    },
    {
     "name": "stderr",
     "output_type": "stream",
     "text": [
      "<ipython-input-584-d0dc77e0e26f>:67: TqdmDeprecationWarning: This function will be removed in tqdm==5.0.0\n",
      "Please use `tqdm.notebook.tqdm` instead of `tqdm.tqdm_notebook`\n",
      "  for epoch in tqdm_notebook(range(epochs), desc=description):\n"
     ]
    },
    {
     "data": {
      "application/vnd.jupyter.widget-view+json": {
       "model_id": "7154706910e9472b920b89dffecf54d4",
       "version_major": 2,
       "version_minor": 0
      },
      "text/plain": [
       "differential training:   0%|          | 0/150 [00:00<?, ?it/s]"
      ]
     },
     "metadata": {},
     "output_type": "display_data"
    },
    {
     "name": "stdout",
     "output_type": "stream",
     "text": [
      "1.5245907629770743\n",
      "(75000, 1) (75000, 1)\n"
     ]
    },
    {
     "name": "stderr",
     "output_type": "stream",
     "text": [
      "<ipython-input-584-d0dc77e0e26f>:67: TqdmDeprecationWarning: This function will be removed in tqdm==5.0.0\n",
      "Please use `tqdm.notebook.tqdm` instead of `tqdm.tqdm_notebook`\n",
      "  for epoch in tqdm_notebook(range(epochs), desc=description):\n"
     ]
    },
    {
     "data": {
      "application/vnd.jupyter.widget-view+json": {
       "model_id": "7379f5564fda43228df9c5418693d70c",
       "version_major": 2,
       "version_minor": 0
      },
      "text/plain": [
       "differential training:   0%|          | 0/150 [00:00<?, ?it/s]"
      ]
     },
     "metadata": {},
     "output_type": "display_data"
    },
    {
     "name": "stdout",
     "output_type": "stream",
     "text": [
      "1.4711806011307023\n",
      "(75000, 1) (75000, 1)\n"
     ]
    },
    {
     "name": "stderr",
     "output_type": "stream",
     "text": [
      "<ipython-input-584-d0dc77e0e26f>:67: TqdmDeprecationWarning: This function will be removed in tqdm==5.0.0\n",
      "Please use `tqdm.notebook.tqdm` instead of `tqdm.tqdm_notebook`\n",
      "  for epoch in tqdm_notebook(range(epochs), desc=description):\n"
     ]
    },
    {
     "data": {
      "application/vnd.jupyter.widget-view+json": {
       "model_id": "c0cd5ba0d4844fc699324ad66c47b8df",
       "version_major": 2,
       "version_minor": 0
      },
      "text/plain": [
       "differential training:   0%|          | 0/150 [00:00<?, ?it/s]"
      ]
     },
     "metadata": {},
     "output_type": "display_data"
    },
    {
     "name": "stdout",
     "output_type": "stream",
     "text": [
      "1.5031904490931427\n",
      "(75000, 1) (75000, 1)\n"
     ]
    },
    {
     "name": "stderr",
     "output_type": "stream",
     "text": [
      "<ipython-input-584-d0dc77e0e26f>:67: TqdmDeprecationWarning: This function will be removed in tqdm==5.0.0\n",
      "Please use `tqdm.notebook.tqdm` instead of `tqdm.tqdm_notebook`\n",
      "  for epoch in tqdm_notebook(range(epochs), desc=description):\n"
     ]
    },
    {
     "data": {
      "application/vnd.jupyter.widget-view+json": {
       "model_id": "49425f5113eb40398b0273fe7307b1cc",
       "version_major": 2,
       "version_minor": 0
      },
      "text/plain": [
       "differential training:   0%|          | 0/150 [00:00<?, ?it/s]"
      ]
     },
     "metadata": {},
     "output_type": "display_data"
    },
    {
     "name": "stdout",
     "output_type": "stream",
     "text": [
      "0.6795275221601286\n",
      "10\n",
      "5\n",
      "(75000, 1) (75000, 1)\n"
     ]
    },
    {
     "name": "stderr",
     "output_type": "stream",
     "text": [
      "<ipython-input-584-d0dc77e0e26f>:67: TqdmDeprecationWarning: This function will be removed in tqdm==5.0.0\n",
      "Please use `tqdm.notebook.tqdm` instead of `tqdm.tqdm_notebook`\n",
      "  for epoch in tqdm_notebook(range(epochs), desc=description):\n"
     ]
    },
    {
     "data": {
      "application/vnd.jupyter.widget-view+json": {
       "model_id": "9e4a5e728ba64b7596c767454b5d07cc",
       "version_major": 2,
       "version_minor": 0
      },
      "text/plain": [
       "differential training:   0%|          | 0/150 [00:00<?, ?it/s]"
      ]
     },
     "metadata": {},
     "output_type": "display_data"
    },
    {
     "name": "stdout",
     "output_type": "stream",
     "text": [
      "0.6970093044275958\n",
      "(75000, 1) (75000, 1)\n"
     ]
    },
    {
     "name": "stderr",
     "output_type": "stream",
     "text": [
      "<ipython-input-584-d0dc77e0e26f>:67: TqdmDeprecationWarning: This function will be removed in tqdm==5.0.0\n",
      "Please use `tqdm.notebook.tqdm` instead of `tqdm.tqdm_notebook`\n",
      "  for epoch in tqdm_notebook(range(epochs), desc=description):\n"
     ]
    },
    {
     "data": {
      "application/vnd.jupyter.widget-view+json": {
       "model_id": "8f9d8fb555cd42eb9b04dcbb9ade2dae",
       "version_major": 2,
       "version_minor": 0
      },
      "text/plain": [
       "differential training:   0%|          | 0/150 [00:00<?, ?it/s]"
      ]
     },
     "metadata": {},
     "output_type": "display_data"
    },
    {
     "name": "stdout",
     "output_type": "stream",
     "text": [
      "0.6837051758379296\n",
      "(75000, 1) (75000, 1)\n"
     ]
    },
    {
     "name": "stderr",
     "output_type": "stream",
     "text": [
      "<ipython-input-584-d0dc77e0e26f>:67: TqdmDeprecationWarning: This function will be removed in tqdm==5.0.0\n",
      "Please use `tqdm.notebook.tqdm` instead of `tqdm.tqdm_notebook`\n",
      "  for epoch in tqdm_notebook(range(epochs), desc=description):\n"
     ]
    },
    {
     "data": {
      "application/vnd.jupyter.widget-view+json": {
       "model_id": "e5938f32290548f18ce028dc231408b0",
       "version_major": 2,
       "version_minor": 0
      },
      "text/plain": [
       "differential training:   0%|          | 0/150 [00:00<?, ?it/s]"
      ]
     },
     "metadata": {},
     "output_type": "display_data"
    },
    {
     "name": "stdout",
     "output_type": "stream",
     "text": [
      "0.6906712957537406\n",
      "(75000, 1) (75000, 1)\n"
     ]
    },
    {
     "name": "stderr",
     "output_type": "stream",
     "text": [
      "<ipython-input-584-d0dc77e0e26f>:67: TqdmDeprecationWarning: This function will be removed in tqdm==5.0.0\n",
      "Please use `tqdm.notebook.tqdm` instead of `tqdm.tqdm_notebook`\n",
      "  for epoch in tqdm_notebook(range(epochs), desc=description):\n"
     ]
    },
    {
     "data": {
      "application/vnd.jupyter.widget-view+json": {
       "model_id": "5ee265db9db447329d82d6d34158463a",
       "version_major": 2,
       "version_minor": 0
      },
      "text/plain": [
       "differential training:   0%|          | 0/150 [00:00<?, ?it/s]"
      ]
     },
     "metadata": {},
     "output_type": "display_data"
    },
    {
     "name": "stdout",
     "output_type": "stream",
     "text": [
      "0.6780832737325957\n",
      "25\n",
      "(75000, 1) (75000, 1)\n"
     ]
    },
    {
     "name": "stderr",
     "output_type": "stream",
     "text": [
      "<ipython-input-584-d0dc77e0e26f>:67: TqdmDeprecationWarning: This function will be removed in tqdm==5.0.0\n",
      "Please use `tqdm.notebook.tqdm` instead of `tqdm.tqdm_notebook`\n",
      "  for epoch in tqdm_notebook(range(epochs), desc=description):\n"
     ]
    },
    {
     "data": {
      "application/vnd.jupyter.widget-view+json": {
       "model_id": "e0c719128c4b4e62a1f2fe692024ebea",
       "version_major": 2,
       "version_minor": 0
      },
      "text/plain": [
       "differential training:   0%|          | 0/150 [00:00<?, ?it/s]"
      ]
     },
     "metadata": {},
     "output_type": "display_data"
    },
    {
     "name": "stdout",
     "output_type": "stream",
     "text": [
      "0.6974775215998927\n",
      "(75000, 1) (75000, 1)\n"
     ]
    },
    {
     "name": "stderr",
     "output_type": "stream",
     "text": [
      "<ipython-input-584-d0dc77e0e26f>:67: TqdmDeprecationWarning: This function will be removed in tqdm==5.0.0\n",
      "Please use `tqdm.notebook.tqdm` instead of `tqdm.tqdm_notebook`\n",
      "  for epoch in tqdm_notebook(range(epochs), desc=description):\n"
     ]
    },
    {
     "data": {
      "application/vnd.jupyter.widget-view+json": {
       "model_id": "c108909375634d8a853f53882450722c",
       "version_major": 2,
       "version_minor": 0
      },
      "text/plain": [
       "differential training:   0%|          | 0/150 [00:00<?, ?it/s]"
      ]
     },
     "metadata": {},
     "output_type": "display_data"
    },
    {
     "name": "stdout",
     "output_type": "stream",
     "text": [
      "0.6838853525070315\n",
      "(75000, 1) (75000, 1)\n"
     ]
    },
    {
     "name": "stderr",
     "output_type": "stream",
     "text": [
      "<ipython-input-584-d0dc77e0e26f>:67: TqdmDeprecationWarning: This function will be removed in tqdm==5.0.0\n",
      "Please use `tqdm.notebook.tqdm` instead of `tqdm.tqdm_notebook`\n",
      "  for epoch in tqdm_notebook(range(epochs), desc=description):\n"
     ]
    },
    {
     "data": {
      "application/vnd.jupyter.widget-view+json": {
       "model_id": "8f6191414d79483da0d8d23f78cd0dca",
       "version_major": 2,
       "version_minor": 0
      },
      "text/plain": [
       "differential training:   0%|          | 0/150 [00:00<?, ?it/s]"
      ]
     },
     "metadata": {},
     "output_type": "display_data"
    },
    {
     "name": "stdout",
     "output_type": "stream",
     "text": [
      "0.6909111806960437\n",
      "(75000, 1) (75000, 1)\n"
     ]
    },
    {
     "name": "stderr",
     "output_type": "stream",
     "text": [
      "<ipython-input-584-d0dc77e0e26f>:67: TqdmDeprecationWarning: This function will be removed in tqdm==5.0.0\n",
      "Please use `tqdm.notebook.tqdm` instead of `tqdm.tqdm_notebook`\n",
      "  for epoch in tqdm_notebook(range(epochs), desc=description):\n"
     ]
    },
    {
     "data": {
      "application/vnd.jupyter.widget-view+json": {
       "model_id": "6b00b9f275174c29868351a6635cfc44",
       "version_major": 2,
       "version_minor": 0
      },
      "text/plain": [
       "differential training:   0%|          | 0/150 [00:00<?, ?it/s]"
      ]
     },
     "metadata": {},
     "output_type": "display_data"
    },
    {
     "name": "stdout",
     "output_type": "stream",
     "text": [
      "0.6780019555757648\n",
      "50\n",
      "(75000, 1) (75000, 1)\n"
     ]
    },
    {
     "name": "stderr",
     "output_type": "stream",
     "text": [
      "<ipython-input-584-d0dc77e0e26f>:67: TqdmDeprecationWarning: This function will be removed in tqdm==5.0.0\n",
      "Please use `tqdm.notebook.tqdm` instead of `tqdm.tqdm_notebook`\n",
      "  for epoch in tqdm_notebook(range(epochs), desc=description):\n"
     ]
    },
    {
     "data": {
      "application/vnd.jupyter.widget-view+json": {
       "model_id": "ea163150ab234a868e860c1c03de978a",
       "version_major": 2,
       "version_minor": 0
      },
      "text/plain": [
       "differential training:   0%|          | 0/150 [00:00<?, ?it/s]"
      ]
     },
     "metadata": {},
     "output_type": "display_data"
    },
    {
     "name": "stdout",
     "output_type": "stream",
     "text": [
      "1.4757839905260113\n",
      "(75000, 1) (75000, 1)\n"
     ]
    },
    {
     "name": "stderr",
     "output_type": "stream",
     "text": [
      "<ipython-input-584-d0dc77e0e26f>:67: TqdmDeprecationWarning: This function will be removed in tqdm==5.0.0\n",
      "Please use `tqdm.notebook.tqdm` instead of `tqdm.tqdm_notebook`\n",
      "  for epoch in tqdm_notebook(range(epochs), desc=description):\n"
     ]
    },
    {
     "data": {
      "application/vnd.jupyter.widget-view+json": {
       "model_id": "bdf7e520af8c4738918ed48fc3c326b8",
       "version_major": 2,
       "version_minor": 0
      },
      "text/plain": [
       "differential training:   0%|          | 0/150 [00:00<?, ?it/s]"
      ]
     },
     "metadata": {},
     "output_type": "display_data"
    },
    {
     "name": "stdout",
     "output_type": "stream",
     "text": [
      "1.464559361272234\n",
      "(75000, 1) (75000, 1)\n"
     ]
    },
    {
     "name": "stderr",
     "output_type": "stream",
     "text": [
      "<ipython-input-584-d0dc77e0e26f>:67: TqdmDeprecationWarning: This function will be removed in tqdm==5.0.0\n",
      "Please use `tqdm.notebook.tqdm` instead of `tqdm.tqdm_notebook`\n",
      "  for epoch in tqdm_notebook(range(epochs), desc=description):\n"
     ]
    },
    {
     "data": {
      "application/vnd.jupyter.widget-view+json": {
       "model_id": "839660141991460383e317945d3a1a2b",
       "version_major": 2,
       "version_minor": 0
      },
      "text/plain": [
       "differential training:   0%|          | 0/150 [00:00<?, ?it/s]"
      ]
     },
     "metadata": {},
     "output_type": "display_data"
    },
    {
     "name": "stdout",
     "output_type": "stream",
     "text": [
      "1.4677193802470017\n",
      "(75000, 1) (75000, 1)\n"
     ]
    },
    {
     "name": "stderr",
     "output_type": "stream",
     "text": [
      "<ipython-input-584-d0dc77e0e26f>:67: TqdmDeprecationWarning: This function will be removed in tqdm==5.0.0\n",
      "Please use `tqdm.notebook.tqdm` instead of `tqdm.tqdm_notebook`\n",
      "  for epoch in tqdm_notebook(range(epochs), desc=description):\n"
     ]
    },
    {
     "data": {
      "application/vnd.jupyter.widget-view+json": {
       "model_id": "9c230051e6ce4d899935a37f269417b5",
       "version_major": 2,
       "version_minor": 0
      },
      "text/plain": [
       "differential training:   0%|          | 0/150 [00:00<?, ?it/s]"
      ]
     },
     "metadata": {},
     "output_type": "display_data"
    },
    {
     "name": "stdout",
     "output_type": "stream",
     "text": [
      "1.4674548867168327\n",
      "75\n",
      "(75000, 1) (75000, 1)\n"
     ]
    },
    {
     "name": "stderr",
     "output_type": "stream",
     "text": [
      "<ipython-input-584-d0dc77e0e26f>:67: TqdmDeprecationWarning: This function will be removed in tqdm==5.0.0\n",
      "Please use `tqdm.notebook.tqdm` instead of `tqdm.tqdm_notebook`\n",
      "  for epoch in tqdm_notebook(range(epochs), desc=description):\n"
     ]
    },
    {
     "data": {
      "application/vnd.jupyter.widget-view+json": {
       "model_id": "786360c3bf0746b88f562644fd310ec6",
       "version_major": 2,
       "version_minor": 0
      },
      "text/plain": [
       "differential training:   0%|          | 0/150 [00:00<?, ?it/s]"
      ]
     },
     "metadata": {},
     "output_type": "display_data"
    },
    {
     "name": "stdout",
     "output_type": "stream",
     "text": [
      "1.4788831374189388\n",
      "(75000, 1) (75000, 1)\n"
     ]
    },
    {
     "name": "stderr",
     "output_type": "stream",
     "text": [
      "<ipython-input-584-d0dc77e0e26f>:67: TqdmDeprecationWarning: This function will be removed in tqdm==5.0.0\n",
      "Please use `tqdm.notebook.tqdm` instead of `tqdm.tqdm_notebook`\n",
      "  for epoch in tqdm_notebook(range(epochs), desc=description):\n"
     ]
    },
    {
     "data": {
      "application/vnd.jupyter.widget-view+json": {
       "model_id": "049fe5709db849e3ba53056df81de625",
       "version_major": 2,
       "version_minor": 0
      },
      "text/plain": [
       "differential training:   0%|          | 0/150 [00:00<?, ?it/s]"
      ]
     },
     "metadata": {},
     "output_type": "display_data"
    },
    {
     "name": "stdout",
     "output_type": "stream",
     "text": [
      "0.695334457580318\n",
      "(75000, 1) (75000, 1)\n"
     ]
    },
    {
     "name": "stderr",
     "output_type": "stream",
     "text": [
      "<ipython-input-584-d0dc77e0e26f>:67: TqdmDeprecationWarning: This function will be removed in tqdm==5.0.0\n",
      "Please use `tqdm.notebook.tqdm` instead of `tqdm.tqdm_notebook`\n",
      "  for epoch in tqdm_notebook(range(epochs), desc=description):\n"
     ]
    },
    {
     "data": {
      "application/vnd.jupyter.widget-view+json": {
       "model_id": "9d5a6726584c4b4d84177f0229ad7e1c",
       "version_major": 2,
       "version_minor": 0
      },
      "text/plain": [
       "differential training:   0%|          | 0/150 [00:00<?, ?it/s]"
      ]
     },
     "metadata": {},
     "output_type": "display_data"
    },
    {
     "name": "stdout",
     "output_type": "stream",
     "text": [
      "0.6924366947648439\n",
      "(75000, 1) (75000, 1)\n"
     ]
    },
    {
     "name": "stderr",
     "output_type": "stream",
     "text": [
      "<ipython-input-584-d0dc77e0e26f>:67: TqdmDeprecationWarning: This function will be removed in tqdm==5.0.0\n",
      "Please use `tqdm.notebook.tqdm` instead of `tqdm.tqdm_notebook`\n",
      "  for epoch in tqdm_notebook(range(epochs), desc=description):\n"
     ]
    },
    {
     "data": {
      "application/vnd.jupyter.widget-view+json": {
       "model_id": "eb0563b981d245af97d42d9912d1a93d",
       "version_major": 2,
       "version_minor": 0
      },
      "text/plain": [
       "differential training:   0%|          | 0/150 [00:00<?, ?it/s]"
      ]
     },
     "metadata": {},
     "output_type": "display_data"
    },
    {
     "name": "stdout",
     "output_type": "stream",
     "text": [
      "1.468840089216246\n",
      "100\n",
      "(75000, 1) (75000, 1)\n"
     ]
    },
    {
     "name": "stderr",
     "output_type": "stream",
     "text": [
      "<ipython-input-584-d0dc77e0e26f>:67: TqdmDeprecationWarning: This function will be removed in tqdm==5.0.0\n",
      "Please use `tqdm.notebook.tqdm` instead of `tqdm.tqdm_notebook`\n",
      "  for epoch in tqdm_notebook(range(epochs), desc=description):\n"
     ]
    },
    {
     "data": {
      "application/vnd.jupyter.widget-view+json": {
       "model_id": "d92a7a5e0b14441fa17f5dea56a16f33",
       "version_major": 2,
       "version_minor": 0
      },
      "text/plain": [
       "differential training:   0%|          | 0/150 [00:00<?, ?it/s]"
      ]
     },
     "metadata": {},
     "output_type": "display_data"
    },
    {
     "name": "stdout",
     "output_type": "stream",
     "text": [
      "1.5248901134567245\n",
      "(75000, 1) (75000, 1)\n"
     ]
    },
    {
     "name": "stderr",
     "output_type": "stream",
     "text": [
      "<ipython-input-584-d0dc77e0e26f>:67: TqdmDeprecationWarning: This function will be removed in tqdm==5.0.0\n",
      "Please use `tqdm.notebook.tqdm` instead of `tqdm.tqdm_notebook`\n",
      "  for epoch in tqdm_notebook(range(epochs), desc=description):\n"
     ]
    },
    {
     "data": {
      "application/vnd.jupyter.widget-view+json": {
       "model_id": "e6e8ae4ca02344248ae38a1e50e5148f",
       "version_major": 2,
       "version_minor": 0
      },
      "text/plain": [
       "differential training:   0%|          | 0/150 [00:00<?, ?it/s]"
      ]
     },
     "metadata": {},
     "output_type": "display_data"
    },
    {
     "name": "stdout",
     "output_type": "stream",
     "text": [
      "0.6863723196389193\n",
      "(75000, 1) (75000, 1)\n"
     ]
    },
    {
     "name": "stderr",
     "output_type": "stream",
     "text": [
      "<ipython-input-584-d0dc77e0e26f>:67: TqdmDeprecationWarning: This function will be removed in tqdm==5.0.0\n",
      "Please use `tqdm.notebook.tqdm` instead of `tqdm.tqdm_notebook`\n",
      "  for epoch in tqdm_notebook(range(epochs), desc=description):\n"
     ]
    },
    {
     "data": {
      "application/vnd.jupyter.widget-view+json": {
       "model_id": "c1eb9cefa69743599982c672767cdae2",
       "version_major": 2,
       "version_minor": 0
      },
      "text/plain": [
       "differential training:   0%|          | 0/150 [00:00<?, ?it/s]"
      ]
     },
     "metadata": {},
     "output_type": "display_data"
    },
    {
     "name": "stdout",
     "output_type": "stream",
     "text": [
      "1.5118989186152172\n",
      "(75000, 1) (75000, 1)\n"
     ]
    },
    {
     "name": "stderr",
     "output_type": "stream",
     "text": [
      "<ipython-input-584-d0dc77e0e26f>:67: TqdmDeprecationWarning: This function will be removed in tqdm==5.0.0\n",
      "Please use `tqdm.notebook.tqdm` instead of `tqdm.tqdm_notebook`\n",
      "  for epoch in tqdm_notebook(range(epochs), desc=description):\n"
     ]
    },
    {
     "data": {
      "application/vnd.jupyter.widget-view+json": {
       "model_id": "4f672cff87a74f828221314acb2e9f76",
       "version_major": 2,
       "version_minor": 0
      },
      "text/plain": [
       "differential training:   0%|          | 0/150 [00:00<?, ?it/s]"
      ]
     },
     "metadata": {},
     "output_type": "display_data"
    },
    {
     "name": "stdout",
     "output_type": "stream",
     "text": [
      "1.4980256245095545\n",
      "15\n",
      "5\n",
      "(75000, 1) (75000, 1)\n"
     ]
    },
    {
     "name": "stderr",
     "output_type": "stream",
     "text": [
      "<ipython-input-584-d0dc77e0e26f>:67: TqdmDeprecationWarning: This function will be removed in tqdm==5.0.0\n",
      "Please use `tqdm.notebook.tqdm` instead of `tqdm.tqdm_notebook`\n",
      "  for epoch in tqdm_notebook(range(epochs), desc=description):\n"
     ]
    },
    {
     "data": {
      "application/vnd.jupyter.widget-view+json": {
       "model_id": "68cfc4949b7a4e94b9cceca47a82d770",
       "version_major": 2,
       "version_minor": 0
      },
      "text/plain": [
       "differential training:   0%|          | 0/150 [00:00<?, ?it/s]"
      ]
     },
     "metadata": {},
     "output_type": "display_data"
    },
    {
     "name": "stdout",
     "output_type": "stream",
     "text": [
      "0.6970617146419557\n",
      "(75000, 1) (75000, 1)\n"
     ]
    },
    {
     "name": "stderr",
     "output_type": "stream",
     "text": [
      "<ipython-input-584-d0dc77e0e26f>:67: TqdmDeprecationWarning: This function will be removed in tqdm==5.0.0\n",
      "Please use `tqdm.notebook.tqdm` instead of `tqdm.tqdm_notebook`\n",
      "  for epoch in tqdm_notebook(range(epochs), desc=description):\n"
     ]
    },
    {
     "data": {
      "application/vnd.jupyter.widget-view+json": {
       "model_id": "e260c7d8b7214dcc95e4946ca64b6bc6",
       "version_major": 2,
       "version_minor": 0
      },
      "text/plain": [
       "differential training:   0%|          | 0/150 [00:00<?, ?it/s]"
      ]
     },
     "metadata": {},
     "output_type": "display_data"
    },
    {
     "name": "stdout",
     "output_type": "stream",
     "text": [
      "0.6836206003212943\n",
      "(75000, 1) (75000, 1)\n"
     ]
    },
    {
     "name": "stderr",
     "output_type": "stream",
     "text": [
      "<ipython-input-584-d0dc77e0e26f>:67: TqdmDeprecationWarning: This function will be removed in tqdm==5.0.0\n",
      "Please use `tqdm.notebook.tqdm` instead of `tqdm.tqdm_notebook`\n",
      "  for epoch in tqdm_notebook(range(epochs), desc=description):\n"
     ]
    },
    {
     "data": {
      "application/vnd.jupyter.widget-view+json": {
       "model_id": "8c95ad6f52c642ffb2ad4102d348966a",
       "version_major": 2,
       "version_minor": 0
      },
      "text/plain": [
       "differential training:   0%|          | 0/150 [00:00<?, ?it/s]"
      ]
     },
     "metadata": {},
     "output_type": "display_data"
    },
    {
     "name": "stdout",
     "output_type": "stream",
     "text": [
      "0.6907149315422336\n",
      "(75000, 1) (75000, 1)\n"
     ]
    },
    {
     "name": "stderr",
     "output_type": "stream",
     "text": [
      "<ipython-input-584-d0dc77e0e26f>:67: TqdmDeprecationWarning: This function will be removed in tqdm==5.0.0\n",
      "Please use `tqdm.notebook.tqdm` instead of `tqdm.tqdm_notebook`\n",
      "  for epoch in tqdm_notebook(range(epochs), desc=description):\n"
     ]
    },
    {
     "data": {
      "application/vnd.jupyter.widget-view+json": {
       "model_id": "8835a3ce035b4840836d92b0623feb68",
       "version_major": 2,
       "version_minor": 0
      },
      "text/plain": [
       "differential training:   0%|          | 0/150 [00:00<?, ?it/s]"
      ]
     },
     "metadata": {},
     "output_type": "display_data"
    },
    {
     "name": "stdout",
     "output_type": "stream",
     "text": [
      "0.678669611891171\n",
      "25\n",
      "(75000, 1) (75000, 1)\n"
     ]
    },
    {
     "name": "stderr",
     "output_type": "stream",
     "text": [
      "<ipython-input-584-d0dc77e0e26f>:67: TqdmDeprecationWarning: This function will be removed in tqdm==5.0.0\n",
      "Please use `tqdm.notebook.tqdm` instead of `tqdm.tqdm_notebook`\n",
      "  for epoch in tqdm_notebook(range(epochs), desc=description):\n"
     ]
    },
    {
     "data": {
      "application/vnd.jupyter.widget-view+json": {
       "model_id": "7829b4f2b24a42b2b540f8aee03b1115",
       "version_major": 2,
       "version_minor": 0
      },
      "text/plain": [
       "differential training:   0%|          | 0/150 [00:00<?, ?it/s]"
      ]
     },
     "metadata": {},
     "output_type": "display_data"
    },
    {
     "name": "stdout",
     "output_type": "stream",
     "text": [
      "0.6972398593990861\n",
      "(75000, 1) (75000, 1)\n"
     ]
    },
    {
     "name": "stderr",
     "output_type": "stream",
     "text": [
      "<ipython-input-584-d0dc77e0e26f>:67: TqdmDeprecationWarning: This function will be removed in tqdm==5.0.0\n",
      "Please use `tqdm.notebook.tqdm` instead of `tqdm.tqdm_notebook`\n",
      "  for epoch in tqdm_notebook(range(epochs), desc=description):\n"
     ]
    },
    {
     "data": {
      "application/vnd.jupyter.widget-view+json": {
       "model_id": "73595e4e1a7c4d6a9f8aac6f567fe877",
       "version_major": 2,
       "version_minor": 0
      },
      "text/plain": [
       "differential training:   0%|          | 0/150 [00:00<?, ?it/s]"
      ]
     },
     "metadata": {},
     "output_type": "display_data"
    },
    {
     "name": "stdout",
     "output_type": "stream",
     "text": [
      "0.6838539223691777\n",
      "(75000, 1) (75000, 1)\n"
     ]
    },
    {
     "name": "stderr",
     "output_type": "stream",
     "text": [
      "<ipython-input-584-d0dc77e0e26f>:67: TqdmDeprecationWarning: This function will be removed in tqdm==5.0.0\n",
      "Please use `tqdm.notebook.tqdm` instead of `tqdm.tqdm_notebook`\n",
      "  for epoch in tqdm_notebook(range(epochs), desc=description):\n"
     ]
    },
    {
     "data": {
      "application/vnd.jupyter.widget-view+json": {
       "model_id": "86551f4de2ab4ca5a3378885cf8370b1",
       "version_major": 2,
       "version_minor": 0
      },
      "text/plain": [
       "differential training:   0%|          | 0/150 [00:00<?, ?it/s]"
      ]
     },
     "metadata": {},
     "output_type": "display_data"
    },
    {
     "name": "stdout",
     "output_type": "stream",
     "text": [
      "0.6904585872651838\n",
      "(75000, 1) (75000, 1)\n"
     ]
    },
    {
     "name": "stderr",
     "output_type": "stream",
     "text": [
      "<ipython-input-584-d0dc77e0e26f>:67: TqdmDeprecationWarning: This function will be removed in tqdm==5.0.0\n",
      "Please use `tqdm.notebook.tqdm` instead of `tqdm.tqdm_notebook`\n",
      "  for epoch in tqdm_notebook(range(epochs), desc=description):\n"
     ]
    },
    {
     "data": {
      "application/vnd.jupyter.widget-view+json": {
       "model_id": "ae701c9f650a4275a680b8df47b09482",
       "version_major": 2,
       "version_minor": 0
      },
      "text/plain": [
       "differential training:   0%|          | 0/150 [00:00<?, ?it/s]"
      ]
     },
     "metadata": {},
     "output_type": "display_data"
    },
    {
     "name": "stdout",
     "output_type": "stream",
     "text": [
      "0.6787553864752214\n",
      "50\n",
      "(75000, 1) (75000, 1)\n"
     ]
    },
    {
     "name": "stderr",
     "output_type": "stream",
     "text": [
      "<ipython-input-584-d0dc77e0e26f>:67: TqdmDeprecationWarning: This function will be removed in tqdm==5.0.0\n",
      "Please use `tqdm.notebook.tqdm` instead of `tqdm.tqdm_notebook`\n",
      "  for epoch in tqdm_notebook(range(epochs), desc=description):\n"
     ]
    },
    {
     "data": {
      "application/vnd.jupyter.widget-view+json": {
       "model_id": "214d4d5db18342dab3584a0a8c670941",
       "version_major": 2,
       "version_minor": 0
      },
      "text/plain": [
       "differential training:   0%|          | 0/150 [00:00<?, ?it/s]"
      ]
     },
     "metadata": {},
     "output_type": "display_data"
    },
    {
     "name": "stdout",
     "output_type": "stream",
     "text": [
      "1.4757821402349334\n",
      "(75000, 1) (75000, 1)\n"
     ]
    },
    {
     "name": "stderr",
     "output_type": "stream",
     "text": [
      "<ipython-input-584-d0dc77e0e26f>:67: TqdmDeprecationWarning: This function will be removed in tqdm==5.0.0\n",
      "Please use `tqdm.notebook.tqdm` instead of `tqdm.tqdm_notebook`\n",
      "  for epoch in tqdm_notebook(range(epochs), desc=description):\n"
     ]
    },
    {
     "data": {
      "application/vnd.jupyter.widget-view+json": {
       "model_id": "d4511a36461f4985b6ccd32e495a11d5",
       "version_major": 2,
       "version_minor": 0
      },
      "text/plain": [
       "differential training:   0%|          | 0/150 [00:00<?, ?it/s]"
      ]
     },
     "metadata": {},
     "output_type": "display_data"
    },
    {
     "name": "stdout",
     "output_type": "stream",
     "text": [
      "1.150806248973933\n",
      "(75000, 1) (75000, 1)\n"
     ]
    },
    {
     "name": "stderr",
     "output_type": "stream",
     "text": [
      "<ipython-input-584-d0dc77e0e26f>:67: TqdmDeprecationWarning: This function will be removed in tqdm==5.0.0\n",
      "Please use `tqdm.notebook.tqdm` instead of `tqdm.tqdm_notebook`\n",
      "  for epoch in tqdm_notebook(range(epochs), desc=description):\n"
     ]
    },
    {
     "data": {
      "application/vnd.jupyter.widget-view+json": {
       "model_id": "fda82222775045b19a8fdb8324e21d30",
       "version_major": 2,
       "version_minor": 0
      },
      "text/plain": [
       "differential training:   0%|          | 0/150 [00:00<?, ?it/s]"
      ]
     },
     "metadata": {},
     "output_type": "display_data"
    },
    {
     "name": "stdout",
     "output_type": "stream",
     "text": [
      "1.4677016639384277\n",
      "(75000, 1) (75000, 1)\n"
     ]
    },
    {
     "name": "stderr",
     "output_type": "stream",
     "text": [
      "<ipython-input-584-d0dc77e0e26f>:67: TqdmDeprecationWarning: This function will be removed in tqdm==5.0.0\n",
      "Please use `tqdm.notebook.tqdm` instead of `tqdm.tqdm_notebook`\n",
      "  for epoch in tqdm_notebook(range(epochs), desc=description):\n"
     ]
    },
    {
     "data": {
      "application/vnd.jupyter.widget-view+json": {
       "model_id": "62be368a134f4f4ca0617a0346f1727d",
       "version_major": 2,
       "version_minor": 0
      },
      "text/plain": [
       "differential training:   0%|          | 0/150 [00:00<?, ?it/s]"
      ]
     },
     "metadata": {},
     "output_type": "display_data"
    },
    {
     "name": "stdout",
     "output_type": "stream",
     "text": [
      "1.4674204446780688\n",
      "75\n",
      "(75000, 1) (75000, 1)\n"
     ]
    },
    {
     "name": "stderr",
     "output_type": "stream",
     "text": [
      "<ipython-input-584-d0dc77e0e26f>:67: TqdmDeprecationWarning: This function will be removed in tqdm==5.0.0\n",
      "Please use `tqdm.notebook.tqdm` instead of `tqdm.tqdm_notebook`\n",
      "  for epoch in tqdm_notebook(range(epochs), desc=description):\n"
     ]
    },
    {
     "data": {
      "application/vnd.jupyter.widget-view+json": {
       "model_id": "5a8e9609221249e6858477c4a78cc065",
       "version_major": 2,
       "version_minor": 0
      },
      "text/plain": [
       "differential training:   0%|          | 0/150 [00:00<?, ?it/s]"
      ]
     },
     "metadata": {},
     "output_type": "display_data"
    },
    {
     "name": "stdout",
     "output_type": "stream",
     "text": [
      "0.6979881264493438\n",
      "(75000, 1) (75000, 1)\n"
     ]
    },
    {
     "name": "stderr",
     "output_type": "stream",
     "text": [
      "<ipython-input-584-d0dc77e0e26f>:67: TqdmDeprecationWarning: This function will be removed in tqdm==5.0.0\n",
      "Please use `tqdm.notebook.tqdm` instead of `tqdm.tqdm_notebook`\n",
      "  for epoch in tqdm_notebook(range(epochs), desc=description):\n"
     ]
    },
    {
     "data": {
      "application/vnd.jupyter.widget-view+json": {
       "model_id": "4c0ceca277c54c2dbed64ebc4ba25151",
       "version_major": 2,
       "version_minor": 0
      },
      "text/plain": [
       "differential training:   0%|          | 0/150 [00:00<?, ?it/s]"
      ]
     },
     "metadata": {},
     "output_type": "display_data"
    },
    {
     "name": "stdout",
     "output_type": "stream",
     "text": [
      "1.4655066984995604\n",
      "(75000, 1) (75000, 1)\n"
     ]
    },
    {
     "name": "stderr",
     "output_type": "stream",
     "text": [
      "<ipython-input-584-d0dc77e0e26f>:67: TqdmDeprecationWarning: This function will be removed in tqdm==5.0.0\n",
      "Please use `tqdm.notebook.tqdm` instead of `tqdm.tqdm_notebook`\n",
      "  for epoch in tqdm_notebook(range(epochs), desc=description):\n"
     ]
    },
    {
     "data": {
      "application/vnd.jupyter.widget-view+json": {
       "model_id": "225940a665ed44d6a553fa2dd6bb20c0",
       "version_major": 2,
       "version_minor": 0
      },
      "text/plain": [
       "differential training:   0%|          | 0/150 [00:00<?, ?it/s]"
      ]
     },
     "metadata": {},
     "output_type": "display_data"
    },
    {
     "name": "stdout",
     "output_type": "stream",
     "text": [
      "0.6905943450509052\n",
      "(75000, 1) (75000, 1)\n"
     ]
    },
    {
     "name": "stderr",
     "output_type": "stream",
     "text": [
      "<ipython-input-584-d0dc77e0e26f>:67: TqdmDeprecationWarning: This function will be removed in tqdm==5.0.0\n",
      "Please use `tqdm.notebook.tqdm` instead of `tqdm.tqdm_notebook`\n",
      "  for epoch in tqdm_notebook(range(epochs), desc=description):\n"
     ]
    },
    {
     "data": {
      "application/vnd.jupyter.widget-view+json": {
       "model_id": "dc9b4da4a0f346d0bc40cc93270ebc8e",
       "version_major": 2,
       "version_minor": 0
      },
      "text/plain": [
       "differential training:   0%|          | 0/150 [00:00<?, ?it/s]"
      ]
     },
     "metadata": {},
     "output_type": "display_data"
    },
    {
     "name": "stdout",
     "output_type": "stream",
     "text": [
      "1.4696770088317854\n",
      "100\n",
      "(75000, 1) (75000, 1)\n"
     ]
    },
    {
     "name": "stderr",
     "output_type": "stream",
     "text": [
      "<ipython-input-584-d0dc77e0e26f>:67: TqdmDeprecationWarning: This function will be removed in tqdm==5.0.0\n",
      "Please use `tqdm.notebook.tqdm` instead of `tqdm.tqdm_notebook`\n",
      "  for epoch in tqdm_notebook(range(epochs), desc=description):\n"
     ]
    },
    {
     "data": {
      "application/vnd.jupyter.widget-view+json": {
       "model_id": "f3098390cff646ec93f4c12622186d92",
       "version_major": 2,
       "version_minor": 0
      },
      "text/plain": [
       "differential training:   0%|          | 0/150 [00:00<?, ?it/s]"
      ]
     },
     "metadata": {},
     "output_type": "display_data"
    },
    {
     "name": "stdout",
     "output_type": "stream",
     "text": [
      "1.4757784863045702\n",
      "(75000, 1) (75000, 1)\n"
     ]
    },
    {
     "name": "stderr",
     "output_type": "stream",
     "text": [
      "<ipython-input-584-d0dc77e0e26f>:67: TqdmDeprecationWarning: This function will be removed in tqdm==5.0.0\n",
      "Please use `tqdm.notebook.tqdm` instead of `tqdm.tqdm_notebook`\n",
      "  for epoch in tqdm_notebook(range(epochs), desc=description):\n"
     ]
    },
    {
     "data": {
      "application/vnd.jupyter.widget-view+json": {
       "model_id": "81a3a15bb44b4aca91158d39225ab0f6",
       "version_major": 2,
       "version_minor": 0
      },
      "text/plain": [
       "differential training:   0%|          | 0/150 [00:00<?, ?it/s]"
      ]
     },
     "metadata": {},
     "output_type": "display_data"
    },
    {
     "name": "stdout",
     "output_type": "stream",
     "text": [
      "1.5047340090216532\n",
      "(75000, 1) (75000, 1)\n"
     ]
    },
    {
     "name": "stderr",
     "output_type": "stream",
     "text": [
      "<ipython-input-584-d0dc77e0e26f>:67: TqdmDeprecationWarning: This function will be removed in tqdm==5.0.0\n",
      "Please use `tqdm.notebook.tqdm` instead of `tqdm.tqdm_notebook`\n",
      "  for epoch in tqdm_notebook(range(epochs), desc=description):\n"
     ]
    },
    {
     "data": {
      "application/vnd.jupyter.widget-view+json": {
       "model_id": "681fde4fbd8b49b496780f3c4d3d18ac",
       "version_major": 2,
       "version_minor": 0
      },
      "text/plain": [
       "differential training:   0%|          | 0/150 [00:00<?, ?it/s]"
      ]
     },
     "metadata": {},
     "output_type": "display_data"
    },
    {
     "name": "stdout",
     "output_type": "stream",
     "text": [
      "1.4800097924785347\n",
      "(75000, 1) (75000, 1)\n"
     ]
    },
    {
     "name": "stderr",
     "output_type": "stream",
     "text": [
      "<ipython-input-584-d0dc77e0e26f>:67: TqdmDeprecationWarning: This function will be removed in tqdm==5.0.0\n",
      "Please use `tqdm.notebook.tqdm` instead of `tqdm.tqdm_notebook`\n",
      "  for epoch in tqdm_notebook(range(epochs), desc=description):\n"
     ]
    },
    {
     "data": {
      "application/vnd.jupyter.widget-view+json": {
       "model_id": "1e8e5fb702bd476d9f8260149d73d06d",
       "version_major": 2,
       "version_minor": 0
      },
      "text/plain": [
       "differential training:   0%|          | 0/150 [00:00<?, ?it/s]"
      ]
     },
     "metadata": {},
     "output_type": "display_data"
    },
    {
     "name": "stdout",
     "output_type": "stream",
     "text": [
      "0.6814464341438005\n",
      "20\n",
      "5\n",
      "(75000, 1) (75000, 1)\n"
     ]
    },
    {
     "name": "stderr",
     "output_type": "stream",
     "text": [
      "<ipython-input-584-d0dc77e0e26f>:67: TqdmDeprecationWarning: This function will be removed in tqdm==5.0.0\n",
      "Please use `tqdm.notebook.tqdm` instead of `tqdm.tqdm_notebook`\n",
      "  for epoch in tqdm_notebook(range(epochs), desc=description):\n"
     ]
    },
    {
     "data": {
      "application/vnd.jupyter.widget-view+json": {
       "model_id": "74dafdbb68e64df59ba160fdbfad9b53",
       "version_major": 2,
       "version_minor": 0
      },
      "text/plain": [
       "differential training:   0%|          | 0/150 [00:00<?, ?it/s]"
      ]
     },
     "metadata": {},
     "output_type": "display_data"
    },
    {
     "name": "stdout",
     "output_type": "stream",
     "text": [
      "0.6970741874743218\n",
      "(75000, 1) (75000, 1)\n"
     ]
    },
    {
     "name": "stderr",
     "output_type": "stream",
     "text": [
      "<ipython-input-584-d0dc77e0e26f>:67: TqdmDeprecationWarning: This function will be removed in tqdm==5.0.0\n",
      "Please use `tqdm.notebook.tqdm` instead of `tqdm.tqdm_notebook`\n",
      "  for epoch in tqdm_notebook(range(epochs), desc=description):\n"
     ]
    },
    {
     "data": {
      "application/vnd.jupyter.widget-view+json": {
       "model_id": "6d47d64ae52e44e1b4f856e3230d3397",
       "version_major": 2,
       "version_minor": 0
      },
      "text/plain": [
       "differential training:   0%|          | 0/150 [00:00<?, ?it/s]"
      ]
     },
     "metadata": {},
     "output_type": "display_data"
    },
    {
     "name": "stdout",
     "output_type": "stream",
     "text": [
      "0.6835409224231093\n",
      "(75000, 1) (75000, 1)\n"
     ]
    },
    {
     "name": "stderr",
     "output_type": "stream",
     "text": [
      "<ipython-input-584-d0dc77e0e26f>:67: TqdmDeprecationWarning: This function will be removed in tqdm==5.0.0\n",
      "Please use `tqdm.notebook.tqdm` instead of `tqdm.tqdm_notebook`\n",
      "  for epoch in tqdm_notebook(range(epochs), desc=description):\n"
     ]
    },
    {
     "data": {
      "application/vnd.jupyter.widget-view+json": {
       "model_id": "fb50dba20d154cd6846a8bae005cfc9c",
       "version_major": 2,
       "version_minor": 0
      },
      "text/plain": [
       "differential training:   0%|          | 0/150 [00:00<?, ?it/s]"
      ]
     },
     "metadata": {},
     "output_type": "display_data"
    },
    {
     "name": "stdout",
     "output_type": "stream",
     "text": [
      "0.6908951816231654\n",
      "(75000, 1) (75000, 1)\n"
     ]
    },
    {
     "name": "stderr",
     "output_type": "stream",
     "text": [
      "<ipython-input-584-d0dc77e0e26f>:67: TqdmDeprecationWarning: This function will be removed in tqdm==5.0.0\n",
      "Please use `tqdm.notebook.tqdm` instead of `tqdm.tqdm_notebook`\n",
      "  for epoch in tqdm_notebook(range(epochs), desc=description):\n"
     ]
    },
    {
     "data": {
      "application/vnd.jupyter.widget-view+json": {
       "model_id": "958996c6a90f43a9a397e492146969d2",
       "version_major": 2,
       "version_minor": 0
      },
      "text/plain": [
       "differential training:   0%|          | 0/150 [00:00<?, ?it/s]"
      ]
     },
     "metadata": {},
     "output_type": "display_data"
    },
    {
     "name": "stdout",
     "output_type": "stream",
     "text": [
      "0.6781870341681298\n",
      "25\n",
      "(75000, 1) (75000, 1)\n"
     ]
    },
    {
     "name": "stderr",
     "output_type": "stream",
     "text": [
      "<ipython-input-584-d0dc77e0e26f>:67: TqdmDeprecationWarning: This function will be removed in tqdm==5.0.0\n",
      "Please use `tqdm.notebook.tqdm` instead of `tqdm.tqdm_notebook`\n",
      "  for epoch in tqdm_notebook(range(epochs), desc=description):\n"
     ]
    },
    {
     "data": {
      "application/vnd.jupyter.widget-view+json": {
       "model_id": "1a98c31feacb4b4da6c975a777df3c50",
       "version_major": 2,
       "version_minor": 0
      },
      "text/plain": [
       "differential training:   0%|          | 0/150 [00:00<?, ?it/s]"
      ]
     },
     "metadata": {},
     "output_type": "display_data"
    },
    {
     "name": "stdout",
     "output_type": "stream",
     "text": [
      "0.7276967903692152\n",
      "(75000, 1) (75000, 1)\n"
     ]
    },
    {
     "name": "stderr",
     "output_type": "stream",
     "text": [
      "<ipython-input-584-d0dc77e0e26f>:67: TqdmDeprecationWarning: This function will be removed in tqdm==5.0.0\n",
      "Please use `tqdm.notebook.tqdm` instead of `tqdm.tqdm_notebook`\n",
      "  for epoch in tqdm_notebook(range(epochs), desc=description):\n"
     ]
    },
    {
     "data": {
      "application/vnd.jupyter.widget-view+json": {
       "model_id": "2489992690014e8ba7b6043a0cb69409",
       "version_major": 2,
       "version_minor": 0
      },
      "text/plain": [
       "differential training:   0%|          | 0/150 [00:00<?, ?it/s]"
      ]
     },
     "metadata": {},
     "output_type": "display_data"
    },
    {
     "name": "stdout",
     "output_type": "stream",
     "text": [
      "0.7286602143443482\n",
      "(75000, 1) (75000, 1)\n"
     ]
    },
    {
     "name": "stderr",
     "output_type": "stream",
     "text": [
      "<ipython-input-584-d0dc77e0e26f>:67: TqdmDeprecationWarning: This function will be removed in tqdm==5.0.0\n",
      "Please use `tqdm.notebook.tqdm` instead of `tqdm.tqdm_notebook`\n",
      "  for epoch in tqdm_notebook(range(epochs), desc=description):\n"
     ]
    },
    {
     "data": {
      "application/vnd.jupyter.widget-view+json": {
       "model_id": "2832e20606714221b39a7c032dc4fe4b",
       "version_major": 2,
       "version_minor": 0
      },
      "text/plain": [
       "differential training:   0%|          | 0/150 [00:00<?, ?it/s]"
      ]
     },
     "metadata": {},
     "output_type": "display_data"
    },
    {
     "name": "stdout",
     "output_type": "stream",
     "text": [
      "0.6907779185027704\n",
      "(75000, 1) (75000, 1)\n"
     ]
    },
    {
     "name": "stderr",
     "output_type": "stream",
     "text": [
      "<ipython-input-584-d0dc77e0e26f>:67: TqdmDeprecationWarning: This function will be removed in tqdm==5.0.0\n",
      "Please use `tqdm.notebook.tqdm` instead of `tqdm.tqdm_notebook`\n",
      "  for epoch in tqdm_notebook(range(epochs), desc=description):\n"
     ]
    },
    {
     "data": {
      "application/vnd.jupyter.widget-view+json": {
       "model_id": "6d51dfaf037f4d3a932d55c2abac0b56",
       "version_major": 2,
       "version_minor": 0
      },
      "text/plain": [
       "differential training:   0%|          | 0/150 [00:00<?, ?it/s]"
      ]
     },
     "metadata": {},
     "output_type": "display_data"
    },
    {
     "name": "stdout",
     "output_type": "stream",
     "text": [
      "0.6783143307792626\n",
      "50\n",
      "(75000, 1) (75000, 1)\n"
     ]
    },
    {
     "name": "stderr",
     "output_type": "stream",
     "text": [
      "<ipython-input-584-d0dc77e0e26f>:67: TqdmDeprecationWarning: This function will be removed in tqdm==5.0.0\n",
      "Please use `tqdm.notebook.tqdm` instead of `tqdm.tqdm_notebook`\n",
      "  for epoch in tqdm_notebook(range(epochs), desc=description):\n"
     ]
    },
    {
     "data": {
      "application/vnd.jupyter.widget-view+json": {
       "model_id": "243aef729d28402ab448c1c39861ccae",
       "version_major": 2,
       "version_minor": 0
      },
      "text/plain": [
       "differential training:   0%|          | 0/150 [00:00<?, ?it/s]"
      ]
     },
     "metadata": {},
     "output_type": "display_data"
    },
    {
     "name": "stdout",
     "output_type": "stream",
     "text": [
      "0.696921791628274\n",
      "(75000, 1) (75000, 1)\n"
     ]
    },
    {
     "name": "stderr",
     "output_type": "stream",
     "text": [
      "<ipython-input-584-d0dc77e0e26f>:67: TqdmDeprecationWarning: This function will be removed in tqdm==5.0.0\n",
      "Please use `tqdm.notebook.tqdm` instead of `tqdm.tqdm_notebook`\n",
      "  for epoch in tqdm_notebook(range(epochs), desc=description):\n"
     ]
    },
    {
     "data": {
      "application/vnd.jupyter.widget-view+json": {
       "model_id": "b6558da758fe43ca9680c07bece5de31",
       "version_major": 2,
       "version_minor": 0
      },
      "text/plain": [
       "differential training:   0%|          | 0/150 [00:00<?, ?it/s]"
      ]
     },
     "metadata": {},
     "output_type": "display_data"
    },
    {
     "name": "stdout",
     "output_type": "stream",
     "text": [
      "0.6834777350110839\n",
      "(75000, 1) (75000, 1)\n"
     ]
    },
    {
     "name": "stderr",
     "output_type": "stream",
     "text": [
      "<ipython-input-584-d0dc77e0e26f>:67: TqdmDeprecationWarning: This function will be removed in tqdm==5.0.0\n",
      "Please use `tqdm.notebook.tqdm` instead of `tqdm.tqdm_notebook`\n",
      "  for epoch in tqdm_notebook(range(epochs), desc=description):\n"
     ]
    },
    {
     "data": {
      "application/vnd.jupyter.widget-view+json": {
       "model_id": "21437a29e3c44bed922b4e36a6dd74d4",
       "version_major": 2,
       "version_minor": 0
      },
      "text/plain": [
       "differential training:   0%|          | 0/150 [00:00<?, ?it/s]"
      ]
     },
     "metadata": {},
     "output_type": "display_data"
    },
    {
     "name": "stdout",
     "output_type": "stream",
     "text": [
      "0.6909498088832065\n",
      "(75000, 1) (75000, 1)\n"
     ]
    },
    {
     "name": "stderr",
     "output_type": "stream",
     "text": [
      "<ipython-input-584-d0dc77e0e26f>:67: TqdmDeprecationWarning: This function will be removed in tqdm==5.0.0\n",
      "Please use `tqdm.notebook.tqdm` instead of `tqdm.tqdm_notebook`\n",
      "  for epoch in tqdm_notebook(range(epochs), desc=description):\n"
     ]
    },
    {
     "data": {
      "application/vnd.jupyter.widget-view+json": {
       "model_id": "be07adf40b784796b22658807b364413",
       "version_major": 2,
       "version_minor": 0
      },
      "text/plain": [
       "differential training:   0%|          | 0/150 [00:00<?, ?it/s]"
      ]
     },
     "metadata": {},
     "output_type": "display_data"
    },
    {
     "name": "stdout",
     "output_type": "stream",
     "text": [
      "1.4674436126105677\n",
      "75\n",
      "(75000, 1) (75000, 1)\n"
     ]
    },
    {
     "name": "stderr",
     "output_type": "stream",
     "text": [
      "<ipython-input-584-d0dc77e0e26f>:67: TqdmDeprecationWarning: This function will be removed in tqdm==5.0.0\n",
      "Please use `tqdm.notebook.tqdm` instead of `tqdm.tqdm_notebook`\n",
      "  for epoch in tqdm_notebook(range(epochs), desc=description):\n"
     ]
    },
    {
     "data": {
      "application/vnd.jupyter.widget-view+json": {
       "model_id": "42a614c898454c42b2aa539c7362458e",
       "version_major": 2,
       "version_minor": 0
      },
      "text/plain": [
       "differential training:   0%|          | 0/150 [00:00<?, ?it/s]"
      ]
     },
     "metadata": {},
     "output_type": "display_data"
    },
    {
     "name": "stdout",
     "output_type": "stream",
     "text": [
      "1.4779896345074535\n",
      "(75000, 1) (75000, 1)\n"
     ]
    },
    {
     "name": "stderr",
     "output_type": "stream",
     "text": [
      "<ipython-input-584-d0dc77e0e26f>:67: TqdmDeprecationWarning: This function will be removed in tqdm==5.0.0\n",
      "Please use `tqdm.notebook.tqdm` instead of `tqdm.tqdm_notebook`\n",
      "  for epoch in tqdm_notebook(range(epochs), desc=description):\n"
     ]
    },
    {
     "data": {
      "application/vnd.jupyter.widget-view+json": {
       "model_id": "ac40d5f57d1d4b9382fb0e7d7a95cb17",
       "version_major": 2,
       "version_minor": 0
      },
      "text/plain": [
       "differential training:   0%|          | 0/150 [00:00<?, ?it/s]"
      ]
     },
     "metadata": {},
     "output_type": "display_data"
    },
    {
     "name": "stdout",
     "output_type": "stream",
     "text": [
      "1.4646636372299948\n",
      "(75000, 1) (75000, 1)\n"
     ]
    },
    {
     "name": "stderr",
     "output_type": "stream",
     "text": [
      "<ipython-input-584-d0dc77e0e26f>:67: TqdmDeprecationWarning: This function will be removed in tqdm==5.0.0\n",
      "Please use `tqdm.notebook.tqdm` instead of `tqdm.tqdm_notebook`\n",
      "  for epoch in tqdm_notebook(range(epochs), desc=description):\n"
     ]
    },
    {
     "data": {
      "application/vnd.jupyter.widget-view+json": {
       "model_id": "b561cedd28ee4a428bd37a28126add6b",
       "version_major": 2,
       "version_minor": 0
      },
      "text/plain": [
       "differential training:   0%|          | 0/150 [00:00<?, ?it/s]"
      ]
     },
     "metadata": {},
     "output_type": "display_data"
    },
    {
     "name": "stdout",
     "output_type": "stream",
     "text": [
      "1.4675981654214187\n",
      "(75000, 1) (75000, 1)\n"
     ]
    },
    {
     "name": "stderr",
     "output_type": "stream",
     "text": [
      "<ipython-input-584-d0dc77e0e26f>:67: TqdmDeprecationWarning: This function will be removed in tqdm==5.0.0\n",
      "Please use `tqdm.notebook.tqdm` instead of `tqdm.tqdm_notebook`\n",
      "  for epoch in tqdm_notebook(range(epochs), desc=description):\n"
     ]
    },
    {
     "data": {
      "application/vnd.jupyter.widget-view+json": {
       "model_id": "e9c2dfd2c6874e39a6a75415f20b881e",
       "version_major": 2,
       "version_minor": 0
      },
      "text/plain": [
       "differential training:   0%|          | 0/150 [00:00<?, ?it/s]"
      ]
     },
     "metadata": {},
     "output_type": "display_data"
    },
    {
     "name": "stdout",
     "output_type": "stream",
     "text": [
      "1.468789524327641\n",
      "100\n",
      "(75000, 1) (75000, 1)\n"
     ]
    },
    {
     "name": "stderr",
     "output_type": "stream",
     "text": [
      "<ipython-input-584-d0dc77e0e26f>:67: TqdmDeprecationWarning: This function will be removed in tqdm==5.0.0\n",
      "Please use `tqdm.notebook.tqdm` instead of `tqdm.tqdm_notebook`\n",
      "  for epoch in tqdm_notebook(range(epochs), desc=description):\n"
     ]
    },
    {
     "data": {
      "application/vnd.jupyter.widget-view+json": {
       "model_id": "78700c8859a1406e894e897fd2766bcc",
       "version_major": 2,
       "version_minor": 0
      },
      "text/plain": [
       "differential training:   0%|          | 0/150 [00:00<?, ?it/s]"
      ]
     },
     "metadata": {},
     "output_type": "display_data"
    },
    {
     "name": "stdout",
     "output_type": "stream",
     "text": [
      "1.5233692416129736\n",
      "(75000, 1) (75000, 1)\n"
     ]
    },
    {
     "name": "stderr",
     "output_type": "stream",
     "text": [
      "<ipython-input-584-d0dc77e0e26f>:67: TqdmDeprecationWarning: This function will be removed in tqdm==5.0.0\n",
      "Please use `tqdm.notebook.tqdm` instead of `tqdm.tqdm_notebook`\n",
      "  for epoch in tqdm_notebook(range(epochs), desc=description):\n"
     ]
    },
    {
     "data": {
      "application/vnd.jupyter.widget-view+json": {
       "model_id": "8248fd3616e14df297a7be813131436c",
       "version_major": 2,
       "version_minor": 0
      },
      "text/plain": [
       "differential training:   0%|          | 0/150 [00:00<?, ?it/s]"
      ]
     },
     "metadata": {},
     "output_type": "display_data"
    },
    {
     "name": "stdout",
     "output_type": "stream",
     "text": [
      "1.5055054562683532\n",
      "(75000, 1) (75000, 1)\n"
     ]
    },
    {
     "name": "stderr",
     "output_type": "stream",
     "text": [
      "<ipython-input-584-d0dc77e0e26f>:67: TqdmDeprecationWarning: This function will be removed in tqdm==5.0.0\n",
      "Please use `tqdm.notebook.tqdm` instead of `tqdm.tqdm_notebook`\n",
      "  for epoch in tqdm_notebook(range(epochs), desc=description):\n"
     ]
    },
    {
     "data": {
      "application/vnd.jupyter.widget-view+json": {
       "model_id": "990d3e9b35a447e281269ecd470b782e",
       "version_major": 2,
       "version_minor": 0
      },
      "text/plain": [
       "differential training:   0%|          | 0/150 [00:00<?, ?it/s]"
      ]
     },
     "metadata": {},
     "output_type": "display_data"
    },
    {
     "name": "stdout",
     "output_type": "stream",
     "text": [
      "1.4736529635655335\n",
      "(75000, 1) (75000, 1)\n"
     ]
    },
    {
     "name": "stderr",
     "output_type": "stream",
     "text": [
      "<ipython-input-584-d0dc77e0e26f>:67: TqdmDeprecationWarning: This function will be removed in tqdm==5.0.0\n",
      "Please use `tqdm.notebook.tqdm` instead of `tqdm.tqdm_notebook`\n",
      "  for epoch in tqdm_notebook(range(epochs), desc=description):\n"
     ]
    },
    {
     "data": {
      "application/vnd.jupyter.widget-view+json": {
       "model_id": "194830c67640471d99c384942a3a3037",
       "version_major": 2,
       "version_minor": 0
      },
      "text/plain": [
       "differential training:   0%|          | 0/150 [00:00<?, ?it/s]"
      ]
     },
     "metadata": {},
     "output_type": "display_data"
    },
    {
     "name": "stdout",
     "output_type": "stream",
     "text": [
      "1.5104826805105083\n"
     ]
    }
   ],
   "source": [
    "#### Perform grid search using cross validation\n",
    "\n",
    "from sklearn.model_selection import KFold\n",
    "\n",
    "hidden_units_grid = [5, 25, 50, 75, 100]\n",
    "hidden_layers_grid = [1, 5, 10, 15, 20]\n",
    "\n",
    "k_folds = 4\n",
    "\n",
    "grid_search_results = pd.DataFrame(columns=[\"hidden_layers\", \"hidden_units\", \"val_loss\"])\n",
    "\n",
    "for hidden_layers in hidden_layers_grid:\n",
    "    print(hidden_layers)\n",
    "    for hidden_units in hidden_units_grid:\n",
    "        print(hidden_units)\n",
    "        \n",
    "        # Perform k-fold cross-validation\n",
    "        kf = KFold(n_splits=k_folds)\n",
    "        rmse_prices_list = []\n",
    "        rmse_deltas_list = []\n",
    "        val_loss_list = []\n",
    "        \n",
    "        for train_indices, val_indices in kf.split(asset_prices):\n",
    "            # Split data into train and validation sets\n",
    "            x_train, x_val = asset_prices[train_indices], asset_prices[val_indices]\n",
    "            y_train, y_val = payoffs[train_indices], payoffs[val_indices]\n",
    "            dydx_train, dydx_val = differentials[train_indices], differentials[val_indices]\n",
    "            \n",
    "            # Prepare model\n",
    "            regressor = Neural_Approximator(x_train, y_train, dydx_train)\n",
    "            regressor.prepare(hidden_units=hidden_units, m= len(y_train), differential=True, weight_seed=42)\n",
    "        \n",
    "            \n",
    "            # Train model\n",
    "            regressor.train(\"differential training\")\n",
    "            \n",
    "            # Get (unscaled) predictions\n",
    "            predictions, deltas = regressor.predict_unscaled(x_val)\n",
    "            \n",
    "            # Compute validation loss\n",
    "            y_val_scaled = (y_val - y_val.mean()) / y_val.std()\n",
    "            dydx_val_scaled = dydx_val * (x_val.std() / y_val.std())            \n",
    "            val_loss = 0.5 * mean_squared_error(predictions, y_val_scaled) + \\\n",
    "                       0.5 * mean_squared_error(deltas, dydx_val_scaled)\n",
    "                \n",
    "            print(val_loss)\n",
    "            \n",
    "            val_loss_list = val_loss_list + [val_loss]\n",
    "\n",
    "        avg_val_loss = np.mean(val_loss_list)\n",
    "        \n",
    "        # Add results to table\n",
    "        list_row = [hidden_layers, hidden_units, avg_val_loss]\n",
    "        grid_search_results.loc[len(grid_search_results)] = list_row\n"
   ]
  },
  {
   "cell_type": "code",
   "execution_count": 923,
   "metadata": {},
   "outputs": [],
   "source": [
    "## Save results\n",
    "#import pickle \n",
    "#with open('grid_search_results.obj', 'wb') as file:\n",
    "#    pickle.dump(grid_search_results, file)\n",
    "    \n",
    "### Load saved results\n",
    "#with open('results_lstd.obj', 'rb') as file:\n",
    "#    results_lstd = pickle.load(file)"
   ]
  },
  {
   "cell_type": "code",
   "execution_count": 922,
   "metadata": {},
   "outputs": [
    {
     "data": {
      "image/png": "[encoded data removed]",
      "text/plain": [
       "<Figure size 720x432 with 1 Axes>"
      ]
     },
     "metadata": {
      "needs_background": "light"
     },
     "output_type": "display_data"
    }
   ],
   "source": [
    "### Plot grid search results\n",
    "metric = \"val_loss\"\n",
    "filtered_results = grid_search_results[[\"hidden_layers\", \"hidden_units\", metric]]\n",
    "\n",
    "# Group the results by hidden_layers\n",
    "grouped_results = filtered_results.groupby(\"hidden_layers\")\n",
    "\n",
    "plt.figure(figsize=(10, 6))\n",
    "for hidden_layers, group in grouped_results:\n",
    "    plt.plot(group[\"hidden_units\"], group[metric], marker=\"o\", label=f\"Hidden Layers: {hidden_layers}\")\n",
    "\n",
    "plt.title(metric.capitalize())\n",
    "plt.xlabel(\"Hidden Units\")\n",
    "plt.ylabel(metric.capitalize())\n",
    "plt.legend()\n",
    "plt.grid(True)\n",
    "plt.show()\n"
   ]
  }
 ],
 "metadata": {
  "colab": {
   "provenance": []
  },
  "gpuClass": "standard",
  "kernelspec": {
   "display_name": "Python 3",
   "language": "python",
   "name": "python3"
  },
  "language_info": {
   "codemirror_mode": {
    "name": "ipython",
    "version": 3
   },
   "file_extension": ".py",
   "mimetype": "text/x-python",
   "name": "python",
   "nbconvert_exporter": "python",
   "pygments_lexer": "ipython3",
   "version": "3.8.8"
  },
  "widgets": {
   "application/vnd.jupyter.widget-state+json": {
    "00209c69dd9d4e15b9206c741344eb4b": {
     "model_module": "@jupyter-widgets/controls",
     "model_module_version": "1.5.0",
     "model_name": "HTMLModel",
     "state": {
      "_dom_classes": [],
      "_model_module": "@jupyter-widgets/controls",
      "_model_module_version": "1.5.0",
      "_model_name": "HTMLModel",
      "_view_count": null,
      "_view_module": "@jupyter-widgets/controls",
      "_view_module_version": "1.5.0",
      "_view_name": "HTMLView",
      "description": "",
      "description_tooltip": null,
      "layout": "IPY_MODEL_d8a510b6c7474dcb8a436474a66c982a",
      "placeholder": "​",
      "style": "IPY_MODEL_ce1ad7483cb244b9b499ca32d7210778",
      "value": "standard training: 100%"
     }
    },
    "045a547e699a49d996a3533bd6611a1a": {
     "model_module": "@jupyter-widgets/controls",
     "model_module_version": "1.5.0",
     "model_name": "HTMLModel",
     "state": {
      "_dom_classes": [],
      "_model_module": "@jupyter-widgets/controls",
      "_model_module_version": "1.5.0",
      "_model_name": "HTMLModel",
      "_view_count": null,
      "_view_module": "@jupyter-widgets/controls",
      "_view_module_version": "1.5.0",
      "_view_name": "HTMLView",
      "description": "",
      "description_tooltip": null,
      "layout": "IPY_MODEL_cc80a6f68eb4422bba42d44d207454fb",
      "placeholder": "​",
      "style": "IPY_MODEL_07196f2d96984242b2c2fb16e6c80d48",
      "value": " 100/100 [00:00&lt;00:00,  3.43it/s]"
     }
    },
    "07196f2d96984242b2c2fb16e6c80d48": {
     "model_module": "@jupyter-widgets/controls",
     "model_module_version": "1.5.0",
     "model_name": "DescriptionStyleModel",
     "state": {
      "_model_module": "@jupyter-widgets/controls",
      "_model_module_version": "1.5.0",
      "_model_name": "DescriptionStyleModel",
      "_view_count": null,
      "_view_module": "@jupyter-widgets/base",
      "_view_module_version": "1.2.0",
      "_view_name": "StyleView",
      "description_width": ""
     }
    },
    "2a321ca32a994271b30417e0faea26d6": {
     "model_module": "@jupyter-widgets/controls",
     "model_module_version": "1.5.0",
     "model_name": "ProgressStyleModel",
     "state": {
      "_model_module": "@jupyter-widgets/controls",
      "_model_module_version": "1.5.0",
      "_model_name": "ProgressStyleModel",
      "_view_count": null,
      "_view_module": "@jupyter-widgets/base",
      "_view_module_version": "1.2.0",
      "_view_name": "StyleView",
      "bar_color": null,
      "description_width": ""
     }
    },
    "6be68bf6f0354a7c9a378d22a467e57b": {
     "model_module": "@jupyter-widgets/controls",
     "model_module_version": "1.5.0",
     "model_name": "FloatProgressModel",
     "state": {
      "_dom_classes": [],
      "_model_module": "@jupyter-widgets/controls",
      "_model_module_version": "1.5.0",
      "_model_name": "FloatProgressModel",
      "_view_count": null,
      "_view_module": "@jupyter-widgets/controls",
      "_view_module_version": "1.5.0",
      "_view_name": "ProgressView",
      "bar_style": "success",
      "description": "",
      "description_tooltip": null,
      "layout": "IPY_MODEL_84a80c486ab44a5e84868831e1e6ff46",
      "max": 100,
      "min": 0,
      "orientation": "horizontal",
      "style": "IPY_MODEL_2a321ca32a994271b30417e0faea26d6",
      "value": 100
     }
    },
    "84a80c486ab44a5e84868831e1e6ff46": {
     "model_module": "@jupyter-widgets/base",
     "model_module_version": "1.2.0",
     "model_name": "LayoutModel",
     "state": {
      "_model_module": "@jupyter-widgets/base",
      "_model_module_version": "1.2.0",
      "_model_name": "LayoutModel",
      "_view_count": null,
      "_view_module": "@jupyter-widgets/base",
      "_view_module_version": "1.2.0",
      "_view_name": "LayoutView",
      "align_content": null,
      "align_items": null,
      "align_self": null,
      "border": null,
      "bottom": null,
      "display": null,
      "flex": null,
      "flex_flow": null,
      "grid_area": null,
      "grid_auto_columns": null,
      "grid_auto_flow": null,
      "grid_auto_rows": null,
      "grid_column": null,
      "grid_gap": null,
      "grid_row": null,
      "grid_template_areas": null,
      "grid_template_columns": null,
      "grid_template_rows": null,
      "height": null,
      "justify_content": null,
      "justify_items": null,
      "left": null,
      "margin": null,
      "max_height": null,
      "max_width": null,
      "min_height": null,
      "min_width": null,
      "object_fit": null,
      "object_position": null,
      "order": null,
      "overflow": null,
      "overflow_x": null,
      "overflow_y": null,
      "padding": null,
      "right": null,
      "top": null,
      "visibility": null,
      "width": null
     }
    },
    "9752b6948efd43b5a6c9bcf543256b13": {
     "model_module": "@jupyter-widgets/controls",
     "model_module_version": "1.5.0",
     "model_name": "HBoxModel",
     "state": {
      "_dom_classes": [],
      "_model_module": "@jupyter-widgets/controls",
      "_model_module_version": "1.5.0",
      "_model_name": "HBoxModel",
      "_view_count": null,
      "_view_module": "@jupyter-widgets/controls",
      "_view_module_version": "1.5.0",
      "_view_name": "HBoxView",
      "box_style": "",
      "children": [
       "IPY_MODEL_00209c69dd9d4e15b9206c741344eb4b",
       "IPY_MODEL_6be68bf6f0354a7c9a378d22a467e57b",
       "IPY_MODEL_045a547e699a49d996a3533bd6611a1a"
      ],
      "layout": "IPY_MODEL_d9e08e7290ac46a0b74cb273f083c2c7"
     }
    },
    "cc80a6f68eb4422bba42d44d207454fb": {
     "model_module": "@jupyter-widgets/base",
     "model_module_version": "1.2.0",
     "model_name": "LayoutModel",
     "state": {
      "_model_module": "@jupyter-widgets/base",
      "_model_module_version": "1.2.0",
      "_model_name": "LayoutModel",
      "_view_count": null,
      "_view_module": "@jupyter-widgets/base",
      "_view_module_version": "1.2.0",
      "_view_name": "LayoutView",
      "align_content": null,
      "align_items": null,
      "align_self": null,
      "border": null,
      "bottom": null,
      "display": null,
      "flex": null,
      "flex_flow": null,
      "grid_area": null,
      "grid_auto_columns": null,
      "grid_auto_flow": null,
      "grid_auto_rows": null,
      "grid_column": null,
      "grid_gap": null,
      "grid_row": null,
      "grid_template_areas": null,
      "grid_template_columns": null,
      "grid_template_rows": null,
      "height": null,
      "justify_content": null,
      "justify_items": null,
      "left": null,
      "margin": null,
      "max_height": null,
      "max_width": null,
      "min_height": null,
      "min_width": null,
      "object_fit": null,
      "object_position": null,
      "order": null,
      "overflow": null,
      "overflow_x": null,
      "overflow_y": null,
      "padding": null,
      "right": null,
      "top": null,
      "visibility": null,
      "width": null
     }
    },
    "ce1ad7483cb244b9b499ca32d7210778": {
     "model_module": "@jupyter-widgets/controls",
     "model_module_version": "1.5.0",
     "model_name": "DescriptionStyleModel",
     "state": {
      "_model_module": "@jupyter-widgets/controls",
      "_model_module_version": "1.5.0",
      "_model_name": "DescriptionStyleModel",
      "_view_count": null,
      "_view_module": "@jupyter-widgets/base",
      "_view_module_version": "1.2.0",
      "_view_name": "StyleView",
      "description_width": ""
     }
    },
    "d8a510b6c7474dcb8a436474a66c982a": {
     "model_module": "@jupyter-widgets/base",
     "model_module_version": "1.2.0",
     "model_name": "LayoutModel",
     "state": {
      "_model_module": "@jupyter-widgets/base",
      "_model_module_version": "1.2.0",
      "_model_name": "LayoutModel",
      "_view_count": null,
      "_view_module": "@jupyter-widgets/base",
      "_view_module_version": "1.2.0",
      "_view_name": "LayoutView",
      "align_content": null,
      "align_items": null,
      "align_self": null,
      "border": null,
      "bottom": null,
      "display": null,
      "flex": null,
      "flex_flow": null,
      "grid_area": null,
      "grid_auto_columns": null,
      "grid_auto_flow": null,
      "grid_auto_rows": null,
      "grid_column": null,
      "grid_gap": null,
      "grid_row": null,
      "grid_template_areas": null,
      "grid_template_columns": null,
      "grid_template_rows": null,
      "height": null,
      "justify_content": null,
      "justify_items": null,
      "left": null,
      "margin": null,
      "max_height": null,
      "max_width": null,
      "min_height": null,
      "min_width": null,
      "object_fit": null,
      "object_position": null,
      "order": null,
      "overflow": null,
      "overflow_x": null,
      "overflow_y": null,
      "padding": null,
      "right": null,
      "top": null,
      "visibility": null,
      "width": null
     }
    },
    "d9e08e7290ac46a0b74cb273f083c2c7": {
     "model_module": "@jupyter-widgets/base",
     "model_module_version": "1.2.0",
     "model_name": "LayoutModel",
     "state": {
      "_model_module": "@jupyter-widgets/base",
      "_model_module_version": "1.2.0",
      "_model_name": "LayoutModel",
      "_view_count": null,
      "_view_module": "@jupyter-widgets/base",
      "_view_module_version": "1.2.0",
      "_view_name": "LayoutView",
      "align_content": null,
      "align_items": null,
      "align_self": null,
      "border": null,
      "bottom": null,
      "display": null,
      "flex": null,
      "flex_flow": null,
      "grid_area": null,
      "grid_auto_columns": null,
      "grid_auto_flow": null,
      "grid_auto_rows": null,
      "grid_column": null,
      "grid_gap": null,
      "grid_row": null,
      "grid_template_areas": null,
      "grid_template_columns": null,
      "grid_template_rows": null,
      "height": null,
      "justify_content": null,
      "justify_items": null,
      "left": null,
      "margin": null,
      "max_height": null,
      "max_width": null,
      "min_height": null,
      "min_width": null,
      "object_fit": null,
      "object_position": null,
      "order": null,
      "overflow": null,
      "overflow_x": null,
      "overflow_y": null,
      "padding": null,
      "right": null,
      "top": null,
      "visibility": null,
      "width": null
     }
    }
   }
  }
 },
 "nbformat": 4,
 "nbformat_minor": 1
}
