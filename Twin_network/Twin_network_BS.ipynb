{
  "cells": [
    {
      "cell_type": "markdown",
      "metadata": {
        "id": "Qj5sIkNUsQWN"
      },
      "source": [
        "# Master Project"
      ]
    },
    {
      "cell_type": "markdown",
      "metadata": {
        "id": "C0AYwNI2tHaQ"
      },
      "source": [
        "**Set up**"
      ]
    },
    {
      "cell_type": "code",
      "execution_count": 2,
      "metadata": {
        "id": "1tpjH45FscRC",
        "colab": {
          "base_uri": "https://localhost:8080/"
        },
        "outputId": "0b2a5c78-3756-43a2-82e9-64a3c6192606"
      },
      "outputs": [
        {
          "output_type": "stream",
          "name": "stderr",
          "text": [
            "WARNING:tensorflow:From /usr/local/lib/python3.10/dist-packages/tensorflow/python/compat/v2_compat.py:107: disable_resource_variables (from tensorflow.python.ops.variable_scope) is deprecated and will be removed in a future version.\n",
            "Instructions for updating:\n",
            "non-resource variables are not supported in the long term\n"
          ]
        }
      ],
      "source": [
        "### import libraries\n",
        "\n",
        "#import tensorflow as tf\n",
        "import tensorflow.compat.v1 as tf # code was written in old version of tensor flow\n",
        "tf.disable_v2_behavior()\n",
        "import numpy as np\n",
        "from scipy.stats import norm\n",
        "import matplotlib.pyplot as plt\n",
        "import time\n",
        "import math\n",
        "from tqdm import tqdm_notebook\n",
        "\n",
        "# representation of real numbers in TF, change here for 32/64 bits\n",
        "real_type = tf.float32\n",
        "# real_type = tf.float64"
      ]
    },
    {
      "cell_type": "markdown",
      "metadata": {
        "id": "pBSrELI9y5ft"
      },
      "source": [
        "**Black Scholes**"
      ]
    },
    {
      "cell_type": "markdown",
      "metadata": {
        "id": "zQZ1RiJZzCrM"
      },
      "source": [
        "In this implementation we assume the risk-free rate is zero for simplicity, which leads to simplified formulas under Black Scholes. \n",
        "\n",
        "Option value/price:\n",
        "$$ C_t = S_t*N(d_1) - K*N(d_2)$$,\n",
        "\n",
        "where $N()$ denotes the standard normal CDF and\n",
        "\n",
        "$$ d_1 = (log(\\frac{S_t}{K}) + 0.5*\\sigma^2 * T) /\\sqrt{T}$$,\n",
        "$$ d_2 = d_1 - \\sigma*\\sqrt{T} $$\n",
        "\n",
        "We assume the underlying assets follow a random walk, i.e., the underlying asset prices are log-normally distributed and follow a geometric Brownian motion:\n",
        "\n",
        "$$ S_t = S_{t-1}\\exp((- 0.5\\sigma^2)t + \\sigma\\sqrt{t}Z) $$,\n",
        "\n",
        "where $Z$ is a standard normal random variable."
      ]
    },
    {
      "cell_type": "markdown",
      "metadata": {
        "id": "AL0Zx0qxm-X6"
      },
      "source": [
        "**The Greeks:**\n",
        "\n",
        "$$\n",
        "Delta := \\frac{\\partial C}{\\partial S_t} = N(d_1)\n",
        "$$\n",
        "$$\n",
        "Vega := \\frac{\\partial C}{\\partial \\sigma} = \\frac{1}{\\sqrt{2\\pi}}e^{-0.5*d_1^2} S_t\\sqrt{T - t} \n",
        "$$\n",
        "$$\n",
        "Gamma := \\frac{\\partial^2 C}{\\partial S_t^2} = \\frac{1}{\\sqrt{2\\pi}}e^{-0.5*d_1^2}\\frac{1}{S_t \\sigma \\sqrt{T - t}}\n",
        "$$"
      ]
    },
    {
      "cell_type": "markdown",
      "metadata": {
        "id": "hFx88zP-8OIb"
      },
      "source": [
        "***Train and test data simulation***"
      ]
    },
    {
      "cell_type": "code",
      "execution_count": 3,
      "metadata": {
        "id": "R_8GZBgXy4Wn"
      },
      "outputs": [],
      "source": [
        "# define prices and greeks  \n",
        "def bsPrice(spot, strike, vol, T):\n",
        "    d1 = (np.log(spot/strike) + 0.5 * vol * vol * T) / vol / np.sqrt(T)\n",
        "    d2 = d1 - vol * np.sqrt(T)\n",
        "    return spot * norm.cdf(d1) - strike * norm.cdf(d2)\n",
        "\n",
        "def bsDelta(spot, strike, vol, T):\n",
        "    d1 = (np.log(spot/strike) + 0.5 * vol * vol * T) / vol / np.sqrt(T)\n",
        "    return norm.cdf(d1)\n",
        "\n",
        "def bsVega(spot, strike, vol, T):\n",
        "    d1 = (np.log(spot/strike) + 0.5 * vol * vol * T) / vol / np.sqrt(T)\n",
        "    return spot * np.sqrt(T) * norm.pdf(d1)\n",
        "\n",
        "def bsGamma(spot, strike, vol, T):\n",
        "    d1 = (np.log(spot/strike) + 0.5 * vol * vol * T) / vol / np.sqrt(T)\n",
        "    return norm.pdf(d1) * (1 / (spot * vol * np.sqrt(T)))\n",
        "\n",
        "# main class\n",
        "class BlackScholes:\n",
        "    \n",
        "    def __init__(self, \n",
        "                 vol=0.2,\n",
        "                 T1=1, \n",
        "                 T2=2, \n",
        "                 K=1.10,\n",
        "                 volMult=1.5):\n",
        "        \n",
        "        self.spot = 1\n",
        "        self.vol = vol\n",
        "        self.T1 = T1\n",
        "        self.T2 = T2\n",
        "        self.K = K\n",
        "        self.volMult = volMult\n",
        "                        \n",
        "    # training set: returns S1 (mx1), C2 (mx1) and dC2/dS1 (mx1)\n",
        "    def trainingSet(self, m, anti=True, seed=None):\n",
        "        '''\n",
        "          Input:\n",
        "              m - desired size of the training set [int]\n",
        "          Output:\n",
        "              X - asset price                      [(m, 1) array]\n",
        "              Y - payoff                           [(m, 1) array]\n",
        "              Z - differential                     [(m, 1) array] \n",
        "        '''     \n",
        "        np.random.seed(seed)\n",
        "        \n",
        "        # 2 sets of normal returns\n",
        "        returns = np.random.normal(size=[m, 2]) # Draws from standard normal\n",
        "\n",
        "        # SDE\n",
        "        vol0 = self.vol * self.volMult\n",
        "        R1 = np.exp(-0.5*vol0*vol0*self.T1 + vol0*np.sqrt(self.T1)*returns[:,0]) # asset price return period 1\n",
        "        R2 = np.exp(-0.5*self.vol*self.vol*(self.T2-self.T1) + self.vol*np.sqrt(self.T2-self.T1)*returns[:,1]) # asset price return period 2 with different volatility\n",
        "        S1 = self.spot * R1 # spot * return gives asset price in period 1\n",
        "        S2 = S1 * R2 # gives asset price in period 2\n",
        "\n",
        "        # payoff\n",
        "        pay = np.maximum(0, S2 - self.K) # compute payoff \n",
        "        \n",
        "        X = S1 # this is our input (asset price) note we're only looking at S1 not S2\n",
        "        Y = pay # this is our output (the payoff)\n",
        "            \n",
        "        # differentials - note that we are just looking at one time period\n",
        "        # note that this is just for delta \n",
        "        #Z =  np.where(S2 > self.K, R2, 0.0).reshape((-1,1)) # the differential is zero is price less than strike\n",
        "        \n",
        "        # train on deltas instead of pathwise differential for delta\n",
        "        d1 = (np.log(S1 / self.K) + 0.5 * self.vol * self.vol * self.T1) / self.vol / np.sqrt(self.T1)\n",
        "        Z = norm.cdf(d1)\n",
        "\n",
        "        return X.reshape([-1,1]), Y.reshape([-1,1]), Z.reshape([-1,1])\n",
        "    \n",
        "    # test set: returns a grid of uniform spots \n",
        "    # with corresponding ground true prices, deltas and vegas\n",
        "    def testSet(self, lower=0.35, upper=1.65, num=1000, seed=None):\n",
        "        '''\n",
        "          Input:\n",
        "              lower - lower bound for spot prices [float]\n",
        "              upper - upper bound for spot prices [float]\n",
        "              num   - number of intervals for spot prices [int]\n",
        "          Output:\n",
        "              spots  - asset prices              [(m, 1) array]\n",
        "              prices -  option prices            [(m, 1) array]\n",
        "              deltas - deltas                    [(m, 1) array] \n",
        "              vegas - vegas                      [(m, 1) array] \n",
        "              gammas - gammas                    [(m, 1) array] \n",
        "        '''            \n",
        "        spots = np.linspace(lower, upper, num).reshape((-1, 1))\n",
        "        # compute prices, deltas and vegas\n",
        "        prices = bsPrice(spots, self.K, self.vol, self.T2 - self.T1).reshape((-1, 1))\n",
        "        deltas = bsDelta(spots, self.K, self.vol, self.T2 - self.T1).reshape((-1, 1))\n",
        "        vegas = bsVega(spots, self.K, self.vol, self.T2 - self.T1).reshape((-1, 1))\n",
        "        gammas = bsGamma(spots, self.K, self.vol, self.T2 - self.T1).reshape((-1, 1))\n",
        "        return spots, spots, prices, deltas, vegas#, gammas \n",
        "   "
      ]
    },
    {
      "cell_type": "code",
      "execution_count": 4,
      "metadata": {
        "id": "4B7ean2L2HhW"
      },
      "outputs": [],
      "source": [
        "# Let's simulate some data \n",
        "c = BlackScholes()\n",
        "\n",
        "asset_prices, payoffs, differentials = c.trainingSet(m = 1000)"
      ]
    },
    {
      "cell_type": "code",
      "execution_count": 5,
      "metadata": {
        "colab": {
          "base_uri": "https://localhost:8080/",
          "height": 489
        },
        "id": "HlrPaLFG2tTV",
        "outputId": "3800c14d-823d-49d3-a54d-204aea5b5906"
      },
      "outputs": [
        {
          "output_type": "execute_result",
          "data": {
            "text/plain": [
              "Text(0.5, 1.0, 'Simulated data')"
            ]
          },
          "metadata": {},
          "execution_count": 5
        },
        {
          "output_type": "display_data",
          "data": {
            "text/plain": [
              "<Figure size 640x480 with 1 Axes>"
            ],
            "image/png": "[encoded data removed]"
          },
          "metadata": {}
        }
      ],
      "source": [
        "plt.scatter(x = asset_prices, y = payoffs)\n",
        "plt.ylabel('target: option price (expected payoff)')\n",
        "plt.xlabel('input: asset price at time t')\n",
        "plt.title('Simulated data')"
      ]
    },
    {
      "cell_type": "markdown",
      "metadata": {
        "id": "aQ7nQtPttPfg"
      },
      "source": [
        "## **Feedforward network**"
      ]
    },
    {
      "cell_type": "markdown",
      "source": [
        "**Activation functions**"
      ],
      "metadata": {
        "id": "YPk-zkc6XcSk"
      }
    },
    {
      "cell_type": "markdown",
      "metadata": {
        "id": "0QE7gaRm9AYV"
      },
      "source": [
        "Activation functions are softplus.\n",
        "\n",
        "$$ softplus(x) = log( 1+ exp(x) ) $$ \n",
        "\n",
        "\n",
        "The derivative of the softplus is \n",
        "\n",
        "$$ f'(x)= exp(x) / ( 1+ exp⁡(x) ) = 1 / ( 1 + exp(−x)),$$\n",
        "\n",
        " which is also called the logistic function."
      ]
    },
    {
      "cell_type": "markdown",
      "source": [
        "Alternative activation function is the exponential linear unit (ELU). The ELU with $α > 0$ is\n",
        "\n",
        "$$\n",
        "f(x)=\\left\\{\\begin{array}{ll}\n",
        "x & \\text { if } x>0 \\\\\n",
        "\\alpha(\\exp (x)-1) & \\text { if } x \\leq 0\n",
        "\\end{array} \\quad, \\quad f^{\\prime}(x)= \\begin{cases}1 & \\text { if } x>0 \\\\\n",
        "f(x)+\\alpha & \\text { if } x \\leq 0\\end{cases}\\right.\n",
        "$$\n",
        "\n",
        "The hyperparameter $α$ controls the value to which an ELU saturates for negative net inputs. ELUs diminish the vanishing gradient effect as rectified linear units (ReLUs) and leaky ReLUs do.\n",
        "\n",
        "Reference: https://arxiv.org/pdf/1511.07289.pdf"
      ],
      "metadata": {
        "id": "yJfUxkuuWgVm"
      }
    },
    {
      "cell_type": "code",
      "source": [
        "### Create tf function to apply first derivative of ELU\n",
        "@tf.function\n",
        "def elu_deriv(x, alpha = 1.0): # alpha = 1 is default value\n",
        "  pred = x > 0\n",
        "  true_fn =  lambda: x\n",
        "  false_fn = lambda: tf.keras.activations.elu(x, alpha = alpha) + alpha\n",
        "  output = tf.cond(pred, true_fn, false_fn)\n",
        "  return output \n",
        "\n",
        "# Test function\n",
        "input_tensor = tf.Variable([[-1.0, 0.0, 1.0, 2.0]])\n",
        "output_tensor = tf.map_fn(elu_deriv, tf.squeeze(input_tensor))\n",
        "output_tensor\n",
        "\n",
        "tf.reshape(output_tensor, [1, -1])\n",
        "output_tensor\n"
      ],
      "metadata": {
        "colab": {
          "base_uri": "https://localhost:8080/"
        },
        "id": "68CEAG2lmU2g",
        "outputId": "4947e0c2-b2a9-4539-bb14-8b5b4e6a1b9b"
      },
      "execution_count": 6,
      "outputs": [
        {
          "output_type": "execute_result",
          "data": {
            "text/plain": [
              "<tf.Tensor 'map/TensorArrayStack/TensorArrayGatherV3:0' shape=(4,) dtype=float32>"
            ]
          },
          "metadata": {},
          "execution_count": 6
        }
      ]
    },
    {
      "cell_type": "markdown",
      "source": [
        "**TF functions**:\n",
        "\n",
        "**tf.compat.v1.get_variable()**: creates a new variable and adds it to the TensorFlow graph. It takes an initial value as input and returns a TensorFlow variable object that can be used in subsequent computations.\n",
        "\n",
        "**tf.placeholder()**: Inserts a placeholder for a tensor\n",
        "\n",
        "**tf.keras.initializers.variance_scaling()**: used to initialise weights\n",
        "\n",
        "**tf.zeros_initializer()**: initialises a tensor populated with zeros\n",
        "\n",
        "**@ operator**: performs matrix multiplication"
      ],
      "metadata": {
        "id": "7ue6VWIagkgH"
      }
    },
    {
      "cell_type": "code",
      "execution_count": 7,
      "metadata": {
        "id": "5cT2SQlmsmFc"
      },
      "outputs": [],
      "source": [
        "def vanilla_net(input_dim, hidden_units, hidden_layers, seed):          \n",
        "    '''\n",
        "    Input:\n",
        "        input_dim       - dimension of inputs (1 in BS case) (data) [int]\n",
        "        hidden_units    - units in hidden layers, assumed constant [int]\n",
        "        hidden_layers   - number of hidden layers [int]\n",
        "    Output:\n",
        "        xs - inputs (asset prices)    [(n, input_dim) tf.Tensor] where n is # observations\n",
        "        ws - weights                  [list of tf.Variables of length = (hidden_layers + 1), 1st element (input_dim, 1), last element (hidden_units, 1), others are (hidden_units, hidden_units)]\n",
        "        bs - biases                   [list of tf.Variables of length = (hidden_layers + 1), last element (1, ), others are (hidden_units, )] \n",
        "        zs - layer outputs            [list of tf.Tensors of length = (hidden_layers + 2), 1st element = xs, second element = ys, others are (n, hidden_units)\n",
        "        ys - prediction               [(n, 1) tf.Tensor] where n is # observations\n",
        "  '''            \n",
        "    # set seed\n",
        "    #tf.random.set_seed(seed)\n",
        "    \n",
        "    # input layer (this will be the prices)\n",
        "    #xs = tf.compat.v1.placeholder(shape=[None, input_dim], dtype=real_type) # for tf v1\n",
        "    xs = tf.placeholder(shape=[None, input_dim], dtype=real_type)\n",
        "       \n",
        "    # connection weights and biases of hidden layers\n",
        "    ws = [None]\n",
        "    bs = [None]\n",
        "    # layer 0 (input) has no parameters\n",
        "    \n",
        "    # layer 0 = input layer\n",
        "    zs = [xs] # see equation 3), l=0\n",
        "    \n",
        "    # first hidden layer (index 1)\n",
        "    # weight matrix\n",
        "    ws.append(tf.get_variable(\"w1\", [input_dim, hidden_units], \\\n",
        "        initializer = tf.variance_scaling_initializer(), dtype=real_type))\n",
        "    # bias vector\n",
        "    bs.append(tf.get_variable(\"b1\", [hidden_units], \\\n",
        "        initializer = tf.zeros_initializer(), dtype=real_type))\n",
        "    # graph\n",
        "    zs.append(zs[0] @ ws[1] + bs[1]) # see equation 3), l=1\n",
        "    \n",
        "    # second hidden layer (index 2) to last (index hidden_layers)\n",
        "    for l in range(1, hidden_layers): \n",
        "        ws.append(tf.get_variable(\"w%d\"%(l+1), [hidden_units, hidden_units], \\\n",
        "            initializer = tf.variance_scaling_initializer(), dtype=real_type))\n",
        "        bs.append(tf.get_variable(\"b%d\"%(l+1), [hidden_units], \\\n",
        "            initializer = tf.zeros_initializer(), dtype=real_type))\n",
        "        # Softplus activation\n",
        "        zs.append(tf.nn.softplus(zs[l]) @ ws[l+1] + bs[l+1]) # see equation 3), l=2..L-1\n",
        "        # Elu activation\n",
        "        #zs.append(tf.keras.activations.elu(zs[l], alpha = 1.0) @ ws[l+1] + bs[l+1])\n",
        "\n",
        "    # output layer (index hidden_layers+1)\n",
        "    ws.append(tf.compat.v1.get_variable(\"w\"+str(hidden_layers+1), [hidden_units, 1], \\\n",
        "            initializer = tf.variance_scaling_initializer(), dtype=real_type))\n",
        "    bs.append(tf.get_variable(\"b\"+str(hidden_layers+1), [1], \\\n",
        "        initializer = tf.zeros_initializer(), dtype=real_type))\n",
        "    # see equation 3), l=L\n",
        "    # Softplus activation\n",
        "    zs.append(tf.nn.softplus(zs[hidden_layers]) @ ws[hidden_layers+1] + bs[hidden_layers+1]) \n",
        "    # Elu activation\n",
        "    #zs.append(tf.keras.activations.elu(zs[hidden_layers], alpha = 1.0) @ ws[hidden_layers+1] + bs[hidden_layers+1]) \n",
        "    \n",
        "    # result = output layer\n",
        "    ys = zs[hidden_layers+1]\n",
        "    \n",
        "    # return input layer, (parameters = weight matrices and bias vectors), \n",
        "    # [all layers] and output layer\n",
        "    return xs, (ws, bs), zs, ys"
      ]
    },
    {
      "cell_type": "code",
      "source": [
        "# Test vanilla_net function\n",
        "tf.reset_default_graph()\n",
        "Xs, (Ws, Bs), Zs, Ys = vanilla_net(input_dim = 1 , hidden_units = 20, hidden_layers = 4, seed = None)"
      ],
      "metadata": {
        "id": "j1SHZ6YYhWno"
      },
      "execution_count": 8,
      "outputs": []
    },
    {
      "cell_type": "code",
      "source": [
        "# Input shape\n",
        "print(Xs.shape)"
      ],
      "metadata": {
        "colab": {
          "base_uri": "https://localhost:8080/"
        },
        "id": "lo9HT5wED5PM",
        "outputId": "b60f1a33-fcc7-49ee-bbf9-10ee46062402"
      },
      "execution_count": 9,
      "outputs": [
        {
          "output_type": "stream",
          "name": "stdout",
          "text": [
            "(?, 1)\n"
          ]
        }
      ]
    },
    {
      "cell_type": "code",
      "source": [
        "# Weights dimension\n",
        "Ws"
      ],
      "metadata": {
        "colab": {
          "base_uri": "https://localhost:8080/"
        },
        "id": "T1ieAaT9Jb15",
        "outputId": "af92b7ed-61e9-4261-c9b1-13d6b2bfd178"
      },
      "execution_count": 45,
      "outputs": [
        {
          "output_type": "execute_result",
          "data": {
            "text/plain": [
              "[None,\n",
              " <tf.Variable 'w1:0' shape=(1, 20) dtype=float32_ref>,\n",
              " <tf.Variable 'w2:0' shape=(20, 20) dtype=float32_ref>,\n",
              " <tf.Variable 'w3:0' shape=(20, 20) dtype=float32_ref>,\n",
              " <tf.Variable 'w4:0' shape=(20, 20) dtype=float32_ref>,\n",
              " <tf.Variable 'w5:0' shape=(20, 1) dtype=float32_ref>]"
            ]
          },
          "metadata": {},
          "execution_count": 45
        }
      ]
    },
    {
      "cell_type": "code",
      "source": [
        "# Biases dimension\n",
        "Bs"
      ],
      "metadata": {
        "colab": {
          "base_uri": "https://localhost:8080/"
        },
        "id": "sKsHSRerK3pM",
        "outputId": "87f4236a-6e7d-4a8a-e38a-9ee034b8e34e"
      },
      "execution_count": 48,
      "outputs": [
        {
          "output_type": "execute_result",
          "data": {
            "text/plain": [
              "[None,\n",
              " <tf.Variable 'b1:0' shape=(20,) dtype=float32_ref>,\n",
              " <tf.Variable 'b2:0' shape=(20,) dtype=float32_ref>,\n",
              " <tf.Variable 'b3:0' shape=(20,) dtype=float32_ref>,\n",
              " <tf.Variable 'b4:0' shape=(20,) dtype=float32_ref>,\n",
              " <tf.Variable 'b5:0' shape=(1,) dtype=float32_ref>]"
            ]
          },
          "metadata": {},
          "execution_count": 48
        }
      ]
    },
    {
      "cell_type": "code",
      "source": [
        "# Hidden layers shape\n",
        "Zs"
      ],
      "metadata": {
        "colab": {
          "base_uri": "https://localhost:8080/"
        },
        "id": "ZcBDkVCLHZht",
        "outputId": "48d052a5-1eff-499c-8736-b92febb729b1"
      },
      "execution_count": 31,
      "outputs": [
        {
          "output_type": "execute_result",
          "data": {
            "text/plain": [
              "[<tf.Tensor 'Placeholder:0' shape=(?, 1) dtype=float32>,\n",
              " <tf.Tensor 'add:0' shape=(?, 20) dtype=float32>,\n",
              " <tf.Tensor 'add_1:0' shape=(?, 20) dtype=float32>,\n",
              " <tf.Tensor 'add_2:0' shape=(?, 20) dtype=float32>,\n",
              " <tf.Tensor 'add_3:0' shape=(?, 20) dtype=float32>,\n",
              " <tf.Tensor 'add_4:0' shape=(?, 1) dtype=float32>]"
            ]
          },
          "metadata": {},
          "execution_count": 31
        }
      ]
    },
    {
      "cell_type": "code",
      "source": [
        "# Output shape\n",
        "print(Ys.shape)"
      ],
      "metadata": {
        "colab": {
          "base_uri": "https://localhost:8080/"
        },
        "id": "rxk40NyRIAZN",
        "outputId": "bbd16694-e81a-440e-b563-e9ce40d10f1d"
      },
      "execution_count": 27,
      "outputs": [
        {
          "output_type": "stream",
          "name": "stdout",
          "text": [
            "(?, 1)\n"
          ]
        }
      ]
    },
    {
      "cell_type": "markdown",
      "metadata": {
        "id": "zr8ZgvqgtyNp"
      },
      "source": [
        "**Back-prop and twin net**"
      ]
    },
    {
      "cell_type": "code",
      "execution_count": 10,
      "metadata": {
        "id": "CWUo4p_OtsDa"
      },
      "outputs": [],
      "source": [
        "# compute d_output/d_inputs by (explicit) backprop in vanilla net\n",
        "def backprop(weights_and_biases, zs):                \n",
        "    '''\n",
        "      Input:\n",
        "          weights_and_biases - 2nd output of vanilla_net(), input together as list\n",
        "          zs                 - 3rd output of vanilla_net() \n",
        "      Output:\n",
        "          xbar - predicted differentials   [(n, 1)) tf.Tensor] where n is # observations\n",
        "    '''       \n",
        "    ws, bs = weights_and_biases\n",
        "    L = len(zs) - 1\n",
        "    \n",
        "    # backpropagation, see equation (4), l=L..1\n",
        "    zbar = tf.ones_like(zs[L]) # zbar_L = 1\n",
        "    for l in range(L-1, 0, -1):\n",
        "        print(zs[l])\n",
        "        # Softplus activation\n",
        "        zbar = (zbar @ tf.transpose(ws[l+1])) * tf.nn.sigmoid(zs[l]) # see equation (4)\n",
        "        print(zbar)\n",
        "        # Elu activation\n",
        "        #zbar = (zbar @ tf.transpose(ws[l+1])) * tf.reshape(tf.map_fn(elu_deriv, tf.squeeze(zs[l])), [1,-1])\n",
        "    # for l=0\n",
        "    zbar = zbar @ tf.transpose(ws[1]) # see equation (4)\n",
        "    \n",
        "    xbar = zbar # xbar = zbar_0\n",
        "    \n",
        "    # dz[L] / dx\n",
        "    return xbar    \n"
      ]
    },
    {
      "cell_type": "code",
      "source": [
        "# Test backprop function\n",
        "Xbar = backprop((Ws, Bs), Zs)"
      ],
      "metadata": {
        "colab": {
          "base_uri": "https://localhost:8080/"
        },
        "id": "U2ouchY5E2N5",
        "outputId": "e6aacba3-4f31-4873-f0a9-f4b94a3874f0"
      },
      "execution_count": 11,
      "outputs": [
        {
          "output_type": "stream",
          "name": "stdout",
          "text": [
            "Tensor(\"add_3:0\", shape=(?, 20), dtype=float32)\n",
            "Tensor(\"mul:0\", shape=(?, 20), dtype=float32)\n",
            "Tensor(\"add_2:0\", shape=(?, 20), dtype=float32)\n",
            "Tensor(\"mul_1:0\", shape=(?, 20), dtype=float32)\n",
            "Tensor(\"add_1:0\", shape=(?, 20), dtype=float32)\n",
            "Tensor(\"mul_2:0\", shape=(?, 20), dtype=float32)\n",
            "Tensor(\"add:0\", shape=(?, 20), dtype=float32)\n",
            "Tensor(\"mul_3:0\", shape=(?, 20), dtype=float32)\n"
          ]
        }
      ]
    },
    {
      "cell_type": "code",
      "source": [
        "# Shape of output\n",
        "Xbar"
      ],
      "metadata": {
        "colab": {
          "base_uri": "https://localhost:8080/"
        },
        "id": "qUbN7mq_aqR4",
        "outputId": "7adf03a0-b192-46e0-b064-5a976d30ede7"
      },
      "execution_count": 13,
      "outputs": [
        {
          "output_type": "execute_result",
          "data": {
            "text/plain": [
              "<tf.Tensor 'matmul_9:0' shape=(?, 1) dtype=float32>"
            ]
          },
          "metadata": {},
          "execution_count": 13
        }
      ]
    },
    {
      "cell_type": "code",
      "source": [
        "# combined graph for valuation and differentiation\n",
        "def twin_net(input_dim, hidden_units, hidden_layers, seed):\n",
        "    '''\n",
        "    This function combines the vanilla_net() and backprop() functions to build the twin network.\n",
        "    \n",
        "    Input:\n",
        "        input_dim       - dimension of inputs (1 in BS case) (data) [int]\n",
        "        hidden_units    - units in hidden layers, assumed constant [int]\n",
        "        hidden_layers   - number of hidden layers [int]\n",
        "        seed            - seed for reproducibility [int or None]\n",
        "    Output:\n",
        "        xs - inputs  (asset prices)             [(n, input_dim) tf.Tensor] where n is # observations\n",
        "        ys - value prediction (option prices)   [(n, 1) tf.Tensor]\n",
        "        xbar - predicted differentials          [(n, 1)) tf.Tensor] \n",
        "\n",
        "  '''     \n",
        "    # first, build the feedforward net\n",
        "    xs, (ws, bs), zs, ys = vanilla_net(input_dim, hidden_units, hidden_layers, seed)\n",
        "    \n",
        "    # then, build its differentiation by backprop\n",
        "    xbar = backprop((ws, bs), zs)\n",
        "    \n",
        "    # return input x, output y and differentials d_y/d_z\n",
        "    return xs, ys, xbar"
      ],
      "metadata": {
        "id": "jlymFYKLaa3_"
      },
      "execution_count": 15,
      "outputs": []
    },
    {
      "cell_type": "code",
      "source": [
        "# Test twin_net function\n",
        "tf.reset_default_graph()\n",
        "Xs, Ys, Xbar = twin_net(input_dim = 10, hidden_units = 20, hidden_layers = 4, seed = None)"
      ],
      "metadata": {
        "colab": {
          "base_uri": "https://localhost:8080/"
        },
        "id": "KpuRWw_In6A9",
        "outputId": "c7b4ce6a-7422-45d2-cc25-e3692140c5e9"
      },
      "execution_count": 19,
      "outputs": [
        {
          "output_type": "stream",
          "name": "stdout",
          "text": [
            "Tensor(\"add_3:0\", shape=(?, 20), dtype=float32)\n",
            "Tensor(\"mul:0\", shape=(?, 20), dtype=float32)\n",
            "Tensor(\"add_2:0\", shape=(?, 20), dtype=float32)\n",
            "Tensor(\"mul_1:0\", shape=(?, 20), dtype=float32)\n",
            "Tensor(\"add_1:0\", shape=(?, 20), dtype=float32)\n",
            "Tensor(\"mul_2:0\", shape=(?, 20), dtype=float32)\n",
            "Tensor(\"add:0\", shape=(?, 20), dtype=float32)\n",
            "Tensor(\"mul_3:0\", shape=(?, 20), dtype=float32)\n"
          ]
        }
      ]
    },
    {
      "cell_type": "code",
      "source": [
        "# Inspect output\n",
        "print(Xs, Ys, Xbar)"
      ],
      "metadata": {
        "colab": {
          "base_uri": "https://localhost:8080/"
        },
        "id": "sKHEBoTodPAm",
        "outputId": "bfc750f9-ed9a-4316-84d4-ccd331bafb52"
      },
      "execution_count": 24,
      "outputs": [
        {
          "output_type": "stream",
          "name": "stdout",
          "text": [
            "Tensor(\"Placeholder:0\", shape=(?, 10), dtype=float32) Tensor(\"add_4:0\", shape=(?, 1), dtype=float32) Tensor(\"matmul_9:0\", shape=(?, 10), dtype=float32)\n"
          ]
        }
      ]
    },
    {
      "cell_type": "markdown",
      "metadata": {
        "id": "M9bWbSO4BNfI"
      },
      "source": [
        "***Training***"
      ]
    },
    {
      "cell_type": "code",
      "source": [
        "def vanilla_training_graph(input_dim, hidden_units, hidden_layers, seed):\n",
        "    '''\n",
        "    This function builds the 'vanilla' training graph, where differential labels are NOT included\n",
        "    It combines the vanilla_net() and backprop() functions to build the twin network, then defines the loss function, optimiser and learning rate.\n",
        "    Loss is MSE and Adam is used as the optimiser.\n",
        "   \n",
        "    Input:\n",
        "        input_dim       - dimension of inputs (1 in BS case) (data) [int]\n",
        "        hidden_units    - units in hidden layers, assumed constant [int]\n",
        "        hidden_layers   - number of hidden layers [int]\n",
        "        seed            - seed for reproducibility [int or None]\n",
        "    Output:\n",
        "        xs                       - inputs (asset prices)                [(n, input_dim) tf.Tensor] where n is # observations\n",
        "        labels                   - value targets (option prices)        [(n, 1) tf.Tensor]\n",
        "        predictions              - value predictions (option prices)    [(n, 1) tf.Tensor]\n",
        "        derivs_predictions       - differential predictions (deltas)    [(n, input_dim) tf.Tensor]\n",
        "        learning_rate            - desired learning rate                ???\n",
        "        loss                     - loss function\n",
        "        optimizer.minimize(loss) -                                      [tf.Operation]\n",
        "  '''     \n",
        "    # net\n",
        "    inputs, weights_and_biases, layers, predictions = \\\n",
        "        vanilla_net(input_dim, hidden_units, hidden_layers, seed)\n",
        "    \n",
        "    # backprop even though we are not USING differentials for training\n",
        "    # we still need them to predict derivatives dy_dx \n",
        "    derivs_predictions = backprop(weights_and_biases, layers)\n",
        "    \n",
        "    # placeholder for labels\n",
        "    labels = tf.compat.v1.placeholder(shape=[None, 1], dtype=real_type)\n",
        "    \n",
        "    # loss \n",
        "    loss = tf.losses.mean_squared_error(labels, predictions)\n",
        "    \n",
        "    # optimizer\n",
        "    learning_rate = tf.compat.v1.placeholder(real_type)\n",
        "    optimizer = tf.compat.v1.train.AdamOptimizer(learning_rate = learning_rate)\n",
        "    \n",
        "    # return all necessary \n",
        "    return inputs, labels, predictions, derivs_predictions, learning_rate, loss, optimizer.minimize(loss)"
      ],
      "metadata": {
        "id": "OwtF5evcExqV"
      },
      "execution_count": 25,
      "outputs": []
    },
    {
      "cell_type": "code",
      "source": [
        "# Test vanilla_training_graph\n",
        "tf.reset_default_graph()\n",
        "Inputs, Labels, Preds, Derivs_preds, L_rate, Loss, Optimizer = vanilla_training_graph(input_dim = 2, hidden_units = 20, hidden_layers = 4, seed = None)"
      ],
      "metadata": {
        "colab": {
          "base_uri": "https://localhost:8080/"
        },
        "id": "mTp4nZMRFevN",
        "outputId": "18719bfd-da9c-4d11-9d53-c6309adaa180"
      },
      "execution_count": 31,
      "outputs": [
        {
          "output_type": "stream",
          "name": "stdout",
          "text": [
            "Tensor(\"add_3:0\", shape=(?, 20), dtype=float32)\n",
            "Tensor(\"mul:0\", shape=(?, 20), dtype=float32)\n",
            "Tensor(\"add_2:0\", shape=(?, 20), dtype=float32)\n",
            "Tensor(\"mul_1:0\", shape=(?, 20), dtype=float32)\n",
            "Tensor(\"add_1:0\", shape=(?, 20), dtype=float32)\n",
            "Tensor(\"mul_2:0\", shape=(?, 20), dtype=float32)\n",
            "Tensor(\"add:0\", shape=(?, 20), dtype=float32)\n",
            "Tensor(\"mul_3:0\", shape=(?, 20), dtype=float32)\n"
          ]
        }
      ]
    },
    {
      "cell_type": "code",
      "source": [
        "# Inspect output\n",
        "print(Inputs, Labels, Preds, Derivs_preds)"
      ],
      "metadata": {
        "colab": {
          "base_uri": "https://localhost:8080/"
        },
        "id": "HVFDzc09Wzzz",
        "outputId": "0166a2cf-b996-4689-c217-70441fcf7fb0"
      },
      "execution_count": 32,
      "outputs": [
        {
          "output_type": "stream",
          "name": "stdout",
          "text": [
            "Tensor(\"Placeholder:0\", shape=(?, 2), dtype=float32) Tensor(\"Placeholder_1:0\", shape=(?, 1), dtype=float32) Tensor(\"add_4:0\", shape=(?, 1), dtype=float32) Tensor(\"matmul_9:0\", shape=(?, 2), dtype=float32)\n"
          ]
        }
      ]
    },
    {
      "cell_type": "code",
      "source": [
        "# Inspect output\n",
        "L_rate, Loss, Optimizer"
      ],
      "metadata": {
        "colab": {
          "base_uri": "https://localhost:8080/"
        },
        "id": "prVMwNQbgb8y",
        "outputId": "03abb9e1-cd83-4511-b8d1-b02056a32529"
      },
      "execution_count": 37,
      "outputs": [
        {
          "output_type": "execute_result",
          "data": {
            "text/plain": [
              "(<tf.Tensor 'Placeholder_2:0' shape=<unknown> dtype=float32>,\n",
              " <tf.Tensor 'mean_squared_error/value:0' shape=() dtype=float32>,\n",
              " <tf.Operation 'Adam' type=NoOp>)"
            ]
          },
          "metadata": {},
          "execution_count": 37
        }
      ]
    },
    {
      "cell_type": "markdown",
      "source": [
        "**session**:  In TensorFlow, a session is an environment for running computational graphs. It encapsulates the state of the TensorFlow runtime and allows you to execute operations and evaluate tensors. When you create and define a computational graph in TensorFlow, it represents the mathematical operations and relationships between tensors. However, just defining the graph does not execute any computations. To perform computations and evaluate tensors within the graph, you need to create a session."
      ],
      "metadata": {
        "id": "-f9g1WU8mkvh"
      }
    },
    {
      "cell_type": "code",
      "execution_count": null,
      "metadata": {
        "id": "yC7Y8lVz20gA"
      },
      "outputs": [],
      "source": [
        "# training loop for one epoch\n",
        "def vanilla_train_one_epoch(# training graph from vanilla_training_graph()\n",
        "                            inputs, labels, lr_placeholder, minimizer,   \n",
        "                            # training set \n",
        "                            x_train, y_train,                           \n",
        "                            # params, left to client code\n",
        "                            learning_rate, batch_size, session):        \n",
        "    '''\n",
        "    This function performs the training loop for one epoch by iterating over mini-batches of the training set\n",
        "    For each mini-batch, it runs the optimizer to minimize the loss function using the current mini-batch. \n",
        "    The loop continues until all mini-batches have been processed for the given epoch.\n",
        "\n",
        "    Input:\n",
        "        inputs          - placeholder for input data \n",
        "        labels          - placeholder for labels/targets \n",
        "        lr_placeholder  - placeholder for learning rate\n",
        "        minimizer       - optimizer used for minimizing the loss\n",
        "        x_train         - training input data (asset prices)\n",
        "        y_train         - training labels/targets (option prices)\n",
        "        learning_rate   - Learning rate for optimization\n",
        "        batch_size      - Size of mini-batches                           [int]\n",
        "        session         - TensorFlow session for running computations\n",
        "    Output:\n",
        "        None\n",
        "  ''' \n",
        "\n",
        "    # Define dimensions of the training set according to data inputs\n",
        "    m, n = x_train.shape\n",
        "    \n",
        "    #### Minimization loop over mini-batches\n",
        "    first = 0\n",
        "    # For a given batch size and # of observations determine how many loops to run\n",
        "    last = min(batch_size, m)\n",
        "    while first < m:\n",
        "        # session.run() call executes the minimizer operation with the given mini-batch of input data, labels, and learning rate.\n",
        "        session.run(minimizer, feed_dict = {\n",
        "            inputs: x_train[first:last], \n",
        "            labels: y_train[first:last],\n",
        "            lr_placeholder: learning_rate\n",
        "        })\n",
        "        # Update the indicies for the next mini batch\n",
        "        first = last\n",
        "        last = min(first + batch_size, m)"
      ]
    },
    {
      "cell_type": "code",
      "source": [
        "# Let's try training one epoch of the vanilla NN\n"
      ],
      "metadata": {
        "id": "SGPfa07XGU-O"
      },
      "execution_count": null,
      "outputs": []
    },
    {
      "cell_type": "code",
      "execution_count": null,
      "metadata": {
        "id": "_NmkE6yqBM51"
      },
      "outputs": [],
      "source": [
        "# Define differential training graph (almost same as vanilla training graph)\n",
        "def diff_training_graph(input_dim, hidden_units, hidden_layers, seed, alpha, beta, lambda_j):\n",
        "    '''\n",
        "    This function builds the differential training graph, where differential labels ARE included.\n",
        "    It combines the twin_net() and backprop() functions to build the twin network, then defines the loss function, optimiser and learning rate.  \n",
        "    loss = alpha * MSE(values) + beta * MSE(greeks, lambda_j), to balance relative weight of values and differentials (see appendix of paper).\n",
        "    Adam is used as the optimiser.\n",
        "    \n",
        "    Input:\n",
        "        input_dim       - dimension of inputs (1 in BS case) (data) [int]\n",
        "        hidden_units    - units in hidden layers, assumed constant [int]\n",
        "        hidden_layers   - number of hidden layers [int]\n",
        "        seed            - seed for reproducibility [int or None]\n",
        "        alpha           - weight on MSE for prediction values in loss function\n",
        "        beta            - weight on MSE for prediction differentials in loss function (beta = 1 - alpha)\n",
        "        lambda_j        -  (see normalize_data() function)\n",
        "    Output:\n",
        "        xs                       - inputs (asset prices)                [(n, input_dim) tf.Tensor] where n is # observations\n",
        "        labels                   - value targets (option prices)        [(n, 1) tf.Tensor]\n",
        "        predictions              - value predictions (option prices)    [(n, 1) tf.Tensor]\n",
        "        derivs_predictions       - differential predictions (deltas)    [(n, input_dim) tf.Tensor]\n",
        "        learning_rate            - desired learning rate                \n",
        "        loss                     - Loss function\n",
        "        optimizer.minimize(loss) -                                      [tf.Operation]\n",
        "    '''     \n",
        "    \n",
        "    # net, now a twin inputs, predictions, derivs_predictions = twin_net(input_dim, hidden_units, hidden_layers, seed)\n",
        "    \n",
        "    # placeholder for labels, now also derivs labels\n",
        "    labels = tf.compat.v1.placeholder(shape=[None, 1], dtype=real_type)\n",
        "    derivs_labels = tf.compat.v1.placeholder(shape=[None, derivs_predictions.shape[1]], dtype=real_type)\n",
        "    \n",
        "    # loss, now combined values + derivatives\n",
        "    loss = alpha * tf.losses.mean_squared_error(labels, predictions) \\\n",
        "    + beta * tf. losses.mean_squared_error(derivs_labels * lambda_j, derivs_predictions * lambda_j)\n",
        "    \n",
        "    # optimizer, as vanilla\n",
        "    learning_rate = tf.compat.v1.placeholder(real_type)\n",
        "    optimizer = tf.compat.v1.train.AdamOptimizer(learning_rate = learning_rate)\n",
        "    \n",
        "    # return all necessary tensors, including derivatives\n",
        "    # predictions and labels\n",
        "    return inputs, labels, derivs_labels, predictions, derivs_predictions, \\\n",
        "            learning_rate, loss, optimizer.minimize(loss)\n",
        "\n"
      ]
    },
    {
      "cell_type": "code",
      "source": [
        "# Define training loop for one epoch (same as vanilla_train_one_epoch() but with differential labels included)\n",
        "def diff_train_one_epoch(inputs, labels, derivs_labels, lr_placeholder, minimizer, x_train, y_train, dydx_train, learning_rate, batch_size, session):    \n",
        "    '''\n",
        "    This function performs the training loop for one epoch by iterating over mini-batches of the training set\n",
        "    For each mini-batch, it runs the optimizer to minimize the loss function using the current mini-batch. \n",
        "    The loop continues until all mini-batches have been processed for the given epoch.\n",
        "\n",
        "    Input:\n",
        "        inputs          - placeholder for input data \n",
        "        labels          - placeholder for labels/targets \n",
        "        derivs_labels   - placeholder for differential labels\n",
        "        lr_placeholder  - placeholder for learning rate\n",
        "        minimizer       - optimizer used for minimizing the loss\n",
        "        x_train         - training input data (asset prices)\n",
        "        y_train         - training labels/targets (option prices)\n",
        "        learning_rate   - Learning rate for optimization\n",
        "        batch_size      - Size of mini-batches                           [int]\n",
        "        session         - TensorFlow session for running computations\n",
        "    Output:\n",
        "        None\n",
        "  ''' \n",
        "    # Define dimensions of the training set according to data inputs\n",
        "    m, n = x_train.shape\n",
        "    \n",
        "    #### Minimization loop over mini-batches, now with Greeks\n",
        "    first = 0\n",
        "    # For a given batch size and # of observations determine how many loops to run\n",
        "    last = min(batch_size, m)\n",
        "    while first < m:\n",
        "        # session.run() call executes the minimizer operation with the given mini-batch of input data, labels, and learning rate.\n",
        "        session.run(minimizer, feed_dict = {\n",
        "            inputs: x_train[first:last], \n",
        "            labels: y_train[first:last],\n",
        "            derivs_labels: dydx_train[first:last],\n",
        "            lr_placeholder: learning_rate\n",
        "        })\n",
        "        # Update the indicies for the next mini batch\n",
        "        first = last\n",
        "        last = min(first + batch_size, m)"
      ],
      "metadata": {
        "id": "ZgfO1ERMuaRV"
      },
      "execution_count": 40,
      "outputs": []
    },
    {
      "cell_type": "markdown",
      "source": [
        "**Callbacks:**\n",
        "A callback is a function that is called repeatedly during a process (for example the training of a neural network) and which generally serves to validate or correct certain behaviors. In machine learning, we can use callbacks to define what happens before, during, or at the end of a training epoch.\n",
        "See: https://towardsdatascience.com/callbacks-in-neural-networks-b0b006df7626"
      ],
      "metadata": {
        "id": "AAdHAWL86MSY"
      }
    },
    {
      "cell_type": "code",
      "execution_count": null,
      "metadata": {
        "id": "xu60P9HdEC4-"
      },
      "outputs": [],
      "source": [
        "def train(description,\n",
        "          # neural approximator\n",
        "          approximator,              \n",
        "          # training params\n",
        "          reinit=True, \n",
        "          epochs=100, \n",
        "          # one-cycle learning rate schedule\n",
        "          learning_rate_schedule= [    (0.0, 1.0e-8), \\\n",
        "                                      (0.2, 0.1),    \\\n",
        "                                      (0.6, 0.01),   \\\n",
        "                                      (0.9, 1.0e-6), \\\n",
        "                                      (1.0, 1.0e-8)  ], \n",
        "          batches_per_epoch=16,\n",
        "          min_batch_size=256,\n",
        "          # callback function and when to call it\n",
        "          callback=None,           # arbitrary callable\n",
        "          callback_epochs=[]):     # call after what epochs, e.g. [5, 20]\n",
        "    '''\n",
        "    This function performs\n",
        "\n",
        "    Input:\n",
        "        description            - \n",
        "        approximator           - \n",
        "        reinit                 -\n",
        "        epochs                 - number of epochs desired  [int]\n",
        "        learning_rate_schedule - learning rate schedule    [list of 2 element tuples] \n",
        "                                                            - first element is epoch number on 0-1 scale\n",
        "                                                            - second element is desired learning rate at that epoch\n",
        "                                                            - intermediate values are linearly interpolated\n",
        "                                                            - see following code cell for visualisation of default learning schedule\n",
        "        batches_per_epoch      - number of mini batches per epoch [int]\n",
        "        callback               - callback function to deploy (default = None) - can ignore\n",
        "        callback_epochs=[]     - after which epochs should the callback function be called\n",
        "    Output:\n",
        "        None\n",
        "  ''' \n",
        "          \n",
        "    # batching - m is the number of observations\n",
        "    batch_size = max(min_batch_size, approximator.m // batches_per_epoch)\n",
        "    \n",
        "    # one-cycle learning rate sechedule\n",
        "    lr_schedule_epochs, lr_schedule_rates = zip(*learning_rate_schedule)\n",
        "            \n",
        "    # reset\n",
        "    if reinit:\n",
        "        approximator.session.run(approximator.initializer)\n",
        "    \n",
        "    # callback on epoch 0, if requested\n",
        "    if callback and 0 in callback_epochs:\n",
        "        callback(approximator, 0)\n",
        "        \n",
        "    # loop on epochs, with progress bar (tqdm)\n",
        "    for epoch in tqdm_notebook(range(epochs), desc=description):\n",
        "        \n",
        "        # interpolate learning rate in cycle\n",
        "        learning_rate = np.interp(epoch / epochs, lr_schedule_epochs, lr_schedule_rates)\n",
        "        \n",
        "        # train one epoch\n",
        "        \n",
        "        if not approximator.differential:\n",
        "        \n",
        "            vanilla_train_one_epoch(\n",
        "                approximator.inputs, \n",
        "                approximator.labels, \n",
        "                approximator.learning_rate, \n",
        "                approximator.minimizer, \n",
        "                approximator.x, \n",
        "                approximator.y, \n",
        "                learning_rate, \n",
        "                batch_size, \n",
        "                approximator.session)\n",
        "        \n",
        "        else:\n",
        "        \n",
        "            diff_train_one_epoch(\n",
        "                approximator.inputs, \n",
        "                approximator.labels, \n",
        "                approximator.derivs_labels,\n",
        "                approximator.learning_rate, \n",
        "                approximator.minimizer, \n",
        "                approximator.x, \n",
        "                approximator.y, \n",
        "                approximator.dy_dx,\n",
        "                learning_rate, \n",
        "                batch_size, \n",
        "                approximator.session)\n",
        "        \n",
        "        # callback, if requested\n",
        "        if callback and epoch in callback_epochs:\n",
        "            callback(approximator, epoch)\n",
        "\n",
        "    # final callback, if requested\n",
        "    if callback and epochs in callback_epochs:\n",
        "        callback(approximator, epochs)        "
      ]
    },
    {
      "cell_type": "code",
      "source": [
        "# Inspect learning rate schedule\n",
        "learning_rate_schedule = [ (0.0, 1.0e-8), (0.2, 0.1), (0.6, 0.01), (0.9, 1.0e-6), (1.0, 1.0e-8)]\n",
        "\n",
        "lr_schedule_epochs, lr_schedule_rates = zip(*learning_rate_schedule)\n",
        "\n",
        "learning_rates = np.zeros(epochs)\n",
        "\n",
        "for epoch in range(0, epochs):\n",
        "  learning_rates[epoch] = np.interp(epoch / epochs, lr_schedule_epochs, lr_schedule_rates)\n",
        "\n",
        "plt.plot(range(0,100), learning_rates) \n",
        "plt.xlabel('Epoch')\n",
        "plt.ylabel('Learning rate')\n",
        "plt.title('Learning Rate Schedule')"
      ],
      "metadata": {
        "colab": {
          "base_uri": "https://localhost:8080/",
          "height": 506
        },
        "id": "3DdfDFra7SR3",
        "outputId": "a30be210-b791-4316-c911-4a8209252a85"
      },
      "execution_count": 51,
      "outputs": [
        {
          "output_type": "stream",
          "name": "stdout",
          "text": [
            "(0.0, 0.2, 0.6, 0.9, 1.0) (1e-08, 0.1, 0.01, 1e-06, 1e-08)\n"
          ]
        },
        {
          "output_type": "execute_result",
          "data": {
            "text/plain": [
              "Text(0.5, 1.0, 'Learning Rate Schedule')"
            ]
          },
          "metadata": {},
          "execution_count": 51
        },
        {
          "output_type": "display_data",
          "data": {
            "text/plain": [
              "<Figure size 640x480 with 1 Axes>"
            ],
            "image/png": "[encoded data removed]"
          },
          "metadata": {}
        }
      ]
    },
    {
      "cell_type": "markdown",
      "metadata": {
        "id": "YDMZ2nOUSNEU"
      },
      "source": [
        "***Normalise data***"
      ]
    },
    {
      "cell_type": "code",
      "execution_count": null,
      "metadata": {
        "id": "2AK3Y8ZIEnRM"
      },
      "outputs": [],
      "source": [
        "# basic data preparation\n",
        "epsilon = 1.0e-08\n",
        "def normalize_data(x_raw, y_raw, dydx_raw=None, crop=None):\n",
        "    \n",
        "    # crop dataset\n",
        "    m = crop if crop is not None else x_raw.shape[0]\n",
        "    x_cropped = x_raw[:m]\n",
        "    y_cropped = y_raw[:m]\n",
        "    dycropped_dxcropped = dydx_raw[:m] if dydx_raw is not None else None\n",
        "    \n",
        "    # normalize dataset\n",
        "    x_mean = x_cropped.mean(axis=0)\n",
        "    x_std = x_cropped.std(axis=0) + epsilon\n",
        "    x = (x_cropped- x_mean) / x_std\n",
        "    y_mean = y_cropped.mean(axis=0)\n",
        "    y_std = y_cropped.std(axis=0) + epsilon\n",
        "    y = (y_cropped-y_mean) / y_std\n",
        "    \n",
        "    # normalize derivatives too\n",
        "    if dycropped_dxcropped is not None:\n",
        "        dy_dx = dycropped_dxcropped / y_std * x_std \n",
        "        # weights of derivatives in cost function = (quad) mean size\n",
        "        lambda_j = 1.0 / np.sqrt((dy_dx ** 2).mean(axis=0)).reshape(1, -1)\n",
        "    else:\n",
        "        dy_dx = None\n",
        "        lambda_j = None\n",
        "    \n",
        "    return x_mean, x_std, x, y_mean, y_std, y, dy_dx, lambda_j"
      ]
    },
    {
      "cell_type": "markdown",
      "metadata": {
        "id": "7fGqZEdwosJC"
      },
      "source": [
        "**Putting everything together**"
      ]
    },
    {
      "cell_type": "code",
      "execution_count": null,
      "metadata": {
        "id": "-i0FcLJfEpVR"
      },
      "outputs": [],
      "source": [
        "class Neural_Approximator():\n",
        "    \n",
        "    def __init__(self, x_raw, y_raw, \n",
        "                 dydx_raw=None):      # derivatives labels, \n",
        "       \n",
        "        self.x_raw = x_raw\n",
        "        self.y_raw = y_raw\n",
        "        self.dydx_raw = dydx_raw\n",
        "        \n",
        "        # tensorflow logic\n",
        "        self.graph = None\n",
        "  #      self.session = None\n",
        "                        \n",
        "    #def __del__(self):\n",
        "    #    if self.session is not None:\n",
        "    #        self.session.close()\n",
        "        \n",
        "    def build_graph(self,\n",
        "                differential,       # differential or not           \n",
        "                lam,                # balance cost between values and derivs  \n",
        "                hidden_units, \n",
        "                hidden_layers, \n",
        "                weight_seed):\n",
        "        \n",
        "        # first, deal with tensorflow logic\n",
        "     #   if self.session is not None:\n",
        "     #       self.session.close()\n",
        "\n",
        "        self.graph = tf.Graph()\n",
        "        \n",
        "        with self.graph.as_default():\n",
        "        \n",
        "            # build the graph, either vanilla or differential\n",
        "            self.differential = differential\n",
        "            \n",
        "            if not differential:\n",
        "            # vanilla \n",
        "                \n",
        "                self.inputs, \\\n",
        "                self.labels, \\\n",
        "                self.predictions, \\\n",
        "                self.derivs_predictions, \\\n",
        "                self.learning_rate, \\\n",
        "                self.loss, \\\n",
        "                self.minimizer \\\n",
        "                = vanilla_training_graph(self.n, hidden_units, hidden_layers, weight_seed)\n",
        "                    \n",
        "            else:\n",
        "            # differential\n",
        "            \n",
        "                if self.dy_dx is None:\n",
        "                    raise Exception(\"No differential labels for differential training graph\")\n",
        "            \n",
        "                self.alpha = 1.0 / (1.0 + lam * self.n)\n",
        "                self.beta = 1.0 - self.alpha\n",
        "                \n",
        "                self.inputs, \\\n",
        "                self.labels, \\\n",
        "                self.derivs_labels, \\\n",
        "                self.predictions, \\\n",
        "                self.derivs_predictions, \\\n",
        "                self.learning_rate, \\\n",
        "                self.loss, \\\n",
        "                self.minimizer = diff_training_graph(self.n, hidden_units, \\\n",
        "                                                     hidden_layers, weight_seed, \\\n",
        "                                                     self.alpha, self.beta, self.lambda_j)\n",
        "        \n",
        "            # global initializer\n",
        "            self.initializer = tf.compat.v1.global_variables_initializer()\n",
        "            \n",
        "        # done\n",
        "        self.graph.finalize()\n",
        "        self.session = tf.compat.v1.Session(graph=self.graph)\n",
        "                        \n",
        "    # prepare for training with m examples, standard or differential\n",
        "    def prepare(self, \n",
        "                m, \n",
        "                differential,\n",
        "                lam=1,              # balance cost between values and derivs  \n",
        "                # standard architecture\n",
        "                hidden_units=20, \n",
        "                hidden_layers=4, \n",
        "                weight_seed=None):\n",
        "\n",
        "        # prepare dataset\n",
        "        self.x_mean, self.x_std, self.x, self.y_mean, self.y_std, self.y, self.dy_dx, self.lambda_j = \\\n",
        "            normalize_data(self.x_raw, self.y_raw, self.dydx_raw, m)\n",
        "        \n",
        "        # build graph        \n",
        "        self.m, self.n = self.x.shape        \n",
        "        self.build_graph(differential, lam, hidden_units, hidden_layers, weight_seed)\n",
        "        \n",
        "    def train(self,            \n",
        "              description=\"training\",\n",
        "              # training params\n",
        "              reinit=True, \n",
        "              epochs=100, \n",
        "              # one-cycle learning rate schedule\n",
        "              learning_rate_schedule=[\n",
        "                  (0.0, 1.0e-8), \n",
        "                  (0.2, 0.1), \n",
        "                  (0.6, 0.01), \n",
        "                  (0.9, 1.0e-6), \n",
        "                  (1.0, 1.0e-8)], \n",
        "              batches_per_epoch=16,\n",
        "              min_batch_size=256,\n",
        "              # callback and when to call it\n",
        "              # we don't use callbacks, but this is very useful, e.g. for debugging\n",
        "              callback=None,           # arbitrary callable\n",
        "              callback_epochs=[]):     # call after what epochs, e.g. [5, 20]\n",
        "              \n",
        "        train(description, \n",
        "              self, \n",
        "              reinit, \n",
        "              epochs, \n",
        "              learning_rate_schedule, \n",
        "              batches_per_epoch, \n",
        "              min_batch_size,\n",
        "              callback, \n",
        "              callback_epochs)\n",
        "     \n",
        "    def predict_values(self, x):\n",
        "        # scale\n",
        "        x_scaled = (x-self.x_mean) / self.x_std \n",
        "        # predict scaled\n",
        "        y_scaled = self.session.run(self.predictions, feed_dict = {self.inputs: x_scaled})\n",
        "        # unscale\n",
        "        y = self.y_mean + self.y_std * y_scaled\n",
        "        return y\n",
        "\n",
        "    def predict_values_and_derivs(self, x):\n",
        "        # scale\n",
        "        x_scaled = (x-self.x_mean) / self.x_std\n",
        "        # predict scaled\n",
        "        y_scaled, dyscaled_dxscaled = self.session.run(\n",
        "            [self.predictions, self.derivs_predictions], \n",
        "            feed_dict = {self.inputs: x_scaled})\n",
        "        # unscale\n",
        "        y = self.y_mean + self.y_std * y_scaled\n",
        "        dydx = self.y_std / self.x_std * dyscaled_dxscaled\n",
        "        return y, dydx"
      ]
    },
    {
      "cell_type": "markdown",
      "metadata": {
        "id": "hKGm6k3MFK1W"
      },
      "source": [
        "***Implementation***"
      ]
    },
    {
      "cell_type": "code",
      "execution_count": null,
      "metadata": {
        "id": "Ocr8tAUjI1Nw"
      },
      "outputs": [],
      "source": [
        "def test(generator, \n",
        "         sizes, \n",
        "         nTest, \n",
        "         simulSeed=None, \n",
        "         testSeed=None, \n",
        "         weightSeed=None, \n",
        "         deltidx=0):\n",
        "\n",
        "    # simulation\n",
        "    print(\"simulating training, valid and test sets\")\n",
        "    xTrain, yTrain, dydxTrain = generator.trainingSet(max(sizes), seed=simulSeed)\n",
        "    xTest, xAxis, yTest, dydxTest, vegas = generator.testSet(num=nTest, seed=testSeed)\n",
        "    print(\"done\")\n",
        "\n",
        "    # neural approximator\n",
        "    print(\"initializing neural appropximator\")\n",
        "    regressor = Neural_Approximator(xTrain, yTrain, dydxTrain)\n",
        "    print(\"done\")\n",
        "    \n",
        "    predvalues = {}    \n",
        "    preddeltas = {}\n",
        "    for size in sizes:        \n",
        "            \n",
        "        print(\"\\nsize %d\" % size)\n",
        "        regressor.prepare(size, False, weight_seed=weightSeed)\n",
        "\n",
        "        t0 = time.time()\n",
        "        regressor.train(\"standard training\")\n",
        "        predictions, deltas = regressor.predict_values_and_derivs(xTest)\n",
        "        predvalues[(\"standard\", size)] = predictions\n",
        "        preddeltas[(\"standard\", size)] = deltas[:, deltidx]\n",
        "        t1 = time.time()\n",
        "        \n",
        "        regressor.prepare(size, True, weight_seed=weightSeed)\n",
        "            \n",
        "        t0 = time.time()\n",
        "        regressor.train(\"differential training\")\n",
        "        predictions, deltas = regressor.predict_values_and_derivs(xTest)\n",
        "        predvalues[(\"differential\", size)] = predictions\n",
        "        preddeltas[(\"differential\", size)] = deltas[:, deltidx]\n",
        "        t1 = time.time()\n",
        "        \n",
        "    return xAxis, yTest, dydxTest[:, deltidx], vegas, predvalues, preddeltas\n",
        "\n",
        "def graph(title, \n",
        "          predictions, \n",
        "          xAxis, \n",
        "          xAxisName, \n",
        "          yAxisName, \n",
        "          targets, \n",
        "          sizes, \n",
        "          computeRmse=False, \n",
        "          weights=None):\n",
        "    \n",
        "    numRows = len(sizes)\n",
        "    numCols = 2\n",
        "\n",
        "    fig, ax = plt.subplots(numRows, numCols, squeeze=False)\n",
        "    fig.set_size_inches(4 * numCols + 1.5, 4 * numRows)\n",
        "\n",
        "    for i, size in enumerate(sizes):\n",
        "        ax[i,0].annotate(\"size %d\" % size, xy=(0, 0.5), \n",
        "          xytext=(-ax[i,0].yaxis.labelpad-5, 0),\n",
        "          xycoords=ax[i,0].yaxis.label, textcoords='offset points',\n",
        "          ha='right', va='center')\n",
        "  \n",
        "    ax[0,0].set_title(\"Standard\")\n",
        "    ax[0,1].set_title(\"Differential\")\n",
        "    \n",
        "    for i, size in enumerate(sizes):        \n",
        "        for j, regType, in enumerate([\"standard\", \"differential\"]):\n",
        "\n",
        "            if computeRmse:\n",
        "                errors = 100 * (predictions[(regType, size)] - targets)\n",
        "                if weights is not None:\n",
        "                    errors /= weights\n",
        "                rmse = np.sqrt((errors ** 2).mean(axis=0))\n",
        "                t = \"rmse %.2f\" % rmse\n",
        "                #t = 'asset price'\n",
        "            else:\n",
        "                t = xAxisName\n",
        "                \n",
        "            ax[i,j].set_xlabel(t)            \n",
        "            ax[i,j].set_ylabel(yAxisName)\n",
        "\n",
        "            ax[i,j].plot(xAxis*100, predictions[(regType, size)]*100, 'co', \\\n",
        "                         markersize=2, markerfacecolor='white', label=\"predicted\")\n",
        "            ax[i,j].plot(xAxis*100, targets*100, 'r.', markersize=0.5, label='targets')\n",
        "\n",
        "            ax[i,j].legend(prop={'size': 8}, loc='upper left')\n",
        "\n",
        "    plt.tight_layout()\n",
        "    plt.subplots_adjust(top=0.9)\n",
        "    plt.suptitle(\"% s -- %s\" % (title, yAxisName), fontsize=16)\n",
        "    plt.show()"
      ]
    },
    {
      "cell_type": "code",
      "execution_count": null,
      "metadata": {
        "colab": {
          "base_uri": "https://localhost:8080/",
          "height": 893,
          "referenced_widgets": [
            "33a445cc2bf640bd8a46d301aa74a058",
            "3d16b6abd14d4890a2aa16245fdeeeaf",
            "455ea0da69224ad3bdfb2a3fdf33d880",
            "a90425442024465594aa3090111eb034",
            "d94a2d4755f44e6585266cf53e55cca2",
            "1bc8e5e09e3c4c8da2dc3f0ee6872ac7",
            "2fb53d67d79e4f26bc0666a560b0ea2b",
            "522d42093a774cd38e7b3a8d8e03e8e1",
            "ec22e0fdeb204c5c92e53930e9e28126",
            "65f4ba5189ba4b47933d92995bfd59cc",
            "59625a5d0c294759ba354d4c40c644e5",
            "3c073c18098449ed9eac7fab6c4b3ad2",
            "b71cfe914cb1416889c6ff561ab3ebcd",
            "fff0f3691b5644b388c5ae1d2d99ba19",
            "1f4b1c09bd654b89b974f4322f4415f0",
            "550eaf3c8f4849ab9905373503e2427c",
            "bdee68c0a5c3436694961825a79d96dd",
            "a00a6817cc684f669bb854111feeb238",
            "14693818c2094e458a3908f5dbe2d063",
            "b9b3a17142be482fb9f13a796cd4fab8",
            "57d2374db60d4cc5b24c4af86b674cfe",
            "6c0d5bab7a7d42d99a775330050a0190",
            "67f769047a7348079df6112cae905d1f",
            "c0f9ade9951b42ea8cedac92e7cc2183",
            "d71927b38c00459ba0a32a597d774002",
            "67f4d513fb114347ad5cf6269554ca7d",
            "02281624fb4e462ab9731779e70ef6fd",
            "7d8fb07231514801aaa64590a1c4ef50",
            "2254ccd9baae4dee822265703bfed0f3",
            "f20c7305e29f488ca1466b48d6199ddb",
            "48d4776006b1405dac12e40000ee9ed8",
            "d08668bf2a1d46fa8b6ceefa6c3e4e94",
            "f7093ce34267420e9afea1a55dde00a2",
            "42fc2e20b0f640aebb8dee0496a9f35c",
            "e4e53a9c986a42bf8075450f6b392e71",
            "380b503ccdd14723b5ad9054ef6dff69",
            "f5ad07675ab34ed5912e04a3a4da7bfb",
            "74579068bc3c449c868dba405999d22e",
            "64d0a698590a4d7c9663bb6561772a2a",
            "fdeb56585606498fa64260e0d6c5c32e",
            "768da985080449c69666139cf537c15a",
            "bde1b2871ab94c4ea3597e00b97eb209",
            "9a6fddd8d8934608a8a4ad961e2ed9df",
            "4f84b67cbe464914b4d07b022ea53d72"
          ]
        },
        "id": "kdCJRWXBGvnv",
        "outputId": "a52a5701-1789-4312-f6c5-3161d8258931"
      },
      "outputs": [
        {
          "output_type": "stream",
          "name": "stdout",
          "text": [
            "using seed 1788\n",
            "simulating training, valid and test sets\n",
            "done\n",
            "initializing neural appropximator\n",
            "done\n",
            "\n",
            "size 1000\n",
            "Tensor(\"add_3:0\", shape=(None, 20), dtype=float32)\n",
            "Tensor(\"mul:0\", shape=(None, 20), dtype=float32)\n",
            "Tensor(\"add_2:0\", shape=(None, 20), dtype=float32)\n",
            "Tensor(\"mul_1:0\", shape=(None, 20), dtype=float32)\n",
            "Tensor(\"add_1:0\", shape=(None, 20), dtype=float32)\n",
            "Tensor(\"mul_2:0\", shape=(None, 20), dtype=float32)\n",
            "Tensor(\"add:0\", shape=(None, 20), dtype=float32)\n",
            "Tensor(\"mul_3:0\", shape=(None, 20), dtype=float32)\n"
          ]
        },
        {
          "output_type": "stream",
          "name": "stderr",
          "text": [
            "<ipython-input-15-6d9515185a71>:34: TqdmDeprecationWarning: This function will be removed in tqdm==5.0.0\n",
            "Please use `tqdm.notebook.tqdm` instead of `tqdm.tqdm_notebook`\n",
            "  for epoch in tqdm_notebook(range(epochs), desc=description):\n"
          ]
        },
        {
          "output_type": "display_data",
          "data": {
            "text/plain": [
              "standard training:   0%|          | 0/100 [00:00<?, ?it/s]"
            ],
            "application/vnd.jupyter.widget-view+json": {
              "version_major": 2,
              "version_minor": 0,
              "model_id": "33a445cc2bf640bd8a46d301aa74a058"
            }
          },
          "metadata": {}
        },
        {
          "output_type": "stream",
          "name": "stdout",
          "text": [
            "Tensor(\"add_3:0\", shape=(None, 20), dtype=float32)\n",
            "Tensor(\"mul:0\", shape=(None, 20), dtype=float32)\n",
            "Tensor(\"add_2:0\", shape=(None, 20), dtype=float32)\n",
            "Tensor(\"mul_1:0\", shape=(None, 20), dtype=float32)\n",
            "Tensor(\"add_1:0\", shape=(None, 20), dtype=float32)\n",
            "Tensor(\"mul_2:0\", shape=(None, 20), dtype=float32)\n",
            "Tensor(\"add:0\", shape=(None, 20), dtype=float32)\n",
            "Tensor(\"mul_3:0\", shape=(None, 20), dtype=float32)\n"
          ]
        },
        {
          "output_type": "display_data",
          "data": {
            "text/plain": [
              "differential training:   0%|          | 0/100 [00:00<?, ?it/s]"
            ],
            "application/vnd.jupyter.widget-view+json": {
              "version_major": 2,
              "version_minor": 0,
              "model_id": "3c073c18098449ed9eac7fab6c4b3ad2"
            }
          },
          "metadata": {}
        },
        {
          "output_type": "stream",
          "name": "stdout",
          "text": [
            "\n",
            "size 1000000\n",
            "Tensor(\"add_3:0\", shape=(None, 20), dtype=float32)\n",
            "Tensor(\"mul:0\", shape=(None, 20), dtype=float32)\n",
            "Tensor(\"add_2:0\", shape=(None, 20), dtype=float32)\n",
            "Tensor(\"mul_1:0\", shape=(None, 20), dtype=float32)\n",
            "Tensor(\"add_1:0\", shape=(None, 20), dtype=float32)\n",
            "Tensor(\"mul_2:0\", shape=(None, 20), dtype=float32)\n",
            "Tensor(\"add:0\", shape=(None, 20), dtype=float32)\n",
            "Tensor(\"mul_3:0\", shape=(None, 20), dtype=float32)\n"
          ]
        },
        {
          "output_type": "display_data",
          "data": {
            "text/plain": [
              "standard training:   0%|          | 0/100 [00:00<?, ?it/s]"
            ],
            "application/vnd.jupyter.widget-view+json": {
              "version_major": 2,
              "version_minor": 0,
              "model_id": "67f769047a7348079df6112cae905d1f"
            }
          },
          "metadata": {}
        },
        {
          "output_type": "stream",
          "name": "stdout",
          "text": [
            "Tensor(\"add_3:0\", shape=(None, 20), dtype=float32)\n",
            "Tensor(\"mul:0\", shape=(None, 20), dtype=float32)\n",
            "Tensor(\"add_2:0\", shape=(None, 20), dtype=float32)\n",
            "Tensor(\"mul_1:0\", shape=(None, 20), dtype=float32)\n",
            "Tensor(\"add_1:0\", shape=(None, 20), dtype=float32)\n",
            "Tensor(\"mul_2:0\", shape=(None, 20), dtype=float32)\n",
            "Tensor(\"add:0\", shape=(None, 20), dtype=float32)\n",
            "Tensor(\"mul_3:0\", shape=(None, 20), dtype=float32)\n"
          ]
        },
        {
          "output_type": "display_data",
          "data": {
            "text/plain": [
              "differential training:   0%|          | 0/100 [00:00<?, ?it/s]"
            ],
            "application/vnd.jupyter.widget-view+json": {
              "version_major": 2,
              "version_minor": 0,
              "model_id": "42fc2e20b0f640aebb8dee0496a9f35c"
            }
          },
          "metadata": {}
        }
      ],
      "source": [
        "# simulation set sizes to perform\n",
        "sizes = [1000, 1000000]\n",
        "\n",
        "# show delta?\n",
        "showDeltas = True\n",
        "\n",
        "# seed\n",
        "# simulSeed = 1234\n",
        "simulSeed = np.random.randint(0, 10000) \n",
        "print(\"using seed %d\" % simulSeed)\n",
        "weightSeed = None\n",
        "\n",
        "# number of test scenarios\n",
        "nTest = 100    \n",
        "\n",
        "# go\n",
        "generator = BlackScholes()\n",
        "xAxis, yTest, dydxTest, vegas, values, deltas = \\\n",
        "    test(generator, sizes, nTest, simulSeed, None, weightSeed)"
      ]
    },
    {
      "cell_type": "code",
      "execution_count": null,
      "metadata": {
        "colab": {
          "base_uri": "https://localhost:8080/",
          "height": 1000
        },
        "id": "4frfxa83OFMX",
        "outputId": "6f3751c3-8145-4bd0-b4e0-8debcdc93bff"
      },
      "outputs": [
        {
          "output_type": "display_data",
          "data": {
            "text/plain": [
              "<Figure size 950x800 with 4 Axes>"
            ],
            "image/png": "[encoded data removed]"
          },
          "metadata": {}
        },
        {
          "output_type": "display_data",
          "data": {
            "text/plain": [
              "<Figure size 950x800 with 4 Axes>"
            ],
            "image/png": "[encoded data removed]"
          },
          "metadata": {}
        }
      ],
      "source": [
        "# show predicitions\n",
        "graph(\"Black & Scholes\", values, xAxis, \"\", \"prices\", yTest, sizes, True)\n",
        "\n",
        "# show deltas\n",
        "graph(\"Black & Scholes\", deltas, xAxis, \"\", \"deltas\", dydxTest, sizes, True)"
      ]
    },
    {
      "cell_type": "code",
      "execution_count": null,
      "metadata": {
        "id": "101I-uu5rGhy"
      },
      "outputs": [],
      "source": [
        "xAxis, yTest, dydxTest, vegas, values, deltas"
      ]
    },
    {
      "cell_type": "code",
      "execution_count": null,
      "metadata": {
        "id": "obq-4-2zx9vS"
      },
      "outputs": [],
      "source": [
        "### Function to compute RMSE\n",
        "def computeRmse(pred, true):\n",
        "  errors = 100*(pred - true)\n",
        "  rmse = np.sqrt((errors ** 2)).mean()\n",
        "  return(rmse)"
      ]
    },
    {
      "cell_type": "code",
      "execution_count": null,
      "metadata": {
        "colab": {
          "base_uri": "https://localhost:8080/",
          "height": 331
        },
        "id": "l169LD0ar8GH",
        "outputId": "9bc2d698-5d2d-4887-9b11-d6ee121fb128"
      },
      "outputs": [
        {
          "name": "stdout",
          "output_type": "stream",
          "text": [
            "0.17779828174333415\n",
            "0.5990752921945638\n"
          ]
        },
        {
          "data": {
            "image/png": "[encoded data removed]",
            "text/plain": [
              "<Figure size 576x288 with 2 Axes>"
            ]
          },
          "metadata": {
            "needs_background": "light"
          },
          "output_type": "display_data"
        }
      ],
      "source": [
        "### Plot results - Deltas\n",
        "fig, axs = plt.subplots(nrows=1, ncols=2, figsize=(8, 4))\n",
        "\n",
        "axs[0].scatter(x = deltas[('differential', 1000000)]*100, y = dydxTest*100, alpha = 0.7)\n",
        "axs[0].plot([0, 100], [0, 100], color='red', alpha = 0.6)\n",
        "axs[0].set_ylabel('predicted value')\n",
        "axs[0].set_xlabel('target value')\n",
        "axs[0].set_title('Differential - Deltas')\n",
        "axs[0].text(20, 95, 'RMSE = 0.18', fontsize=12, ha='center', va='center')\n",
        "\n",
        "axs[1].scatter(x = deltas[('standard', 1000000)]*100, y = dydxTest*100, alpha = 0.7)\n",
        "axs[1].plot([0, 100], [0, 100], color='red', alpha = 0.6)\n",
        "axs[1].set_ylabel('predicted value')\n",
        "axs[1].set_xlabel('target value')\n",
        "axs[1].set_title('Standard - Deltas')\n",
        "axs[1].text(20, 95, 'RMSE = 0.60', fontsize=12, ha='center', va='center')\n",
        "\n",
        "print(computeRmse(deltas[('differential', 1000000)], dydxTest))\n",
        "print(computeRmse(deltas[('standard', 1000000)], dydxTest))\n",
        "\n",
        "\n",
        "# Adjust the spacing between the plots\n",
        "fig.tight_layout()\n",
        "\n",
        "# Display the plots\n",
        "plt.show()"
      ]
    },
    {
      "cell_type": "code",
      "execution_count": null,
      "metadata": {
        "colab": {
          "base_uri": "https://localhost:8080/",
          "height": 331
        },
        "id": "z3iump9LvJzH",
        "outputId": "2d71b92a-ab0d-4d40-9cf2-cb7e0327b4e0"
      },
      "outputs": [
        {
          "name": "stdout",
          "output_type": "stream",
          "text": [
            "0.05741148659843286\n",
            "0.0171768543143316\n"
          ]
        },
        {
          "data": {
            "image/png": "[encoded data removed]",
            "text/plain": [
              "<Figure size 576x288 with 2 Axes>"
            ]
          },
          "metadata": {
            "needs_background": "light"
          },
          "output_type": "display_data"
        }
      ],
      "source": [
        "fig, axs = plt.subplots(nrows=1, ncols=2, figsize=(8, 4))\n",
        "\n",
        "### Plot results - Option prices\n",
        "axs[0].scatter(x = values[('differential', 1000000)]*100, y = yTest*100, alpha = 0.7)\n",
        "axs[0].plot([0, 60], [0, 60], color='red', alpha = 0.6)\n",
        "axs[0].set_ylabel('predicted value')\n",
        "axs[0].set_xlabel('target value')\n",
        "axs[0].set_title('Differential - Option prices')\n",
        "axs[0].text(10, 55, 'RMSE = 0.02', fontsize=12, ha='center', va='center')\n",
        "\n",
        "\n",
        "axs[1].scatter(x = values[('standard', 1000000)]*100, y = yTest*100, alpha = 0.7)\n",
        "axs[1].plot([0, 60], [0, 60], color='red', alpha = 0.6)\n",
        "axs[1].set_ylabel('predicted value')\n",
        "axs[1].set_xlabel('target value')\n",
        "axs[1].set_title('Standard - Option prices')\n",
        "axs[1].text(10, 55, 'RMSE = 0.06', fontsize=12, ha='center', va='center')\n",
        "\n",
        "print(computeRmse(values[('standard', 1000000)], yTest))\n",
        "print(computeRmse(values[('differential', 1000000)], yTest))\n",
        "\n",
        "# Adjust the spacing between the plots\n",
        "fig.tight_layout()\n",
        "\n",
        "# Display the plots\n",
        "plt.show()\n"
      ]
    }
  ],
  "metadata": {
    "colab": {
      "provenance": []
    },
    "gpuClass": "standard",
    "kernelspec": {
      "display_name": "Python 3",
      "language": "python",
      "name": "python3"
    },
    "language_info": {
      "codemirror_mode": {
        "name": "ipython",
        "version": 3
      },
      "file_extension": ".py",
      "mimetype": "text/x-python",
      "name": "python",
      "nbconvert_exporter": "python",
      "pygments_lexer": "ipython3",
      "version": "3.8.8"
    },
    "widgets": {
      "application/vnd.jupyter.widget-state+json": {
        "33a445cc2bf640bd8a46d301aa74a058": {
          "model_module": "@jupyter-widgets/controls",
          "model_name": "HBoxModel",
          "model_module_version": "1.5.0",
          "state": {
            "_dom_classes": [],
            "_model_module": "@jupyter-widgets/controls",
            "_model_module_version": "1.5.0",
            "_model_name": "HBoxModel",
            "_view_count": null,
            "_view_module": "@jupyter-widgets/controls",
            "_view_module_version": "1.5.0",
            "_view_name": "HBoxView",
            "box_style": "",
            "children": [
              "IPY_MODEL_3d16b6abd14d4890a2aa16245fdeeeaf",
              "IPY_MODEL_455ea0da69224ad3bdfb2a3fdf33d880",
              "IPY_MODEL_a90425442024465594aa3090111eb034"
            ],
            "layout": "IPY_MODEL_d94a2d4755f44e6585266cf53e55cca2"
          }
        },
        "3d16b6abd14d4890a2aa16245fdeeeaf": {
          "model_module": "@jupyter-widgets/controls",
          "model_name": "HTMLModel",
          "model_module_version": "1.5.0",
          "state": {
            "_dom_classes": [],
            "_model_module": "@jupyter-widgets/controls",
            "_model_module_version": "1.5.0",
            "_model_name": "HTMLModel",
            "_view_count": null,
            "_view_module": "@jupyter-widgets/controls",
            "_view_module_version": "1.5.0",
            "_view_name": "HTMLView",
            "description": "",
            "description_tooltip": null,
            "layout": "IPY_MODEL_1bc8e5e09e3c4c8da2dc3f0ee6872ac7",
            "placeholder": "​",
            "style": "IPY_MODEL_2fb53d67d79e4f26bc0666a560b0ea2b",
            "value": "standard training: 100%"
          }
        },
        "455ea0da69224ad3bdfb2a3fdf33d880": {
          "model_module": "@jupyter-widgets/controls",
          "model_name": "FloatProgressModel",
          "model_module_version": "1.5.0",
          "state": {
            "_dom_classes": [],
            "_model_module": "@jupyter-widgets/controls",
            "_model_module_version": "1.5.0",
            "_model_name": "FloatProgressModel",
            "_view_count": null,
            "_view_module": "@jupyter-widgets/controls",
            "_view_module_version": "1.5.0",
            "_view_name": "ProgressView",
            "bar_style": "success",
            "description": "",
            "description_tooltip": null,
            "layout": "IPY_MODEL_522d42093a774cd38e7b3a8d8e03e8e1",
            "max": 100,
            "min": 0,
            "orientation": "horizontal",
            "style": "IPY_MODEL_ec22e0fdeb204c5c92e53930e9e28126",
            "value": 100
          }
        },
        "a90425442024465594aa3090111eb034": {
          "model_module": "@jupyter-widgets/controls",
          "model_name": "HTMLModel",
          "model_module_version": "1.5.0",
          "state": {
            "_dom_classes": [],
            "_model_module": "@jupyter-widgets/controls",
            "_model_module_version": "1.5.0",
            "_model_name": "HTMLModel",
            "_view_count": null,
            "_view_module": "@jupyter-widgets/controls",
            "_view_module_version": "1.5.0",
            "_view_name": "HTMLView",
            "description": "",
            "description_tooltip": null,
            "layout": "IPY_MODEL_65f4ba5189ba4b47933d92995bfd59cc",
            "placeholder": "​",
            "style": "IPY_MODEL_59625a5d0c294759ba354d4c40c644e5",
            "value": " 100/100 [00:00&lt;00:00, 113.22it/s]"
          }
        },
        "d94a2d4755f44e6585266cf53e55cca2": {
          "model_module": "@jupyter-widgets/base",
          "model_name": "LayoutModel",
          "model_module_version": "1.2.0",
          "state": {
            "_model_module": "@jupyter-widgets/base",
            "_model_module_version": "1.2.0",
            "_model_name": "LayoutModel",
            "_view_count": null,
            "_view_module": "@jupyter-widgets/base",
            "_view_module_version": "1.2.0",
            "_view_name": "LayoutView",
            "align_content": null,
            "align_items": null,
            "align_self": null,
            "border": null,
            "bottom": null,
            "display": null,
            "flex": null,
            "flex_flow": null,
            "grid_area": null,
            "grid_auto_columns": null,
            "grid_auto_flow": null,
            "grid_auto_rows": null,
            "grid_column": null,
            "grid_gap": null,
            "grid_row": null,
            "grid_template_areas": null,
            "grid_template_columns": null,
            "grid_template_rows": null,
            "height": null,
            "justify_content": null,
            "justify_items": null,
            "left": null,
            "margin": null,
            "max_height": null,
            "max_width": null,
            "min_height": null,
            "min_width": null,
            "object_fit": null,
            "object_position": null,
            "order": null,
            "overflow": null,
            "overflow_x": null,
            "overflow_y": null,
            "padding": null,
            "right": null,
            "top": null,
            "visibility": null,
            "width": null
          }
        },
        "1bc8e5e09e3c4c8da2dc3f0ee6872ac7": {
          "model_module": "@jupyter-widgets/base",
          "model_name": "LayoutModel",
          "model_module_version": "1.2.0",
          "state": {
            "_model_module": "@jupyter-widgets/base",
            "_model_module_version": "1.2.0",
            "_model_name": "LayoutModel",
            "_view_count": null,
            "_view_module": "@jupyter-widgets/base",
            "_view_module_version": "1.2.0",
            "_view_name": "LayoutView",
            "align_content": null,
            "align_items": null,
            "align_self": null,
            "border": null,
            "bottom": null,
            "display": null,
            "flex": null,
            "flex_flow": null,
            "grid_area": null,
            "grid_auto_columns": null,
            "grid_auto_flow": null,
            "grid_auto_rows": null,
            "grid_column": null,
            "grid_gap": null,
            "grid_row": null,
            "grid_template_areas": null,
            "grid_template_columns": null,
            "grid_template_rows": null,
            "height": null,
            "justify_content": null,
            "justify_items": null,
            "left": null,
            "margin": null,
            "max_height": null,
            "max_width": null,
            "min_height": null,
            "min_width": null,
            "object_fit": null,
            "object_position": null,
            "order": null,
            "overflow": null,
            "overflow_x": null,
            "overflow_y": null,
            "padding": null,
            "right": null,
            "top": null,
            "visibility": null,
            "width": null
          }
        },
        "2fb53d67d79e4f26bc0666a560b0ea2b": {
          "model_module": "@jupyter-widgets/controls",
          "model_name": "DescriptionStyleModel",
          "model_module_version": "1.5.0",
          "state": {
            "_model_module": "@jupyter-widgets/controls",
            "_model_module_version": "1.5.0",
            "_model_name": "DescriptionStyleModel",
            "_view_count": null,
            "_view_module": "@jupyter-widgets/base",
            "_view_module_version": "1.2.0",
            "_view_name": "StyleView",
            "description_width": ""
          }
        },
        "522d42093a774cd38e7b3a8d8e03e8e1": {
          "model_module": "@jupyter-widgets/base",
          "model_name": "LayoutModel",
          "model_module_version": "1.2.0",
          "state": {
            "_model_module": "@jupyter-widgets/base",
            "_model_module_version": "1.2.0",
            "_model_name": "LayoutModel",
            "_view_count": null,
            "_view_module": "@jupyter-widgets/base",
            "_view_module_version": "1.2.0",
            "_view_name": "LayoutView",
            "align_content": null,
            "align_items": null,
            "align_self": null,
            "border": null,
            "bottom": null,
            "display": null,
            "flex": null,
            "flex_flow": null,
            "grid_area": null,
            "grid_auto_columns": null,
            "grid_auto_flow": null,
            "grid_auto_rows": null,
            "grid_column": null,
            "grid_gap": null,
            "grid_row": null,
            "grid_template_areas": null,
            "grid_template_columns": null,
            "grid_template_rows": null,
            "height": null,
            "justify_content": null,
            "justify_items": null,
            "left": null,
            "margin": null,
            "max_height": null,
            "max_width": null,
            "min_height": null,
            "min_width": null,
            "object_fit": null,
            "object_position": null,
            "order": null,
            "overflow": null,
            "overflow_x": null,
            "overflow_y": null,
            "padding": null,
            "right": null,
            "top": null,
            "visibility": null,
            "width": null
          }
        },
        "ec22e0fdeb204c5c92e53930e9e28126": {
          "model_module": "@jupyter-widgets/controls",
          "model_name": "ProgressStyleModel",
          "model_module_version": "1.5.0",
          "state": {
            "_model_module": "@jupyter-widgets/controls",
            "_model_module_version": "1.5.0",
            "_model_name": "ProgressStyleModel",
            "_view_count": null,
            "_view_module": "@jupyter-widgets/base",
            "_view_module_version": "1.2.0",
            "_view_name": "StyleView",
            "bar_color": null,
            "description_width": ""
          }
        },
        "65f4ba5189ba4b47933d92995bfd59cc": {
          "model_module": "@jupyter-widgets/base",
          "model_name": "LayoutModel",
          "model_module_version": "1.2.0",
          "state": {
            "_model_module": "@jupyter-widgets/base",
            "_model_module_version": "1.2.0",
            "_model_name": "LayoutModel",
            "_view_count": null,
            "_view_module": "@jupyter-widgets/base",
            "_view_module_version": "1.2.0",
            "_view_name": "LayoutView",
            "align_content": null,
            "align_items": null,
            "align_self": null,
            "border": null,
            "bottom": null,
            "display": null,
            "flex": null,
            "flex_flow": null,
            "grid_area": null,
            "grid_auto_columns": null,
            "grid_auto_flow": null,
            "grid_auto_rows": null,
            "grid_column": null,
            "grid_gap": null,
            "grid_row": null,
            "grid_template_areas": null,
            "grid_template_columns": null,
            "grid_template_rows": null,
            "height": null,
            "justify_content": null,
            "justify_items": null,
            "left": null,
            "margin": null,
            "max_height": null,
            "max_width": null,
            "min_height": null,
            "min_width": null,
            "object_fit": null,
            "object_position": null,
            "order": null,
            "overflow": null,
            "overflow_x": null,
            "overflow_y": null,
            "padding": null,
            "right": null,
            "top": null,
            "visibility": null,
            "width": null
          }
        },
        "59625a5d0c294759ba354d4c40c644e5": {
          "model_module": "@jupyter-widgets/controls",
          "model_name": "DescriptionStyleModel",
          "model_module_version": "1.5.0",
          "state": {
            "_model_module": "@jupyter-widgets/controls",
            "_model_module_version": "1.5.0",
            "_model_name": "DescriptionStyleModel",
            "_view_count": null,
            "_view_module": "@jupyter-widgets/base",
            "_view_module_version": "1.2.0",
            "_view_name": "StyleView",
            "description_width": ""
          }
        },
        "3c073c18098449ed9eac7fab6c4b3ad2": {
          "model_module": "@jupyter-widgets/controls",
          "model_name": "HBoxModel",
          "model_module_version": "1.5.0",
          "state": {
            "_dom_classes": [],
            "_model_module": "@jupyter-widgets/controls",
            "_model_module_version": "1.5.0",
            "_model_name": "HBoxModel",
            "_view_count": null,
            "_view_module": "@jupyter-widgets/controls",
            "_view_module_version": "1.5.0",
            "_view_name": "HBoxView",
            "box_style": "",
            "children": [
              "IPY_MODEL_b71cfe914cb1416889c6ff561ab3ebcd",
              "IPY_MODEL_fff0f3691b5644b388c5ae1d2d99ba19",
              "IPY_MODEL_1f4b1c09bd654b89b974f4322f4415f0"
            ],
            "layout": "IPY_MODEL_550eaf3c8f4849ab9905373503e2427c"
          }
        },
        "b71cfe914cb1416889c6ff561ab3ebcd": {
          "model_module": "@jupyter-widgets/controls",
          "model_name": "HTMLModel",
          "model_module_version": "1.5.0",
          "state": {
            "_dom_classes": [],
            "_model_module": "@jupyter-widgets/controls",
            "_model_module_version": "1.5.0",
            "_model_name": "HTMLModel",
            "_view_count": null,
            "_view_module": "@jupyter-widgets/controls",
            "_view_module_version": "1.5.0",
            "_view_name": "HTMLView",
            "description": "",
            "description_tooltip": null,
            "layout": "IPY_MODEL_bdee68c0a5c3436694961825a79d96dd",
            "placeholder": "​",
            "style": "IPY_MODEL_a00a6817cc684f669bb854111feeb238",
            "value": "differential training: 100%"
          }
        },
        "fff0f3691b5644b388c5ae1d2d99ba19": {
          "model_module": "@jupyter-widgets/controls",
          "model_name": "FloatProgressModel",
          "model_module_version": "1.5.0",
          "state": {
            "_dom_classes": [],
            "_model_module": "@jupyter-widgets/controls",
            "_model_module_version": "1.5.0",
            "_model_name": "FloatProgressModel",
            "_view_count": null,
            "_view_module": "@jupyter-widgets/controls",
            "_view_module_version": "1.5.0",
            "_view_name": "ProgressView",
            "bar_style": "success",
            "description": "",
            "description_tooltip": null,
            "layout": "IPY_MODEL_14693818c2094e458a3908f5dbe2d063",
            "max": 100,
            "min": 0,
            "orientation": "horizontal",
            "style": "IPY_MODEL_b9b3a17142be482fb9f13a796cd4fab8",
            "value": 100
          }
        },
        "1f4b1c09bd654b89b974f4322f4415f0": {
          "model_module": "@jupyter-widgets/controls",
          "model_name": "HTMLModel",
          "model_module_version": "1.5.0",
          "state": {
            "_dom_classes": [],
            "_model_module": "@jupyter-widgets/controls",
            "_model_module_version": "1.5.0",
            "_model_name": "HTMLModel",
            "_view_count": null,
            "_view_module": "@jupyter-widgets/controls",
            "_view_module_version": "1.5.0",
            "_view_name": "HTMLView",
            "description": "",
            "description_tooltip": null,
            "layout": "IPY_MODEL_57d2374db60d4cc5b24c4af86b674cfe",
            "placeholder": "​",
            "style": "IPY_MODEL_6c0d5bab7a7d42d99a775330050a0190",
            "value": " 100/100 [00:02&lt;00:00, 56.48it/s]"
          }
        },
        "550eaf3c8f4849ab9905373503e2427c": {
          "model_module": "@jupyter-widgets/base",
          "model_name": "LayoutModel",
          "model_module_version": "1.2.0",
          "state": {
            "_model_module": "@jupyter-widgets/base",
            "_model_module_version": "1.2.0",
            "_model_name": "LayoutModel",
            "_view_count": null,
            "_view_module": "@jupyter-widgets/base",
            "_view_module_version": "1.2.0",
            "_view_name": "LayoutView",
            "align_content": null,
            "align_items": null,
            "align_self": null,
            "border": null,
            "bottom": null,
            "display": null,
            "flex": null,
            "flex_flow": null,
            "grid_area": null,
            "grid_auto_columns": null,
            "grid_auto_flow": null,
            "grid_auto_rows": null,
            "grid_column": null,
            "grid_gap": null,
            "grid_row": null,
            "grid_template_areas": null,
            "grid_template_columns": null,
            "grid_template_rows": null,
            "height": null,
            "justify_content": null,
            "justify_items": null,
            "left": null,
            "margin": null,
            "max_height": null,
            "max_width": null,
            "min_height": null,
            "min_width": null,
            "object_fit": null,
            "object_position": null,
            "order": null,
            "overflow": null,
            "overflow_x": null,
            "overflow_y": null,
            "padding": null,
            "right": null,
            "top": null,
            "visibility": null,
            "width": null
          }
        },
        "bdee68c0a5c3436694961825a79d96dd": {
          "model_module": "@jupyter-widgets/base",
          "model_name": "LayoutModel",
          "model_module_version": "1.2.0",
          "state": {
            "_model_module": "@jupyter-widgets/base",
            "_model_module_version": "1.2.0",
            "_model_name": "LayoutModel",
            "_view_count": null,
            "_view_module": "@jupyter-widgets/base",
            "_view_module_version": "1.2.0",
            "_view_name": "LayoutView",
            "align_content": null,
            "align_items": null,
            "align_self": null,
            "border": null,
            "bottom": null,
            "display": null,
            "flex": null,
            "flex_flow": null,
            "grid_area": null,
            "grid_auto_columns": null,
            "grid_auto_flow": null,
            "grid_auto_rows": null,
            "grid_column": null,
            "grid_gap": null,
            "grid_row": null,
            "grid_template_areas": null,
            "grid_template_columns": null,
            "grid_template_rows": null,
            "height": null,
            "justify_content": null,
            "justify_items": null,
            "left": null,
            "margin": null,
            "max_height": null,
            "max_width": null,
            "min_height": null,
            "min_width": null,
            "object_fit": null,
            "object_position": null,
            "order": null,
            "overflow": null,
            "overflow_x": null,
            "overflow_y": null,
            "padding": null,
            "right": null,
            "top": null,
            "visibility": null,
            "width": null
          }
        },
        "a00a6817cc684f669bb854111feeb238": {
          "model_module": "@jupyter-widgets/controls",
          "model_name": "DescriptionStyleModel",
          "model_module_version": "1.5.0",
          "state": {
            "_model_module": "@jupyter-widgets/controls",
            "_model_module_version": "1.5.0",
            "_model_name": "DescriptionStyleModel",
            "_view_count": null,
            "_view_module": "@jupyter-widgets/base",
            "_view_module_version": "1.2.0",
            "_view_name": "StyleView",
            "description_width": ""
          }
        },
        "14693818c2094e458a3908f5dbe2d063": {
          "model_module": "@jupyter-widgets/base",
          "model_name": "LayoutModel",
          "model_module_version": "1.2.0",
          "state": {
            "_model_module": "@jupyter-widgets/base",
            "_model_module_version": "1.2.0",
            "_model_name": "LayoutModel",
            "_view_count": null,
            "_view_module": "@jupyter-widgets/base",
            "_view_module_version": "1.2.0",
            "_view_name": "LayoutView",
            "align_content": null,
            "align_items": null,
            "align_self": null,
            "border": null,
            "bottom": null,
            "display": null,
            "flex": null,
            "flex_flow": null,
            "grid_area": null,
            "grid_auto_columns": null,
            "grid_auto_flow": null,
            "grid_auto_rows": null,
            "grid_column": null,
            "grid_gap": null,
            "grid_row": null,
            "grid_template_areas": null,
            "grid_template_columns": null,
            "grid_template_rows": null,
            "height": null,
            "justify_content": null,
            "justify_items": null,
            "left": null,
            "margin": null,
            "max_height": null,
            "max_width": null,
            "min_height": null,
            "min_width": null,
            "object_fit": null,
            "object_position": null,
            "order": null,
            "overflow": null,
            "overflow_x": null,
            "overflow_y": null,
            "padding": null,
            "right": null,
            "top": null,
            "visibility": null,
            "width": null
          }
        },
        "b9b3a17142be482fb9f13a796cd4fab8": {
          "model_module": "@jupyter-widgets/controls",
          "model_name": "ProgressStyleModel",
          "model_module_version": "1.5.0",
          "state": {
            "_model_module": "@jupyter-widgets/controls",
            "_model_module_version": "1.5.0",
            "_model_name": "ProgressStyleModel",
            "_view_count": null,
            "_view_module": "@jupyter-widgets/base",
            "_view_module_version": "1.2.0",
            "_view_name": "StyleView",
            "bar_color": null,
            "description_width": ""
          }
        },
        "57d2374db60d4cc5b24c4af86b674cfe": {
          "model_module": "@jupyter-widgets/base",
          "model_name": "LayoutModel",
          "model_module_version": "1.2.0",
          "state": {
            "_model_module": "@jupyter-widgets/base",
            "_model_module_version": "1.2.0",
            "_model_name": "LayoutModel",
            "_view_count": null,
            "_view_module": "@jupyter-widgets/base",
            "_view_module_version": "1.2.0",
            "_view_name": "LayoutView",
            "align_content": null,
            "align_items": null,
            "align_self": null,
            "border": null,
            "bottom": null,
            "display": null,
            "flex": null,
            "flex_flow": null,
            "grid_area": null,
            "grid_auto_columns": null,
            "grid_auto_flow": null,
            "grid_auto_rows": null,
            "grid_column": null,
            "grid_gap": null,
            "grid_row": null,
            "grid_template_areas": null,
            "grid_template_columns": null,
            "grid_template_rows": null,
            "height": null,
            "justify_content": null,
            "justify_items": null,
            "left": null,
            "margin": null,
            "max_height": null,
            "max_width": null,
            "min_height": null,
            "min_width": null,
            "object_fit": null,
            "object_position": null,
            "order": null,
            "overflow": null,
            "overflow_x": null,
            "overflow_y": null,
            "padding": null,
            "right": null,
            "top": null,
            "visibility": null,
            "width": null
          }
        },
        "6c0d5bab7a7d42d99a775330050a0190": {
          "model_module": "@jupyter-widgets/controls",
          "model_name": "DescriptionStyleModel",
          "model_module_version": "1.5.0",
          "state": {
            "_model_module": "@jupyter-widgets/controls",
            "_model_module_version": "1.5.0",
            "_model_name": "DescriptionStyleModel",
            "_view_count": null,
            "_view_module": "@jupyter-widgets/base",
            "_view_module_version": "1.2.0",
            "_view_name": "StyleView",
            "description_width": ""
          }
        },
        "67f769047a7348079df6112cae905d1f": {
          "model_module": "@jupyter-widgets/controls",
          "model_name": "HBoxModel",
          "model_module_version": "1.5.0",
          "state": {
            "_dom_classes": [],
            "_model_module": "@jupyter-widgets/controls",
            "_model_module_version": "1.5.0",
            "_model_name": "HBoxModel",
            "_view_count": null,
            "_view_module": "@jupyter-widgets/controls",
            "_view_module_version": "1.5.0",
            "_view_name": "HBoxView",
            "box_style": "",
            "children": [
              "IPY_MODEL_c0f9ade9951b42ea8cedac92e7cc2183",
              "IPY_MODEL_d71927b38c00459ba0a32a597d774002",
              "IPY_MODEL_67f4d513fb114347ad5cf6269554ca7d"
            ],
            "layout": "IPY_MODEL_02281624fb4e462ab9731779e70ef6fd"
          }
        },
        "c0f9ade9951b42ea8cedac92e7cc2183": {
          "model_module": "@jupyter-widgets/controls",
          "model_name": "HTMLModel",
          "model_module_version": "1.5.0",
          "state": {
            "_dom_classes": [],
            "_model_module": "@jupyter-widgets/controls",
            "_model_module_version": "1.5.0",
            "_model_name": "HTMLModel",
            "_view_count": null,
            "_view_module": "@jupyter-widgets/controls",
            "_view_module_version": "1.5.0",
            "_view_name": "HTMLView",
            "description": "",
            "description_tooltip": null,
            "layout": "IPY_MODEL_7d8fb07231514801aaa64590a1c4ef50",
            "placeholder": "​",
            "style": "IPY_MODEL_2254ccd9baae4dee822265703bfed0f3",
            "value": "standard training: 100%"
          }
        },
        "d71927b38c00459ba0a32a597d774002": {
          "model_module": "@jupyter-widgets/controls",
          "model_name": "FloatProgressModel",
          "model_module_version": "1.5.0",
          "state": {
            "_dom_classes": [],
            "_model_module": "@jupyter-widgets/controls",
            "_model_module_version": "1.5.0",
            "_model_name": "FloatProgressModel",
            "_view_count": null,
            "_view_module": "@jupyter-widgets/controls",
            "_view_module_version": "1.5.0",
            "_view_name": "ProgressView",
            "bar_style": "success",
            "description": "",
            "description_tooltip": null,
            "layout": "IPY_MODEL_f20c7305e29f488ca1466b48d6199ddb",
            "max": 100,
            "min": 0,
            "orientation": "horizontal",
            "style": "IPY_MODEL_48d4776006b1405dac12e40000ee9ed8",
            "value": 100
          }
        },
        "67f4d513fb114347ad5cf6269554ca7d": {
          "model_module": "@jupyter-widgets/controls",
          "model_name": "HTMLModel",
          "model_module_version": "1.5.0",
          "state": {
            "_dom_classes": [],
            "_model_module": "@jupyter-widgets/controls",
            "_model_module_version": "1.5.0",
            "_model_name": "HTMLModel",
            "_view_count": null,
            "_view_module": "@jupyter-widgets/controls",
            "_view_module_version": "1.5.0",
            "_view_name": "HTMLView",
            "description": "",
            "description_tooltip": null,
            "layout": "IPY_MODEL_d08668bf2a1d46fa8b6ceefa6c3e4e94",
            "placeholder": "​",
            "style": "IPY_MODEL_f7093ce34267420e9afea1a55dde00a2",
            "value": " 100/100 [00:05&lt;00:00, 21.12it/s]"
          }
        },
        "02281624fb4e462ab9731779e70ef6fd": {
          "model_module": "@jupyter-widgets/base",
          "model_name": "LayoutModel",
          "model_module_version": "1.2.0",
          "state": {
            "_model_module": "@jupyter-widgets/base",
            "_model_module_version": "1.2.0",
            "_model_name": "LayoutModel",
            "_view_count": null,
            "_view_module": "@jupyter-widgets/base",
            "_view_module_version": "1.2.0",
            "_view_name": "LayoutView",
            "align_content": null,
            "align_items": null,
            "align_self": null,
            "border": null,
            "bottom": null,
            "display": null,
            "flex": null,
            "flex_flow": null,
            "grid_area": null,
            "grid_auto_columns": null,
            "grid_auto_flow": null,
            "grid_auto_rows": null,
            "grid_column": null,
            "grid_gap": null,
            "grid_row": null,
            "grid_template_areas": null,
            "grid_template_columns": null,
            "grid_template_rows": null,
            "height": null,
            "justify_content": null,
            "justify_items": null,
            "left": null,
            "margin": null,
            "max_height": null,
            "max_width": null,
            "min_height": null,
            "min_width": null,
            "object_fit": null,
            "object_position": null,
            "order": null,
            "overflow": null,
            "overflow_x": null,
            "overflow_y": null,
            "padding": null,
            "right": null,
            "top": null,
            "visibility": null,
            "width": null
          }
        },
        "7d8fb07231514801aaa64590a1c4ef50": {
          "model_module": "@jupyter-widgets/base",
          "model_name": "LayoutModel",
          "model_module_version": "1.2.0",
          "state": {
            "_model_module": "@jupyter-widgets/base",
            "_model_module_version": "1.2.0",
            "_model_name": "LayoutModel",
            "_view_count": null,
            "_view_module": "@jupyter-widgets/base",
            "_view_module_version": "1.2.0",
            "_view_name": "LayoutView",
            "align_content": null,
            "align_items": null,
            "align_self": null,
            "border": null,
            "bottom": null,
            "display": null,
            "flex": null,
            "flex_flow": null,
            "grid_area": null,
            "grid_auto_columns": null,
            "grid_auto_flow": null,
            "grid_auto_rows": null,
            "grid_column": null,
            "grid_gap": null,
            "grid_row": null,
            "grid_template_areas": null,
            "grid_template_columns": null,
            "grid_template_rows": null,
            "height": null,
            "justify_content": null,
            "justify_items": null,
            "left": null,
            "margin": null,
            "max_height": null,
            "max_width": null,
            "min_height": null,
            "min_width": null,
            "object_fit": null,
            "object_position": null,
            "order": null,
            "overflow": null,
            "overflow_x": null,
            "overflow_y": null,
            "padding": null,
            "right": null,
            "top": null,
            "visibility": null,
            "width": null
          }
        },
        "2254ccd9baae4dee822265703bfed0f3": {
          "model_module": "@jupyter-widgets/controls",
          "model_name": "DescriptionStyleModel",
          "model_module_version": "1.5.0",
          "state": {
            "_model_module": "@jupyter-widgets/controls",
            "_model_module_version": "1.5.0",
            "_model_name": "DescriptionStyleModel",
            "_view_count": null,
            "_view_module": "@jupyter-widgets/base",
            "_view_module_version": "1.2.0",
            "_view_name": "StyleView",
            "description_width": ""
          }
        },
        "f20c7305e29f488ca1466b48d6199ddb": {
          "model_module": "@jupyter-widgets/base",
          "model_name": "LayoutModel",
          "model_module_version": "1.2.0",
          "state": {
            "_model_module": "@jupyter-widgets/base",
            "_model_module_version": "1.2.0",
            "_model_name": "LayoutModel",
            "_view_count": null,
            "_view_module": "@jupyter-widgets/base",
            "_view_module_version": "1.2.0",
            "_view_name": "LayoutView",
            "align_content": null,
            "align_items": null,
            "align_self": null,
            "border": null,
            "bottom": null,
            "display": null,
            "flex": null,
            "flex_flow": null,
            "grid_area": null,
            "grid_auto_columns": null,
            "grid_auto_flow": null,
            "grid_auto_rows": null,
            "grid_column": null,
            "grid_gap": null,
            "grid_row": null,
            "grid_template_areas": null,
            "grid_template_columns": null,
            "grid_template_rows": null,
            "height": null,
            "justify_content": null,
            "justify_items": null,
            "left": null,
            "margin": null,
            "max_height": null,
            "max_width": null,
            "min_height": null,
            "min_width": null,
            "object_fit": null,
            "object_position": null,
            "order": null,
            "overflow": null,
            "overflow_x": null,
            "overflow_y": null,
            "padding": null,
            "right": null,
            "top": null,
            "visibility": null,
            "width": null
          }
        },
        "48d4776006b1405dac12e40000ee9ed8": {
          "model_module": "@jupyter-widgets/controls",
          "model_name": "ProgressStyleModel",
          "model_module_version": "1.5.0",
          "state": {
            "_model_module": "@jupyter-widgets/controls",
            "_model_module_version": "1.5.0",
            "_model_name": "ProgressStyleModel",
            "_view_count": null,
            "_view_module": "@jupyter-widgets/base",
            "_view_module_version": "1.2.0",
            "_view_name": "StyleView",
            "bar_color": null,
            "description_width": ""
          }
        },
        "d08668bf2a1d46fa8b6ceefa6c3e4e94": {
          "model_module": "@jupyter-widgets/base",
          "model_name": "LayoutModel",
          "model_module_version": "1.2.0",
          "state": {
            "_model_module": "@jupyter-widgets/base",
            "_model_module_version": "1.2.0",
            "_model_name": "LayoutModel",
            "_view_count": null,
            "_view_module": "@jupyter-widgets/base",
            "_view_module_version": "1.2.0",
            "_view_name": "LayoutView",
            "align_content": null,
            "align_items": null,
            "align_self": null,
            "border": null,
            "bottom": null,
            "display": null,
            "flex": null,
            "flex_flow": null,
            "grid_area": null,
            "grid_auto_columns": null,
            "grid_auto_flow": null,
            "grid_auto_rows": null,
            "grid_column": null,
            "grid_gap": null,
            "grid_row": null,
            "grid_template_areas": null,
            "grid_template_columns": null,
            "grid_template_rows": null,
            "height": null,
            "justify_content": null,
            "justify_items": null,
            "left": null,
            "margin": null,
            "max_height": null,
            "max_width": null,
            "min_height": null,
            "min_width": null,
            "object_fit": null,
            "object_position": null,
            "order": null,
            "overflow": null,
            "overflow_x": null,
            "overflow_y": null,
            "padding": null,
            "right": null,
            "top": null,
            "visibility": null,
            "width": null
          }
        },
        "f7093ce34267420e9afea1a55dde00a2": {
          "model_module": "@jupyter-widgets/controls",
          "model_name": "DescriptionStyleModel",
          "model_module_version": "1.5.0",
          "state": {
            "_model_module": "@jupyter-widgets/controls",
            "_model_module_version": "1.5.0",
            "_model_name": "DescriptionStyleModel",
            "_view_count": null,
            "_view_module": "@jupyter-widgets/base",
            "_view_module_version": "1.2.0",
            "_view_name": "StyleView",
            "description_width": ""
          }
        },
        "42fc2e20b0f640aebb8dee0496a9f35c": {
          "model_module": "@jupyter-widgets/controls",
          "model_name": "HBoxModel",
          "model_module_version": "1.5.0",
          "state": {
            "_dom_classes": [],
            "_model_module": "@jupyter-widgets/controls",
            "_model_module_version": "1.5.0",
            "_model_name": "HBoxModel",
            "_view_count": null,
            "_view_module": "@jupyter-widgets/controls",
            "_view_module_version": "1.5.0",
            "_view_name": "HBoxView",
            "box_style": "",
            "children": [
              "IPY_MODEL_e4e53a9c986a42bf8075450f6b392e71",
              "IPY_MODEL_380b503ccdd14723b5ad9054ef6dff69",
              "IPY_MODEL_f5ad07675ab34ed5912e04a3a4da7bfb"
            ],
            "layout": "IPY_MODEL_74579068bc3c449c868dba405999d22e"
          }
        },
        "e4e53a9c986a42bf8075450f6b392e71": {
          "model_module": "@jupyter-widgets/controls",
          "model_name": "HTMLModel",
          "model_module_version": "1.5.0",
          "state": {
            "_dom_classes": [],
            "_model_module": "@jupyter-widgets/controls",
            "_model_module_version": "1.5.0",
            "_model_name": "HTMLModel",
            "_view_count": null,
            "_view_module": "@jupyter-widgets/controls",
            "_view_module_version": "1.5.0",
            "_view_name": "HTMLView",
            "description": "",
            "description_tooltip": null,
            "layout": "IPY_MODEL_64d0a698590a4d7c9663bb6561772a2a",
            "placeholder": "​",
            "style": "IPY_MODEL_fdeb56585606498fa64260e0d6c5c32e",
            "value": "differential training: 100%"
          }
        },
        "380b503ccdd14723b5ad9054ef6dff69": {
          "model_module": "@jupyter-widgets/controls",
          "model_name": "FloatProgressModel",
          "model_module_version": "1.5.0",
          "state": {
            "_dom_classes": [],
            "_model_module": "@jupyter-widgets/controls",
            "_model_module_version": "1.5.0",
            "_model_name": "FloatProgressModel",
            "_view_count": null,
            "_view_module": "@jupyter-widgets/controls",
            "_view_module_version": "1.5.0",
            "_view_name": "ProgressView",
            "bar_style": "success",
            "description": "",
            "description_tooltip": null,
            "layout": "IPY_MODEL_768da985080449c69666139cf537c15a",
            "max": 100,
            "min": 0,
            "orientation": "horizontal",
            "style": "IPY_MODEL_bde1b2871ab94c4ea3597e00b97eb209",
            "value": 100
          }
        },
        "f5ad07675ab34ed5912e04a3a4da7bfb": {
          "model_module": "@jupyter-widgets/controls",
          "model_name": "HTMLModel",
          "model_module_version": "1.5.0",
          "state": {
            "_dom_classes": [],
            "_model_module": "@jupyter-widgets/controls",
            "_model_module_version": "1.5.0",
            "_model_name": "HTMLModel",
            "_view_count": null,
            "_view_module": "@jupyter-widgets/controls",
            "_view_module_version": "1.5.0",
            "_view_name": "HTMLView",
            "description": "",
            "description_tooltip": null,
            "layout": "IPY_MODEL_9a6fddd8d8934608a8a4ad961e2ed9df",
            "placeholder": "​",
            "style": "IPY_MODEL_4f84b67cbe464914b4d07b022ea53d72",
            "value": " 100/100 [00:08&lt;00:00, 11.86it/s]"
          }
        },
        "74579068bc3c449c868dba405999d22e": {
          "model_module": "@jupyter-widgets/base",
          "model_name": "LayoutModel",
          "model_module_version": "1.2.0",
          "state": {
            "_model_module": "@jupyter-widgets/base",
            "_model_module_version": "1.2.0",
            "_model_name": "LayoutModel",
            "_view_count": null,
            "_view_module": "@jupyter-widgets/base",
            "_view_module_version": "1.2.0",
            "_view_name": "LayoutView",
            "align_content": null,
            "align_items": null,
            "align_self": null,
            "border": null,
            "bottom": null,
            "display": null,
            "flex": null,
            "flex_flow": null,
            "grid_area": null,
            "grid_auto_columns": null,
            "grid_auto_flow": null,
            "grid_auto_rows": null,
            "grid_column": null,
            "grid_gap": null,
            "grid_row": null,
            "grid_template_areas": null,
            "grid_template_columns": null,
            "grid_template_rows": null,
            "height": null,
            "justify_content": null,
            "justify_items": null,
            "left": null,
            "margin": null,
            "max_height": null,
            "max_width": null,
            "min_height": null,
            "min_width": null,
            "object_fit": null,
            "object_position": null,
            "order": null,
            "overflow": null,
            "overflow_x": null,
            "overflow_y": null,
            "padding": null,
            "right": null,
            "top": null,
            "visibility": null,
            "width": null
          }
        },
        "64d0a698590a4d7c9663bb6561772a2a": {
          "model_module": "@jupyter-widgets/base",
          "model_name": "LayoutModel",
          "model_module_version": "1.2.0",
          "state": {
            "_model_module": "@jupyter-widgets/base",
            "_model_module_version": "1.2.0",
            "_model_name": "LayoutModel",
            "_view_count": null,
            "_view_module": "@jupyter-widgets/base",
            "_view_module_version": "1.2.0",
            "_view_name": "LayoutView",
            "align_content": null,
            "align_items": null,
            "align_self": null,
            "border": null,
            "bottom": null,
            "display": null,
            "flex": null,
            "flex_flow": null,
            "grid_area": null,
            "grid_auto_columns": null,
            "grid_auto_flow": null,
            "grid_auto_rows": null,
            "grid_column": null,
            "grid_gap": null,
            "grid_row": null,
            "grid_template_areas": null,
            "grid_template_columns": null,
            "grid_template_rows": null,
            "height": null,
            "justify_content": null,
            "justify_items": null,
            "left": null,
            "margin": null,
            "max_height": null,
            "max_width": null,
            "min_height": null,
            "min_width": null,
            "object_fit": null,
            "object_position": null,
            "order": null,
            "overflow": null,
            "overflow_x": null,
            "overflow_y": null,
            "padding": null,
            "right": null,
            "top": null,
            "visibility": null,
            "width": null
          }
        },
        "fdeb56585606498fa64260e0d6c5c32e": {
          "model_module": "@jupyter-widgets/controls",
          "model_name": "DescriptionStyleModel",
          "model_module_version": "1.5.0",
          "state": {
            "_model_module": "@jupyter-widgets/controls",
            "_model_module_version": "1.5.0",
            "_model_name": "DescriptionStyleModel",
            "_view_count": null,
            "_view_module": "@jupyter-widgets/base",
            "_view_module_version": "1.2.0",
            "_view_name": "StyleView",
            "description_width": ""
          }
        },
        "768da985080449c69666139cf537c15a": {
          "model_module": "@jupyter-widgets/base",
          "model_name": "LayoutModel",
          "model_module_version": "1.2.0",
          "state": {
            "_model_module": "@jupyter-widgets/base",
            "_model_module_version": "1.2.0",
            "_model_name": "LayoutModel",
            "_view_count": null,
            "_view_module": "@jupyter-widgets/base",
            "_view_module_version": "1.2.0",
            "_view_name": "LayoutView",
            "align_content": null,
            "align_items": null,
            "align_self": null,
            "border": null,
            "bottom": null,
            "display": null,
            "flex": null,
            "flex_flow": null,
            "grid_area": null,
            "grid_auto_columns": null,
            "grid_auto_flow": null,
            "grid_auto_rows": null,
            "grid_column": null,
            "grid_gap": null,
            "grid_row": null,
            "grid_template_areas": null,
            "grid_template_columns": null,
            "grid_template_rows": null,
            "height": null,
            "justify_content": null,
            "justify_items": null,
            "left": null,
            "margin": null,
            "max_height": null,
            "max_width": null,
            "min_height": null,
            "min_width": null,
            "object_fit": null,
            "object_position": null,
            "order": null,
            "overflow": null,
            "overflow_x": null,
            "overflow_y": null,
            "padding": null,
            "right": null,
            "top": null,
            "visibility": null,
            "width": null
          }
        },
        "bde1b2871ab94c4ea3597e00b97eb209": {
          "model_module": "@jupyter-widgets/controls",
          "model_name": "ProgressStyleModel",
          "model_module_version": "1.5.0",
          "state": {
            "_model_module": "@jupyter-widgets/controls",
            "_model_module_version": "1.5.0",
            "_model_name": "ProgressStyleModel",
            "_view_count": null,
            "_view_module": "@jupyter-widgets/base",
            "_view_module_version": "1.2.0",
            "_view_name": "StyleView",
            "bar_color": null,
            "description_width": ""
          }
        },
        "9a6fddd8d8934608a8a4ad961e2ed9df": {
          "model_module": "@jupyter-widgets/base",
          "model_name": "LayoutModel",
          "model_module_version": "1.2.0",
          "state": {
            "_model_module": "@jupyter-widgets/base",
            "_model_module_version": "1.2.0",
            "_model_name": "LayoutModel",
            "_view_count": null,
            "_view_module": "@jupyter-widgets/base",
            "_view_module_version": "1.2.0",
            "_view_name": "LayoutView",
            "align_content": null,
            "align_items": null,
            "align_self": null,
            "border": null,
            "bottom": null,
            "display": null,
            "flex": null,
            "flex_flow": null,
            "grid_area": null,
            "grid_auto_columns": null,
            "grid_auto_flow": null,
            "grid_auto_rows": null,
            "grid_column": null,
            "grid_gap": null,
            "grid_row": null,
            "grid_template_areas": null,
            "grid_template_columns": null,
            "grid_template_rows": null,
            "height": null,
            "justify_content": null,
            "justify_items": null,
            "left": null,
            "margin": null,
            "max_height": null,
            "max_width": null,
            "min_height": null,
            "min_width": null,
            "object_fit": null,
            "object_position": null,
            "order": null,
            "overflow": null,
            "overflow_x": null,
            "overflow_y": null,
            "padding": null,
            "right": null,
            "top": null,
            "visibility": null,
            "width": null
          }
        },
        "4f84b67cbe464914b4d07b022ea53d72": {
          "model_module": "@jupyter-widgets/controls",
          "model_name": "DescriptionStyleModel",
          "model_module_version": "1.5.0",
          "state": {
            "_model_module": "@jupyter-widgets/controls",
            "_model_module_version": "1.5.0",
            "_model_name": "DescriptionStyleModel",
            "_view_count": null,
            "_view_module": "@jupyter-widgets/base",
            "_view_module_version": "1.2.0",
            "_view_name": "StyleView",
            "description_width": ""
          }
        }
      }
    }
  },
  "nbformat": 4,
  "nbformat_minor": 0
}