{
  "nbformat": 4,
  "nbformat_minor": 0,
  "metadata": {
    "colab": {
      "provenance": []
    },
    "kernelspec": {
      "name": "python3",
      "display_name": "Python 3"
    },
    "language_info": {
      "name": "python"
    },
    "gpuClass": "standard"
  },
  "cells": [
    {
      "cell_type": "markdown",
      "source": [
        "## LSM for Heston Model"
      ],
      "metadata": {
        "id": "JqrRgx2RC3Wa"
      }
    },
    {
      "cell_type": "code",
      "source": [
        "import numpy as np\n",
        "import matplotlib.pyplot as plt\n",
        "from mpl_toolkits.mplot3d import Axes3D\n",
        "from scipy.stats import norm\n",
        "\n",
        "class Heston:\n",
        "\n",
        "#S0 = 156.91  # initial stock price\n",
        "#r = 0.0023  # risk-free rate\n",
        "#T = 0.528  # time to maturity\n",
        "#kappa = 1.5  # mean reversion speed\n",
        "#theta = 0.04  # long-run variance\n",
        "#sigma = 0.2994  # implied volatility\n",
        "#rho = -0.3  # correlation between the stock price and volatility\n",
        "#V0 = sigma**2  # initial variance\n",
        "#K = 165.0  # strike price\n",
        "#N = 1000  # number of simulation paths\n",
        "#M = 1  # number of time steps\n",
        "#dt = T / M  # time step size\n",
        "    \n",
        "    def __init__(self,\n",
        "                 sigma = np.sqrt(0.05),\n",
        "                 epsilon = 1.1,\n",
        "                 theta = 0.05,\n",
        "                 kappa = 0.5,\n",
        "                 rho = -0.9,\n",
        "                 T1=1, \n",
        "                 T2=2, \n",
        "                 K=120):\n",
        "        \n",
        "        self.spot = 100\n",
        "        self.sigma = sigma\n",
        "        self.epsilon = epsilon\n",
        "        self.theta = theta\n",
        "        self.kappa = kappa\n",
        "        self.rho = rho\n",
        "        self.T1 = T1\n",
        "        self.T2 = T2\n",
        "        self.K = K\n",
        "                        \n",
        "    # training set: returns S1 (mx1), C2 (mx1) and dC2/dS1 (mx1)\n",
        "    def trainingSet(self, m, anti=True, seed=None):\n",
        "    \n",
        "        np.random.seed(seed)\n",
        "        \n",
        "        # 2 sets of normal returns\n",
        "        returns = np.random.normal(size=[m, 2]) # Draws from standard normal\n",
        "        print(returns.shape)\n",
        "        # correlated vol\n",
        "        z1 = self.rho * returns[:,0] + np.sqrt(1 - self.rho ** 2) * returns[:,0]\n",
        "        print(z1.shape)\n",
        "        z2 = self.rho * returns[:,1] + np.sqrt(1 - self.rho ** 2) * returns[:,1]\n",
        "        print(z2.shape)\n",
        "\n",
        "        # SDE\n",
        "\n",
        "        vol0 = self.sigma*self.sigma\n",
        "        R1 = np.exp(-0.5*vol0*self.T1 + self.sigma*np.sqrt(self.T1)*returns[:,0]) # asset price return period 1\n",
        "        print(R1.shape)\n",
        "        V1 = np.maximum(\n",
        "            0.0, vol0 + self.kappa * (self.theta - vol0) * (self.T1) + self.epsilon * np.sqrt(vol0) * np.sqrt(self.T1) * z1\n",
        "        )\n",
        "        print(V1.shape)\n",
        "        R2 = np.exp(-0.5*V1*(self.T2-self.T1) + np.sqrt(V1)*np.sqrt(self.T2-self.T1)*returns[:,1]) # asset price return period 2 with different volatility\n",
        "        print(R2)\n",
        "        print(R2.shape)\n",
        "        V2 = np.maximum(\n",
        "            0.0, V1 + self.kappa * (self.theta - V1) * (self.T2 - self.T1) + self.epsilon * np.sqrt(V1) * np.sqrt(self.T2 - self.T1) * z2\n",
        "        )\n",
        "        S1 = self.spot * R1 # spot * return gives asset price in period 1\n",
        "        print(S1)\n",
        "        print(S1.shape)\n",
        "        S2 = S1 * R2 # gives asset price in period 2\n",
        "        print(S2.shape)\n",
        "        # payoff\n",
        "        pay = np.maximum(0, S2 - self.K) # compute payoff \n",
        "        print(pay.shape)\n",
        "        X = S1 # this is our input (asset price) note we're only looking at S1 not S2\n",
        "        Y = pay # this is our output (the payoff)\n",
        "        print(Y.shape)\n",
        "\n",
        "        # two antithetic paths\n",
        "        if anti:\n",
        "            \n",
        "            R2a = np.exp(-0.5*V1*(self.T2-self.T1) - np.sqrt(V1)*np.sqrt(self.T2-self.T1)*returns[:,1])\n",
        "            S2a = S1 * R2a             \n",
        "            paya = np.maximum(0, S2a - self.K)\n",
        "            \n",
        "            X = S1\n",
        "            Y = 0.5 * (pay + paya)\n",
        "\n",
        "            # differentials\n",
        "            Z1 =  np.where(S2 > self.K, R2, 0.0).reshape((-1,1)) \n",
        "            Z2 =  np.where(S2a > self.K, R2a, 0.0).reshape((-1,1)) \n",
        "            Z = 0.5 * (Z1 + Z2)\n",
        "                    \n",
        "        # standard\n",
        "        else:\n",
        "        \n",
        "            X = S1\n",
        "            Y = pay\n",
        "\n",
        "        # differentials - note that we are just looking at one time period\n",
        "        # note that this is just the delta \n",
        "        Z =  np.where(S2 > self.K, R2, 0.0).reshape((-1,1)) # the differential is zero is price less than strike\n",
        "        \n",
        "        return X.reshape([-1,1]), Y.reshape([-1,1]), Z.reshape([-1,1])"
      ],
      "metadata": {
        "id": "gy9Vi7kDiivL"
      },
      "execution_count": 2,
      "outputs": []
    },
    {
      "cell_type": "code",
      "source": [
        "c = Heston()\n",
        "\n",
        "asset_prices, payoffs, differentials = c.trainingSet(m = 10000)\n",
        "#payoffs\n"
      ],
      "metadata": {
        "colab": {
          "base_uri": "https://localhost:8080/"
        },
        "id": "mZD5rSXKpj0b",
        "outputId": "98314387-9f96-480b-8960-4cdfec60f4ed"
      },
      "execution_count": 3,
      "outputs": [
        {
          "output_type": "stream",
          "name": "stdout",
          "text": [
            "(10000, 2)\n",
            "(10000,)\n",
            "(10000,)\n",
            "(10000,)\n",
            "(10000,)\n",
            "[1.52448332 1.64290829 2.25783819 ... 1.         0.79548265 0.84702352]\n",
            "(10000,)\n",
            "[ 69.91547853  82.9122744   75.19636748 ... 125.76174961  80.5669753\n",
            "  71.98744007]\n",
            "(10000,)\n",
            "(10000,)\n",
            "(10000,)\n",
            "(10000,)\n"
          ]
        }
      ]
    },
    {
      "cell_type": "code",
      "source": [
        "plt.scatter(x = asset_prices, y = payoffs)\n",
        "plt.ylabel('target: option price (expected payoff)')\n",
        "plt.xlabel('input: asset price at time t')\n",
        "plt.title('Simulated data')"
      ],
      "metadata": {
        "colab": {
          "base_uri": "https://localhost:8080/",
          "height": 490
        },
        "id": "ikiRzc8ovCTk",
        "outputId": "409ddf4b-c5e1-4b04-9fd2-571a6910c868"
      },
      "execution_count": 4,
      "outputs": [
        {
          "output_type": "execute_result",
          "data": {
            "text/plain": [
              "Text(0.5, 1.0, 'Simulated data')"
            ]
          },
          "metadata": {},
          "execution_count": 4
        },
        {
          "output_type": "display_data",
          "data": {
            "text/plain": [
              "<Figure size 640x480 with 1 Axes>"
            ],
            "image/png": "[encoded data removed]"
          },
          "metadata": {}
        }
      ]
    },
    {
      "cell_type": "code",
      "source": [],
      "metadata": {
        "id": "jfjqb2eqowoN"
      },
      "execution_count": null,
      "outputs": []
    },
    {
      "cell_type": "code",
      "source": [
        "class BlackScholes:\n",
        "    \n",
        "    def __init__(self, \n",
        "                 vol=0.2,\n",
        "                 T1=1, \n",
        "                 T2=2, \n",
        "                 K=1.10,\n",
        "                 volMult=1.5):\n",
        "        \n",
        "        self.spot = 1\n",
        "        self.vol = vol\n",
        "        self.T1 = T1\n",
        "        self.T2 = T2\n",
        "        self.K = K\n",
        "        self.volMult = volMult\n",
        "                        \n",
        "    # training set: returns S1 (mx1), C2 (mx1) and dC2/dS1 (mx1)\n",
        "    def trainingSet(self, m, anti=True, seed=None):\n",
        "    \n",
        "        np.random.seed(seed)\n",
        "        \n",
        "        # 2 sets of normal returns\n",
        "        returns = np.random.normal(size=[m, 2])\n",
        "\n",
        "        # SDE\n",
        "        vol0 = self.vol * self.volMult\n",
        "        print(vol0)\n",
        "        R1 = np.exp(-0.5*vol0*vol0*self.T1 + vol0*np.sqrt(self.T1)*returns[:,0])\n",
        "        R2 = np.exp(-0.5*self.vol*self.vol*(self.T2-self.T1) \\\n",
        "                    + self.vol*np.sqrt(self.T2-self.T1)*returns[:,1])\n",
        "        S1 = self.spot * R1\n",
        "        S2 = S1 * R2 \n",
        "\n",
        "        # payoff\n",
        "        pay = np.maximum(0, S2 - self.K)\n",
        "        \n",
        "        # two antithetic paths\n",
        "        if anti:\n",
        "            \n",
        "            R2a = np.exp(-0.5*self.vol*self.vol*(self.T2-self.T1) \\\n",
        "                    - self.vol*np.sqrt(self.T2-self.T1)*returns[:,1])\n",
        "            S2a = S1 * R2a             \n",
        "            paya = np.maximum(0, S2a - self.K)\n",
        "            \n",
        "            X = S1\n",
        "            Y = 0.5 * (pay + paya)\n",
        "\n",
        "            # differentials\n",
        "            Z1 =  np.where(S2 > self.K, R2, 0.0).reshape((-1,1)) \n",
        "            Z2 =  np.where(S2a > self.K, R2a, 0.0).reshape((-1,1)) \n",
        "            Z = 0.5 * (Z1 + Z2)\n",
        "                    \n",
        "        # standard\n",
        "        else:\n",
        "        \n",
        "            X = S1\n",
        "            Y = pay\n",
        "            \n",
        "            # differentials\n",
        "            Z =  np.where(S2 > self.K, R2, 0.0).reshape((-1,1)) \n",
        "        \n",
        "        return X.reshape([-1,1]), Y.reshape([-1,1]), Z.reshape([-1,1])\n",
        "    \n",
        "    # test set: returns a grid of uniform spots \n",
        "    # with corresponding ground true prices, deltas and vegas\n",
        "    def testSet(self, lower=0.35, upper=1.65, num=100, seed=None):\n",
        "        \n",
        "        spots = np.linspace(lower, upper, num).reshape((-1, 1))\n",
        "        # compute prices, deltas and vegas\n",
        "        prices = bsPrice(spots, self.K, self.vol, self.T2 - self.T1).reshape((-1, 1))\n",
        "        deltas = bsDelta(spots, self.K, self.vol, self.T2 - self.T1).reshape((-1, 1))\n",
        "        vegas = bsVega(spots, self.K, self.vol, self.T2 - self.T1).reshape((-1, 1))\n",
        "        return spots, spots, prices, deltas, vegas   "
      ],
      "metadata": {
        "id": "Sjm1oSGQFSrl"
      },
      "execution_count": null,
      "outputs": []
    },
    {
      "cell_type": "code",
      "source": [
        "c = BlackScholes()\n",
        "\n",
        "asset_prices, payoffs, differentials = c.trainingSet(m = 1000000)"
      ],
      "metadata": {
        "colab": {
          "base_uri": "https://localhost:8080/"
        },
        "id": "7ec8e1EYGLyV",
        "outputId": "bfd3f495-c17d-4a7d-8ca9-1cda90ef3760"
      },
      "execution_count": null,
      "outputs": [
        {
          "output_type": "stream",
          "name": "stdout",
          "text": [
            "0.30000000000000004\n"
          ]
        }
      ]
    },
    {
      "cell_type": "code",
      "source": [
        "plt.scatter(x = asset_prices, y = payoffs)\n",
        "plt.ylabel('target: option price (expected payoff)')\n",
        "plt.xlabel('input: asset price at time t')\n",
        "plt.title('Simulated data')"
      ],
      "metadata": {
        "colab": {
          "base_uri": "https://localhost:8080/",
          "height": 490
        },
        "id": "4NPz9SlmGWnq",
        "outputId": "33a0757b-42c2-4b8e-ce08-8f6a6899df7b"
      },
      "execution_count": null,
      "outputs": [
        {
          "output_type": "execute_result",
          "data": {
            "text/plain": [
              "Text(0.5, 1.0, 'Simulated data')"
            ]
          },
          "metadata": {},
          "execution_count": 11
        },
        {
          "output_type": "display_data",
          "data": {
            "text/plain": [
              "<Figure size 640x480 with 1 Axes>"
            ],
            "image/png": "[encoded data removed]"
          },
          "metadata": {}
        }
      ]
    },
    {
      "cell_type": "code",
      "source": [
        "class Bachelier:\n",
        "    \n",
        "    def __init__(self, \n",
        "                 n,\n",
        "                 T1=1, \n",
        "                 T2=2, \n",
        "                 K=1.10,\n",
        "                 volMult=1.5):\n",
        "        \n",
        "        self.n = n\n",
        "        self.T1 = T1\n",
        "        self.T2 = T2\n",
        "        self.K = K\n",
        "        self.volMult = volMult\n",
        "                \n",
        "    # training set: returns S1 (mxn), C2 (mx1) and dC2/dS1 (mxn)\n",
        "    def trainingSet(self, m, anti=True, seed=None, bktVol=0.2):\n",
        "    \n",
        "        np.random.seed(seed)\n",
        "\n",
        "        # spots all currently 1, without loss of generality\n",
        "        self.S0 = np.repeat(1., self.n)\n",
        "        # random correl\n",
        "        self.corr = genCorrel(self.n)\n",
        "\n",
        "        # random weights\n",
        "        self.a = np.random.uniform(low=1., high=10., size=self.n)\n",
        "        self.a /= np.sum(self.a)\n",
        "        # random vols\n",
        "        vols = np.random.uniform(low=5., high = 50., size = self.n)\n",
        "        # normalize vols for a given volatility of basket, \n",
        "        # helps with charts without loss of generality\n",
        "        avols = (self.a * vols).reshape((-1,1))\n",
        "        v = np.sqrt(np.linalg.multi_dot([avols.T, self.corr, avols]).reshape(1))\n",
        "        self.vols = vols * bktVol / v\n",
        "        self.bktVol = bktVol\n",
        "\n",
        "        # Choleski etc. for simulation\n",
        "        diagv = np.diag(self.vols)\n",
        "        self.cov = np.linalg.multi_dot([diagv, self.corr, diagv])\n",
        "        self.chol = np.linalg.cholesky(self.cov) * np.sqrt(self.T2 - self.T1)\n",
        "        # increase vols for simulation of X so we have more samples in the wings\n",
        "        self.chol0 = self.chol * self.volMult * np.sqrt(self.T1 / (self.T2 - self.T1))\n",
        "        # simulations\n",
        "        normals = np.random.normal(size=[2, m, self.n])\n",
        "        inc0 = normals[0, :, :] @ self.chol0.T\n",
        "        inc1 = normals[1, :, :] @ self.chol.T\n",
        "    \n",
        "        S1 = self.S0 + inc0\n",
        "\n",
        "        S2 = S1 + inc1\n",
        "        bkt2 = np.dot(S2, self.a)\n",
        "        pay = np.maximum(0, bkt2 - self.K)\n",
        "\n",
        "        # two antithetic paths\n",
        "        if anti:\n",
        "            \n",
        "            S2a = S1 - inc1\n",
        "            bkt2a = np.dot(S2a, self.a)\n",
        "            paya = np.maximum(0, bkt2a - self.K)\n",
        "            \n",
        "            X = S1\n",
        "            Y = 0.5 * (pay + paya)\n",
        "    \n",
        "            # differentials\n",
        "            Z1 =  np.where(bkt2 > self.K, 1.0, 0.0).reshape((-1,1)) * self.a.reshape((1,-1))\n",
        "            Z2 =  np.where(bkt2a > self.K, 1.0, 0.0).reshape((-1,1)) * self.a.reshape((1,-1))\n",
        "            Z = 0.5 * (Z1 + Z2)\n",
        "                    \n",
        "        # standard\n",
        "        else:\n",
        "        \n",
        "            X = S1\n",
        "            Y = pay\n",
        "            \n",
        "            # differentials\n",
        "            Z =  np.where(bkt2 > self.K, 1.0, 0.0).reshape((-1,1)) * self.a.reshape((1,-1))\n",
        "            \n",
        "        return X, Y.reshape(-1,1), Z\n",
        "    \n",
        "    # test set: returns an array of independent, uniformly random spots \n",
        "    # with corresponding baskets, ground true prices, deltas and vegas\n",
        "    def testSet(self, lower=0.5, upper=1.50, num=4096, seed=None):\n",
        "        \n",
        "        np.random.seed(seed)\n",
        "        # adjust lower and upper for dimension\n",
        "        adj = 1 + 0.5 * np.sqrt((self.n-1)*(upper-lower)/12)\n",
        "        adj_lower = 1.0 - (1.0-lower) * adj\n",
        "        adj_upper = 1.0 + (upper - 1.0) * adj\n",
        "        # draw spots\n",
        "        spots = np.random.uniform(low=adj_lower, high = adj_upper, size=(num, self.n))\n",
        "        # compute baskets, prices, deltas and vegas\n",
        "        baskets = np.dot(spots, self.a).reshape((-1, 1))\n",
        "        prices = bachPrice(baskets, self.K, self.bktVol, self.T2 - self.T1).reshape((-1, 1))\n",
        "        deltas = bachDelta(baskets, self.K, self.bktVol, self.T2 - self.T1) @ self.a.reshape((1, -1))\n",
        "        vegas = bachVega(baskets, self.K, self.bktVol, self.T2 - self.T1) \n",
        "        return spots, baskets, prices, deltas, vegas    "
      ],
      "metadata": {
        "id": "Zm0OgFMtFB0K"
      },
      "execution_count": null,
      "outputs": []
    }
  ]
}